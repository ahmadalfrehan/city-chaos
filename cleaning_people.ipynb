{
 "cells": [
  {
   "cell_type": "code",
   "execution_count": 536,
   "id": "6d5236c4",
   "metadata": {},
   "outputs": [],
   "source": [
    "import pandas as pd\n",
    "import numpy as np\n",
    "import matplotlib.pyplot as plt\n",
    "import plotly.graph_objects as go\n",
    "import plotly.express as px"
   ]
  },
  {
   "cell_type": "markdown",
   "id": "8cb48b68",
   "metadata": {},
   "source": [
    "Reading the Data : "
   ]
  },
  {
   "cell_type": "code",
   "execution_count": 537,
   "id": "f671dc77",
   "metadata": {},
   "outputs": [],
   "source": [
    "data_path = \"chicago-traffic-dataset\"\n",
    "traffic_crashes_people = pd.read_csv(data_path+\"/traffic-crashes-people.csv\",low_memory=False)\n",
    "df_vehicles = pd.read_csv(data_path+\"/traffic-crashes-vehicles.csv\",low_memory=False)"
   ]
  },
  {
   "cell_type": "markdown",
   "id": "7ecaaf33",
   "metadata": {},
   "source": [
    "Let's first getting fimilar with our dataset ."
   ]
  },
  {
   "cell_type": "code",
   "execution_count": 538,
   "id": "5fac1eb4",
   "metadata": {},
   "outputs": [
    {
     "name": "stdout",
     "output_type": "stream",
     "text": [
      "<class 'pandas.core.frame.DataFrame'>\n",
      "RangeIndex: 1808605 entries, 0 to 1808604\n",
      "Data columns (total 29 columns):\n",
      " #   Column                 Dtype  \n",
      "---  ------                 -----  \n",
      " 0   PERSON_ID              object \n",
      " 1   PERSON_TYPE            object \n",
      " 2   CRASH_RECORD_ID        object \n",
      " 3   VEHICLE_ID             float64\n",
      " 4   CRASH_DATE             object \n",
      " 5   SEAT_NO                float64\n",
      " 6   CITY                   object \n",
      " 7   STATE                  object \n",
      " 8   ZIPCODE                object \n",
      " 9   SEX                    object \n",
      " 10  AGE                    float64\n",
      " 11  DRIVERS_LICENSE_STATE  object \n",
      " 12  DRIVERS_LICENSE_CLASS  object \n",
      " 13  SAFETY_EQUIPMENT       object \n",
      " 14  AIRBAG_DEPLOYED        object \n",
      " 15  EJECTION               object \n",
      " 16  INJURY_CLASSIFICATION  object \n",
      " 17  HOSPITAL               object \n",
      " 18  EMS_AGENCY             object \n",
      " 19  EMS_RUN_NO             object \n",
      " 20  DRIVER_ACTION          object \n",
      " 21  DRIVER_VISION          object \n",
      " 22  PHYSICAL_CONDITION     object \n",
      " 23  PEDPEDAL_ACTION        object \n",
      " 24  PEDPEDAL_VISIBILITY    object \n",
      " 25  PEDPEDAL_LOCATION      object \n",
      " 26  BAC_RESULT             object \n",
      " 27  BAC_RESULT VALUE       float64\n",
      " 28  CELL_PHONE_USE         object \n",
      "dtypes: float64(4), object(25)\n",
      "memory usage: 400.2+ MB\n"
     ]
    }
   ],
   "source": [
    "traffic_crashes_people.info()"
   ]
  },
  {
   "cell_type": "code",
   "execution_count": 539,
   "id": "93e8bbe2",
   "metadata": {},
   "outputs": [
    {
     "data": {
      "text/html": [
       "<div>\n",
       "<style scoped>\n",
       "    .dataframe tbody tr th:only-of-type {\n",
       "        vertical-align: middle;\n",
       "    }\n",
       "\n",
       "    .dataframe tbody tr th {\n",
       "        vertical-align: top;\n",
       "    }\n",
       "\n",
       "    .dataframe thead th {\n",
       "        text-align: right;\n",
       "    }\n",
       "</style>\n",
       "<table border=\"1\" class=\"dataframe\">\n",
       "  <thead>\n",
       "    <tr style=\"text-align: right;\">\n",
       "      <th></th>\n",
       "      <th>PERSON_ID</th>\n",
       "      <th>PERSON_TYPE</th>\n",
       "      <th>CRASH_RECORD_ID</th>\n",
       "      <th>VEHICLE_ID</th>\n",
       "      <th>CRASH_DATE</th>\n",
       "      <th>SEAT_NO</th>\n",
       "      <th>CITY</th>\n",
       "      <th>STATE</th>\n",
       "      <th>ZIPCODE</th>\n",
       "      <th>SEX</th>\n",
       "      <th>AGE</th>\n",
       "      <th>DRIVERS_LICENSE_STATE</th>\n",
       "      <th>DRIVERS_LICENSE_CLASS</th>\n",
       "      <th>SAFETY_EQUIPMENT</th>\n",
       "      <th>AIRBAG_DEPLOYED</th>\n",
       "      <th>EJECTION</th>\n",
       "      <th>INJURY_CLASSIFICATION</th>\n",
       "      <th>HOSPITAL</th>\n",
       "      <th>EMS_AGENCY</th>\n",
       "      <th>EMS_RUN_NO</th>\n",
       "      <th>DRIVER_ACTION</th>\n",
       "      <th>DRIVER_VISION</th>\n",
       "      <th>PHYSICAL_CONDITION</th>\n",
       "      <th>PEDPEDAL_ACTION</th>\n",
       "      <th>PEDPEDAL_VISIBILITY</th>\n",
       "      <th>PEDPEDAL_LOCATION</th>\n",
       "      <th>BAC_RESULT</th>\n",
       "      <th>BAC_RESULT VALUE</th>\n",
       "      <th>CELL_PHONE_USE</th>\n",
       "    </tr>\n",
       "  </thead>\n",
       "  <tbody>\n",
       "    <tr>\n",
       "      <th>0</th>\n",
       "      <td>O749947</td>\n",
       "      <td>DRIVER</td>\n",
       "      <td>81dc0de2ed92aa62baccab641fa377be7feb1cc47e6554...</td>\n",
       "      <td>834816.0</td>\n",
       "      <td>09/28/2019 03:30:00 AM</td>\n",
       "      <td>NaN</td>\n",
       "      <td>CHICAGO</td>\n",
       "      <td>IL</td>\n",
       "      <td>60651</td>\n",
       "      <td>M</td>\n",
       "      <td>25.0</td>\n",
       "      <td>IL</td>\n",
       "      <td>D</td>\n",
       "      <td>NONE PRESENT</td>\n",
       "      <td>DEPLOYMENT UNKNOWN</td>\n",
       "      <td>NONE</td>\n",
       "      <td>NO INDICATION OF INJURY</td>\n",
       "      <td>NaN</td>\n",
       "      <td>NaN</td>\n",
       "      <td>NaN</td>\n",
       "      <td>UNKNOWN</td>\n",
       "      <td>UNKNOWN</td>\n",
       "      <td>UNKNOWN</td>\n",
       "      <td>NaN</td>\n",
       "      <td>NaN</td>\n",
       "      <td>NaN</td>\n",
       "      <td>TEST NOT OFFERED</td>\n",
       "      <td>NaN</td>\n",
       "      <td>NaN</td>\n",
       "    </tr>\n",
       "    <tr>\n",
       "      <th>1</th>\n",
       "      <td>O871921</td>\n",
       "      <td>DRIVER</td>\n",
       "      <td>af84fb5c8d996fcd3aefd36593c3a02e6e7509eeb27568...</td>\n",
       "      <td>827212.0</td>\n",
       "      <td>04/13/2020 10:50:00 PM</td>\n",
       "      <td>NaN</td>\n",
       "      <td>CHICAGO</td>\n",
       "      <td>IL</td>\n",
       "      <td>60620</td>\n",
       "      <td>M</td>\n",
       "      <td>37.0</td>\n",
       "      <td>IL</td>\n",
       "      <td>NaN</td>\n",
       "      <td>SAFETY BELT USED</td>\n",
       "      <td>DID NOT DEPLOY</td>\n",
       "      <td>NONE</td>\n",
       "      <td>NO INDICATION OF INJURY</td>\n",
       "      <td>NaN</td>\n",
       "      <td>NaN</td>\n",
       "      <td>NaN</td>\n",
       "      <td>NONE</td>\n",
       "      <td>NOT OBSCURED</td>\n",
       "      <td>NORMAL</td>\n",
       "      <td>NaN</td>\n",
       "      <td>NaN</td>\n",
       "      <td>NaN</td>\n",
       "      <td>TEST NOT OFFERED</td>\n",
       "      <td>NaN</td>\n",
       "      <td>NaN</td>\n",
       "    </tr>\n",
       "    <tr>\n",
       "      <th>2</th>\n",
       "      <td>O10018</td>\n",
       "      <td>DRIVER</td>\n",
       "      <td>71162af7bf22799b776547132ebf134b5b438dcf3dac6b...</td>\n",
       "      <td>9579.0</td>\n",
       "      <td>11/01/2015 05:00:00 AM</td>\n",
       "      <td>NaN</td>\n",
       "      <td>NaN</td>\n",
       "      <td>NaN</td>\n",
       "      <td>NaN</td>\n",
       "      <td>X</td>\n",
       "      <td>NaN</td>\n",
       "      <td>NaN</td>\n",
       "      <td>NaN</td>\n",
       "      <td>USAGE UNKNOWN</td>\n",
       "      <td>DEPLOYMENT UNKNOWN</td>\n",
       "      <td>NONE</td>\n",
       "      <td>NO INDICATION OF INJURY</td>\n",
       "      <td>NaN</td>\n",
       "      <td>NaN</td>\n",
       "      <td>NaN</td>\n",
       "      <td>IMPROPER BACKING</td>\n",
       "      <td>UNKNOWN</td>\n",
       "      <td>UNKNOWN</td>\n",
       "      <td>NaN</td>\n",
       "      <td>NaN</td>\n",
       "      <td>NaN</td>\n",
       "      <td>TEST NOT OFFERED</td>\n",
       "      <td>NaN</td>\n",
       "      <td>NaN</td>\n",
       "    </tr>\n",
       "    <tr>\n",
       "      <th>3</th>\n",
       "      <td>O10038</td>\n",
       "      <td>DRIVER</td>\n",
       "      <td>c21c476e2ccc41af550b5d858d22aaac4ffc88745a1700...</td>\n",
       "      <td>9598.0</td>\n",
       "      <td>11/01/2015 08:00:00 AM</td>\n",
       "      <td>NaN</td>\n",
       "      <td>NaN</td>\n",
       "      <td>NaN</td>\n",
       "      <td>NaN</td>\n",
       "      <td>X</td>\n",
       "      <td>NaN</td>\n",
       "      <td>NaN</td>\n",
       "      <td>NaN</td>\n",
       "      <td>USAGE UNKNOWN</td>\n",
       "      <td>DEPLOYMENT UNKNOWN</td>\n",
       "      <td>UNKNOWN</td>\n",
       "      <td>NO INDICATION OF INJURY</td>\n",
       "      <td>NaN</td>\n",
       "      <td>NaN</td>\n",
       "      <td>NaN</td>\n",
       "      <td>UNKNOWN</td>\n",
       "      <td>UNKNOWN</td>\n",
       "      <td>UNKNOWN</td>\n",
       "      <td>NaN</td>\n",
       "      <td>NaN</td>\n",
       "      <td>NaN</td>\n",
       "      <td>TEST NOT OFFERED</td>\n",
       "      <td>NaN</td>\n",
       "      <td>NaN</td>\n",
       "    </tr>\n",
       "    <tr>\n",
       "      <th>4</th>\n",
       "      <td>O10039</td>\n",
       "      <td>DRIVER</td>\n",
       "      <td>eb390a4c8e114c69488f5fb8a097fe629f5a92fd528cf4...</td>\n",
       "      <td>9600.0</td>\n",
       "      <td>11/01/2015 10:15:00 AM</td>\n",
       "      <td>NaN</td>\n",
       "      <td>NaN</td>\n",
       "      <td>NaN</td>\n",
       "      <td>NaN</td>\n",
       "      <td>X</td>\n",
       "      <td>NaN</td>\n",
       "      <td>NaN</td>\n",
       "      <td>NaN</td>\n",
       "      <td>USAGE UNKNOWN</td>\n",
       "      <td>DEPLOYMENT UNKNOWN</td>\n",
       "      <td>UNKNOWN</td>\n",
       "      <td>NO INDICATION OF INJURY</td>\n",
       "      <td>NaN</td>\n",
       "      <td>NaN</td>\n",
       "      <td>NaN</td>\n",
       "      <td>UNKNOWN</td>\n",
       "      <td>UNKNOWN</td>\n",
       "      <td>UNKNOWN</td>\n",
       "      <td>NaN</td>\n",
       "      <td>NaN</td>\n",
       "      <td>NaN</td>\n",
       "      <td>TEST NOT OFFERED</td>\n",
       "      <td>NaN</td>\n",
       "      <td>NaN</td>\n",
       "    </tr>\n",
       "  </tbody>\n",
       "</table>\n",
       "</div>"
      ],
      "text/plain": [
       "  PERSON_ID PERSON_TYPE                                    CRASH_RECORD_ID  \\\n",
       "0   O749947      DRIVER  81dc0de2ed92aa62baccab641fa377be7feb1cc47e6554...   \n",
       "1   O871921      DRIVER  af84fb5c8d996fcd3aefd36593c3a02e6e7509eeb27568...   \n",
       "2    O10018      DRIVER  71162af7bf22799b776547132ebf134b5b438dcf3dac6b...   \n",
       "3    O10038      DRIVER  c21c476e2ccc41af550b5d858d22aaac4ffc88745a1700...   \n",
       "4    O10039      DRIVER  eb390a4c8e114c69488f5fb8a097fe629f5a92fd528cf4...   \n",
       "\n",
       "   VEHICLE_ID              CRASH_DATE  SEAT_NO     CITY STATE ZIPCODE SEX  \\\n",
       "0    834816.0  09/28/2019 03:30:00 AM      NaN  CHICAGO    IL   60651   M   \n",
       "1    827212.0  04/13/2020 10:50:00 PM      NaN  CHICAGO    IL   60620   M   \n",
       "2      9579.0  11/01/2015 05:00:00 AM      NaN      NaN   NaN     NaN   X   \n",
       "3      9598.0  11/01/2015 08:00:00 AM      NaN      NaN   NaN     NaN   X   \n",
       "4      9600.0  11/01/2015 10:15:00 AM      NaN      NaN   NaN     NaN   X   \n",
       "\n",
       "    AGE DRIVERS_LICENSE_STATE DRIVERS_LICENSE_CLASS  SAFETY_EQUIPMENT  \\\n",
       "0  25.0                    IL                     D      NONE PRESENT   \n",
       "1  37.0                    IL                   NaN  SAFETY BELT USED   \n",
       "2   NaN                   NaN                   NaN     USAGE UNKNOWN   \n",
       "3   NaN                   NaN                   NaN     USAGE UNKNOWN   \n",
       "4   NaN                   NaN                   NaN     USAGE UNKNOWN   \n",
       "\n",
       "      AIRBAG_DEPLOYED EJECTION    INJURY_CLASSIFICATION HOSPITAL EMS_AGENCY  \\\n",
       "0  DEPLOYMENT UNKNOWN     NONE  NO INDICATION OF INJURY      NaN        NaN   \n",
       "1      DID NOT DEPLOY     NONE  NO INDICATION OF INJURY      NaN        NaN   \n",
       "2  DEPLOYMENT UNKNOWN     NONE  NO INDICATION OF INJURY      NaN        NaN   \n",
       "3  DEPLOYMENT UNKNOWN  UNKNOWN  NO INDICATION OF INJURY      NaN        NaN   \n",
       "4  DEPLOYMENT UNKNOWN  UNKNOWN  NO INDICATION OF INJURY      NaN        NaN   \n",
       "\n",
       "  EMS_RUN_NO     DRIVER_ACTION DRIVER_VISION PHYSICAL_CONDITION  \\\n",
       "0        NaN           UNKNOWN       UNKNOWN            UNKNOWN   \n",
       "1        NaN              NONE  NOT OBSCURED             NORMAL   \n",
       "2        NaN  IMPROPER BACKING       UNKNOWN            UNKNOWN   \n",
       "3        NaN           UNKNOWN       UNKNOWN            UNKNOWN   \n",
       "4        NaN           UNKNOWN       UNKNOWN            UNKNOWN   \n",
       "\n",
       "  PEDPEDAL_ACTION PEDPEDAL_VISIBILITY PEDPEDAL_LOCATION        BAC_RESULT  \\\n",
       "0             NaN                 NaN               NaN  TEST NOT OFFERED   \n",
       "1             NaN                 NaN               NaN  TEST NOT OFFERED   \n",
       "2             NaN                 NaN               NaN  TEST NOT OFFERED   \n",
       "3             NaN                 NaN               NaN  TEST NOT OFFERED   \n",
       "4             NaN                 NaN               NaN  TEST NOT OFFERED   \n",
       "\n",
       "   BAC_RESULT VALUE CELL_PHONE_USE  \n",
       "0               NaN            NaN  \n",
       "1               NaN            NaN  \n",
       "2               NaN            NaN  \n",
       "3               NaN            NaN  \n",
       "4               NaN            NaN  "
      ]
     },
     "execution_count": 539,
     "metadata": {},
     "output_type": "execute_result"
    }
   ],
   "source": [
    "traffic_crashes_people.head()"
   ]
  },
  {
   "cell_type": "markdown",
   "id": "d63fcf84",
   "metadata": {},
   "source": [
    "It's a huge dataset with 1808605 and 29 columns , so first we would change the defualt display of tables to show all columns and more rows.\n"
   ]
  },
  {
   "cell_type": "code",
   "execution_count": 540,
   "id": "78b1b83c",
   "metadata": {},
   "outputs": [],
   "source": [
    "pd.set_option(\"display.max_columns\", None)\n",
    "pd.set_option('display.max_rows', 100)"
   ]
  },
  {
   "cell_type": "markdown",
   "id": "9db667f4",
   "metadata": {},
   "source": [
    "let's see where my all datasets meeet with each other, so what the common columns between them ?"
   ]
  },
  {
   "cell_type": "code",
   "execution_count": 541,
   "id": "0837a093",
   "metadata": {},
   "outputs": [
    {
     "name": "stdout",
     "output_type": "stream",
     "text": [
      "Shared columns: CRASH_RECORD_ID, CRASH_DATE, VEHICLE_ID\n"
     ]
    }
   ],
   "source": [
    "common_columns = set(traffic_crashes_people.columns).intersection(df_vehicles.columns)\n",
    "if common_columns:\n",
    "    print(f\"Shared columns: {', '.join(common_columns)}\")\n",
    "else:\n",
    "    print(\"No shared columns found.\")"
   ]
  },
  {
   "cell_type": "code",
   "execution_count": 542,
   "id": "c36a73da",
   "metadata": {},
   "outputs": [
    {
     "ename": "NameError",
     "evalue": "name 'df_crashes' is not defined",
     "output_type": "error",
     "traceback": [
      "\u001b[1;31m---------------------------------------------------------------------------\u001b[0m",
      "\u001b[1;31mNameError\u001b[0m                                 Traceback (most recent call last)",
      "\u001b[1;32m<ipython-input-542-45478d801681>\u001b[0m in \u001b[0;36m<module>\u001b[1;34m\u001b[0m\n\u001b[1;32m----> 1\u001b[1;33m \u001b[0mcommon_columns\u001b[0m \u001b[1;33m=\u001b[0m \u001b[0mset\u001b[0m\u001b[1;33m(\u001b[0m\u001b[0mdf_people\u001b[0m\u001b[1;33m.\u001b[0m\u001b[0mcolumns\u001b[0m\u001b[1;33m)\u001b[0m\u001b[1;33m.\u001b[0m\u001b[0mintersection\u001b[0m\u001b[1;33m(\u001b[0m\u001b[0mdf_crashes\u001b[0m\u001b[1;33m.\u001b[0m\u001b[0mcolumns\u001b[0m\u001b[1;33m)\u001b[0m\u001b[1;33m\u001b[0m\u001b[1;33m\u001b[0m\u001b[0m\n\u001b[0m\u001b[0;32m      2\u001b[0m \u001b[1;32mif\u001b[0m \u001b[0mcommon_columns\u001b[0m\u001b[1;33m:\u001b[0m\u001b[1;33m\u001b[0m\u001b[1;33m\u001b[0m\u001b[0m\n\u001b[0;32m      3\u001b[0m     \u001b[0mprint\u001b[0m\u001b[1;33m(\u001b[0m\u001b[1;34mf\"Shared columns: {', '.join(common_columns)}\"\u001b[0m\u001b[1;33m)\u001b[0m\u001b[1;33m\u001b[0m\u001b[1;33m\u001b[0m\u001b[0m\n\u001b[0;32m      4\u001b[0m \u001b[1;32melse\u001b[0m\u001b[1;33m:\u001b[0m\u001b[1;33m\u001b[0m\u001b[1;33m\u001b[0m\u001b[0m\n\u001b[0;32m      5\u001b[0m     \u001b[0mprint\u001b[0m\u001b[1;33m(\u001b[0m\u001b[1;34m\"No shared columns found.\"\u001b[0m\u001b[1;33m)\u001b[0m\u001b[1;33m\u001b[0m\u001b[1;33m\u001b[0m\u001b[0m\n",
      "\u001b[1;31mNameError\u001b[0m: name 'df_crashes' is not defined"
     ]
    }
   ],
   "source": [
    "common_columns = set(traffic_crashes_people.columns).intersection(df_crashes.columns)\n",
    "if common_columns:\n",
    "    print(f\"Shared columns: {', '.join(common_columns)}\")\n",
    "else:\n",
    "    print(\"No shared columns found.\")"
   ]
  },
  {
   "cell_type": "markdown",
   "id": "ce43e387",
   "metadata": {},
   "source": [
    "let's study the data step by step and dealing with missing values whilethrough. so let's see the count of missing values and it's proportion in each column . "
   ]
  },
  {
   "cell_type": "code",
   "execution_count": 543,
   "id": "3760ac12",
   "metadata": {},
   "outputs": [
    {
     "data": {
      "text/html": [
       "<div>\n",
       "<style scoped>\n",
       "    .dataframe tbody tr th:only-of-type {\n",
       "        vertical-align: middle;\n",
       "    }\n",
       "\n",
       "    .dataframe tbody tr th {\n",
       "        vertical-align: top;\n",
       "    }\n",
       "\n",
       "    .dataframe thead th {\n",
       "        text-align: right;\n",
       "    }\n",
       "</style>\n",
       "<table border=\"1\" class=\"dataframe\">\n",
       "  <thead>\n",
       "    <tr style=\"text-align: right;\">\n",
       "      <th></th>\n",
       "      <th>missing_val</th>\n",
       "      <th>missing_val_ratio</th>\n",
       "    </tr>\n",
       "  </thead>\n",
       "  <tbody>\n",
       "    <tr>\n",
       "      <th>PERSON_ID</th>\n",
       "      <td>0</td>\n",
       "      <td>0</td>\n",
       "    </tr>\n",
       "    <tr>\n",
       "      <th>PERSON_TYPE</th>\n",
       "      <td>0</td>\n",
       "      <td>0</td>\n",
       "    </tr>\n",
       "    <tr>\n",
       "      <th>CRASH_RECORD_ID</th>\n",
       "      <td>0</td>\n",
       "      <td>0</td>\n",
       "    </tr>\n",
       "    <tr>\n",
       "      <th>VEHICLE_ID</th>\n",
       "      <td>36177</td>\n",
       "      <td>2</td>\n",
       "    </tr>\n",
       "    <tr>\n",
       "      <th>CRASH_DATE</th>\n",
       "      <td>0</td>\n",
       "      <td>0</td>\n",
       "    </tr>\n",
       "    <tr>\n",
       "      <th>SEAT_NO</th>\n",
       "      <td>1443028</td>\n",
       "      <td>80</td>\n",
       "    </tr>\n",
       "    <tr>\n",
       "      <th>CITY</th>\n",
       "      <td>492062</td>\n",
       "      <td>27</td>\n",
       "    </tr>\n",
       "    <tr>\n",
       "      <th>STATE</th>\n",
       "      <td>472632</td>\n",
       "      <td>26</td>\n",
       "    </tr>\n",
       "    <tr>\n",
       "      <th>ZIPCODE</th>\n",
       "      <td>600317</td>\n",
       "      <td>33</td>\n",
       "    </tr>\n",
       "    <tr>\n",
       "      <th>SEX</th>\n",
       "      <td>29978</td>\n",
       "      <td>2</td>\n",
       "    </tr>\n",
       "    <tr>\n",
       "      <th>AGE</th>\n",
       "      <td>527939</td>\n",
       "      <td>29</td>\n",
       "    </tr>\n",
       "    <tr>\n",
       "      <th>DRIVERS_LICENSE_STATE</th>\n",
       "      <td>748686</td>\n",
       "      <td>41</td>\n",
       "    </tr>\n",
       "    <tr>\n",
       "      <th>DRIVERS_LICENSE_CLASS</th>\n",
       "      <td>922585</td>\n",
       "      <td>51</td>\n",
       "    </tr>\n",
       "    <tr>\n",
       "      <th>SAFETY_EQUIPMENT</th>\n",
       "      <td>5061</td>\n",
       "      <td>0</td>\n",
       "    </tr>\n",
       "    <tr>\n",
       "      <th>AIRBAG_DEPLOYED</th>\n",
       "      <td>34799</td>\n",
       "      <td>2</td>\n",
       "    </tr>\n",
       "    <tr>\n",
       "      <th>EJECTION</th>\n",
       "      <td>22453</td>\n",
       "      <td>1</td>\n",
       "    </tr>\n",
       "    <tr>\n",
       "      <th>INJURY_CLASSIFICATION</th>\n",
       "      <td>729</td>\n",
       "      <td>0</td>\n",
       "    </tr>\n",
       "    <tr>\n",
       "      <th>HOSPITAL</th>\n",
       "      <td>1509447</td>\n",
       "      <td>83</td>\n",
       "    </tr>\n",
       "    <tr>\n",
       "      <th>EMS_AGENCY</th>\n",
       "      <td>1623522</td>\n",
       "      <td>90</td>\n",
       "    </tr>\n",
       "    <tr>\n",
       "      <th>EMS_RUN_NO</th>\n",
       "      <td>1777884</td>\n",
       "      <td>98</td>\n",
       "    </tr>\n",
       "    <tr>\n",
       "      <th>DRIVER_ACTION</th>\n",
       "      <td>368819</td>\n",
       "      <td>20</td>\n",
       "    </tr>\n",
       "    <tr>\n",
       "      <th>DRIVER_VISION</th>\n",
       "      <td>369365</td>\n",
       "      <td>20</td>\n",
       "    </tr>\n",
       "    <tr>\n",
       "      <th>PHYSICAL_CONDITION</th>\n",
       "      <td>367836</td>\n",
       "      <td>20</td>\n",
       "    </tr>\n",
       "    <tr>\n",
       "      <th>PEDPEDAL_ACTION</th>\n",
       "      <td>1774170</td>\n",
       "      <td>98</td>\n",
       "    </tr>\n",
       "    <tr>\n",
       "      <th>PEDPEDAL_VISIBILITY</th>\n",
       "      <td>1774235</td>\n",
       "      <td>98</td>\n",
       "    </tr>\n",
       "    <tr>\n",
       "      <th>PEDPEDAL_LOCATION</th>\n",
       "      <td>1774172</td>\n",
       "      <td>98</td>\n",
       "    </tr>\n",
       "    <tr>\n",
       "      <th>BAC_RESULT</th>\n",
       "      <td>367837</td>\n",
       "      <td>20</td>\n",
       "    </tr>\n",
       "    <tr>\n",
       "      <th>BAC_RESULT VALUE</th>\n",
       "      <td>1806583</td>\n",
       "      <td>100</td>\n",
       "    </tr>\n",
       "    <tr>\n",
       "      <th>CELL_PHONE_USE</th>\n",
       "      <td>1807446</td>\n",
       "      <td>100</td>\n",
       "    </tr>\n",
       "  </tbody>\n",
       "</table>\n",
       "</div>"
      ],
      "text/plain": [
       "                       missing_val  missing_val_ratio\n",
       "PERSON_ID                        0                  0\n",
       "PERSON_TYPE                      0                  0\n",
       "CRASH_RECORD_ID                  0                  0\n",
       "VEHICLE_ID                   36177                  2\n",
       "CRASH_DATE                       0                  0\n",
       "SEAT_NO                    1443028                 80\n",
       "CITY                        492062                 27\n",
       "STATE                       472632                 26\n",
       "ZIPCODE                     600317                 33\n",
       "SEX                          29978                  2\n",
       "AGE                         527939                 29\n",
       "DRIVERS_LICENSE_STATE       748686                 41\n",
       "DRIVERS_LICENSE_CLASS       922585                 51\n",
       "SAFETY_EQUIPMENT              5061                  0\n",
       "AIRBAG_DEPLOYED              34799                  2\n",
       "EJECTION                     22453                  1\n",
       "INJURY_CLASSIFICATION          729                  0\n",
       "HOSPITAL                   1509447                 83\n",
       "EMS_AGENCY                 1623522                 90\n",
       "EMS_RUN_NO                 1777884                 98\n",
       "DRIVER_ACTION               368819                 20\n",
       "DRIVER_VISION               369365                 20\n",
       "PHYSICAL_CONDITION          367836                 20\n",
       "PEDPEDAL_ACTION            1774170                 98\n",
       "PEDPEDAL_VISIBILITY        1774235                 98\n",
       "PEDPEDAL_LOCATION          1774172                 98\n",
       "BAC_RESULT                  367837                 20\n",
       "BAC_RESULT VALUE           1806583                100\n",
       "CELL_PHONE_USE             1807446                100"
      ]
     },
     "execution_count": 543,
     "metadata": {},
     "output_type": "execute_result"
    }
   ],
   "source": [
    "info_df = pd.DataFrame()\n",
    "info_df['missing_val'] = traffic_crashes_people.isnull().sum()\n",
    "info_df['missing_val_ratio'] = (info_df['missing_val'] / traffic_crashes_people.shape[0] * 100).round().astype(int)\n",
    "info_df"
   ]
  },
  {
   "cell_type": "markdown",
   "id": "40a5fd18",
   "metadata": {},
   "source": [
    "#### We have huge loss in our dataset \n",
    "let's treat that step by step. and we start with VEHCILE_ID column with has only 2% loss in the whole dataset. "
   ]
  },
  {
   "cell_type": "code",
   "execution_count": 544,
   "id": "8a194e48",
   "metadata": {},
   "outputs": [
    {
     "data": {
      "text/plain": [
       "array(['DRIVER', 'PASSENGER', 'PEDESTRIAN', 'BICYCLE',\n",
       "       'NON-MOTOR VEHICLE', 'NON-CONTACT VEHICLE'], dtype=object)"
      ]
     },
     "execution_count": 544,
     "metadata": {},
     "output_type": "execute_result"
    }
   ],
   "source": [
    "traffic_crashes_people['PERSON_TYPE'].unique()"
   ]
  },
  {
   "cell_type": "code",
   "execution_count": 545,
   "id": "2390fe4e",
   "metadata": {},
   "outputs": [
    {
     "data": {
      "text/plain": [
       "21142"
      ]
     },
     "execution_count": 545,
     "metadata": {},
     "output_type": "execute_result"
    }
   ],
   "source": [
    "traffic_crashes_people[(traffic_crashes_people['PERSON_TYPE'] == \"PEDESTRIAN\")]['VEHICLE_ID'].isnull().sum()"
   ]
  },
  {
   "cell_type": "code",
   "execution_count": 546,
   "id": "60b358a1",
   "metadata": {},
   "outputs": [
    {
     "data": {
      "text/plain": [
       "21142"
      ]
     },
     "execution_count": 546,
     "metadata": {},
     "output_type": "execute_result"
    }
   ],
   "source": [
    "traffic_crashes_people[(traffic_crashes_people['PERSON_TYPE'] == \"PEDESTRIAN\")].shape[0]"
   ]
  },
  {
   "cell_type": "code",
   "execution_count": 547,
   "id": "a18fef14",
   "metadata": {},
   "outputs": [
    {
     "data": {
      "text/plain": [
       "12725"
      ]
     },
     "execution_count": 547,
     "metadata": {},
     "output_type": "execute_result"
    }
   ],
   "source": [
    "traffic_crashes_people[(traffic_crashes_people['PERSON_TYPE'] == \"BICYCLE\")]['VEHICLE_ID'].isnull().sum()"
   ]
  },
  {
   "cell_type": "code",
   "execution_count": 548,
   "id": "23a3f075",
   "metadata": {},
   "outputs": [
    {
     "data": {
      "text/plain": [
       "12725"
      ]
     },
     "execution_count": 548,
     "metadata": {},
     "output_type": "execute_result"
    }
   ],
   "source": [
    "traffic_crashes_people[(traffic_crashes_people['PERSON_TYPE'] == \"BICYCLE\")].shape[0]"
   ]
  },
  {
   "cell_type": "code",
   "execution_count": 549,
   "id": "7065310f",
   "metadata": {},
   "outputs": [
    {
     "data": {
      "text/plain": [
       "1474"
      ]
     },
     "execution_count": 549,
     "metadata": {},
     "output_type": "execute_result"
    }
   ],
   "source": [
    "traffic_crashes_people[(traffic_crashes_people['PERSON_TYPE'] == \"NON-MOTOR VEHICLE\")]['VEHICLE_ID'].isnull().sum()"
   ]
  },
  {
   "cell_type": "code",
   "execution_count": 550,
   "id": "94f00548",
   "metadata": {},
   "outputs": [
    {
     "data": {
      "text/plain": [
       "1474"
      ]
     },
     "execution_count": 550,
     "metadata": {},
     "output_type": "execute_result"
    }
   ],
   "source": [
    "traffic_crashes_people[(traffic_crashes_people['PERSON_TYPE'] == \"NON-MOTOR VEHICLE\")].shape[0]"
   ]
  },
  {
   "cell_type": "markdown",
   "id": "cf9a4dcf",
   "metadata": {},
   "source": [
    "All Pedestrians and Bicyclists and NON_Motor dosen't have a VEHICLE_ID value. \n",
    "of course we will not drop them cause if we do we loose all the people with this type and loose special categories. \n",
    "so we can give them a random unqiue value for each row , but that not right cause these values not carrying a vehicle_id in real life , in addition to if we gave them sequential values in this dataset we have to find them in the other datasets like df_vehicles and give them the same ID value we give them here.\n",
    "So, we can give them all a non_meaning value for IDs like (-1)"
   ]
  },
  {
   "cell_type": "code",
   "execution_count": 551,
   "id": "d3b1bf21",
   "metadata": {},
   "outputs": [],
   "source": [
    "traffic_crashes_people.loc[traffic_crashes_people['PERSON_TYPE'] == \"BICYCLE\", 'VEHICLE_ID'] = -1.0\n",
    "traffic_crashes_people.loc[traffic_crashes_people['PERSON_TYPE'] == \"PEDESTRIAN\", 'VEHICLE_ID'] = -1.0\n",
    "traffic_crashes_people.loc[traffic_crashes_people['PERSON_TYPE'] == \"NON-MOTOR VEHICLE\", 'VEHICLE_ID'] = -1.0\n"
   ]
  },
  {
   "cell_type": "code",
   "execution_count": 552,
   "id": "23b02d94",
   "metadata": {},
   "outputs": [
    {
     "data": {
      "text/plain": [
       "836"
      ]
     },
     "execution_count": 552,
     "metadata": {},
     "output_type": "execute_result"
    }
   ],
   "source": [
    "traffic_crashes_people['VEHICLE_ID'].isnull().sum()"
   ]
  },
  {
   "cell_type": "markdown",
   "id": "b2893276",
   "metadata": {},
   "source": [
    "We still have missing values for VEHICLE_ID , let's see where. "
   ]
  },
  {
   "cell_type": "code",
   "execution_count": 553,
   "id": "b0270ac6",
   "metadata": {},
   "outputs": [
    {
     "data": {
      "text/plain": [
       "1407381"
      ]
     },
     "execution_count": 553,
     "metadata": {},
     "output_type": "execute_result"
    }
   ],
   "source": [
    "traffic_crashes_people[(traffic_crashes_people['PERSON_TYPE'] == \"DRIVER\")].shape[0]"
   ]
  },
  {
   "cell_type": "markdown",
   "id": "2ffeb1b4",
   "metadata": {},
   "source": [
    "I have 699 nan values of VEHICLE_ID for DRIVERS , let's see the VEHICLE_ID values when the person being a PASSENGER"
   ]
  },
  {
   "cell_type": "code",
   "execution_count": 554,
   "id": "9deb01f5",
   "metadata": {},
   "outputs": [
    {
     "data": {
      "text/plain": [
       "0"
      ]
     },
     "execution_count": 554,
     "metadata": {},
     "output_type": "execute_result"
    }
   ],
   "source": [
    "traffic_crashes_people[traffic_crashes_people['PERSON_TYPE'] == \"PASSENGER\"]['VEHICLE_ID'].isnull().sum()"
   ]
  },
  {
   "cell_type": "markdown",
   "id": "5d3aae4b",
   "metadata": {},
   "source": [
    "As we expected no nan values in VEHICLE_ID when the person is PASSENGER , so let's try to extract some missed values for VEHICLE_ID for the DRIVERS out of PASSENGERS VEHICLE_ID values when existing in same CRASH_RECORD_ID , we about to see if that is possible."
   ]
  },
  {
   "cell_type": "code",
   "execution_count": 555,
   "id": "70bae5ab",
   "metadata": {},
   "outputs": [
    {
     "data": {
      "text/plain": [
       "248592"
      ]
     },
     "execution_count": 555,
     "metadata": {},
     "output_type": "execute_result"
    }
   ],
   "source": [
    "unique_passenger_Vids = traffic_crashes_people[traffic_crashes_people['PERSON_TYPE'] == \"PASSENGER\"]['VEHICLE_ID'].unique()\n",
    "len(unique_passenger_Vids)"
   ]
  },
  {
   "cell_type": "code",
   "execution_count": 556,
   "id": "dc6ff531",
   "metadata": {},
   "outputs": [
    {
     "data": {
      "text/plain": [
       "1406683"
      ]
     },
     "execution_count": 556,
     "metadata": {},
     "output_type": "execute_result"
    }
   ],
   "source": [
    "unique_driver_Vids = traffic_crashes_people[traffic_crashes_people['PERSON_TYPE'] == \"DRIVER\"]['VEHICLE_ID'].unique()\n",
    "len(unique_driver_Vids)"
   ]
  },
  {
   "cell_type": "markdown",
   "id": "7edff18b",
   "metadata": {},
   "source": [
    "We have now two series for unique VEHICLE_ID in PASSENGERS and in DRIVERS, so first we will see if there any PASSENGER VEHICLE_ID exist in PASSENGERS series and not in DRIVERS series."
   ]
  },
  {
   "cell_type": "code",
   "execution_count": 557,
   "id": "ca33d840",
   "metadata": {},
   "outputs": [
    {
     "name": "stdout",
     "output_type": "stream",
     "text": [
      "Not all values in unique_passenger_Vids are present in unique_driver_Vids\n"
     ]
    }
   ],
   "source": [
    "passenger_set = set(unique_passenger_Vids)\n",
    "driver_set = set(unique_driver_Vids)\n",
    "\n",
    "if passenger_set.issubset(driver_set):\n",
    "    print('All values in unique_passenger_Vids are present in unique_driver_Vids')\n",
    "else:\n",
    "    print('Not all values in unique_passenger_Vids are present in unique_driver_Vids')"
   ]
  },
  {
   "cell_type": "markdown",
   "id": "509199f0",
   "metadata": {},
   "source": [
    "It seems there are some values not shared between two sets , so there are some missed VEHICLE_ID for DRIVERS maybe we can assign the PASSENGER's VEHICLE_ID value for the DRIVER's nan VEHICLE_ID value in same CRASH_RECORD_ID (but of course when we have no another DRIVER carries this value cause we may have multiple DRIVERS in the same CRASH_RECORD_ID so we can't know the missed DRIVER's VEHICLE_ID for the other drivers or when we have multiple DRIVERS in the same accident so we can't know this PASSENGER share the same vehicle with a sepcific DRIVER)."
   ]
  },
  {
   "cell_type": "code",
   "execution_count": 558,
   "id": "478e9b50",
   "metadata": {},
   "outputs": [
    {
     "name": "stdout",
     "output_type": "stream",
     "text": [
      "The following VEHICLE_IDs are unique to unique_passenger_Vids: {458752.0, 1212420.0, 1114117.0, 1638406.0, 1245190.0, 327686.0, 655369.0, 917509.0, 1703947.0, 786443.0, 917515.0, 589841.0, 1441809.0, 1441811.0, 851990.0, 1277978.0, 557084.0, 393244.0, 1277982.0, 1114146.0, 1114147.0, 1310756.0, 852005.0, 852006.0, 426021.0, 294954.0, 983083.0, 1671213.0, 229427.0, 1572916.0, 1343544.0, 1376314.0, 1114171.0, 98363.0, 327742.0, 1409092.0, 917572.0, 131143.0, 1671241.0, 557130.0, 229451.0, 32844.0, 393298.0, 83.0, 32851.0, 753754.0, 327776.0, 1540203.0, 589932.0, 1114226.0, 295028.0, 557176.0, 1671289.0, 1409145.0, 1212539.0, 1212540.0, 1704061.0, 196734.0, 917631.0, 589954.0, 1114248.0, 1147017.0, 1245323.0, 1671308.0, 1212556.0, 1147022.0, 557199.0, 163980.0, 721037.0, 1245328.0, 983179.0, 295060.0, 393364.0, 131222.0, 1563123.0, 786585.0, 721050.0, 229530.0, 884892.0, 1474715.0, 1638558.0, 1474720.0, 884898.0, 32935.0, 753834.0, 950447.0, 884914.0, 1704115.0, 524469.0, 1343673.0, 1409209.0, 1638587.0, 32956.0, 98492.0, 360638.0, 1114303.0, 983225.0, 491707.0, 786627.0, 1179846.0, 426184.0, 852171.0, 196813.0, 1638607.0, 1114320.0, 983249.0, 852181.0, 1671382.0, 1638615.0, 590040.0, 1179863.0, 1081562.0, 753881.0, 393431.0, 983257.0, 1147102.0, 196832.0, 1081571.0, 65763.0, 1179877.0, 1081574.0, 1442021.0, 1507555.0, 622826.0, 426219.0, 164076.0, 1245420.0, 1081582.0, 1671407.0, 852205.0, 327919.0, 917746.0, 1016045.0, 1278197.0, 1212663.0, 786685.0, 491774.0, 262400.0, 1114369.0, 688386.0, 819457.0, 262404.0, 1442054.0, 983306.0, 271.0, 655638.0, 1605912.0, 1278233.0, 491803.0, 1081628.0, 557343.0, 1278240.0, 786719.0, 852256.0, 819492.0, 65830.0, 295211.0, 786732.0, 1573165.0, 885044.0, 1638710.0, 885046.0, 950587.0, 1507648.0, 655681.0, 1245506.0, 1278274.0, 295236.0, 328001.0, 1409353.0, 721227.0, 360781.0, 721230.0, 590160.0, 488535.0, 721240.0, 786781.0, 1474909.0, 1474911.0, 983390.0, 721256.0, 1343848.0, 196974.0, 917871.0, 65905.0, 131442.0, 1180017.0, 754033.0, 885107.0, 721270.0, 1048951.0, 983416.0, 1540469.0, 524667.0, 1212796.0, 819581.0, 1474941.0, 721279.0, 1638784.0, 1016193.0, 622978.0, 754052.0, 1671558.0, 391.0, 590215.0, 197004.0, 590221.0, 557454.0, 1212813.0, 1147281.0, 328083.0, 360852.0, 459155.0, 1016214.0, 1442203.0, 164253.0, 1474974.0, 721311.0, 426401.0, 1638821.0, 229797.0, 426407.0, 1638825.0, 885162.0, 426411.0, 229807.0, 360881.0, 623026.0, 819635.0, 524726.0, 33208.0, 1409466.0, 197051.0, 885179.0, 164286.0, 885182.0, 459200.0, 1606081.0, 393666.0, 1311172.0, 1081799.0, 1573320.0, 754121.0, 721354.0, 1212878.0, 1671631.0, 491985.0, 1212885.0, 164309.0, 426457.0, 1245658.0, 1081821.0, 1573343.0, 131551.0, 131552.0, 1212898.0, 721377.0, 1671652.0, 1343967.0, 1409506.0, 1704423.0, 403896.0, 1311209.0, 1311210.0, 983527.0, 98799.0, 262644.0, 1343988.0, 1671670.0, 295412.0, 1147386.0, 393723.0, 950778.0, 1507834.0, 1081859.0, 524804.0, 655875.0, 426501.0, 1245703.0, 1081865.0, 1704458.0, 524813.0, 1081871.0, 164367.0, 1540623.0, 1409556.0, 459284.0, 1704474.0, 950812.0, 1344030.0, 1638944.0, 262690.0, 1573420.0, 66093.0, 1704492.0, 1475118.0, 328241.0, 1475122.0, 459316.0, 1475128.0, 426555.0, 1475131.0, 623166.0, 426558.0, 1147456.0, 1344065.0, 983614.0, 885316.0, 1671751.0, 1147467.0, 1540684.0, 852558.0, 590417.0, 1245778.0, 852562.0, 885342.0, 754272.0, 262754.0, 393828.0, 1016424.0, 950890.0, 852587.0, 787056.0, 524914.0, 1049207.0, 33400.0, 819834.0, 1049211.0, 721534.0, 164479.0, 656001.0, 590473.0, 721548.0, 98959.0, 1704592.0, 1671827.0, 1671833.0, 164505.0, 1180315.0, 1278619.0, 819869.0, 164512.0, 819872.0, 1049252.0, 1213092.0, 787109.0, 1606312.0, 1311402.0, 852651.0, 1639087.0, 1016496.0, 164530.0, 1508023.0, 623294.0, 1278654.0, 131778.0, 393926.0, 754377.0, 1409738.0, 66253.0, 131797.0, 164567.0, 983767.0, 557785.0, 1540827.0, 1049308.0, 328412.0, 1147614.0, 1311454.0, 1213152.0, 361181.0, 623332.0, 164580.0, 230116.0, 1344230.0, 1245928.0, 951012.0, 1442539.0, 361196.0, 1147629.0, 230126.0, 1377005.0, 1475307.0, 1409782.0, 1704696.0, 983801.0, 1671934.0, 1311488.0, 393987.0, 819972.0, 754437.0, 1213190.0, 1409801.0, 819979.0, 426764.0, 754446.0, 1278735.0, 1639186.0, 1245971.0, 1278740.0, 983829.0, 918301.0, 262946.0, 721699.0, 1409827.0, 557861.0, 918307.0, 426791.0, 1475367.0, 656170.0, 492332.0, 1246003.0, 590647.0, 1540920.0, 328505.0, 820028.0, 1344316.0, 328511.0, 230208.0, 557892.0, 66372.0, 787269.0, 1016646.0, 1573704.0, 721737.0, 787274.0, 1475402.0, 1672013.0, 1377102.0, 1049423.0, 1573711.0, 1246033.0, 623443.0, 426837.0, 1540953.0, 1540957.0, 263006.0, 590688.0, 754530.0, 885602.0, 361314.0, 820069.0, 820070.0, 394087.0, 197480.0, 459619.0, 1246061.0, 557935.0, 623476.0, 623480.0, 1475450.0, 1344381.0, 1344383.0, 1409920.0, 1540991.0, 898.0, 721794.0, 1213316.0, 1704837.0, 361352.0, 1377162.0, 754571.0, 1606540.0, 885643.0, 1082255.0, 1508239.0, 557970.0, 1475475.0, 1377172.0, 361366.0, 656288.0, 1377185.0, 1704866.0, 394148.0, 1573797.0, 1639334.0, 197543.0, 885672.0, 525225.0, 426921.0, 99243.0, 1639340.0, 1377195.0, 426924.0, 1475501.0, 1016751.0, 1541040.0, 983986.0, 1246132.0, 1639355.0, 1213371.0, 820155.0, 1344444.0, 1213375.0, 1278911.0, 623553.0, 689089.0, 1442754.0, 1672139.0, 197581.0, 1475534.0, 1147858.0, 1573843.0, 1639380.0, 1639381.0, 1344466.0, 1311705.0, 459739.0, 1344476.0, 66525.0, 1147869.0, 1704926.0, 721887.0, 361442.0, 1606627.0, 1311717.0, 1639398.0, 1115111.0, 1377254.0, 1442792.0, 754666.0, 1213419.0, 132076.0, 1246187.0, 328686.0, 426984.0, 426983.0, 689139.0, 1012.0, 1573879.0, 754683.0, 820220.0, 394235.0, 99328.0, 1180675.0, 1704965.0, 1508358.0, 558087.0, 132104.0, 787464.0, 885769.0, 1442825.0, 459787.0, 263182.0, 492562.0, 33811.0, 164885.0, 1147927.0, 1704984.0, 164888.0, 1213467.0, 197660.0, 754717.0, 1475614.0, 197664.0, 230434.0, 33830.0, 689190.0, 1246248.0, 328749.0, 820273.0, 1344561.0, 525364.0, 558132.0, 590900.0, 99383.0, 1147960.0, 918581.0, 328762.0, 132156.0, 492604.0, 787524.0, 1082445.0, 263248.0, 1105.0, 623697.0, 656465.0, 525396.0, 1279063.0, 1705048.0, 164953.0, 1672282.0, 1311831.0, 1344600.0, 984152.0, 197727.0, 787551.0, 1049697.0, 787555.0, 1115236.0, 1082472.0, 1606760.0, 558186.0, 1148010.0, 459883.0, 132206.0, 722035.0, 164980.0, 623734.0, 1148023.0, 1213559.0, 1344631.0, 1148026.0, 1410171.0, 1115262.0, 853120.0, 1606785.0, 1311874.0, 885889.0, 492673.0, 66695.0, 1082504.0, 623753.0, 1475722.0, 1541255.0, 296076.0, 1213581.0, 853134.0, 984207.0, 787601.0, 918674.0, 722069.0, 1213590.0, 1377430.0, 165016.0, 459927.0, 1016981.0, 1016983.0, 1606812.0, 1672348.0, 885919.0, 394401.0, 623782.0, 328871.0, 427174.0, 459943.0, 1017007.0, 1246384.0, 230578.0, 1213622.0, 1639610.0, 1705147.0, 1377467.0, 1115326.0, 33983.0, 66755.0, 132292.0, 1705157.0, 427204.0, 66759.0, 1049800.0, 1705161.0, 1475783.0, 1148112.0, 99537.0, 1082578.0, 296146.0, 623836.0, 656605.0, 623838.0, 1148127.0, 296156.0, 1508580.0, 1082598.0, 1213670.0, 623848.0, 296167.0, 1115370.0, 1672428.0, 1377518.0, 853231.0, 1475824.0, 1267.0, 132341.0, 558326.0, 1082614.0, 525560.0, 132342.0, 296181.0, 296190.0, 436618.0, 492800.0, 820482.0, 165127.0, 197897.0, 951562.0, 984329.0, 689423.0, 1443088.0, 656657.0, 99602.0, 1180945.0, 722194.0, 1541393.0, 1312022.0, 1705240.0, 394521.0, 558362.0, 1410330.0, 951578.0, 99613.0, 754973.0, 361757.0, 623905.0, 492833.0, 361765.0, 1550331.0, 1475881.0, 1115435.0, 689452.0, 1312046.0, 329007.0, 951601.0, 1541425.0, 263477.0, 329014.0, 1336.0, 1180985.0, 558394.0, 1606971.0, 66875.0, 722234.0, 460088.0, 1344832.0, 1213761.0, 1574210.0, 1410369.0, 722244.0, 1180997.0, 722246.0, 492872.0, 689481.0, 329034.0, 165196.0, 1213774.0, 1213775.0, 918863.0, 918867.0, 1606996.0, 918868.0, 34134.0, 1082711.0, 1181014.0, 165206.0, 165207.0, 1541467.0, 984412.0, 722271.0, 394591.0, 820577.0, 558434.0, 230755.0, 918884.0, 1279333.0, 1017189.0, 99688.0, 558442.0, 329069.0, 1246574.0, 296303.0, 1344882.0, 984436.0, 1246581.0, 427381.0, 1181049.0, 984441.0, 1213819.0, 165243.0, 787838.0, 230783.0, 722304.0, 1246592.0, 1639810.0, 1213827.0, 263556.0, 1312132.0, 1115526.0, 1639815.0, 624006.0, 394627.0, 1475970.0, 1213835.0, 460167.0, 99725.0, 1705357.0, 492940.0, 525712.0, 1541515.0, 1705364.0, 1246614.0, 689559.0, 165272.0, 1607067.0, 361885.0, 1082782.0, 886174.0, 984477.0, 656801.0, 165282.0, 1279394.0, 755108.0, 525735.0, 1017255.0, 263593.0, 66989.0, 591279.0, 1082801.0, 787890.0, 984499.0, 1279412.0, 1312180.0, 853430.0, 1213879.0, 1705402.0, 624064.0, 492994.0, 460227.0, 493000.0, 886217.0, 820683.0, 1246671.0, 1213904.0, 1279439.0, 361937.0, 1181142.0, 853464.0, 198108.0, 1410525.0, 984542.0, 132581.0, 1513.0, 1607145.0, 1213931.0, 1607148.0, 1213933.0, 198125.0, 394734.0, 1541611.0, 656883.0, 1213943.0, 132601.0, 1246714.0, 591355.0, 1181179.0, 1082877.0, 1181182.0, 230905.0, 1181184.0, 1537.0, 1345019.0, 1508862.0, 689669.0, 1345032.0, 984585.0, 1115662.0, 1213970.0, 689684.0, 1672725.0, 1115670.0, 1639959.0, 624151.0, 755220.0, 722458.0, 296468.0, 296470.0, 853533.0, 67103.0, 1246751.0, 755232.0, 1377823.0, 132644.0, 755236.0, 329255.0, 820776.0, 1574442.0, 624171.0, 99884.0, 1345068.0, 1246766.0, 1639983.0, 1443373.0, 951857.0, 493103.0, 1377846.0, 1639991.0, 820792.0, 329271.0, 525882.0, 460346.0, 230972.0, 722493.0, 34368.0, 427585.0, 165449.0, 230992.0, 198229.0, 1443414.0, 722520.0, 1050201.0, 165468.0, 951900.0, 362080.0, 656993.0, 1279586.0, 558691.0, 231014.0, 591471.0, 329328.0, 591473.0, 1148536.0, 1443450.0, 198269.0, 624254.0, 1574530.0, 34435.0, 853634.0, 427651.0, 1410694.0, 1607305.0, 99977.0, 1246860.0, 689805.0, 1640078.0, 788108.0, 1083028.0, 1279637.0, 362134.0, 755351.0, 886427.0, 132765.0, 755357.0, 820896.0, 1246882.0, 1541796.0, 427687.0, 231081.0, 1607338.0, 1148586.0, 886441.0, 362154.0, 1476274.0, 1476275.0, 1718.0, 853687.0, 165560.0, 1410744.0, 1672891.0, 1410748.0, 100029.0, 132797.0, 1181374.0, 231104.0, 657089.0, 1705665.0, 1312448.0, 165572.0, 1410752.0, 1443528.0, 1246921.0, 34506.0, 1640139.0, 1214156.0, 231116.0, 1214160.0, 952017.0, 493266.0, 1083091.0, 1751.0, 1607384.0, 100057.0, 657113.0, 263898.0, 198364.0, 1378012.0, 165598.0, 1312479.0, 362201.0, 526049.0, 1607394.0, 1410779.0, 198378.0, 1640171.0, 1574636.0, 1312490.0, 100079.0, 1640176.0, 1279728.0, 1312495.0, 820979.0, 820982.0, 1607415.0, 1672953.0, 1607418.0, 1148666.0, 788217.0, 1640189.0, 1378043.0, 165631.0, 1378047.0, 1378049.0, 755458.0, 362234.0, 1443579.0, 919299.0, 1541889.0, 1083143.0, 755467.0, 427787.0, 1345293.0, 165646.0, 493324.0, 558867.0, 1115925.0, 460565.0, 1607448.0, 1640221.0, 1247006.0, 1247010.0, 1640227.0, 1705764.0, 1443621.0, 788262.0, 1115943.0, 1509157.0, 395049.0, 100147.0, 1345334.0, 919352.0, 624442.0, 853818.0, 886586.0, 1509183.0, 1083201.0, 558914.0, 526147.0, 1607491.0, 657217.0, 395073.0, 1509190.0, 952136.0, 362313.0, 100173.0, 722766.0, 264014.0, 624468.0, 1247061.0, 198484.0, 231252.0, 788310.0, 395097.0, 231258.0, 427869.0, 886624.0, 1705826.0, 1214307.0, 1443683.0, 460645.0, 788326.0, 1181543.0, 493413.0, 132971.0, 1509229.0, 722800.0, 755569.0, 886641.0, 1148787.0, 132979.0, 231284.0, 1705846.0, 460661.0, 1181561.0, 1542010.0, 1116028.0, 1247101.0, 1509244.0, 362367.0, 460673.0, 1181570.0, 1476485.0, 821134.0, 1345423.0, 1181584.0, 1050513.0, 329618.0, 460691.0, 1673112.0, 67483.0, 1312672.0, 788386.0, 165795.0, 198568.0, 427945.0, 1247147.0, 296875.0, 296878.0, 133039.0, 1705903.0, 362414.0, 67509.0, 1050551.0, 952247.0, 755645.0, 788414.0, 329663.0, 395198.0, 1673153.0, 788417.0, 133060.0, 1214405.0, 1411014.0, 1705929.0, 1542091.0, 329677.0, 1443795.0, 952275.0, 853973.0, 1476569.0, 133082.0, 362460.0, 1247199.0, 1312736.0, 329696.0, 1411039.0, 428000.0, 1411045.0, 690150.0, 1279977.0, 1640426.0, 1476587.0, 1574894.0, 526319.0, 428015.0, 657393.0, 657398.0, 1378296.0, 985080.0, 1542136.0, 1247230.0, 755714.0, 264197.0, 1214471.0, 1476615.0, 985096.0, 1280012.0, 657422.0, 1247246.0, 395278.0, 329748.0, 264213.0, 1640470.0, 624662.0, 1280024.0, 886804.0, 362521.0, 985108.0, 1181728.0, 1607715.0, 722980.0, 690213.0, 1247269.0, 493607.0, 821288.0, 1542190.0, 100399.0, 297008.0, 1148977.0, 1050674.0, 722994.0, 329775.0, 133173.0, 722997.0, 1378360.0, 264249.0, 723002.0, 591931.0, 985147.0, 985149.0, 1083454.0, 1181761.0, 1607746.0, 1280067.0, 1443908.0, 428097.0, 1509445.0, 1706056.0, 198730.0, 690254.0, 460880.0, 297042.0, 559187.0, 723027.0, 1149014.0, 1312855.0, 67672.0, 1116248.0, 34906.0, 657496.0, 34910.0, 755807.0, 755808.0, 264286.0, 1345634.0, 723044.0, 1345637.0, 1476710.0, 165991.0, 1214568.0, 755817.0, 854121.0, 1214572.0, 1706093.0, 1443953.0, 723059.0, 198773.0, 723064.0, 690298.0, 657533.0, 1575038.0, 133247.0, 723069.0, 723070.0, 1575042.0, 1247357.0, 1247363.0, 395389.0, 952448.0, 755847.0, 166024.0, 362631.0, 1575050.0, 592011.0, 723083.0, 1411211.0, 985224.0, 1378450.0, 133268.0, 428184.0, 1280153.0, 1706140.0, 166046.0, 1640614.0, 100519.0, 1214631.0, 592044.0, 1247409.0, 657587.0, 297141.0, 198840.0, 2238.0, 755903.0, 1280196.0, 1607878.0, 821446.0, 559305.0, 100553.0, 1247433.0, 231625.0, 493773.0, 231637.0, 1116375.0, 1149143.0, 1345751.0, 1509593.0, 821469.0, 166110.0, 1083615.0, 854237.0, 1214689.0, 1214690.0, 690403.0, 1444068.0, 395493.0, 690407.0, 166119.0, 1083630.0, 1181934.0, 559344.0, 723186.0, 461043.0, 2292.0, 526581.0, 1083638.0, 493811.0, 1214712.0, 1517961.0, 592124.0, 1313022.0, 1345795.0, 1345799.0, 2312.0, 133384.0, 1673484.0, 428301.0, 231696.0, 1411345.0, 690452.0, 461079.0, 1411355.0, 198941.0, 2339.0, 1018148.0, 1607974.0, 657703.0, 1280297.0, 1640746.0, 1181994.0, 1313065.0, 35117.0, 592173.0, 133424.0, 1444148.0, 690485.0, 461110.0, 788791.0, 395578.0, 624955.0, 133435.0, 1313085.0, 919871.0, 723264.0, 854336.0, 166217.0, 559434.0, 35147.0, 657740.0, 1247564.0, 1345869.0, 1706319.0, 461136.0, 756049.0, 1214802.0, 723282.0, 428371.0, 1313110.0, 1050967.0, 35159.0, 100697.0, 264538.0, 428377.0, 1509729.0, 362850.0, 461157.0, 1018214.0, 493929.0, 67946.0, 756075.0, 592243.0, 1050998.0, 526710.0, 199030.0, 231798.0, 297336.0, 788860.0, 1247616.0, 1018240.0, 854402.0, 1706371.0, 1116548.0, 1640839.0, 166284.0, 788877.0, 297357.0, 231824.0, 35218.0, 657810.0, 1280406.0, 1280407.0, 1706395.0, 1542558.0, 1575328.0, 657824.0, 1149346.0, 1411489.0, 1411491.0, 395681.0, 461220.0, 919978.0, 788907.0, 1345964.0, 362924.0, 1411502.0, 1444268.0, 1247665.0, 1444273.0, 1149363.0, 1575348.0, 559540.0, 1345973.0, 1673657.0, 756155.0, 1411515.0, 68030.0, 854462.0, 952766.0, 1608129.0, 1018302.0, 821700.0, 461252.0, 854470.0, 788935.0, 133577.0, 362953.0, 264655.0, 1346003.0, 1247702.0, 330201.0, 1149403.0, 625116.0, 854494.0, 592353.0, 1673697.0, 1575395.0, 1280483.0, 1444327.0, 821739.0, 1051117.0, 854509.0, 526831.0, 1018349.0, 1051121.0, 1477106.0, 166387.0, 1411572.0, 1542641.0, 1214967.0, 363004.0, 297470.0, 690687.0, 1378814.0, 1313283.0, 854531.0, 1542663.0, 1673737.0, 526858.0, 690697.0, 985611.0, 690701.0, 526862.0, 1214989.0, 690704.0, 1083921.0, 68114.0, 1182225.0, 199181.0, 756240.0, 1280529.0, 625175.0, 1313297.0, 1149465.0, 559642.0, 1640986.0, 1149467.0, 1378840.0, 854554.0, 1378847.0, 1673761.0, 461345.0, 821795.0, 1640996.0, 920101.0, 1575462.0, 35370.0, 789037.0, 1542703.0, 1641009.0, 68146.0, 1247794.0, 1182263.0, 952889.0, 887357.0, 920131.0, 1509956.0, 68165.0, 1149510.0, 133704.0, 1477193.0, 952906.0, 133709.0, 1280593.0, 1575510.0, 264791.0, 1706584.0, 330326.0, 526939.0, 690780.0, 1542748.0, 690783.0, 1641056.0, 920169.0, 920172.0, 1280622.0, 232046.0, 1477235.0, 854645.0, 1706615.0, 625274.0, 330363.0, 1346181.0, 1510022.0, 756359.0, 68234.0, 1641099.0, 1477260.0, 1215117.0, 821903.0, 461456.0, 330388.0, 330393.0, 1215132.0, 821917.0, 1673887.0, 1182370.0, 985763.0, 264868.0, 1018538.0, 1149611.0, 166572.0, 1116845.0, 723631.0, 1641137.0, 559800.0, 1215161.0, 1477307.0, 690877.0, 1542845.0, 1051327.0, 1641152.0, 133825.0, 1673925.0, 1575623.0, 723655.0, 1379017.0, 2762.0, 723658.0, 985800.0, 101069.0, 985801.0, 1542855.0, 1247952.0, 821969.0, 264915.0, 1018585.0, 1542874.0, 1673947.0, 887516.0, 395995.0, 658143.0, 1575648.0, 985825.0, 1641188.0, 1280741.0, 232164.0, 1673959.0, 920300.0, 887535.0, 461552.0, 1706737.0, 1444593.0, 68345.0, 1313532.0, 232190.0, 68351.0, 592641.0, 953090.0, 68355.0, 494341.0, 887558.0, 232205.0, 592656.0, 1280785.0, 985880.0, 1248029.0, 101150.0, 1182495.0, 822045.0, 1411872.0, 690980.0, 920359.0, 625449.0, 1215273.0, 723755.0, 1542954.0, 1411885.0, 1084206.0, 723758.0, 658224.0, 363314.0, 1313589.0, 691000.0, 494395.0, 1608510.0, 1477439.0, 1018688.0, 1313601.0, 297794.0, 428866.0, 1575748.0, 1575749.0, 330566.0, 527175.0, 1641288.0, 789320.0, 1313609.0, 789322.0, 1182540.0, 35661.0, 1477448.0, 985927.0, 265040.0, 658261.0, 166742.0, 68440.0, 723801.0, 985950.0, 1248095.0, 1575777.0, 1575779.0, 625510.0, 1182566.0, 330600.0, 1018730.0, 1379181.0, 953197.0, 527215.0, 691059.0, 887668.0, 1379191.0, 396152.0, 396155.0, 2941.0, 625538.0, 1117059.0, 101259.0, 822156.0, 691085.0, 1706894.0, 1018768.0, 691091.0, 1149844.0, 1051545.0, 1575833.0, 822171.0, 887705.0, 920482.0, 1117093.0, 1543077.0, 1280935.0, 1149864.0, 625577.0, 1149866.0, 1575848.0, 527274.0, 1608619.0, 166830.0, 1280943.0, 1674161.0, 1379249.0, 1641395.0, 297908.0, 592823.0, 1575864.0, 461753.0, 723898.0, 297914.0, 35772.0, 428988.0, 920510.0, 1510329.0, 1510333.0, 854977.0, 232386.0, 1444802.0, 3012.0, 723909.0, 822214.0, 723912.0, 101327.0, 1051600.0, 723922.0, 854996.0, 723927.0, 1084378.0, 1182683.0, 1510364.0, 1182687.0, 1510367.0, 756705.0, 35810.0, 1510369.0, 494559.0, 1575909.0, 822245.0, 1084391.0, 1346534.0, 1051625.0, 232425.0, 1543143.0, 1477612.0, 461805.0, 1084400.0, 166896.0, 429041.0, 1510384.0, 1281012.0, 723959.0, 789495.0, 1379324.0, 691197.0, 592896.0, 756737.0, 1674242.0, 68611.0, 265217.0, 887808.0, 265223.0, 330764.0, 396300.0, 3086.0, 1674256.0, 232467.0, 330776.0, 1182748.0, 1674269.0, 1281052.0, 1543198.0, 756771.0, 1182761.0, 461865.0, 35883.0, 756780.0, 3117.0, 625709.0, 1674286.0, 658477.0, 1313839.0, 1346610.0, 232499.0, 1084473.0, 1150012.0, 3134.0, 1543231.0, 1674304.0, 199747.0, 461892.0, 461896.0, 592973.0, 1150030.0, 1346638.0, 396370.0, 756820.0, 199768.0, 986202.0, 1707100.0, 822365.0, 101470.0, 1477729.0, 560226.0, 1576035.0, 1313891.0, 1346660.0, 560230.0, 986214.0, 986216.0, 625769.0, 330857.0, 1346667.0, 1379436.0, 691309.0, 68718.0, 461932.0, 134256.0, 1444977.0, 953456.0, 3187.0, 1543275.0, 1182843.0, 789627.0, 101502.0, 1051775.0, 1248385.0, 429187.0, 593030.0, 1281159.0, 1313927.0, 920711.0, 1248394.0, 1445004.0, 1641617.0, 1215634.0, 330901.0, 298135.0, 593051.0, 3231.0, 691361.0, 134312.0, 822440.0, 1674411.0, 232626.0, 1346740.0, 1576118.0, 462007.0, 1346744.0, 1576121.0, 494778.0, 1117374.0, 1150143.0, 1281217.0, 1412291.0, 1543363.0, 363718.0, 298184.0, 232649.0, 167116.0, 36045.0, 756940.0, 1445069.0, 101586.0, 822483.0, 1248472.0, 1117405.0, 1674461.0, 363745.0, 953569.0, 167140.0, 429285.0, 953574.0, 494820.0, 265450.0, 1051883.0, 691436.0, 232683.0, 1576179.0, 986357.0, 658681.0, 953593.0, 1084667.0, 1084676.0, 1084677.0, 1051910.0, 593157.0, 593160.0, 1051913.0, 1117447.0, 625929.0, 1182988.0, 1117453.0, 724237.0, 232717.0, 986375.0, 101650.0, 1182995.0, 1412371.0, 1051925.0, 953618.0, 1019154.0, 494872.0, 502158.0, 199965.0, 68895.0, 1183008.0, 757025.0, 1477923.0, 724260.0, 1543459.0, 724266.0, 1346864.0, 1019185.0, 101684.0, 920886.0, 1215802.0, 1707324.0, 593215.0, 691519.0, 396613.0, 1674566.0, 429382.0, 462155.0, 1379660.0, 560461.0, 1707342.0, 1117519.0, 363856.0, 1510735.0, 1707347.0, 363860.0, 462164.0, 68956.0, 1707356.0, 724318.0, 1281375.0, 1412444.0, 1477984.0, 3426.0, 986460.0, 462176.0, 1019233.0, 789862.0, 1674599.0, 363882.0, 724331.0, 1019251.0, 757108.0, 953723.0, 1707389.0, 1052031.0, 396672.0, 363905.0, 68995.0, 3460.0, 986500.0, 1117577.0, 1215881.0, 626059.0, 1183115.0, 232841.0, 363916.0, 1084815.0, 331152.0, 527761.0, 1445259.0, 1674645.0, 1215894.0, 822681.0, 1117595.0, 1510813.0, 1445280.0, 626082.0, 920998.0, 724394.0, 789935.0, 298427.0, 1445307.0, 36285.0, 789950.0, 1478076.0, 691648.0, 1445312.0, 527810.0, 1019333.0, 724422.0, 626119.0, 1248711.0, 855496.0, 1478086.0, 1281483.0, 36300.0, 1707469.0, 1609166.0, 298446.0, 822735.0, 1543629.0, 691667.0, 1674709.0, 1543638.0, 593368.0, 1576409.0, 429528.0, 1019352.0, 1609180.0, 69084.0, 363996.0, 691679.0, 462300.0, 1347044.0, 1084901.0, 1150438.0, 691685.0, 232935.0, 1084905.0, 396772.0, 1641963.0, 1445349.0, 1576431.0, 331248.0, 429555.0, 1052155.0, 560639.0, 1707519.0, 1084931.0, 1543684.0, 691717.0, 560647.0, 232969.0, 855561.0, 1281547.0, 593421.0, 724494.0, 364047.0, 429583.0, 1543700.0, 1314329.0, 1052186.0, 298523.0, 331291.0, 1117725.0, 1642014.0, 1183261.0, 1216029.0, 232992.0, 1314337.0, 1379867.0, 691748.0, 36389.0, 364069.0, 1478175.0, 986656.0, 1445420.0, 527917.0, 527918.0, 593454.0, 1707565.0, 626225.0, 560690.0, 1510958.0, 1379892.0, 1347132.0, 495165.0, 724542.0, 626240.0, 1674819.0, 1707588.0, 1445443.0, 298566.0, 462404.0, 527947.0, 1642059.0, 1117773.0, 626254.0, 560721.0, 527957.0, 1216086.0, 790105.0, 233050.0, 1478236.0, 1281629.0, 1347166.0, 921182.0, 855649.0, 1543780.0, 1052264.0, 1445481.0, 1117803.0, 1150571.0, 167531.0, 1379953.0, 1183348.0, 1576577.0, 200327.0, 790152.0, 1347208.0, 1674890.0, 1117835.0, 528012.0, 528013.0, 1642126.0, 1674893.0, 626320.0, 528017.0, 134802.0, 691852.0, 691859.0, 167572.0, 724629.0, 364178.0, 396950.0, 1576601.0, 1478293.0, 1445531.0, 1281693.0, 790173.0, 1085088.0, 1478306.0, 593571.0, 1642147.0, 1511074.0, 1183398.0, 626343.0, 1150631.0, 1216169.0, 1314474.0, 921259.0, 200364.0, 724653.0, 1085102.0, 200366.0, 1314476.0, 265905.0, 1511084.0, 1576631.0, 560824.0, 331449.0, 1380027.0, 724670.0, 1707711.0, 724671.0, 724673.0, 593602.0, 822974.0, 1347264.0, 134853.0, 822977.0, 364231.0, 134856.0, 1445568.0, 1707725.0, 462543.0, 954064.0, 36561.0, 888531.0, 921299.0, 1478357.0, 560854.0, 986835.0, 1511126.0, 102105.0, 1216218.0, 1248985.0, 691936.0, 659169.0, 1248995.0, 1478372.0, 462565.0, 429798.0, 69353.0, 1183466.0, 1281770.0, 1117932.0, 1642220.0, 757487.0, 1183472.0, 1478390.0, 1216249.0, 233209.0, 626429.0, 167679.0, 1117959.0, 1150727.0, 200457.0, 1347337.0, 495373.0, 1281807.0, 1412879.0, 1511183.0, 659220.0, 1609493.0, 495384.0, 200474.0, 3867.0, 823068.0, 1019675.0, 1150750.0, 724767.0, 823071.0, 790305.0, 1117990.0, 1052455.0, 1511211.0, 266028.0, 1543983.0, 1249078.0, 1118010.0, 560955.0, 1675067.0, 1216315.0, 1576772.0, 790342.0, 1052488.0, 1707849.0, 528206.0, 1675086.0, 397134.0, 626513.0, 167763.0, 1511252.0, 1281877.0, 200537.0, 823130.0, 200545.0, 331622.0, 593768.0, 1150828.0, 823151.0, 102256.0, 1412980.0, 1281910.0, 200574.0, 266114.0, 298885.0, 167816.0, 921480.0, 1609610.0, 1511307.0, 724876.0, 1478540.0, 1413006.0, 69519.0, 135056.0, 757647.0, 266129.0, 1019789.0, 724884.0, 1707926.0, 1019798.0, 1511320.0, 1347481.0, 954265.0, 855964.0, 1216413.0, 987038.0, 1019807.0, 1249186.0, 1413026.0, 1183653.0, 1118119.0, 757672.0, 987050.0, 200619.0, 36780.0, 855982.0, 954287.0, 1478581.0, 200633.0, 1249210.0, 790457.0, 331706.0, 1544122.0, 233410.0, 1085381.0, 1118150.0, 1675205.0, 888775.0, 1544134.0, 1380300.0, 1576909.0, 561102.0, 102350.0, 823248.0, 102353.0, 1314781.0, 397281.0, 36835.0, 331748.0, 1511399.0, 626666.0, 790507.0, 1347564.0, 266221.0, 4078.0, 167920.0, 331761.0, 888819.0, 135156.0, 1609717.0, 200694.0, 921590.0, 1216504.0, 1183737.0, 1282040.0, 1511413.0, 1708029.0, 823293.0, 1380353.0, 724995.0, 1642500.0, 1544196.0, 561158.0, 1347591.0, 200712.0, 397322.0, 921617.0, 4114.0, 1216530.0, 856084.0, 430098.0, 397334.0, 987159.0, 495633.0, 593950.0, 36895.0, 102430.0, 36897.0, 331808.0, 1380388.0, 1118245.0, 1675303.0, 1708072.0, 200745.0, 397354.0, 430119.0, 462893.0, 888878.0, 692273.0, 200754.0, 1380404.0, 135222.0, 790588.0, 790589.0, 167998.0, 954429.0, 233536.0, 495676.0, 1445954.0, 430146.0, 593989.0, 168005.0, 1642568.0, 69706.0, 495692.0, 1052749.0, 495695.0, 1413203.0, 102484.0, 397398.0, 36951.0, 954455.0, 200793.0, 954457.0, 921692.0, 757853.0, 299104.0, 823393.0, 233570.0, 430178.0, 1544295.0, 1642600.0, 1282156.0, 36973.0, 1577075.0, 1085559.0, 1282167.0, 823416.0, 659578.0, 1216636.0, 299136.0, 954498.0, 888965.0, 1216646.0, 495751.0, 692361.0, 462987.0, 1020046.0, 1478801.0, 69779.0, 37013.0, 1511575.0, 594072.0, 1216665.0, 1282202.0, 790681.0, 1446043.0, 430232.0, 430237.0, 1216671.0, 594080.0, 1413281.0, 1642658.0, 430239.0, 397479.0, 692393.0, 889001.0, 430250.0, 397484.0, 37037.0, 397485.0, 790706.0, 1544370.0, 1478838.0, 594103.0, 135354.0, 1544386.0, 1052869.0, 1380555.0, 1151181.0, 856274.0, 1642709.0, 889046.0, 659671.0, 692439.0, 823513.0, 1216730.0, 1347807.0, 528611.0, 397540.0, 1466262.0, 102640.0, 659699.0, 1085686.0, 790776.0, 364794.0, 397568.0, 1577218.0, 692485.0, 4359.0, 1151241.0, 1478921.0, 1052939.0, 200972.0, 463116.0, 561422.0, 1249554.0, 266514.0, 1249558.0, 1380630.0, 889112.0, 856345.0, 1642781.0, 1577246.0, 1708317.0, 1642790.0, 1052967.0, 102695.0, 626984.0, 1577258.0, 1216810.0, 233766.0, 266541.0, 1380652.0, 594223.0, 430377.0, 856369.0, 1216819.0, 1675572.0, 659764.0, 1315125.0, 921910.0, 1610040.0, 1544500.0, 1577274.0, 561467.0, 1708347.0, 921914.0, 1216830.0, 1282367.0, 659776.0, 1380672.0, 889150.0, 1478973.0, 987456.0, 1315141.0, 1380677.0, 37191.0, 692553.0, 201036.0, 102734.0, 1151312.0, 332114.0, 594259.0, 987475.0, 233815.0, 561496.0, 1642840.0, 1478999.0, 1151323.0, 823646.0, 725343.0, 37217.0, 1216866.0, 135523.0, 1282401.0, 364897.0, 1446246.0, 430437.0, 1085800.0, 1216872.0, 1577322.0, 102763.0, 1708395.0, 299371.0, 233838.0, 1347951.0, 1577328.0, 135537.0, 823664.0, 1347953.0, 397677.0, 1479024.0, 1053052.0, 397692.0, 921982.0, 1708415.0, 627072.0, 1577345.0, 364932.0, 1282437.0, 594312.0, 1282442.0, 987531.0, 1610124.0, 1577361.0, 1577363.0, 1151383.0, 823703.0, 1479063.0, 1577371.0, 856478.0, 528800.0, 594339.0, 823715.0, 1675687.0, 364976.0, 987571.0, 692661.0, 463285.0, 168375.0, 856503.0, 4537.0, 1675706.0, 1053115.0, 1184185.0, 299453.0, 1479099.0, 1544632.0, 496067.0, 954820.0, 1184197.0, 1020357.0, 1675719.0, 1282504.0, 1184201.0, 922055.0, 332236.0, 1282509.0, 1249743.0, 496079.0, 1708502.0, 1282520.0, 70113.0, 1020386.0, 37347.0, 1118692.0, 758243.0, 102886.0, 332263.0, 1020388.0, 659945.0, 1708521.0, 594411.0, 397801.0, 922092.0, 1053166.0, 1249775.0, 266735.0, 463344.0, 1446386.0, 987632.0, 1053174.0, 1118710.0, 1020409.0, 594428.0, 823804.0, 1118718.0, 987648.0, 922114.0, 725508.0, 659973.0, 201222.0, 1446407.0, 1511941.0, 168458.0, 4619.0, 561676.0, 659979.0, 1479180.0, 463376.0, 594449.0, 1675793.0, 1380886.0, 1610268.0, 365086.0, 1511966.0, 1544737.0, 1511971.0, 201255.0, 1544744.0, 725545.0, 987690.0, 1151531.0, 627244.0, 1675820.0, 1282603.0, 201263.0, 1610288.0, 791088.0, 299564.0, 627251.0, 1151540.0, 201269.0, 660022.0, 201270.0, 1053240.0, 725560.0, 1348145.0, 430643.0, 1479223.0, 1610301.0, 299581.0, 1020476.0, 594499.0, 102980.0, 266821.0, 397894.0, 430662.0, 201288.0, 1512009.0, 37451.0, 725579.0, 266829.0, 1479245.0, 1118801.0, 1348178.0, 103000.0, 922202.0, 987739.0, 168541.0, 627294.0, 1512029.0, 1315424.0, 37474.0, 1708644.0, 1249895.0, 725609.0, 1348203.0, 37490.0, 299634.0, 1643129.0, 1512058.0, 1118844.0, 1413756.0, 1643138.0, 561796.0, 561797.0, 1708680.0, 70281.0, 1381004.0, 1643150.0, 987791.0, 1577616.0, 1708689.0, 496270.0, 856723.0, 1544848.0, 1544857.0, 889499.0, 1249948.0, 1643165.0, 823966.0, 299678.0, 135841.0, 987813.0, 1151654.0, 1217191.0, 1675945.0, 1708713.0, 692907.0, 201385.0, 758445.0, 1282733.0, 1315502.0, 889518.0, 365231.0, 1282738.0, 135859.0, 1708723.0, 1282739.0, 1544884.0, 1577655.0, 922304.0, 365252.0, 1118920.0, 70348.0, 1118927.0, 1643215.0, 1282769.0, 692947.0, 692953.0, 1086170.0, 1348317.0, 70366.0, 889567.0, 987870.0, 234210.0, 660195.0, 1282788.0, 1381092.0, 922343.0, 1348328.0, 1151721.0, 1184490.0, 1381099.0, 1118957.0, 37614.0, 1676013.0, 1577712.0, 1184493.0, 266994.0, 1348337.0, 594676.0, 1053429.0, 758517.0, 266997.0, 1348339.0, 234233.0, 299769.0, 365299.0, 430843.0, 529150.0, 1086206.0, 1676032.0, 758528.0, 135940.0, 1348359.0, 135947.0, 529164.0, 37644.0, 4878.0, 1217294.0, 463633.0, 37651.0, 758548.0, 758549.0, 791320.0, 365336.0, 365338.0, 987929.0, 1413916.0, 398109.0, 496410.0, 1053472.0, 660256.0, 463648.0, 758564.0, 168741.0, 1250086.0, 1708839.0, 267046.0, 267051.0, 1184558.0, 1250094.0, 1250095.0, 955184.0, 1250100.0, 267060.0, 1184570.0, 1643323.0, 1151803.0, 234302.0, 398143.0, 234304.0, 955199.0, 201539.0, 463684.0, 136005.0, 1086278.0, 889672.0, 1250122.0, 791371.0, 594764.0, 1479504.0, 267090.0, 1479508.0, 1512280.0, 332633.0, 103263.0, 562016.0, 725857.0, 1053538.0, 1610595.0, 791394.0, 430943.0, 955232.0, 1577834.0, 1086314.0, 1348460.0, 430955.0, 1676142.0, 1086319.0, 1545069.0, 398195.0, 1250166.0, 1381241.0, 365435.0, 495971.0, 430973.0, 1512319.0, 955264.0, 1184643.0, 594820.0, 1512323.0, 562055.0, 267144.0, 1184649.0, 1577866.0, 824204.0, 1545107.0, 463764.0, 758681.0, 693146.0, 234393.0, 1479578.0, 1643425.0, 267173.0, 267175.0, 1119144.0, 1282986.0, 824235.0, 955307.0, 660397.0, 234417.0, 1119155.0, 594869.0, 234424.0, 1151931.0, 267196.0, 1676221.0, 1446845.0, 955323.0, 1086400.0, 1053633.0, 725953.0, 1479616.0, 1151940.0, 431042.0, 693191.0, 1512391.0, 1053646.0, 1283022.0, 693200.0, 496592.0, 431058.0, 1577940.0, 1709014.0, 463832.0, 627673.0, 660442.0, 168923.0, 1512409.0, 922589.0, 725982.0, 1676258.0, 1545187.0, 1676260.0, 234469.0, 1564107.0, 1479657.0, 1348586.0, 1250283.0, 398314.0, 496619.0, 1053678.0, 1053679.0, 70639.0, 922607.0, 1512432.0, 1086452.0, 758774.0, 1643512.0, 594937.0, 267257.0, 365562.0, 496636.0, 1119231.0, 627713.0, 136193.0, 529412.0, 1053701.0, 529413.0, 1184775.0, 627720.0, 136200.0, 1217546.0, 857100.0, 562189.0, 1315857.0, 955412.0, 1479700.0, 136215.0, 922648.0, 1119257.0, 955417.0, 1709084.0, 1446940.0, 70687.0, 103455.0, 1152035.0, 1610788.0, 627748.0, 562217.0, 1578026.0, 70699.0, 169003.0, 758829.0, 496684.0, 300079.0, 267314.0, 824372.0, 791605.0, 398389.0, 594999.0, 529465.0, 1643578.0, 562238.0, 693311.0, 1381438.0, 1479742.0, 1610821.0, 1643590.0, 1479749.0, 562251.0, 889931.0, 1676366.0, 627791.0, 1053776.0, 693326.0, 824402.0, 103510.0, 562266.0, 1447004.0, 1283165.0, 758878.0, 562271.0, 1643616.0, 1348707.0, 857187.0, 595047.0, 726124.0, 988273.0, 791666.0, 791667.0, 857203.0, 1709173.0, 857205.0, 1021045.0, 496763.0, 1545340.0, 824450.0, 791683.0, 1643652.0, 1643654.0, 1447047.0, 922767.0, 955538.0, 201876.0, 857236.0, 300183.0, 267418.0, 1217692.0, 1610909.0, 1676446.0, 1709213.0, 758940.0, 1348766.0, 1119394.0, 922787.0, 234660.0, 1381541.0, 1053862.0, 398503.0, 332968.0, 1545384.0, 1119402.0, 1152171.0, 1512619.0, 857267.0, 726199.0, 627896.0, 365754.0, 332988.0, 726209.0, 136388.0, 136391.0, 300232.0, 1119434.0, 1447114.0, 300237.0, 1414349.0, 1217743.0, 1610960.0, 234703.0, 824530.0, 1578197.0, 1184981.0, 431318.0, 333016.0, 300251.0, 70880.0, 693472.0, 267489.0, 660707.0, 824544.0, 300256.0, 5350.0, 70887.0, 1283303.0, 267496.0, 365799.0, 693483.0, 267501.0, 890093.0, 693490.0, 1381619.0, 1283317.0, 1578230.0, 1610998.0, 201976.0, 759040.0, 1217798.0, 1250567.0, 529672.0, 103688.0, 726282.0, 267528.0, 988425.0, 988426.0, 890128.0, 627985.0, 1086739.0, 267539.0, 496916.0, 857370.0, 1545499.0, 5406.0, 169247.0, 1053984.0, 693541.0, 628006.0, 857382.0, 1381671.0, 1545511.0, 1545513.0, 1643820.0, 890157.0, 1414447.0, 1381680.0, 1217841.0, 169266.0, 1643827.0, 431411.0, 5430.0, 693560.0, 1414457.0, 1381692.0, 857408.0, 628037.0, 1643850.0, 1414477.0, 1643855.0, 38225.0, 70995.0, 136532.0, 5462.0, 628056.0, 997559.0, 1381724.0, 1250655.0, 333152.0, 234850.0, 628069.0, 628071.0, 693607.0, 759144.0, 1709421.0, 1512816.0, 300402.0, 988533.0, 1021301.0, 857465.0, 1119615.0, 5504.0, 202112.0, 1545612.0, 136589.0, 693650.0, 1349014.0, 1611161.0, 464283.0, 497052.0, 71069.0, 365981.0, 1545632.0, 365985.0, 923042.0, 5539.0, 923044.0, 988580.0, 1381799.0, 988587.0, 497067.0, 1250734.0, 136626.0, 300470.0, 1480124.0, 1545662.0, 1054143.0, 1349060.0, 366023.0, 595400.0, 464331.0, 857548.0, 1709517.0, 1414604.0, 792015.0, 824784.0, 1381840.0, 529874.0, 693714.0, 103892.0, 693716.0, 759250.0, 890323.0, 1611224.0, 136665.0, 1643997.0, 234974.0, 1218016.0, 1480160.0, 267747.0, 366053.0, 71142.0, 1447397.0, 1709544.0, 562665.0, 529898.0, 136682.0, 890344.0, 693741.0, 366056.0, 1512939.0, 267766.0, 497148.0, 169469.0, 366080.0, 366083.0, 792068.0, 1709573.0, 955907.0, 693767.0, 497158.0, 529929.0, 1578506.0, 824843.0, 1021451.0, 1676813.0, 1119759.0, 300560.0, 1349137.0, 1316371.0, 661012.0, 300564.0, 464406.0, 1021460.0, 661016.0, 1316377.0, 300571.0, 202270.0, 1087009.0, 136737.0, 1611304.0, 431656.0, 300592.0, 1381940.0, 988725.0, 1349178.0, 1611325.0, 398909.0, 1021501.0, 1709634.0, 1447492.0, 136774.0, 1676871.0, 1054280.0, 267848.0, 1381961.0, 1480274.0, 824915.0, 300628.0, 792151.0, 890455.0, 1676891.0, 726619.0, 661085.0, 530014.0, 235099.0, 1119847.0, 1676905.0, 1513066.0, 366189.0, 300654.0, 1250930.0, 628339.0, 1611380.0, 562808.0, 1709692.0, 530049.0, 1250946.0, 1676939.0, 923284.0, 497302.0, 792216.0, 1480345.0, 1349275.0, 1447581.0, 1349279.0, 1087136.0, 1545889.0, 726690.0, 956068.0, 1644197.0, 1611431.0, 104104.0, 1316520.0, 1250986.0, 300716.0, 988848.0, 431795.0, 1054390.0, 1054391.0, 38582.0, 5817.0, 366265.0, 169659.0, 431800.0, 530109.0, 333505.0, 1218242.0, 1119940.0, 1513156.0, 5830.0, 1676999.0, 923335.0, 1709770.0, 1545930.0, 1087180.0, 235214.0, 1611472.0, 1054417.0, 562897.0, 726738.0, 1611476.0, 300756.0, 1644246.0, 1283799.0, 1447637.0, 1251033.0, 988888.0, 693979.0, 825051.0, 726749.0, 464601.0, 1152735.0, 366304.0, 366305.0, 562914.0, 1283811.0, 464604.0, 1087206.0, 1152743.0, 464615.0, 1677033.0, 136937.0, 1447659.0, 1447658.0, 1677043.0, 268019.0, 1054453.0, 1447669.0, 169719.0, 268023.0, 1382136.0, 464630.0, 1251067.0, 1349373.0, 5887.0, 1709823.0, 300800.0, 628482.0, 38660.0, 71429.0, 825093.0, 1382151.0, 1087240.0, 1513220.0, 464647.0, 1551240.0, 628495.0, 1120018.0, 1677075.0, 1054484.0, 661268.0, 661269.0, 431894.0, 104217.0, 497435.0, 1251100.0, 1709854.0, 1644320.0, 1644322.0, 1709859.0, 595748.0, 792355.0, 726822.0, 956196.0, 366376.0, 1480492.0, 1152816.0, 38708.0, 1218356.0, 988981.0, 759607.0, 1677113.0, 1218361.0, 530236.0, 792382.0, 694079.0, 1316672.0, 333632.0, 825154.0, 628547.0, 1218372.0, 5957.0, 1382209.0, 366399.0, 71498.0, 825171.0, 1709914.0, 1349468.0, 366431.0, 563040.0, 1087329.0, 1218401.0, 726882.0, 1447777.0, 1513313.0, 235366.0, 464747.0, 1677164.0, 1546091.0, 71535.0, 268144.0, 431985.0, 1283956.0, 1677173.0, 431992.0, 1120123.0, 71548.0, 1709947.0, 38782.0, 169853.0, 1251195.0, 825219.0, 956291.0, 1120134.0, 1644423.0, 759687.0, 333703.0, 890761.0, 628619.0, 1578892.0, 989066.0, 1087375.0, 1709968.0, 432016.0, 496180.0, 1513371.0, 1120162.0, 38820.0, 464807.0, 1251242.0, 628651.0, 1316780.0, 1578925.0, 104365.0, 1087407.0, 1677239.0, 1316793.0, 858042.0, 628668.0, 1677245.0, 1382334.0, 1087423.0, 366527.0, 726980.0, 989125.0, 694214.0, 1349575.0, 923592.0, 38858.0, 1021898.0, 1644500.0, 137172.0, 399317.0, 1152987.0, 1349597.0, 890852.0, 825319.0, 530408.0, 1185769.0, 1087467.0, 759788.0, 989165.0, 1546220.0, 956402.0, 1218547.0, 628726.0, 1644535.0, 137206.0, 694263.0, 1218554.0, 792566.0, 333818.0, 1120253.0, 1644542.0, 759806.0, 1284093.0, 1284097.0, 1447929.0, 432122.0, 432128.0, 464901.0, 989193.0, 6157.0, 1447949.0, 104464.0, 1546258.0, 1054744.0, 71704.0, 1349656.0, 628763.0, 563228.0, 71710.0, 1677343.0, 137248.0, 1349662.0, 497695.0, 1185828.0, 1087525.0, 1316902.0, 38951.0, 71719.0, 104489.0, 1611818.0, 235561.0, 989220.0, 825389.0, 989231.0, 1579057.0, 1677361.0, 1677362.0, 1415218.0, 170041.0, 989246.0, 1644608.0, 301121.0, 628804.0, 202821.0, 268356.0, 104520.0, 890952.0, 694347.0, 1218636.0, 628813.0, 333900.0, 1480781.0, 497739.0, 759895.0, 825434.0, 1415264.0, 1415266.0, 39011.0, 1448037.0, 1153129.0, 1513585.0, 563315.0, 39027.0, 1382516.0, 1284221.0, 1382525.0, 432255.0, 1480832.0, 1087618.0, 1546370.0, 39046.0, 1644679.0, 628871.0, 170118.0, 563338.0, 858248.0, 432270.0, 104595.0, 694422.0, 1513622.0, 759961.0, 1480859.0, 563356.0, 1087644.0, 923807.0, 792736.0, 1218721.0, 1579170.0, 1317025.0, 956575.0, 432289.0, 268454.0, 6311.0, 1513636.0, 563370.0, 1185963.0, 301228.0, 628910.0, 628912.0, 563378.0, 956595.0, 497842.0, 1349813.0, 399542.0, 1546424.0, 399545.0, 1317050.0, 825531.0, 366778.0, 202941.0, 1513660.0, 530631.0, 956620.0, 1710286.0, 1185999.0, 170190.0, 202961.0, 1415374.0, 596179.0, 792788.0, 1415378.0, 923858.0, 334039.0, 170200.0, 1448152.0, 432338.0, 39131.0, 1710299.0, 891101.0, 1480923.0, 399585.0, 1480929.0, 792805.0, 1710310.0, 825574.0, 334055.0, 301289.0, 891110.0, 399594.0, 465131.0, 1513708.0, 268529.0, 1317105.0, 399601.0, 399604.0, 268533.0, 432371.0, 1022195.0, 694522.0, 1120507.0, 1087741.0, 1186045.0, 989437.0, 1251584.0, 1415426.0, 760067.0, 235781.0, 825609.0, 825611.0, 235789.0, 563471.0, 1612050.0, 792851.0, 596245.0, 956694.0, 301335.0, 1120538.0, 1644827.0, 1218843.0, 760091.0, 1677599.0, 596256.0, 1644833.0, 1251618.0, 661795.0, 268576.0, 727333.0, 1546528.0, 1382696.0, 1481002.0, 1546542.0, 235824.0, 6452.0, 39220.0, 1546549.0, 1612087.0, 1087800.0, 825658.0, 465210.0, 1349948.0, 1251648.0, 301384.0, 530761.0, 891212.0, 1251665.0, 1612114.0, 1382741.0, 1087831.0, 1284439.0, 956759.0, 563552.0, 760161.0, 1251684.0, 956775.0, 334184.0, 1153385.0, 1579372.0, 334191.0, 72049.0, 1481073.0, 235892.0, 137592.0, 235899.0, 465277.0, 170368.0, 858497.0, 1546625.0, 1710467.0, 366983.0, 1284493.0, 596369.0, 1186193.0, 1218966.0, 760214.0, 1612187.0, 1579420.0, 203163.0, 858523.0, 1382815.0, 1481117.0, 1055140.0, 924069.0, 1579431.0, 1055147.0, 629163.0, 1677740.0, 137644.0, 1218988.0, 563632.0, 1382831.0, 1448366.0, 956845.0, 629172.0, 1481136.0, 1350070.0, 1055162.0, 1481146.0, 629186.0, 760259.0, 203211.0, 1055180.0, 825804.0, 1415628.0, 891342.0, 563667.0, 465365.0, 6614.0, 203229.0, 825821.0, 1546717.0, 989665.0, 236003.0, 1350115.0, 858595.0, 367078.0, 1481191.0, 1382888.0, 1513960.0, 596458.0, 268778.0, 1710575.0, 399856.0, 1055224.0, 1251832.0, 39419.0, 1219068.0, 301564.0, 1415681.0, 989700.0, 1120774.0, 1022470.0, 1317384.0, 1088009.0, 1120778.0, 1186315.0, 1677836.0, 727562.0, 1710606.0, 727565.0, 268814.0, 825866.0, 1284626.0, 1382927.0, 1022476.0, 1055255.0, 1055257.0, 1415705.0, 1219100.0, 1710621.0, 39454.0, 989732.0, 989735.0, 1645097.0, 105002.0, 1710635.0, 203305.0, 530989.0, 1481258.0, 72239.0, 1317424.0, 793136.0, 1382963.0, 1055285.0, 203319.0, 367159.0, 989754.0, 1284667.0, 563775.0, 1186367.0, 268863.0, 1382980.0, 367174.0, 694855.0, 39497.0, 727628.0, 662093.0, 629329.0, 137810.0, 662099.0, 203348.0, 1317461.0, 301653.0, 1415766.0, 957018.0, 1153629.0, 793181.0, 203362.0, 563811.0, 793187.0, 1088101.0, 1677926.0, 1153639.0, 1251943.0, 236134.0, 1317481.0, 1415782.0, 137836.0, 924260.0, 498283.0, 72303.0, 891507.0, 563828.0, 203380.0, 662136.0, 694905.0, 1219194.0, 432764.0, 1415805.0, 400001.0, 596610.0, 1186434.0, 1677956.0, 924291.0, 1022593.0, 1055367.0, 1153672.0, 432775.0, 1219210.0, 268938.0, 825995.0, 1710735.0, 334480.0, 301714.0, 924307.0, 498322.0, 1383062.0, 6807.0, 858775.0, 203420.0, 793248.0, 236196.0, 236198.0, 170664.0, 1252010.0, 1448620.0, 1022638.0, 727728.0, 531123.0, 1317555.0, 957110.0, 6840.0, 1317562.0, 760507.0, 334528.0, 1514177.0, 465603.0, 662216.0, 1252044.0, 760526.0, 1153746.0, 1383124.0, 1055446.0, 662231.0, 1022680.0, 1219291.0, 1284829.0, 858845.0, 367326.0, 498397.0, 1514209.0, 662242.0, 498403.0, 301796.0, 1448680.0, 1448683.0, 1153773.0, 301807.0, 1055475.0, 662259.0, 563957.0, 367347.0, 1514227.0, 1514232.0, 531193.0, 695034.0, 105211.0, 367356.0, 531197.0, 301826.0, 760581.0, 727816.0, 236298.0, 1448714.0, 1678092.0, 1448718.0, 400143.0, 793360.0, 301841.0, 924434.0, 498450.0, 531220.0, 1579797.0, 39700.0, 334613.0, 957207.0, 1219353.0, 563994.0, 1415961.0, 105244.0, 1481500.0, 138017.0, 72482.0, 1579811.0, 1645348.0, 727843.0, 1383205.0, 367396.0, 367397.0, 1547049.0, 1481516.0, 138030.0, 432944.0, 1186613.0, 105270.0, 105271.0, 1219382.0, 203575.0, 1153850.0, 793397.0, 826166.0, 301883.0, 793406.0, 498490.0, 596801.0, 1710913.0, 1710914.0, 695105.0, 1579846.0, 1579847.0, 531276.0, 6989.0, 1481551.0, 957267.0, 1481556.0, 695127.0, 695128.0, 1383256.0, 826202.0, 432985.0, 1186652.0, 695132.0, 1350492.0, 727906.0, 596835.0, 170853.0, 432998.0, 990054.0, 1514344.0, 465769.0, 1416043.0, 1022830.0, 1153904.0, 727920.0, 1219442.0, 1481585.0, 105332.0, 39797.0, 1317753.0, 1547129.0, 433019.0, 203647.0, 990081.0, 564099.0, 1055625.0, 662414.0, 1678223.0, 826255.0, 1678226.0, 1055636.0, 170901.0, 334741.0, 727963.0, 138143.0, 793505.0, 891810.0, 367522.0, 301988.0, 1547173.0, 269222.0, 367526.0, 990118.0, 793515.0, 596910.0, 564143.0, 105392.0, 1317806.0, 1678258.0, 1186739.0, 465855.0, 957376.0, 1121219.0, 39876.0, 662468.0, 138182.0, 1711045.0, 1317830.0, 1055689.0, 826307.0, 334789.0, 1383372.0, 367558.0, 1481678.0, 1547213.0, 170960.0, 367572.0, 760789.0, 334805.0, 564183.0, 433111.0, 1612761.0, 498651.0, 1121245.0, 1448926.0, 1448927.0, 760802.0, 564195.0, 1678311.0, 269288.0, 1154025.0, 1580009.0, 1645546.0, 793577.0, 138222.0, 170995.0, 1252341.0, 1514489.0, 1678330.0, 465915.0, 1317885.0, 1088513.0, 1678338.0, 1580035.0, 1711106.0, 1285124.0, 1383429.0, 564231.0, 891906.0, 1055753.0, 891909.0, 72715.0, 1088524.0, 236556.0, 367624.0, 1678351.0, 1022988.0, 1547276.0, 564242.0, 1252371.0, 72724.0, 531477.0, 203795.0, 465943.0, 1711129.0, 1678362.0, 171033.0, 1285147.0, 138269.0, 1186848.0, 629793.0, 1121314.0, 1154081.0, 1285156.0, 1383459.0, 957478.0, 1088554.0, 1023019.0, 1383470.0, 924720.0, 1186867.0, 1088564.0, 1186868.0, 1121337.0, 1678393.0, 1285178.0, 1252412.0, 1416256.0, 1023041.0, 891970.0, 138307.0, 1285187.0, 1186885.0, 400457.0, 1481804.0, 269389.0, 334926.0, 1580111.0, 990286.0, 1121369.0, 629849.0, 1481821.0, 892000.0, 1088609.0, 7271.0, 1317992.0, 564330.0, 892010.0, 1219693.0, 1252468.0, 1612917.0, 433269.0, 72823.0, 7289.0, 1088633.0, 1711234.0, 531587.0, 302211.0, 269447.0, 1449095.0, 629897.0, 1645706.0, 1580172.0, 269453.0, 1580175.0, 40080.0, 1121425.0, 1055890.0, 826514.0, 695444.0, 859280.0, 334997.0, 1121432.0, 629912.0, 1121434.0, 1678490.0, 105627.0, 1481883.0, 892073.0, 1711277.0, 957613.0, 695471.0, 629941.0, 924854.0, 924855.0, 72889.0, 1285305.0, 1711291.0, 1055932.0, 761018.0, 335036.0, 466106.0, 892100.0, 1055942.0, 400585.0, 629962.0, 1252554.0, 7372.0, 761036.0, 138448.0, 72913.0, 859345.0, 1121491.0, 400593.0, 662742.0, 826582.0, 662748.0, 597213.0, 1285340.0, 1481948.0, 236770.0, 990436.0, 236773.0, 1285350.0, 302312.0, 1645802.0, 1121516.0, 761068.0, 1711342.0, 826605.0, 564466.0, 1711346.0, 1219828.0, 498933.0, 433401.0, 761085.0, 171265.0, 40195.0, 1285381.0, 269573.0, 531720.0, 957705.0, 531722.0, 1285387.0, 630030.0, 924945.0, 433425.0, 957715.0, 1514771.0, 1187093.0, 335126.0, 1121559.0, 1416475.0, 1613084.0, 924957.0, 138528.0, 72993.0, 826659.0, 859427.0, 269606.0, 302376.0, 1121581.0, 990512.0, 1318194.0, 466226.0, 1318196.0, 433460.0, 990514.0, 498997.0, 728377.0, 630076.0, 1121597.0, 761149.0, 302400.0, 1088833.0, 1613121.0, 662851.0, 138564.0, 73029.0, 695620.0, 302403.0, 924996.0, 924997.0, 40266.0, 1645898.0, 433476.0, 1416528.0, 1514834.0, 564565.0, 171351.0, 695641.0, 138587.0, 1547611.0, 728413.0, 695647.0, 335200.0, 1580385.0, 171364.0, 990564.0, 1645926.0, 1285479.0, 1416550.0, 728426.0, 1285483.0, 171372.0, 433518.0, 73071.0, 105839.0, 1285489.0, 1154420.0, 105845.0, 695669.0, 269685.0, 1383799.0, 400760.0, 1252730.0, 793978.0, 925049.0, 1252733.0, 400763.0, 499068.0, 1318272.0, 1351040.0, 761218.0, 433538.0, 1645957.0, 1187205.0, 761225.0, 400778.0, 105868.0, 859532.0, 1383823.0, 761235.0, 597396.0, 1023381.0, 1482137.0, 1121691.0, 662940.0, 564637.0, 1580446.0, 695708.0, 105888.0, 1219997.0, 302498.0, 400798.0, 335268.0, 1023395.0, 859561.0, 1154474.0, 236971.0, 794026.0, 892329.0, 1514924.0, 105909.0, 466357.0, 794041.0, 1580475.0, 1154494.0, 1678783.0, 1351103.0, 1318337.0, 859584.0, 1678788.0, 1440864.0, 1482182.0, 794055.0, 1416648.0, 1580489.0, 1285578.0, 368075.0, 1514948.0, 990666.0, 1547726.0, 597455.0, 1088976.0, 1547728.0, 466387.0, 40404.0, 1220053.0, 597462.0, 1088983.0, 761302.0, 1023445.0, 794074.0, 990683.0, 1547736.0, 695773.0, 335326.0, 925151.0, 499164.0, 990690.0, 1383907.0, 466405.0, 925158.0, 564712.0, 794089.0, 1482217.0, 1613292.0, 1514989.0, 1318383.0, 40432.0, 1187312.0, 138737.0, 957938.0, 368116.0, 433653.0, 1285624.0, 335353.0, 597498.0, 1285630.0, 368129.0, 990722.0, 1613315.0, 826883.0, 531973.0, 138760.0, 237068.0, 40461.0, 1613325.0, 892428.0, 400908.0, 695825.0, 476971.0, 368152.0, 1187356.0, 1613346.0, 499237.0, 1580582.0, 1613350.0, 1351208.0, 1154603.0, 466475.0, 171566.0, 761391.0, 1416751.0, 40497.0, 1383986.0, 1515057.0, 499252.0, 1547834.0, 1515067.0, 695868.0, 138815.0, 728639.0, 433729.0, 335427.0, 1613383.0, 400969.0, 1482313.0, 826961.0, 1154642.0, 400979.0, 1482322.0, 269912.0, 138841.0, 1220185.0, 892505.0, 1023577.0, 40542.0, 1187424.0, 405345.0, 990818.0, 1154662.0, 269927.0, 335464.0, 466534.0, 1351277.0, 663151.0, 1613424.0, 794225.0, 335472.0, 695923.0, 892533.0, 433783.0, 1252985.0, 1285753.0, 138875.0, 1121917.0, 728702.0, 138881.0, 859777.0, 1154692.0, 597638.0, 564871.0, 1089160.0, 663175.0, 1220231.0, 466567.0, 958094.0, 1678992.0, 1285777.0, 1023635.0, 1154713.0, 237210.0, 794266.0, 1220255.0, 728736.0, 1646242.0, 892579.0, 958114.0, 335528.0, 368296.0, 1121962.0, 794283.0, 1089200.0, 1613490.0, 270002.0, 204470.0, 1253048.0, 1449658.0, 1613505.0, 1482442.0, 1037117.0, 335564.0, 335565.0, 1613520.0, 1122000.0, 1711825.0, 1613523.0, 1384149.0, 892629.0, 499415.0, 1547991.0, 73433.0, 1253082.0, 827102.0, 859871.0, 1613536.0, 1318625.0, 499423.0, 630500.0, 1679077.0, 663268.0, 827108.0, 237289.0, 892650.0, 925419.0, 728812.0, 433900.0, 859886.0, 368373.0, 827137.0, 1515266.0, 1023746.0, 1351429.0, 1416966.0, 892679.0, 532232.0, 1548041.0, 1449740.0, 302862.0, 368398.0, 1449744.0, 925457.0, 1482512.0, 1154835.0, 1679124.0, 1220373.0, 827155.0, 827159.0, 139034.0, 1056539.0, 368411.0, 1023770.0, 1023772.0, 73503.0, 499487.0, 1154851.0, 532260.0, 1711909.0, 1253156.0, 761637.0, 1482534.0, 991019.0, 1482541.0, 1351471.0, 1482544.0, 1417011.0, 1646388.0, 139061.0, 630582.0, 991031.0, 630585.0, 859963.0, 139068.0, 1023808.0, 1285955.0, 1679174.0, 1580871.0, 761674.0, 401226.0, 630605.0, 892750.0, 401230.0, 171863.0, 1613656.0, 204633.0, 270168.0, 859996.0, 1711965.0, 859998.0, 171871.0, 1482588.0, 991077.0, 1253225.0, 827241.0, 466796.0, 302959.0, 696177.0, 1286004.0, 1220471.0, 1646458.0, 270203.0, 1089404.0, 1646462.0, 1417086.0, 1515390.0, 663430.0, 728968.0, 1712011.0, 106382.0, 1580943.0, 302991.0, 925583.0, 1515407.0, 368538.0, 991130.0, 1187740.0, 1646500.0, 1253288.0, 1286056.0, 237480.0, 1515434.0, 106412.0, 1089453.0, 204717.0, 565167.0, 303023.0, 1384366.0, 1580978.0, 464028.0, 991151.0, 1515438.0, 1155000.0, 499641.0, 1679290.0, 729018.0, 1613760.0, 1384386.0, 1253316.0, 1122247.0, 827336.0, 1613769.0, 303052.0, 1253325.0, 630735.0, 1187792.0, 827347.0, 630742.0, 1122263.0, 139223.0, 1581017.0, 597978.0, 171995.0, 1417180.0, 597981.0, 565216.0, 1253353.0, 532463.0, 466929.0, 565234.0, 892915.0, 401397.0, 237559.0, 1187834.0, 1646592.0, 1482752.0, 1712130.0, 172036.0, 1384453.0, 1449989.0, 794632.0, 991241.0, 1056783.0, 1122322.0, 630808.0, 1646619.0, 565276.0, 630812.0, 368669.0, 729119.0, 1351712.0, 73761.0, 663585.0, 1351721.0, 8236.0, 860205.0, 1384501.0, 1679419.0, 270395.0, 892987.0, 991296.0, 1253441.0, 696386.0, 335937.0, 1122372.0, 991298.0, 434246.0, 860233.0, 1581132.0, 761932.0, 958541.0, 663631.0, 1253456.0, 270420.0, 8277.0, 598103.0, 434263.0, 1581145.0, 204890.0, 1056859.0, 1220699.0, 991322.0, 499804.0, 1024095.0, 1712226.0, 1548386.0, 1187942.0, 663655.0, 729192.0, 1515623.0, 1384554.0, 368747.0, 893044.0, 1089655.0, 1679479.0, 1286266.0, 1646716.0, 270463.0, 598144.0, 1056897.0, 1155201.0, 1155203.0, 696451.0, 598149.0, 1286274.0, 270471.0, 598152.0, 565385.0, 827529.0, 893058.0, 1384588.0, 1548430.0, 401552.0, 1548433.0, 598162.0, 139411.0, 1220761.0, 893087.0, 1613984.0, 696481.0, 1024159.0, 794787.0, 303270.0, 1581224.0, 1089708.0, 696492.0, 1712303.0, 1319089.0, 336050.0, 1548465.0, 630968.0, 893116.0, 925884.0, 991424.0, 270532.0, 1319111.0, 630984.0, 368845.0, 434381.0, 893135.0, 1515725.0, 532691.0, 1122516.0, 1679573.0, 1319126.0, 1056983.0, 663768.0, 41177.0, 893145.0, 925910.0, 991445.0, 41181.0, 205022.0, 1482974.0, 8416.0, 41184.0, 237792.0, 1253603.0, 827616.0, 925922.0, 1482978.0, 1319143.0, 598248.0, 1581292.0, 1351916.0, 1515756.0, 729329.0, 860401.0, 1188084.0, 368886.0, 1220856.0, 1220858.0, 368890.0, 1155324.0, 1581315.0, 729350.0, 237830.0, 368903.0, 1024264.0, 368909.0, 73998.0, 794897.0, 1319187.0, 1220884.0, 1712405.0, 172309.0, 827668.0, 1024279.0, 139545.0, 794906.0, 991515.0, 1188124.0, 172317.0, 860445.0, 958749.0, 565537.0, 270625.0, 696612.0, 1483045.0, 8486.0, 598310.0, 794918.0, 794919.0, 1253674.0, 532779.0, 8491.0, 696619.0, 794925.0, 827693.0, 1384744.0, 1351985.0, 860463.0, 1712435.0, 532788.0, 991532.0, 1548599.0, 1351995.0, 1253692.0, 1220925.0, 1089854.0, 303423.0, 860477.0, 1122625.0, 1483072.0, 991553.0, 8516.0, 467266.0, 1548605.0, 270663.0, 401739.0, 303441.0, 1614164.0, 172374.0, 860502.0, 565592.0, 1614168.0, 467286.0, 1712475.0, 303452.0, 467287.0, 401762.0, 958819.0, 1089893.0, 1679717.0, 729447.0, 1057129.0, 401770.0, 1614188.0, 205164.0, 303469.0, 565615.0, 631154.0, 172403.0, 237938.0, 1122678.0, 303478.0, 74106.0, 1712506.0, 1188219.0, 1253756.0, 401787.0, 1515902.0, 795010.0, 893316.0, 1122695.0, 1679753.0, 303497.0, 795022.0, 500110.0, 1548692.0, 1483158.0, 1712535.0, 565656.0, 1089945.0, 729499.0, 631196.0, 1057181.0, 663965.0, 1319326.0, 1712555.0, 1581490.0, 1122739.0, 1057205.0, 1188278.0, 795065.0, 1679802.0, 565691.0, 729531.0, 1319354.0, 1089982.0, 172479.0, 1286590.0, 1548733.0, 762308.0, 1515972.0, 631243.0, 1712591.0, 795091.0, 664020.0, 1024471.0, 1286617.0, 8668.0, 565725.0, 1122781.0, 860638.0, 926175.0, 401887.0, 860642.0, 1122790.0, 139751.0, 1679848.0, 1319400.0, 991723.0, 1647086.0, 1679857.0, 1548785.0, 860666.0, 172540.0, 467452.0, 1155582.0, 401919.0, 1581571.0, 1712646.0, 1417736.0, 696841.0, 631308.0, 1647117.0, 172557.0, 172558.0, 41488.0, 631313.0, 1614354.0, 205325.0, 74262.0, 1122840.0, 1516057.0, 1483290.0, 1679899.0, 664091.0, 860703.0, 631328.0, 336415.0, 1548833.0, 205347.0, 1253936.0, 74289.0, 1286706.0, 336433.0, 959028.0, 172598.0, 1450553.0, 959033.0, 598590.0, 631358.0, 631359.0, 1450558.0, 762435.0, 8772.0, 205381.0, 238150.0, 270916.0, 598600.0, 827972.0, 631372.0, 1712717.0, 1417805.0, 303695.0, 959062.0, 1450583.0, 893530.0, 631387.0, 1221213.0, 1548897.0, 828002.0, 1679971.0, 303714.0, 1253989.0, 1450602.0, 1647213.0, 533104.0, 1712752.0, 1155698.0, 205425.0, 565876.0, 238196.0, 926327.0, 303738.0, 8828.0, 41599.0, 1516160.0, 631425.0, 1417858.0, 729732.0, 1319557.0, 533127.0, 1647239.0, 107143.0, 41612.0, 598668.0, 1647246.0, 1319565.0, 1352333.0, 991884.0, 1548940.0, 139923.0, 729752.0, 1581723.0, 205468.0, 533156.0, 598693.0, 1680037.0, 1122983.0, 920081.0, 74409.0, 303786.0, 565934.0, 959150.0, 500404.0, 533176.0, 762554.0, 1548986.0, 1221310.0, 1352382.0, 664258.0, 860867.0, 1581765.0, 565957.0, 369352.0, 1286857.0, 1483464.0, 1057485.0, 1221325.0, 1254094.0, 1352399.0, 41681.0, 860878.0, 1516239.0, 1450708.0, 1123029.0, 1024295.0, 1581783.0, 369367.0, 991959.0, 1024730.0, 565979.0, 1057504.0, 1614561.0, 795362.0, 1581799.0, 238312.0, 1057513.0, 860908.0, 1123059.0, 893685.0, 1024758.0, 140023.0, 697080.0, 1254136.0, 434940.0, 893696.0, 1549059.0, 467717.0, 140040.0, 1221385.0, 1254155.0, 664332.0, 828173.0, 1385232.0, 336659.0, 795415.0, 1680152.0, 598809.0, 631577.0, 1254171.0, 1385241.0, 336669.0, 1286943.0, 566050.0, 598818.0, 1024805.0, 41768.0, 1286953.0, 303913.0, 205611.0, 1549098.0, 74541.0, 795438.0, 9007.0, 205616.0, 533297.0, 1352495.0, 926511.0, 402223.0, 140085.0, 434997.0, 336695.0, 434999.0, 1549111.0, 140090.0, 467770.0, 303933.0, 1155902.0, 566079.0, 1450815.0, 1221447.0, 533322.0, 1483595.0, 1057612.0, 631630.0, 1352531.0, 598868.0, 1221461.0, 861013.0, 1450836.0, 828249.0, 336730.0, 41821.0, 697182.0, 369503.0, 41824.0, 729952.0, 1319777.0, 402272.0, 1549156.0, 1254246.0, 1385318.0, 1352552.0, 926569.0, 762732.0, 1352557.0, 238447.0, 402289.0, 435059.0, 303988.0, 1549172.0, 533369.0, 140154.0, 1221504.0, 926592.0, 828291.0, 1450883.0, 435078.0, 172937.0, 271246.0, 1581968.0, 205714.0, 467859.0, 1549204.0, 435094.0, 893851.0, 1483679.0, 959395.0, 1450917.0, 533416.0, 631722.0, 1352619.0, 369580.0, 402354.0, 205749.0, 795573.0, 762808.0, 664507.0, 1287100.0, 1156029.0, 893884.0, 369596.0, 1024961.0, 1090499.0, 992198.0, 336840.0, 992200.0, 893898.0, 762827.0, 631756.0, 926670.0, 402383.0, 1582032.0, 1024977.0, 1156050.0, 1418198.0, 730075.0, 467931.0, 1188831.0, 1057761.0, 1614818.0, 533476.0, 1418213.0, 1516517.0, 500708.0, 1123305.0, 893930.0, 467947.0, 1319917.0, 1450990.0, 173040.0, 992241.0, 9204.0, 762868.0, 467957.0, 992247.0, 795641.0, 369658.0, 959482.0, 1221628.0, 336893.0, 1156094.0, 74753.0, 1614850.0, 631811.0, 336898.0, 1057797.0, 402440.0, 369673.0, 861197.0, 205842.0, 1418259.0, 599060.0, 1385497.0, 795674.0, 369691.0, 1680412.0, 762908.0, 1647646.0, 9248.0, 1352736.0, 566306.0, 795687.0, 959530.0, 1647664.0, 402483.0, 1319988.0, 271414.0, 566328.0, 271418.0, 1221691.0, 1516604.0, 205886.0, 1549375.0, 762944.0, 1418305.0, 1582148.0, 894020.0, 140358.0, 1614919.0, 1451080.0, 205897.0, 1516615.0, 959565.0, 1418325.0, 861270.0, 1287255.0, 1221720.0, 500823.0, 566362.0, 107611.0, 762971.0, 173149.0, 1188958.0, 1254495.0, 1254496.0, 9315.0, 861285.0, 828518.0, 107623.0, 861287.0, 730220.0, 1483887.0, 1352816.0, 1647731.0, 1680499.0, 697459.0, 337015.0, 1254520.0, 926842.0, 140411.0, 500861.0, 1647745.0, 1057923.0, 173192.0, 9355.0, 533644.0, 1254540.0, 304270.0, 402571.0, 631952.0, 140434.0, 500886.0, 1057945.0, 1287322.0, 402585.0, 402587.0, 1516697.0, 1189022.0, 795812.0, 238757.0, 304293.0, 1221799.0, 468135.0, 828587.0, 992427.0, 1549485.0, 1287343.0, 1254578.0, 74932.0, 9397.0, 1549492.0, 1057978.0, 697531.0, 1320123.0, 926907.0, 959677.0, 566463.0, 1025214.0, 566465.0, 828610.0, 74948.0, 1615049.0, 402634.0, 1483978.0, 500944.0, 795860.0, 1385684.0, 1025236.0, 173271.0, 9432.0, 1058012.0, 9437.0, 1418462.0, 1680608.0, 894176.0, 1352931.0, 795878.0, 1352936.0, 402670.0, 1615087.0, 1615090.0, 238835.0, 992500.0, 42232.0, 664825.0, 1451256.0, 632060.0, 337151.0, 861440.0, 238851.0, 1418500.0, 140550.0, 304390.0, 763147.0, 566541.0, 206093.0, 926989.0, 697616.0, 1123601.0, 501007.0, 42263.0, 632088.0, 42265.0, 730393.0, 1058075.0, 697628.0, 566557.0, 75038.0, 1385753.0, 1615136.0, 861473.0, 959769.0, 1615139.0, 632099.0, 1484065.0, 1582374.0, 697639.0, 632106.0, 1058091.0, 1221937.0, 140594.0, 1025333.0, 1516868.0, 1647942.0, 107846.0, 1320262.0, 1680713.0, 304458.0, 1385799.0, 1484109.0, 632147.0, 173398.0, 533848.0, 42328.0, 599384.0, 271712.0, 1451360.0, 42338.0, 370020.0, 1287528.0, 402792.0, 730476.0, 1680751.0, 468346.0, 959872.0, 796033.0, 1287556.0, 1451399.0, 1123729.0, 599442.0, 632210.0, 861589.0, 140699.0, 1189276.0, 796062.0, 1123746.0, 107939.0, 337318.0, 435626.0, 206253.0, 796077.0, 959919.0, 1254834.0, 894387.0, 665012.0, 1090997.0, 1549753.0, 1615290.0, 75194.0, 1222074.0, 173500.0, 861635.0, 1648071.0, 1418695.0, 861641.0, 665034.0, 992715.0, 1011422.0, 42449.0, 1123794.0, 140755.0, 1418707.0, 271831.0, 1091033.0, 1615322.0, 173535.0, 599520.0, 1254881.0, 796129.0, 796130.0, 1451490.0, 304613.0, 1353190.0, 959970.0, 1058281.0, 861677.0, 501229.0, 173551.0, 1156592.0, 239091.0, 796147.0, 1517046.0, 1123831.0, 927224.0, 1648121.0, 468471.0, 1123837.0, 1254910.0, 599551.0, 435712.0, 1549822.0, 271875.0, 1058309.0, 1123845.0, 927238.0, 337418.0, 665099.0, 1549835.0, 1648141.0, 239121.0, 1549847.0, 75291.0, 1451549.0, 140835.0, 1451555.0, 960038.0, 1189421.0, 632367.0, 730679.0, 1582648.0, 1025591.0, 1123900.0, 1287740.0, 173630.0, 468542.0, 1418816.0, 468543.0, 763458.0, 1517120.0, 1025604.0, 1287749.0, 271942.0, 1549895.0, 1680971.0, 1320523.0, 337484.0, 1287763.0, 1320534.0, 1123927.0, 1386074.0, 763484.0, 173664.0, 992864.0, 1451619.0, 370276.0, 992867.0, 730726.0, 468582.0, 403049.0, 1549932.0, 894573.0, 1582702.0, 730734.0, 1287790.0, 337519.0, 894576.0, 1615475.0, 1320563.0, 632438.0, 1615479.0, 566904.0, 697974.0, 992887.0, 403067.0, 1549949.0, 173697.0, 730753.0, 665220.0, 1582725.0, 140932.0, 435848.0, 992905.0, 304779.0, 1386125.0, 534158.0, 108175.0, 9872.0, 730766.0, 1287825.0, 1287824.0, 1451664.0, 1451669.0, 468621.0, 403095.0, 1648280.0, 1025688.0, 1681050.0, 698011.0, 272028.0, 337562.0, 501401.0, 403103.0, 1058469.0, 1222311.0, 304808.0, 9897.0, 1255081.0, 501420.0, 861872.0, 435890.0, 42675.0, 1287860.0, 730806.0, 960187.0, 1451708.0, 829120.0, 1058498.0, 206530.0, 75460.0, 1648324.0, 173764.0, 173765.0, 1386178.0, 1025730.0, 796362.0, 1451727.0, 304850.0, 534227.0, 927449.0, 1386202.0, 1615580.0, 75484.0, 1156828.0, 763616.0, 894688.0, 1615586.0, 1582822.0, 763623.0, 829160.0, 337639.0, 370406.0, 960234.0, 272109.0, 206574.0, 861935.0, 1648368.0, 1451757.0, 1320690.0, 1025777.0, 730870.0, 665336.0, 141051.0, 108284.0, 861948.0, 1091329.0, 960258.0, 993026.0, 1582853.0, 763653.0, 1058569.0, 1681164.0, 1353489.0, 861971.0, 993043.0, 141077.0, 829206.0, 1648410.0, 1648411.0, 1681179.0, 1615645.0, 1681182.0, 730906.0, 796447.0, 829213.0, 370464.0, 370465.0, 468764.0, 141094.0, 1582887.0, 829223.0, 665387.0, 698157.0, 1124142.0, 1091375.0, 1091376.0, 698161.0, 272176.0, 894772.0, 894775.0, 206648.0, 1386298.0, 1582907.0, 698171.0, 1255228.0, 42817.0, 173890.0, 1582915.0, 1648452.0, 206659.0, 796483.0, 1288007.0, 796486.0, 698185.0, 206665.0, 567115.0, 1156940.0, 927561.0, 960331.0, 1517386.0, 1550160.0, 108371.0, 468820.0, 730966.0, 534364.0, 206684.0, 796509.0, 665440.0, 1648485.0, 698214.0, 632680.0, 1222505.0, 1255275.0, 1386347.0, 927596.0, 1550187.0, 1222512.0, 1255280.0, 501619.0, 403316.0, 1353593.0, 534394.0, 1681275.0, 1517434.0, 75645.0, 1582975.0, 1222527.0, 763775.0, 698246.0, 75661.0, 1451918.0, 698255.0, 567186.0, 796564.0, 862100.0, 796568.0, 1386393.0, 698266.0, 567197.0, 1091485.0, 1058719.0, 1353632.0, 862111.0, 272290.0, 1517472.0, 468898.0, 501674.0, 632753.0, 1157043.0, 862131.0, 1222581.0, 599992.0, 829368.0, 862139.0, 731068.0, 1353660.0, 894910.0, 927679.0, 698304.0, 1386434.0, 1353667.0, 239556.0, 534470.0, 698310.0, 1222600.0, 1353675.0, 75724.0, 501708.0, 1288145.0, 567253.0, 1353686.0, 501722.0, 370654.0, 763879.0, 403431.0, 1386474.0, 894957.0, 1681391.0, 927728.0, 960495.0, 1615858.0, 1484783.0, 1091574.0, 927738.0, 1484795.0, 1058812.0, 1288189.0, 1583102.0, 1386492.0, 600064.0, 731136.0, 835686.0, 1386495.0, 305156.0, 894975.0, 993279.0, 1124359.0, 731145.0, 1550348.0, 1452045.0, 370702.0, 1484818.0, 1157141.0, 731157.0, 1539083.0, 10266.0, 1484832.0, 174113.0, 1386529.0, 10275.0, 10276.0, 1583140.0, 567332.0, 1681447.0, 337958.0, 895012.0, 1550372.0, 665643.0, 600110.0, 10289.0, 632882.0, 206899.0, 1484851.0, 1681464.0, 469049.0, 10298.0, 141376.0, 1124417.0, 993345.0, 1583171.0, 1157187.0, 567365.0, 1026116.0, 305224.0, 1681484.0, 1484877.0, 1452111.0, 698448.0, 338001.0, 469073.0, 436307.0, 534615.0, 501850.0, 895070.0, 567394.0, 829538.0, 1091684.0, 764009.0, 567403.0, 960620.0, 1583213.0, 469103.0, 1124464.0, 469104.0, 796787.0, 731252.0, 370803.0, 1583223.0, 1583224.0, 632953.0, 1681527.0, 1091707.0, 141431.0, 829561.0, 1517687.0, 1288320.0, 534657.0, 1091713.0, 239747.0, 272515.0, 1386628.0, 1124490.0, 1386636.0, 993420.0, 1616025.0, 927900.0, 1026211.0, 1321124.0, 600229.0, 567462.0, 1681573.0, 1353892.0, 141485.0, 1026221.0, 1288368.0, 207027.0, 207031.0, 633016.0, 960700.0, 1648830.0, 1452223.0, 567488.0, 1321152.0, 1386690.0, 633027.0, 665795.0, 1157317.0, 1681605.0, 1288392.0, 829641.0, 633034.0, 895178.0, 141518.0, 1124560.0, 370898.0, 338133.0, 633048.0, 1091801.0, 436442.0, 1190109.0, 829662.0, 1452256.0, 993507.0, 108772.0, 862436.0, 1550565.0, 665833.0, 567530.0, 567535.0, 1485044.0, 1026292.0, 796919.0, 862455.0, 993527.0, 1190138.0, 1419516.0, 960765.0, 1353986.0, 1255688.0, 502026.0, 1452299.0, 1648908.0, 305420.0, 1091854.0, 1517839.0, 1059088.0, 1583377.0, 1583378.0, 502037.0, 1452312.0, 469279.0, 1288480.0, 567586.0, 1485090.0, 1648934.0, 1452326.0, 600360.0, 534825.0, 108843.0, 272686.0, 1190193.0, 829746.0, 1517874.0, 633144.0, 1288504.0, 731454.0, 108863.0, 1386815.0, 1386817.0, 141634.0, 10565.0, 1452358.0, 1124681.0, 1157454.0, 469327.0, 1583440.0, 1026382.0, 1354068.0, 960853.0, 665943.0, 1681752.0, 600414.0, 1583455.0, 1059171.0, 1681763.0, 1681765.0, 141667.0, 1059175.0, 731492.0, 174442.0, 76139.0, 1616236.0, 1321323.0, 436591.0, 829810.0, 305522.0, 1091956.0, 502133.0, 1059191.0, 338295.0, 1386873.0, 797051.0, 403835.0, 1583489.0, 1583491.0, 1681797.0, 1026438.0, 665992.0, 1091977.0, 174472.0, 272777.0, 10636.0, 1649037.0, 272781.0, 928141.0, 403855.0, 1583505.0, 1190290.0, 698770.0, 1223058.0, 1419665.0, 960909.0, 403863.0, 764312.0, 1485204.0, 829850.0, 567707.0, 1517979.0, 1550741.0, 1681828.0, 141732.0, 1485223.0, 338346.0, 928172.0, 764333.0, 698798.0, 862637.0, 10675.0, 1157555.0, 272820.0, 862647.0, 174520.0, 43449.0, 567738.0, 666043.0, 305596.0, 240061.0, 141758.0, 666047.0, 1649088.0, 305597.0, 469440.0, 1545680.0, 797124.0, 1550785.0, 502213.0, 240072.0, 272841.0, 1321419.0, 567756.0, 1223122.0, 862676.0, 1485271.0, 1616344.0, 305624.0, 1550809.0, 43483.0, 141787.0, 436701.0, 666078.0, 1485277.0, 371168.0, 666083.0, 1583589.0, 1354213.0, 600551.0, 993767.0, 109035.0, 43500.0, 1092077.0, 1321454.0, 600560.0, 633329.0, 993778.0, 567796.0, 403956.0, 1616374.0, 76279.0, 436729.0, 993787.0, 535037.0, 797181.0, 797182.0, 1419775.0, 207374.0, 1255951.0, 600592.0, 862735.0, 1452558.0, 1354260.0, 76310.0, 1223193.0, 633375.0, 1583652.0, 1092133.0, 1157673.0, 1288746.0, 1452585.0, 698924.0, 502316.0, 1419825.0, 1026609.0, 567859.0, 371252.0, 1583669.0, 633398.0, 698938.0, 600638.0, 666174.0, 1485375.0, 502348.0, 436815.0, 600657.0, 338514.0, 1550929.0, 174676.0, 1682006.0, 1552223.0, 764505.0, 1485402.0, 797276.0, 502364.0, 698978.0, 1452645.0, 961127.0, 502375.0, 698991.0, 1649264.0, 1649265.0, 862831.0, 371314.0, 436849.0, 993905.0, 1124982.0, 1518193.0, 1321593.0, 1223290.0, 1649277.0, 1190525.0, 993922.0, 141955.0, 1649284.0, 993925.0, 928393.0, 404107.0, 502411.0, 1092239.0, 1682065.0, 666258.0, 1288850.0, 1387155.0, 985613.0, 1550993.0, 43672.0, 207515.0, 797339.0, 1485467.0, 993949.0, 371359.0, 469663.0, 895652.0, 436900.0, 1321643.0, 436909.0, 469680.0, 993972.0, 1190581.0, 764597.0, 502458.0, 600763.0, 797371.0, 1518269.0, 207550.0, 535231.0, 404159.0, 1387206.0, 436939.0, 993998.0, 535248.0, 469712.0, 600786.0, 207574.0, 1583833.0, 797402.0, 207579.0, 666338.0, 1223395.0, 305891.0, 928485.0, 1354470.0, 600807.0, 207595.0, 240363.0, 1321709.0, 1518315.0, 1551085.0, 1452784.0, 535282.0, 1682162.0, 371443.0, 502514.0, 1583862.0, 862969.0, 1513178.0, 338683.0, 1583868.0, 436989.0, 1223422.0, 469755.0, 1256192.0, 1649409.0, 1649410.0, 666369.0, 699138.0, 436992.0, 469757.0, 1026818.0, 240392.0, 437002.0, 11019.0, 535309.0, 731919.0, 862991.0, 895760.0, 1518355.0, 502547.0, 305943.0, 1190681.0, 240411.0, 1026846.0, 1223455.0, 1223457.0, 11047.0, 830247.0, 1190700.0, 1354541.0, 1518384.0, 502577.0, 568114.0, 1026868.0, 404279.0, 1321784.0, 1026871.0, 1059642.0, 404284.0, 1059646.0, 371520.0, 535365.0, 666437.0, 76615.0, 1289030.0, 11081.0, 404299.0, 568140.0, 731981.0, 1452877.0, 1485645.0, 1256272.0, 1157969.0, 1485646.0, 1059668.0, 1059669.0, 863063.0, 895831.0, 666457.0, 142170.0, 404316.0, 1289058.0, 1190755.0, 1616742.0, 1026918.0, 1616744.0, 1321837.0, 1026926.0, 1354609.0, 764786.0, 142195.0, 437108.0, 1026929.0, 732025.0, 240506.0, 76667.0, 797561.0, 1485692.0, 1059710.0, 1092479.0, 1682302.0, 142209.0, 1518464.0, 1026941.0, 1092487.0, 797575.0, 666505.0, 1092490.0, 1158027.0, 1387399.0, 1452935.0, 437127.0, 1158031.0, 437131.0, 994185.0, 1092498.0, 338834.0, 469903.0, 174997.0, 1649559.0, 928663.0, 1190809.0, 1289114.0, 666524.0, 207773.0, 830366.0, 1682335.0, 469920.0, 535459.0, 404387.0, 1158056.0, 1518505.0, 1125290.0, 240554.0, 273323.0, 1387434.0, 1059758.0, 568238.0, 928687.0, 1682355.0, 1125300.0, 1158069.0, 338869.0, 175037.0, 764863.0, 1518531.0, 1387464.0, 1354697.0, 1387466.0, 1649613.0, 1387471.0, 273363.0, 404436.0, 863189.0, 1551318.0, 240600.0, 437208.0, 1616858.0, 240603.0, 1420252.0, 666589.0, 76768.0, 1682401.0, 1321954.0, 502756.0, 1453031.0, 928746.0, 1420267.0, 502769.0, 863218.0, 437234.0, 568308.0, 732148.0, 1125366.0, 240630.0, 895992.0, 1682425.0, 1518581.0, 994299.0, 1551349.0, 1125373.0, 1289213.0, 830462.0, 633858.0, 535557.0, 1059845.0, 240647.0, 797701.0, 1453061.0, 928778.0, 44044.0, 44047.0, 44049.0, 797714.0, 1551381.0, 797718.0, 1420310.0, 1256472.0, 11289.0, 470041.0, 1518619.0, 175132.0, 1551388.0, 1616926.0, 1453087.0, 1682464.0, 273440.0, 732199.0, 1354791.0, 1649705.0, 470058.0, 535595.0, 44076.0, 1551405.0, 1092657.0, 928821.0, 601145.0, 666681.0, 273466.0, 437308.0, 797759.0, 502849.0, 1616962.0, 1387591.0, 339016.0, 207945.0, 240713.0, 240715.0, 371786.0, 1420362.0, 240720.0, 1387601.0, 896082.0, 633939.0, 1354836.0, 830548.0, 928848.0, 1027159.0, 109656.0, 797786.0, 306268.0, 797789.0, 1223774.0, 404577.0, 404578.0, 11364.0, 1682532.0, 1420389.0, 535655.0, 404584.0, 1485928.0, 1682538.0, 306282.0, 1223788.0, 797804.0, 1617008.0, 1518707.0, 1125492.0, 1223796.0, 896119.0, 830584.0, 1649786.0, 699517.0, 437374.0, 502909.0, 1682560.0, 1518721.0, 666754.0, 601220.0, 1059973.0, 404613.0, 1420424.0, 1322122.0, 1027211.0, 1649804.0, 240782.0, 306319.0, 11409.0, 273554.0, 1518739.0, 535704.0, 1387672.0, 404632.0, 928923.0, 208028.0, 175261.0, 76959.0, 76961.0, 1223842.0, 634019.0, 306337.0, 109733.0, 928934.0, 797866.0, 1617067.0, 273578.0, 339119.0, 732339.0, 1518771.0, 994485.0, 634039.0, 240823.0, 502971.0, 1486012.0, 273597.0, 1682622.0, 371902.0, 1027266.0, 797895.0, 1354951.0, 1551561.0, 240842.0, 535755.0, 1420498.0, 699603.0, 1682644.0, 1453269.0, 1518802.0, 240855.0, 1420503.0, 863449.0, 1223898.0, 568544.0, 765152.0, 634082.0, 175331.0, 1453283.0, 961763.0, 765159.0, 306407.0, 1387751.0, 896232.0, 994539.0, 1223917.0, 339181.0, 1617136.0, 994544.0, 1125620.0, 1518838.0, 732408.0, 306430.0, 1518847.0, 306432.0, 601346.0, 601347.0, 1256706.0, 666885.0, 1518851.0, 339207.0, 1223944.0, 797960.0, 994565.0, 273679.0, 208146.0, 371989.0, 1223958.0, 1256727.0, 503061.0, 208153.0, 797980.0, 142621.0, 666914.0, 1223971.0, 240931.0, 208169.0, 994601.0, 175406.0, 1355055.0, 1092912.0, 994609.0, 1223986.0, 1289522.0, 109877.0, 1649974.0, 568631.0, 699701.0, 306488.0, 830778.0, 306490.0, 1322300.0, 437562.0, 798017.0, 863557.0, 1486150.0, 1060168.0, 142665.0, 1453387.0, 1158476.0, 1518927.0, 437584.0, 1125714.0, 1256786.0, 798038.0, 1453398.0, 372060.0, 1289566.0, 142687.0, 1092961.0, 208226.0, 666980.0, 1486183.0, 1682792.0, 1125737.0, 470378.0, 142699.0, 175470.0, 503151.0, 1551729.0, 1420658.0, 372096.0, 1256834.0, 732547.0, 404869.0, 142726.0, 109962.0, 1093003.0, 1420684.0, 1650065.0, 306577.0, 1584531.0, 863635.0, 1027479.0, 1093017.0, 798108.0, 372125.0, 994718.0, 667039.0, 1289634.0, 1093030.0, 765354.0, 1453482.0, 372141.0, 1420718.0, 634287.0, 732594.0, 1224115.0, 306612.0, 1551797.0, 1191351.0, 667065.0, 1256890.0, 372156.0, 929214.0, 1650111.0, 1125824.0, 1125825.0, 1322432.0, 863683.0, 372159.0, 1551806.0, 1387974.0, 470471.0, 1191370.0, 1584587.0, 765388.0, 1322443.0, 929227.0, 1027531.0, 732624.0, 241105.0, 470482.0, 273875.0, 110036.0, 732628.0, 404948.0, 1551823.0, 273880.0, 470490.0, 306655.0, 1093088.0, 339423.0, 634342.0, 306662.0, 44521.0, 1125868.0, 1519085.0, 1420784.0, 896502.0, 1551867.0, 77308.0, 1519100.0, 1158656.0, 1158657.0, 667137.0, 273923.0, 208389.0, 667142.0, 1125899.0, 1027598.0, 437777.0, 11795.0, 1027605.0, 896535.0, 273945.0, 863772.0, 1650205.0, 1355294.0, 1486365.0, 1551901.0, 241187.0, 1617444.0, 1060389.0, 1551914.0, 732715.0, 962092.0, 863789.0, 241198.0, 142896.0, 896560.0, 1355315.0, 437813.0, 503352.0, 601657.0, 1683003.0, 306751.0, 1355329.0, 1453634.0, 1420867.0, 1027649.0, 634441.0, 994890.0, 1683019.0, 142923.0, 1584717.0, 175694.0, 339534.0, 1683027.0, 634455.0, 241239.0, 1551963.0, 1355356.0, 241247.0, 1125984.0, 142945.0, 1420901.0, 1289831.0, 1584744.0, 568940.0, 1027692.0, 470641.0, 1060470.0, 1683063.0, 1486457.0, 1224314.0, 765562.0, 863866.0, 405114.0, 241278.0, 470655.0, 1355392.0, 1191553.0, 241286.0, 1289862.0, 1683080.0, 1388169.0, 667274.0, 1224330.0, 700043.0, 863885.0, 1158798.0, 77456.0, 241297.0, 536210.0, 1093266.0, 503443.0, 503446.0, 700056.0, 994968.0, 1191578.0, 667291.0, 241308.0, 1420954.0, 405147.0, 568993.0, 765602.0, 339618.0, 765605.0, 1257126.0, 1093289.0, 44718.0, 1257135.0, 863921.0, 929458.0, 175795.0, 732851.0, 1027765.0, 569017.0, 863930.0, 1486524.0, 1355455.0, 405189.0, 1224391.0, 1289928.0, 1322696.0, 405191.0, 569038.0, 1584847.0, 732878.0, 274129.0, 497362.0, 601811.0, 339668.0, 372438.0, 437977.0, 44762.0, 1519322.0, 634590.0, 1617631.0, 667360.0, 1486558.0, 503519.0, 1584871.0, 405223.0, 1224430.0, 896750.0, 1027824.0, 1519347.0, 438009.0, 1158908.0, 143100.0, 405246.0, 208639.0, 732930.0, 1683203.0, 896771.0, 405250.0, 1027843.0, 732935.0, 339723.0, 1224460.0, 274188.0, 1421069.0, 700175.0, 372495.0, 1683217.0, 1486609.0, 995083.0, 1683226.0, 732955.0, 831260.0, 175902.0, 700191.0, 1126176.0, 1584929.0, 143138.0, 12072.0, 1617706.0, 405291.0, 634668.0, 798512.0, 1683249.0, 896817.0, 1486642.0, 503608.0, 1355578.0, 929594.0, 1617724.0, 798525.0, 1584958.0, 1486650.0, 208704.0, 1486651.0, 1486652.0, 765764.0, 1617733.0, 1224518.0, 929612.0, 1421137.0, 110418.0, 307026.0, 175958.0, 208729.0, 307034.0, 667483.0, 110429.0, 733023.0, 634720.0, 798560.0, 733026.0, 339810.0, 143204.0, 12133.0, 1224550.0, 700263.0, 1290087.0, 1126249.0, 307050.0, 372579.0, 667505.0, 241522.0, 733048.0, 438142.0, 110465.0, 1421185.0, 700292.0, 601989.0, 1290118.0, 405382.0, 1617802.0, 1388427.0, 896907.0, 896910.0, 1617815.0, 1257367.0, 307097.0, 372633.0, 798620.0, 896925.0, 208798.0, 1060768.0, 1290145.0, 1388453.0, 1028006.0, 503719.0, 208810.0, 602027.0, 1028011.0, 1453998.0, 1224623.0, 77746.0, 1486771.0, 1028024.0, 44985.0, 1093563.0, 1421245.0, 143294.0, 274368.0, 110529.0, 1322946.0, 1454019.0, 1552323.0, 733127.0, 45000.0, 438215.0, 536522.0, 45002.0, 438217.0, 438221.0, 733135.0, 700368.0, 1617877.0, 471003.0, 569309.0, 339933.0, 634851.0, 929763.0, 1224679.0, 700395.0, 274412.0, 1322989.0, 1585134.0, 1322990.0, 831468.0, 1468437.0, 765939.0, 12277.0, 634874.0, 1093628.0, 1421309.0, 438268.0, 45060.0, 45061.0, 438284.0, 405517.0, 1585166.0, 995340.0, 1290256.0, 1617939.0, 536596.0, 1290259.0, 12310.0, 962579.0, 1650712.0, 1519638.0, 700443.0, 634908.0, 1683486.0, 897055.0, 962593.0, 176163.0, 1388582.0, 1683495.0, 831530.0, 700459.0, 1421355.0, 1093677.0, 143406.0, 864301.0, 1486894.0, 1650737.0, 634929.0, 1060915.0, 503854.0, 1552432.0, 1617974.0, 864313.0, 1323068.0, 733249.0, 798788.0, 1290311.0, 12360.0, 1650761.0, 1486921.0, 864331.0, 798796.0, 1224783.0, 1585232.0, 110673.0, 1060947.0, 45139.0, 995411.0, 1388630.0, 143447.0, 864349.0, 1290334.0, 1060959.0, 241761.0, 798820.0, 1060967.0, 438379.0, 798832.0, 1388657.0, 1585266.0, 274546.0, 77940.0, 995445.0, 1618039.0, 1618040.0, 1650808.0, 700537.0, 209015.0, 798841.0, 798842.0, 798845.0, 1028222.0, 1093761.0, 307331.0, 45189.0, 143497.0, 471177.0, 143503.0, 1355920.0, 1224852.0, 209045.0, 1323158.0, 1552537.0, 1552538.0, 1421467.0, 929949.0, 1355934.0, 1585314.0, 635042.0, 798882.0, 1192101.0, 176295.0, 45228.0, 1388716.0, 1159342.0, 1224878.0, 12464.0, 1388718.0, 929967.0, 962733.0, 1355959.0, 962743.0, 1323193.0, 1552567.0, 602299.0, 798907.0, 798909.0, 929979.0, 1192127.0, 1454269.0, 929984.0, 1061060.0, 176327.0, 1290440.0, 1290443.0, 1552588.0, 766160.0, 1192146.0, 1421522.0, 995540.0, 930007.0, 340184.0, 1421532.0, 1093853.0, 1356001.0, 241891.0, 438499.0, 602343.0, 1323246.0, 471279.0, 602354.0, 523522.0, 667893.0, 307446.0, 504054.0, 1585404.0, 209148.0, 897279.0, 78081.0, 1618178.0, 864515.0, 995588.0, 733447.0, 798985.0, 340233.0, 1650955.0, 1159436.0, 1454349.0, 602382.0, 1257742.0, 1290510.0, 995594.0, 1519882.0, 471311.0, 635157.0, 1552667.0, 471324.0, 1224989.0, 438559.0, 602400.0, 1290530.0, 1126694.0, 1225000.0, 1650985.0, 438569.0, 373035.0, 1290540.0, 1487149.0, 307502.0, 700719.0, 536881.0, 1257778.0, 569651.0, 1683764.0, 569653.0, 143670.0, 1290546.0, 340276.0, 1257785.0, 930104.0, 995641.0, 471358.0, 569664.0, 307520.0, 405824.0, 962880.0, 831812.0, 995656.0, 307530.0, 831819.0, 12622.0, 1487182.0, 12625.0, 242005.0, 504149.0, 12632.0, 766298.0, 1585503.0, 1454431.0, 340321.0, 831842.0, 569699.0, 930145.0, 1093991.0, 1093994.0, 1651050.0, 1257835.0, 1487214.0, 1618289.0, 1257843.0, 1061236.0, 1651061.0, 930167.0, 209272.0, 1257848.0, 1454456.0, 1683835.0, 471417.0, 340352.0, 995712.0, 1356162.0, 1683848.0, 1683849.0, 242058.0, 1225100.0, 569742.0, 1094032.0, 1290647.0, 78233.0, 569754.0, 569755.0, 209310.0, 536991.0, 209312.0, 1094049.0, 1290654.0, 78243.0, 831904.0, 635301.0, 1094055.0, 1061288.0, 831912.0, 176555.0, 1159601.0, 1159602.0, 1290673.0, 700852.0, 1388981.0, 1454519.0, 733624.0, 209338.0, 864699.0, 1028540.0, 1094077.0, 45501.0, 405951.0, 1651138.0, 635337.0, 1487307.0, 864716.0, 1159633.0, 1683922.0, 1585619.0, 1094099.0, 1618388.0, 1225169.0, 1257940.0, 831953.0, 602587.0, 1159647.0, 733664.0, 209376.0, 799199.0, 307684.0, 176614.0, 1520104.0, 1585642.0, 1028587.0, 1487341.0, 1257967.0, 1493994.0, 733685.0, 831991.0, 143864.0, 242170.0, 1454590.0, 78336.0, 1520128.0, 504323.0, 1028611.0, 733701.0, 733703.0, 1585673.0, 373257.0, 307723.0, 242188.0, 1421836.0, 1061391.0, 733712.0, 1389072.0, 209426.0, 176659.0, 504335.0, 1061397.0, 1225237.0, 209429.0, 700952.0, 1094173.0, 700958.0, 1520158.0, 504351.0, 438817.0, 1684005.0, 176679.0, 209448.0, 1421863.0, 930345.0, 143916.0, 537137.0, 1061426.0, 1421874.0, 733750.0, 438839.0, 995900.0, 1389117.0, 700992.0, 12866.0, 1651267.0, 307778.0, 471623.0, 1028679.0, 668233.0, 242251.0, 45644.0, 1159759.0, 733776.0, 307794.0, 1487443.0, 1094228.0, 1421908.0, 537177.0, 275041.0, 1389156.0, 78437.0, 78439.0, 1585770.0, 701035.0, 701036.0, 733804.0, 1684079.0, 1258095.0, 406127.0, 1094258.0, 1520241.0, 1553008.0, 602741.0, 275061.0, 1520248.0, 78458.0, 1159803.0, 307834.0, 307837.0, 1323647.0, 930433.0, 111234.0, 1389186.0, 1389191.0, 701070.0, 1553039.0, 668306.0, 668313.0, 1290905.0, 340635.0, 176796.0, 701085.0, 209564.0, 1258141.0, 1290909.0, 635553.0, 1290914.0, 78499.0, 340639.0, 635557.0, 897700.0, 1159847.0, 1553066.0, 12972.0, 1684142.0, 733872.0, 1422001.0, 832178.0, 930480.0, 275124.0, 635573.0, 602810.0, 992541.0, 733884.0, 1422012.0, 1553083.0, 12992.0, 1258178.0, 1553091.0, 373444.0, 766661.0, 406217.0, 1028811.0, 1290957.0, 1454798.0, 832207.0, 602834.0, 668371.0, 668372.0, 438994.0, 832216.0, 471772.0, 144094.0, 668386.0, 1651427.0, 1323747.0, 1487588.0, 1061606.0, 111334.0, 668391.0, 1290984.0, 275178.0, 1290987.0, 1290988.0, 1389288.0, 897772.0, 340720.0, 209650.0, 1585913.0, 1291001.0, 144126.0, 537343.0, 930559.0, 602881.0, 1684226.0, 439038.0, 176903.0, 1225482.0, 701194.0, 1684236.0, 1356556.0, 1356564.0, 733975.0, 1618712.0, 1487643.0, 1061660.0, 930592.0, 176930.0, 176931.0, 209700.0, 45862.0, 1422118.0, 471851.0, 668460.0, 340782.0, 635695.0, 1520430.0, 1061681.0, 1651505.0, 1487665.0, 832308.0, 1094456.0, 799544.0, 275257.0, 963386.0, 340797.0, 1061698.0, 996163.0, 1225540.0, 439109.0, 1160006.0, 439110.0, 1553218.0, 439113.0, 1061706.0, 799562.0, 1061710.0, 1618768.0, 1651537.0, 668499.0, 1061717.0, 537431.0, 209753.0, 1422169.0, 668507.0, 1487707.0, 1454942.0, 1586018.0, 832355.0, 1422180.0, 1618792.0, 1127272.0, 1520493.0, 504687.0, 799600.0, 734067.0, 242548.0, 897908.0, 504692.0, 1028979.0, 1160057.0, 635770.0, 1618811.0, 799612.0, 340858.0, 439162.0, 635775.0, 340864.0, 1520508.0, 701314.0, 340869.0, 734087.0, 1192841.0, 1553290.0, 1225614.0, 570255.0, 799631.0, 996238.0, 1160082.0, 1487762.0, 865175.0, 504730.0, 635805.0, 373663.0, 963488.0, 930721.0, 1029025.0, 1684388.0, 209829.0, 1684390.0, 471972.0, 537512.0, 45994.0, 832430.0, 668600.0, 603065.0, 111545.0, 1618875.0, 1455033.0, 1029050.0, 242626.0, 635843.0, 177092.0, 242627.0, 406467.0, 1553348.0, 766920.0, 1029060.0, 373707.0, 1291213.0, 209879.0, 1127384.0, 635864.0, 799705.0, 1323993.0, 1029084.0, 1061853.0, 1225694.0, 1422302.0, 1225698.0, 898019.0, 242666.0, 930794.0, 668653.0, 406509.0, 1389551.0, 766960.0, 46068.0, 734197.0, 1422325.0, 46072.0, 635896.0, 1553401.0, 78845.0, 209918.0, 570367.0, 308224.0, 209921.0, 537602.0, 570370.0, 1324035.0, 13317.0, 1160198.0, 144390.0, 1094664.0, 1225735.0, 406535.0, 1455116.0, 242701.0, 1324045.0, 1258511.0, 1651728.0, 734226.0, 242710.0, 701466.0, 898074.0, 1389600.0, 1684515.0, 308261.0, 537639.0, 1258537.0, 1061932.0, 1127469.0, 308270.0, 1029170.0, 865334.0, 439354.0, 1520701.0, 406591.0, 439359.0, 635969.0, 1520704.0, 635971.0, 1422406.0, 144456.0, 1291336.0, 373835.0, 1061967.0, 898127.0, 1684561.0, 537689.0, 144473.0, 144474.0, 1258585.0, 275545.0, 767072.0, 406627.0, 373864.0, 898153.0, 898154.0, 341100.0, 570477.0, 46190.0, 603247.0, 734317.0, 1586289.0, 406641.0, 472174.0, 865397.0, 275575.0, 13436.0, 1586306.0, 570499.0, 1389698.0, 78983.0, 1684615.0, 1586313.0, 603273.0, 406666.0, 406667.0, 1586321.0, 177300.0, 1488021.0, 930966.0, 308379.0, 210076.0, 832668.0, 144542.0, 1160351.0, 373915.0, 46243.0, 1651875.0, 111781.0, 1258661.0, 996523.0, 1455278.0, 210096.0, 242866.0, 210102.0, 275638.0, 1422521.0, 734395.0, 1520827.0, 1422525.0, 1094847.0, 734401.0, 1193159.0, 1225927.0, 668873.0, 472266.0, 1127629.0, 832717.0, 1389773.0, 636114.0, 472276.0, 1586390.0, 242902.0, 1193178.0, 406748.0, 1488092.0, 13536.0, 1619168.0, 701668.0, 963812.0, 1324263.0, 1324267.0, 1225965.0, 570606.0, 1651954.0, 734450.0, 374004.0, 111861.0, 210165.0, 1619191.0, 1324278.0, 1455351.0, 570618.0, 79099.0, 799996.0, 472311.0, 1324287.0, 1225984.0, 1324289.0, 963845.0, 1258759.0, 1193224.0, 210183.0, 1029389.0, 865553.0, 767251.0, 242964.0, 308501.0, 341270.0, 341277.0, 1160478.0, 800031.0, 341278.0, 603432.0, 636201.0, 668969.0, 1422633.0, 275756.0, 1684781.0, 1324333.0, 308526.0, 1160496.0, 898347.0, 79154.0, 1586483.0, 242996.0, 275765.0, 210230.0, 1652023.0, 1481133.0, 439600.0, 1160507.0, 1619260.0, 111933.0, 865598.0, 767295.0, 374075.0, 1553729.0, 1291586.0, 1586499.0, 963912.0, 439625.0, 439628.0, 570702.0, 1488206.0, 1586513.0, 1160529.0, 636243.0, 1324374.0, 308567.0, 374106.0, 275804.0, 1684829.0, 669024.0, 1291618.0, 669027.0, 341346.0, 505189.0, 275816.0, 1553769.0, 537962.0, 243051.0, 505195.0, 472430.0, 1062255.0, 1455475.0, 1619316.0, 1357172.0, 1324406.0, 111992.0, 1324409.0, 1684858.0, 832889.0, 505208.0, 832896.0, 243079.0, 1160585.0, 636308.0, 734615.0, 308632.0, 701850.0, 1324442.0, 1652127.0, 1324447.0, 308642.0, 1422756.0, 1488292.0, 1160614.0, 1521065.0, 1619371.0, 1226157.0, 1553839.0, 636338.0, 243124.0, 570807.0, 1127866.0, 1586619.0, 341435.0, 210365.0, 1390013.0, 734655.0, 996795.0, 800193.0, 1160644.0, 603589.0, 1160646.0, 1193414.0, 1553864.0, 1029578.0, 669132.0, 1488332.0, 374222.0, 1062354.0, 1291733.0, 636376.0, 210392.0, 1062362.0, 144858.0, 1357273.0, 865755.0, 538078.0, 341471.0, 46560.0, 1684960.0, 898523.0, 1062371.0, 734692.0, 374236.0, 1619430.0, 112104.0, 538089.0, 865768.0, 1062382.0, 1226223.0, 79346.0, 1586675.0, 1095156.0, 570869.0, 144883.0, 1422839.0, 1259000.0, 964088.0, 964090.0, 996852.0, 46588.0, 439805.0, 1291774.0, 472569.0, 1619460.0, 1226250.0, 374283.0, 308749.0, 734735.0, 1455631.0, 374291.0, 374293.0, 931350.0, 1095193.0, 1553946.0, 177691.0, 1062429.0, 1553950.0, 1553949.0, 407073.0, 1193509.0, 1160745.0, 1193514.0, 46637.0, 1127984.0, 1193522.0, 407091.0, 1324596.0, 1455668.0, 1062454.0, 603702.0, 1422905.0, 308795.0, 1685052.0, 702013.0, 865857.0, 341572.0, 1160773.0, 898628.0, 636487.0, 800334.0, 800335.0, 1652304.0, 407122.0, 636500.0, 1291860.0, 931414.0, 1521236.0, 1193563.0, 1291867.0, 603741.0, 308830.0, 636514.0, 800354.0, 865892.0, 1128037.0, 144999.0, 341612.0, 407148.0, 865902.0, 1586799.0, 1226356.0, 1160825.0, 1062522.0, 210558.0, 79489.0, 1652355.0, 1193606.0, 1324678.0, 1685138.0, 210578.0, 571028.0, 997013.0, 1619607.0, 1128087.0, 243353.0, 1521307.0, 538268.0, 1095325.0, 702108.0, 1520283.0, 1652384.0, 145056.0, 1226402.0, 1554076.0, 538276.0, 1324713.0, 1652395.0, 1455788.0, 1291949.0, 276145.0, 1521333.0, 1488568.0, 1128121.0, 1128124.0, 571075.0, 571076.0, 1029829.0, 145103.0, 1423061.0, 1160918.0, 177878.0, 46812.0, 1423069.0, 1455836.0, 1062623.0, 1160927.0, 243423.0, 1357538.0, 1029861.0, 1586920.0, 145131.0, 1455857.0, 1521394.0, 964339.0, 1423092.0, 210680.0, 145145.0, 1488633.0, 669435.0, 833277.0, 1226495.0, 308992.0, 1423104.0, 898818.0, 1521407.0, 997122.0, 308997.0, 472835.0, 1259272.0, 276235.0, 1193740.0, 1423115.0, 931595.0, 800527.0, 309009.0, 767762.0, 898834.0, 210710.0, 276246.0, 14104.0, 1095449.0, 702234.0, 833303.0, 1324828.0, 309017.0, 309019.0, 472859.0, 1652514.0, 374564.0, 14119.0, 1128231.0, 1357607.0, 440106.0, 1586987.0, 1128241.0, 177969.0, 964408.0, 1652539.0, 1652541.0, 702269.0, 1292097.0, 1619780.0, 735046.0, 1390408.0, 112457.0, 1652554.0, 46928.0, 866128.0, 472912.0, 1095508.0, 407384.0, 407387.0, 145249.0, 309091.0, 636774.0, 866151.0, 440168.0, 1521515.0, 374636.0, 505707.0, 407407.0, 1128304.0, 1619829.0, 112501.0, 866166.0, 604024.0, 1587065.0, 1521525.0, 898940.0, 571261.0, 1685373.0, 46977.0, 1587074.0, 1128322.0, 407433.0, 997263.0, 604050.0, 47001.0, 702363.0, 47008.0, 931746.0, 145316.0, 1587111.0, 604074.0, 407466.0, 1226669.0, 1357741.0, 79796.0, 702389.0, 276404.0, 898997.0, 440247.0, 145337.0, 1193917.0, 1259454.0, 1357758.0, 866239.0, 341953.0, 1488833.0, 309187.0, 1685444.0, 1018848.0, 1390534.0, 931783.0, 276425.0, 1619914.0, 866249.0, 1161164.0, 407500.0, 1095632.0, 1128408.0, 931800.0, 538586.0, 964568.0, 1193949.0, 1325025.0, 374753.0, 276453.0, 702438.0, 931814.0, 1030120.0, 1619946.0, 1161197.0, 866288.0, 1423344.0, 1357813.0, 1161207.0, 1587192.0, 1095674.0, 538621.0, 833536.0, 1226755.0, 1390595.0, 1292297.0, 800778.0, 997388.0, 505868.0, 1423374.0, 1193999.0, 735251.0, 145429.0, 47126.0, 243733.0, 342038.0, 178201.0, 112666.0, 1390617.0, 1456155.0, 1062941.0, 1456157.0, 440353.0, 1062946.0, 473124.0, 1128491.0, 997420.0, 79920.0, 571441.0, 1456178.0, 1161267.0, 1062966.0, 505910.0, 538682.0, 1685562.0, 1292346.0, 112701.0, 964667.0, 997437.0, 1095744.0, 1620033.0, 768066.0, 440385.0, 79943.0, 211017.0, 800841.0, 1292363.0, 1456207.0, 1488979.0, 1488980.0, 178263.0, 866391.0, 342105.0, 440409.0, 997463.0, 112732.0, 538717.0, 505953.0, 47204.0, 1128549.0, 112742.0, 1259621.0, 1456230.0, 309354.0, 964714.0, 374897.0, 407667.0, 604279.0, 1128567.0, 833655.0, 1128570.0, 1194107.0, 1357948.0, 899197.0, 735358.0, 1030263.0, 1587336.0, 571529.0, 1095817.0, 276620.0, 1161357.0, 1390734.0, 211087.0, 800912.0, 47249.0, 1652886.0, 1521822.0, 1685666.0, 145570.0, 1063076.0, 538789.0, 1423526.0, 1128618.0, 735402.0, 211114.0, 374956.0, 1587374.0, 1685679.0, 440494.0, 1685681.0, 1554610.0, 473267.0, 899252.0, 1063094.0, 1587383.0, 1226936.0, 1194169.0, 768183.0, 899255.0, 145596.0, 309437.0, 342204.0, 374975.0, 964795.0, 145601.0, 1456322.0, 1030337.0, 1259716.0, 1095877.0, 1259726.0, 47311.0, 1358030.0, 407764.0, 1030362.0, 735452.0, 473308.0, 309470.0, 1554656.0, 47330.0, 1161444.0, 899305.0, 309482.0, 1554666.0, 1161452.0, 866543.0, 1226995.0, 80116.0, 866548.0, 1194230.0, 1030390.0, 1652987.0, 866557.0, 1128703.0, 1685760.0, 211200.0, 145666.0, 702724.0, 1653000.0, 669961.0, 801035.0, 997645.0, 1653006.0, 1161487.0, 1685775.0, 1685778.0, 801043.0, 1292564.0, 1521941.0, 1325334.0, 735511.0, 1292568.0, 801049.0, 14618.0, 309534.0, 506145.0, 309538.0, 1063203.0, 145700.0, 375075.0, 375078.0, 145703.0, 604456.0, 178472.0, 1489186.0, 211243.0, 1063212.0, 735532.0, 801069.0, 932143.0, 1063216.0, 1489199.0, 997682.0, 47411.0, 276788.0, 14645.0, 1292600.0, 1489208.0, 1423674.0, 407870.0, 1292608.0, 1128770.0, 1423682.0, 637256.0, 866633.0, 964940.0, 309582.0, 735567.0, 538964.0, 637269.0, 1128790.0, 1161559.0, 735576.0, 932182.0, 964950.0, 670043.0, 571740.0, 702812.0, 178526.0, 1423709.0, 1456476.0, 440667.0, 1063266.0, 440669.0, 801125.0, 833896.0, 1128812.0, 637292.0, 1587566.0, 178540.0, 407920.0, 440688.0, 309620.0, 833915.0, 309628.0, 1259904.0, 178563.0, 1325445.0, 309637.0, 1522057.0, 506249.0, 833931.0, 276877.0, 211343.0, 801168.0, 1423760.0, 1358226.0, 1292691.0, 1358228.0, 604565.0, 1227164.0, 1227167.0, 1161632.0, 145824.0, 1620386.0, 1259938.0, 1391014.0, 1292712.0, 244138.0, 473517.0, 1358254.0, 1128880.0, 637363.0, 1227189.0, 309685.0, 473525.0, 1554869.0, 211386.0, 539067.0, 407994.0, 702909.0, 113086.0, 309693.0, 899520.0, 473532.0, 113090.0, 1030594.0, 1161679.0, 1161680.0, 932305.0, 1620435.0, 702932.0, 276947.0, 1423827.0, 1653207.0, 604632.0, 932307.0, 440791.0, 1292764.0, 539101.0, 178653.0, 768477.0, 1325535.0, 1096161.0, 80353.0, 866786.0, 997854.0, 14821.0, 145893.0, 145894.0, 1161704.0, 276965.0, 735724.0, 1358318.0, 1063407.0, 735727.0, 604658.0, 1554932.0, 932341.0, 932346.0, 1620475.0, 997884.0, 80381.0, 1686014.0, 1554938.0, 506365.0, 47618.0, 211458.0, 637444.0, 1686020.0, 1194501.0, 735751.0, 768515.0, 276998.0, 604683.0, 1686027.0, 440844.0, 510959.0, 244239.0, 1423887.0, 1522193.0, 1030672.0, 1686038.0, 211479.0, 571928.0, 866840.0, 440854.0, 1489431.0, 1358365.0, 735776.0, 1522208.0, 145954.0, 1030688.0, 997927.0, 637482.0, 80427.0, 1227308.0, 1063469.0, 1522218.0, 997933.0, 637489.0, 735794.0, 866867.0, 342581.0, 866870.0, 1456694.0, 80442.0, 932420.0, 932421.0, 834121.0, 342601.0, 735824.0, 1161812.0, 637525.0, 735829.0, 637527.0, 932437.0, 277081.0, 604764.0, 768604.0, 1522279.0, 80490.0, 1096300.0, 473709.0, 1555056.0, 1456753.0, 342642.0, 211571.0, 1194614.0, 1260152.0, 768634.0, 244346.0, 375419.0, 1358461.0, 703102.0, 1489533.0, 440959.0, 1161857.0, 572034.0, 1161859.0, 801413.0, 277131.0, 1227405.0, 998029.0, 146064.0, 309904.0, 801426.0, 1358482.0, 1686165.0, 1096342.0, 834200.0, 1227417.0, 1260186.0, 15004.0, 866972.0, 1686174.0, 1292959.0, 375452.0, 1260194.0, 1063588.0, 539301.0, 1260196.0, 1358500.0, 1161899.0, 342700.0, 47790.0, 146096.0, 834226.0, 375479.0, 211640.0, 768696.0, 1686204.0, 277180.0, 211648.0, 1325761.0, 572098.0, 1522372.0, 244421.0, 1227463.0, 441031.0, 408265.0, 211658.0, 1587916.0, 735953.0, 1555153.0, 506578.0, 1030866.0, 47832.0, 834264.0, 1358553.0, 965336.0, 539357.0, 834269.0, 1489629.0, 473823.0, 867041.0, 539362.0, 1194723.0, 441060.0, 473828.0, 1063654.0, 572135.0, 1129192.0, 1686248.0, 1686250.0, 670443.0, 899821.0, 670446.0, 1522419.0, 80629.0, 801525.0, 735991.0, 637689.0, 572155.0, 1161979.0, 1030908.0, 670463.0, 473855.0, 178951.0, 375560.0, 539402.0, 768779.0, 342796.0, 1489676.0, 146190.0, 539407.0, 604945.0, 768788.0, 1194774.0, 965406.0, 834335.0, 867104.0, 998177.0, 572196.0, 1588005.0, 1162022.0, 867111.0, 146216.0, 572201.0, 637742.0, 1555246.0, 342832.0, 703282.0, 539444.0, 211769.0, 1686330.0, 1555257.0, 211774.0, 932674.0, 1489730.0, 604998.0, 15177.0, 1653578.0, 965453.0, 670545.0, 1325905.0, 1588051.0, 932689.0, 1260373.0, 867157.0, 375637.0, 179032.0, 1293144.0, 965464.0, 801627.0, 80732.0, 867166.0, 932704.0, 1260385.0, 1031009.0, 867173.0, 1588070.0, 277354.0, 867181.0, 1227631.0, 834415.0, 47985.0, 867184.0, 801651.0, 899951.0, 15221.0, 146294.0, 1293175.0, 1489782.0, 1031032.0, 342906.0, 899963.0, 146300.0, 1293181.0, 932731.0, 998266.0, 1555326.0, 113540.0, 1424261.0, 965509.0, 1588103.0, 1588105.0, 1325961.0, 473997.0, 1522574.0, 310159.0, 1424271.0, 1129364.0, 1424276.0, 637846.0, 1620894.0, 703390.0, 965534.0, 900001.0, 474019.0, 605092.0, 867237.0, 146346.0, 146347.0, 1129388.0, 801706.0, 48046.0, 1424302.0, 1162160.0, 342960.0, 1096626.0, 1326003.0, 441260.0, 1031091.0, 1031093.0, 146359.0, 1326010.0, 1489851.0, 1260476.0, 736189.0, 1358785.0, 1522625.0, 15300.0, 1096644.0, 572357.0, 834500.0, 1457105.0, 1588182.0, 768984.0, 146394.0, 1620955.0, 1391580.0, 834525.0, 1424347.0, 1096676.0, 736230.0, 1063911.0, 48103.0, 1260526.0, 572406.0, 1489910.0, 441336.0, 244732.0, 1457149.0, 1031166.0, 277504.0, 900096.0, 1620995.0, 211971.0, 1522693.0, 310280.0, 572429.0, 277518.0, 146447.0, 703503.0, 310287.0, 474131.0, 900118.0, 375830.0, 1457178.0, 1260571.0, 441376.0, 637985.0, 506913.0, 48164.0, 1063973.0, 1227816.0, 900136.0, 1195051.0, 1653804.0, 80941.0, 146475.0, 1195055.0, 1293359.0, 1195057.0, 539698.0, 1260594.0, 834605.0, 867372.0, 1260598.0, 375861.0, 932915.0, 441399.0, 1031221.0, 1096764.0, 1653821.0, 343101.0, 834623.0, 408641.0, 408643.0, 1424452.0, 441412.0, 310343.0, 244808.0, 310351.0, 1391696.0, 15441.0, 1129553.0, 375888.0, 441424.0, 441436.0, 146525.0, 736352.0, 1358948.0, 1686630.0, 1195110.0, 736358.0, 1162345.0, 244844.0, 375919.0, 1195127.0, 441463.0, 441464.0, 1326203.0, 1260668.0, 1064062.0, 1096831.0, 1195137.0, 277633.0, 769155.0, 1490051.0, 834693.0, 441477.0, 474248.0, 736393.0, 1227914.0, 638092.0, 933005.0, 507020.0, 703631.0, 507023.0, 1031312.0, 15506.0, 572564.0, 1162389.0, 1129622.0, 834711.0, 933016.0, 1096857.0, 1686682.0, 801945.0, 1326233.0, 1457304.0, 408731.0, 113823.0, 900255.0, 1031325.0, 933026.0, 539811.0, 1686692.0, 1555616.0, 900262.0, 244904.0, 834728.0, 1359018.0, 539819.0, 179371.0, 1260717.0, 1162414.0, 113839.0, 900272.0, 1359027.0, 1686709.0, 900278.0, 1424576.0, 1064129.0, 1293506.0, 1195205.0, 572614.0, 474312.0, 1096905.0, 1686730.0, 113868.0, 1162448.0, 1031377.0, 1031378.0, 1162451.0, 703700.0, 867546.0, 802011.0, 1621212.0, 605404.0, 1391837.0, 572639.0, 1162464.0, 48353.0, 1227999.0, 1260769.0, 900318.0, 310504.0, 867562.0, 1293547.0, 1621228.0, 1457388.0, 539886.0, 1031412.0, 1424629.0, 1555707.0, 1359101.0, 1260798.0, 703743.0, 1391869.0, 900350.0, 376064.0, 507140.0, 1686790.0, 1162503.0, 146696.0, 408842.0, 146699.0, 900363.0, 736525.0, 343311.0, 572690.0, 212243.0, 1064215.0, 1359131.0, 1260828.0, 1686813.0, 1621278.0, 1260830.0, 1260834.0, 212259.0, 48420.0, 1293602.0, 867622.0, 769319.0, 1457442.0, 998695.0, 343343.0, 900401.0, 605491.0, 933174.0, 1424695.0, 1490234.0, 1359163.0, 867644.0, 1654077.0, 769343.0, 408895.0, 310593.0, 343364.0, 954000.0, 1064262.0, 900422.0, 1260872.0, 1457479.0, 539980.0, 1326413.0, 1195344.0, 376151.0, 1457498.0, 1195355.0, 179549.0, 638304.0, 1260898.0, 900451.0, 540006.0, 1588583.0, 1391975.0, 212329.0, 48490.0, 343401.0, 1621356.0, 867693.0, 867694.0, 48496.0, 1424753.0, 736627.0, 998772.0, 146809.0, 540026.0, 1293689.0, 1424763.0, 1359232.0, 638337.0, 933251.0, 212357.0, 1424774.0, 408969.0, 834955.0, 900492.0, 1260943.0, 15760.0, 900495.0, 408981.0, 1129878.0, 15770.0, 179612.0, 1654173.0, 802206.0, 474525.0, 1457569.0, 343458.0, 1686947.0, 900514.0, 474530.0, 474532.0, 507297.0, 1555873.0, 1326505.0, 507302.0, 1588652.0, 310702.0, 507310.0, 1293744.0, 212404.0, 1392054.0, 769465.0, 867769.0, 900537.0, 933305.0, 1031612.0, 998847.0, 1162688.0, 1031616.0, 146885.0, 1523141.0, 474570.0, 638412.0, 703950.0, 1162703.0, 1588688.0, 638416.0, 1654230.0, 1392087.0, 15833.0, 1293786.0, 572891.0, 1228251.0, 966109.0, 507359.0, 1129954.0, 441827.0, 114149.0, 474598.0, 1687015.0, 998888.0, 212458.0, 867818.0, 146924.0, 867820.0, 1064430.0, 1523184.0, 409077.0, 1326584.0, 1588729.0, 1687035.0, 146945.0, 1621506.0, 146947.0, 638470.0, 245259.0, 1687052.0, 507404.0, 81423.0, 1588756.0, 15897.0, 1490458.0, 998938.0, 998940.0, 1555993.0, 638494.0, 179742.0, 507424.0, 1556000.0, 1588770.0, 1162789.0, 81447.0, 736807.0, 1195562.0, 802348.0, 802349.0, 15919.0, 48687.0, 704047.0, 1064498.0, 1424946.0, 1162804.0, 998968.0, 704059.0, 966203.0, 1523259.0, 802367.0, 15937.0, 1654337.0, 179778.0, 343619.0, 1556038.0, 147016.0, 704076.0, 1424976.0, 966224.0, 1588818.0, 1228371.0, 736852.0, 1556050.0, 1293912.0, 48732.0, 1392222.0, 310882.0, 1424995.0, 1130084.0, 1621605.0, 179814.0, 1261159.0, 966244.0, 638570.0, 1162863.0, 1654384.0, 1392241.0, 1359477.0, 1162877.0, 1261181.0, 147071.0, 1359486.0, 605830.0, 1162886.0, 736904.0, 409223.0, 474759.0, 212620.0, 1031820.0, 474770.0, 966291.0, 1097364.0, 1588888.0, 769690.0, 1687195.0, 1359523.0, 835237.0, 1556133.0, 835240.0, 1326765.0, 671406.0, 310961.0, 1588914.0, 1326774.0, 1031864.0, 1097402.0, 1130172.0, 573119.0, 933571.0, 409283.0, 573130.0, 966349.0, 573135.0, 1326802.0, 573139.0, 343764.0, 966356.0, 1588952.0, 1326811.0, 1654498.0, 1359588.0, 409317.0, 736998.0, 802537.0, 704236.0, 933614.0, 1064688.0, 1588976.0, 1228530.0, 1261305.0, 1490683.0, 1294076.0, 147198.0, 1261310.0, 933630.0, 1621761.0, 376577.0, 1031940.0, 442121.0, 1261324.0, 48911.0, 212752.0, 1490705.0, 114450.0, 1326867.0, 966420.0, 671510.0, 1130265.0, 1097498.0, 1163035.0, 1261340.0, 245532.0, 704286.0, 1294110.0, 1359646.0, 1097505.0, 474909.0, 933667.0, 376612.0, 671526.0, 1425190.0, 704296.0, 737064.0, 638762.0, 999213.0, 376622.0, 1163056.0, 1654578.0, 1326899.0, 278330.0, 1490749.0, 1556285.0, 704321.0, 1654595.0, 1589063.0, 704327.0, 1490768.0, 442194.0, 343892.0, 507734.0, 1097559.0, 311128.0, 442200.0, 1097562.0, 1228634.0, 835423.0, 147297.0, 1228641.0, 1425250.0, 1064805.0, 769893.0, 114537.0, 16235.0, 1032044.0, 1572835.0, 1490800.0, 1523568.0, 114548.0, 1032054.0, 704376.0, 147322.0, 769914.0, 1163133.0, 1228671.0, 114560.0, 1359746.0, 704390.0, 835463.0, 802696.0, 638860.0, 1687438.0, 278414.0, 212880.0, 1621905.0, 1130386.0, 835474.0, 442257.0, 769942.0, 769944.0, 311193.0, 16283.0, 16285.0, 856426.0, 868253.0, 1425311.0, 1458080.0, 1589156.0, 1359781.0, 1490852.0, 737191.0, 999334.0, 1327017.0, 507812.0, 1032100.0, 573357.0, 769965.0, 1490863.0, 409520.0, 1556398.0, 278450.0, 671667.0, 1261492.0, 769971.0, 1327027.0, 180151.0, 933817.0, 933819.0, 638908.0, 1490878.0, 507838.0, 606145.0, 475075.0, 1032133.0, 1556422.0, 16327.0, 114631.0, 1490889.0, 278474.0, 475079.0, 1327054.0, 1687505.0, 311250.0, 901077.0, 1589206.0, 1621976.0, 507869.0, 81886.0, 737249.0, 49127.0, 1490919.0, 1359849.0, 999399.0, 475115.0, 507885.0, 1228783.0, 409584.0, 966639.0, 1556463.0, 49139.0, 1228788.0, 802803.0, 638966.0, 1359860.0, 1359862.0, 49145.0, 1458169.0, 475130.0, 1654780.0, 180227.0, 180228.0, 213004.0, 1556497.0, 213010.0, 802835.0, 1654806.0, 1359894.0, 114713.0, 1228826.0, 573467.0, 770074.0, 1261597.0, 1327129.0, 344092.0, 868381.0, 376864.0, 1392678.0, 966696.0, 114732.0, 278573.0, 245806.0, 1032237.0, 81968.0, 1523761.0, 1687602.0, 573491.0, 114741.0, 1032245.0, 180281.0, 1687610.0, 245819.0, 311354.0, 376890.0, 507965.0, 1294402.0, 704579.0, 704580.0, 114762.0, 1687628.0, 114767.0, 1359953.0, 1654870.0, 344154.0, 770142.0, 1556576.0, 16481.0, 1294434.0, 1130598.0, 1294439.0, 573544.0, 1065065.0, 1622120.0, 639080.0, 1294443.0, 278632.0, 802923.0, 1327212.0, 508018.0, 311413.0, 999542.0, 770167.0, 1425529.0, 770173.0, 671870.0, 1261694.0, 1654912.0, 344189.0, 671876.0, 1654918.0, 671878.0, 1327239.0, 573577.0, 1589386.0, 1097866.0, 704649.0, 1327240.0, 213136.0, 934033.0, 1687699.0, 16533.0, 180374.0, 573594.0, 1032351.0, 1392802.0, 1622181.0, 1392805.0, 376998.0, 934056.0, 1654953.0, 1654954.0, 639146.0, 1654956.0, 180395.0, 1392811.0, 1130673.0, 1523890.0, 1360054.0, 901305.0, 49338.0, 180410.0, 278719.0, 1491135.0, 508097.0, 1038845.0, 573635.0, 1556677.0, 1654983.0, 213197.0, 213200.0, 278738.0, 1327314.0, 1392856.0, 934105.0, 180442.0, 1425627.0, 409820.0, 344285.0, 1360094.0, 1458396.0, 966881.0, 1261794.0, 213219.0, 1655014.0, 1261798.0, 278761.0, 82155.0, 770284.0, 1327340.0, 1196270.0, 1622255.0, 1655024.0, 671985.0, 147698.0, 1360116.0, 344309.0, 1622262.0, 573687.0, 1491190.0, 16636.0, 737533.0, 147710.0, 835836.0, 901374.0, 868609.0, 999676.0, 1196291.0, 1294605.0, 868627.0, 1327383.0, 377112.0, 1556759.0, 16666.0, 737564.0, 82205.0, 213278.0, 1425695.0, 1655075.0, 213285.0, 770342.0, 704807.0, 1032488.0, 999722.0, 311597.0, 1065264.0, 1196336.0, 672050.0, 246064.0, 278834.0, 1392946.0, 1491260.0, 1098046.0, 966976.0, 82243.0, 1655108.0, 311620.0, 1392964.0, 377155.0, 1032520.0, 344394.0, 1392971.0, 1458507.0, 442698.0, 541007.0, 1163603.0, 541012.0, 1294677.0, 1458515.0, 475478.0, 770397.0, 1360223.0, 1261923.0, 541029.0, 606567.0, 1098089.0, 1622380.0, 1261933.0, 1458541.0, 1655152.0, 82289.0, 475507.0, 442742.0, 1163642.0, 1294715.0, 1163644.0, 213372.0, 1589632.0, 934272.0, 1032578.0, 1261957.0, 835979.0, 1687949.0, 1491343.0, 1622418.0, 1261970.0, 1294741.0, 442773.0, 1032598.0, 704921.0, 541091.0, 1196452.0, 1425829.0, 1261990.0, 1196455.0, 770475.0, 639404.0, 1393069.0, 508342.0, 278978.0, 1556935.0, 934347.0, 213452.0, 344524.0, 1327568.0, 1655250.0, 49619.0, 147923.0, 704979.0, 573911.0, 737752.0, 1458650.0, 1327580.0, 180701.0, 16862.0, 442846.0, 1524188.0, 967137.0, 1098210.0, 115171.0, 737767.0, 279018.0, 442859.0, 1458668.0, 1425901.0, 1229294.0, 82415.0, 1425905.0, 836083.0, 1458676.0, 344567.0, 1688056.0, 1589753.0, 1163770.0, 1688059.0, 1065468.0, 147965.0, 1262075.0, 344571.0, 377343.0, 639489.0, 1622530.0, 1491457.0, 246276.0, 901637.0, 1327622.0, 1557001.0, 16910.0, 803347.0, 279061.0, 311829.0, 639513.0, 1098266.0, 1557023.0, 868903.0, 1425960.0, 1688105.0, 475691.0, 934446.0, 868914.0, 1065523.0, 901682.0, 1196599.0, 1589816.0, 606777.0, 311863.0, 999993.0, 1065535.0, 1491519.0, 1393224.0, 311881.0, 344650.0, 16971.0, 1557066.0, 1065553.0, 344657.0, 901713.0, 1229396.0, 1000020.0, 1557078.0, 279127.0, 1294936.0, 442969.0, 1131098.0, 1131099.0, 1065566.0, 82529.0, 1098338.0, 1360482.0, 1426021.0, 1065574.0, 1688166.0, 1196646.0, 213608.0, 311910.0, 1557094.0, 1163885.0, 1163886.0, 377453.0, 803440.0, 410222.0, 1589875.0, 377459.0, 541302.0, 1589878.0, 17016.0, 49783.0, 49785.0, 705144.0, 1262202.0, 213628.0, 1327741.0, 475774.0, 1557118.0, 737921.0, 1000069.0, 1327751.0, 1098378.0, 1131147.0, 737933.0, 1655438.0, 213646.0, 836238.0, 901773.0, 1327762.0, 770707.0, 410255.0, 475789.0, 606871.0, 1426071.0, 410263.0, 1262237.0, 1426077.0, 606879.0, 410270.0, 1032863.0, 1295017.0, 836270.0, 1426096.0, 213682.0, 869045.0, 1196727.0, 737975.0, 49849.0, 115385.0, 1524410.0, 49852.0, 311996.0, 901824.0, 1360578.0, 1196739.0, 770755.0, 1000132.0, 1065672.0, 475851.0, 148179.0, 1458901.0, 279258.0, 1065692.0, 1229532.0, 1622750.0, 1393376.0, 1098468.0, 803556.0, 344807.0, 1488344.0, 836329.0, 738026.0, 1393386.0, 377577.0, 82673.0, 344819.0, 213748.0, 836341.0, 410357.0, 1032951.0, 1098491.0, 901885.0, 1655550.0, 803582.0, 1426175.0, 1393409.0, 49922.0, 574211.0, 475905.0, 508672.0, 639752.0, 1590026.0, 1229578.0, 246543.0, 181011.0, 869139.0, 901908.0, 344854.0, 475926.0, 213784.0, 1557276.0, 213789.0, 1065759.0, 1426208.0, 1590052.0, 181035.0, 639790.0, 607028.0, 738103.0, 246583.0, 1131322.0, 1229633.0, 115522.0, 410436.0, 410437.0, 738118.0, 934731.0, 82764.0, 508747.0, 1459025.0, 1655634.0, 1557329.0, 836438.0, 1098584.0, 377688.0, 344922.0, 738139.0, 1262428.0, 541533.0, 1393502.0, 1426269.0, 213856.0, 1524572.0, 1557337.0, 1033055.0, 1557343.0, 1065829.0, 1459048.0, 1491816.0, 1360747.0, 1459052.0, 1655663.0, 344945.0, 1229683.0, 1262451.0, 1426292.0, 377724.0, 1164166.0, 1557382.0, 1098632.0, 1491850.0, 472365.0, 312206.0, 1033105.0, 836498.0, 50069.0, 1459094.0, 1360794.0, 1426333.0, 1098654.0, 181151.0, 672672.0, 1196961.0, 1377662.0, 902049.0, 377762.0, 443295.0, 1524638.0, 1524640.0, 967592.0, 1393577.0, 476072.0, 50097.0, 1393585.0, 148406.0, 1393595.0, 639932.0, 1688508.0, 869309.0, 1426366.0, 934848.0, 1000384.0, 1524673.0, 181189.0, 934857.0, 607187.0, 672724.0, 476115.0, 672726.0, 1033174.0, 738266.0, 508890.0, 1459164.0, 377822.0, 771042.0, 574435.0, 279524.0, 607208.0, 1590249.0, 1360874.0, 1491945.0, 1524714.0, 607215.0, 1590262.0, 1065975.0, 1328125.0, 1295361.0, 902146.0, 1000450.0, 1426438.0, 869384.0, 214025.0, 1000457.0, 1033237.0, 1688599.0, 836632.0, 1000472.0, 1131548.0, 1688604.0, 148510.0, 115743.0, 148515.0, 1229861.0, 705575.0, 967720.0, 214057.0, 1328171.0, 1393709.0, 705584.0, 82993.0, 705585.0, 1164342.0, 1492031.0, 1328193.0, 1066050.0, 836675.0, 410691.0, 771143.0, 1655884.0, 1295440.0, 672852.0, 148566.0, 377943.0, 1131609.0, 672858.0, 541787.0, 771162.0, 1197149.0, 1197150.0, 836701.0, 214112.0, 1492058.0, 1524835.0, 1360996.0, 1557603.0, 1688681.0, 1066090.0, 148586.0, 17516.0, 1524841.0, 1164398.0, 1066094.0, 1098867.0, 771190.0, 803961.0, 803966.0, 607359.0, 1066115.0, 1393796.0, 1590405.0, 1688710.0, 836744.0, 1557641.0, 1000589.0, 1459343.0, 803984.0, 1623188.0, 869525.0, 312471.0, 410776.0, 1098905.0, 148633.0, 738458.0, 476313.0, 83104.0, 246944.0, 804002.0, 148643.0, 672932.0, 1229989.0, 410786.0, 1492128.0, 115881.0, 148649.0, 672939.0, 279724.0, 1393838.0, 476336.0, 378033.0, 574642.0, 1230002.0, 1688756.0, 1197237.0, 804021.0, 869556.0, 443573.0, 1000627.0, 1361084.0, 312509.0, 312510.0, 246977.0, 1426628.0, 476357.0, 935113.0, 50380.0, 181454.0, 312528.0, 1361105.0, 902353.0, 935120.0, 1066198.0, 1230038.0, 312534.0, 476375.0, 1000667.0, 115933.0, 705760.0, 935143.0, 1688809.0, 1524970.0, 902379.0, 1361132.0, 312557.0, 1000683.0, 607471.0, 1459440.0, 312561.0, 1656050.0, 214258.0, 705780.0, 410867.0, 607480.0, 1590521.0, 673024.0, 17665.0, 476421.0, 50438.0, 1262860.0, 1033485.0, 214291.0, 247059.0, 771348.0, 247060.0, 115991.0, 1328407.0, 935194.0, 410908.0, 214301.0, 1033504.0, 640289.0, 1393955.0, 345380.0, 705829.0, 443684.0, 1033516.0, 1328430.0, 116017.0, 705842.0, 1590579.0, 279862.0, 1164599.0, 312633.0, 1066300.0, 967997.0, 1361216.0, 312646.0, 607559.0, 1230155.0, 312654.0, 214351.0, 312655.0, 1459534.0, 17747.0, 312660.0, 1262937.0, 50522.0, 640346.0, 1295705.0, 1557852.0, 738656.0, 574817.0, 279904.0, 181603.0, 1328480.0, 312677.0, 1557858.0, 738663.0, 312680.0, 410983.0, 1459562.0, 1590636.0, 804206.0, 1590640.0, 1099122.0, 1131895.0, 148855.0, 1656185.0, 312698.0, 542075.0, 345463.0, 1394039.0, 378237.0, 1656192.0, 83329.0, 279936.0, 116099.0, 836992.0, 1525121.0, 836998.0, 476549.0, 181644.0, 312718.0, 968080.0, 279954.0, 1262998.0, 1164695.0, 1197468.0, 542109.0, 968096.0, 738722.0, 312739.0, 1459618.0, 1197479.0, 312745.0, 542122.0, 1263019.0, 476586.0, 1230257.0, 705970.0, 1263026.0, 705972.0, 1099189.0, 312757.0, 1295799.0, 1459634.0, 1525171.0, 1066429.0, 17853.0, 148925.0, 148930.0, 312773.0, 411077.0, 1263052.0, 1426892.0, 1099214.0, 640463.0, 214484.0, 1328599.0, 1623512.0, 1459671.0, 771546.0, 935386.0, 312797.0, 247264.0, 1689057.0, 804321.0, 968161.0, 574949.0, 1132006.0, 1033702.0, 1361387.0, 1099247.0, 411120.0, 1459696.0, 1525233.0, 509427.0, 1099252.0, 673271.0, 378360.0, 116219.0, 1000956.0, 706045.0, 1263101.0, 1426943.0, 673281.0, 312836.0, 1590789.0, 345605.0, 935429.0, 1426956.0, 116239.0, 1558031.0, 1033746.0, 738835.0, 804371.0, 247317.0, 50710.0, 804373.0, 214552.0, 443924.0, 542234.0, 149022.0, 869918.0, 83488.0, 1099299.0, 575011.0, 673315.0, 673316.0, 1197606.0, 149031.0, 837158.0, 1459749.0, 411175.0, 837165.0, 1492525.0, 378420.0, 149045.0, 1263160.0, 1132090.0, 1197628.0, 1558078.0, 575039.0, 345664.0, 443968.0, 1525313.0, 1230403.0, 1230407.0, 1427016.0, 312907.0, 443980.0, 935501.0, 1033807.0, 18003.0, 83540.0, 1558101.0, 640602.0, 837211.0, 1001052.0, 1132126.0, 1263198.0, 149088.0, 312928.0, 1427040.0, 509538.0, 1263204.0, 1427044.0, 1689191.0, 738919.0, 1492585.0, 1230442.0, 1230443.0, 509546.0, 1033836.0, 771695.0, 116340.0, 1459831.0, 1525369.0, 771707.0, 575100.0, 1427068.0, 1066622.0, 509566.0, 181889.0, 1263233.0, 1525379.0, 149125.0, 280198.0, 1590921.0, 1492621.0, 1394318.0, 1296015.0, 149138.0, 83605.0, 1296025.0, 1525402.0, 1558170.0, 1328796.0, 1001120.0, 706220.0, 935596.0, 1525422.0, 1066672.0, 378545.0, 1590962.0, 83634.0, 1459890.0, 1623736.0, 1197752.0, 345785.0, 1066685.0, 968382.0, 1558209.0, 804546.0, 1033927.0, 1361611.0, 444107.0, 509644.0, 575183.0, 1689296.0, 1165009.0, 1656530.0, 1361620.0, 771797.0, 968407.0, 870108.0, 345820.0, 1165022.0, 575201.0, 673511.0, 378601.0, 935658.0, 1033961.0, 1427181.0, 1197807.0, 149232.0, 1591025.0, 1132274.0, 149233.0, 771828.0, 837359.0, 1361652.0, 1427190.0, 476914.0, 83705.0, 542458.0, 280314.0, 476919.0, 706301.0, 607998.0, 1197823.0, 1361664.0, 1492733.0, 411394.0, 1296131.0, 1492736.0, 83718.0, 739078.0, 214792.0, 1132297.0, 542474.0, 870154.0, 902921.0, 476939.0, 1263376.0, 1656594.0, 444179.0, 1034002.0, 1623829.0, 1558291.0, 575255.0, 182043.0, 1197852.0, 1001243.0, 247582.0, 18207.0, 1492768.0, 313122.0, 313123.0, 608037.0, 837413.0, 870182.0, 673577.0, 1001258.0, 18219.0, 1099564.0, 1230635.0, 1165102.0, 149294.0, 1296176.0, 1361713.0, 870190.0, 116531.0, 1066804.0, 1656629.0, 706358.0, 1132343.0, 935730.0, 444217.0, 1001266.0, 1558327.0, 18237.0, 313149.0, 542528.0, 902978.0, 83780.0, 1394503.0, 1296201.0, 739146.0, 149332.0, 968533.0, 542550.0, 1034071.0, 1034072.0, 640858.0, 116570.0, 18270.0, 1197923.0, 903012.0, 1001318.0, 1591145.0, 280428.0, 1361774.0, 247663.0, 1394542.0, 313201.0, 1132402.0, 1296243.0, 640884.0, 411510.0, 968568.0, 345980.0, 411519.0, 1263488.0, 214919.0, 608136.0, 935818.0, 411535.0, 640913.0, 640918.0, 903062.0, 1460120.0, 1558423.0, 378779.0, 1525660.0, 116642.0, 640931.0, 1394596.0, 1525669.0, 1566740.0, 1329064.0, 1689516.0, 1394604.0, 640943.0, 1394609.0, 739255.0, 673725.0, 214973.0, 837571.0, 673736.0, 477129.0, 1066956.0, 1591245.0, 1198028.0, 1230797.0, 608208.0, 346066.0, 313303.0, 1001431.0, 1296347.0, 1329116.0, 313308.0, 313311.0, 509920.0, 804834.0, 575459.0, 149476.0, 1492965.0, 968678.0, 1001445.0, 509927.0, 575466.0, 215021.0, 903149.0, 1460205.0, 313328.0, 182257.0, 1230835.0, 1689588.0, 1558519.0, 1394680.0, 1591289.0, 542719.0, 1624063.0, 83968.0, 1165311.0, 1230847.0, 1329153.0, 313349.0, 968704.0, 706567.0, 477192.0, 1001481.0, 444428.0, 477196.0, 1525774.0, 1034257.0, 411673.0, 116762.0, 411675.0, 313374.0, 870431.0, 804900.0, 903204.0, 1067046.0, 575526.0, 84010.0, 1296435.0, 51252.0, 641077.0, 1656887.0, 1132600.0, 542777.0, 215096.0, 1329211.0, 280636.0, 411705.0, 280638.0, 477244.0, 149568.0, 346178.0, 1624132.0, 1624134.0, 346182.0, 1525831.0, 116814.0, 608335.0, 772174.0, 510033.0, 1460306.0, 1296467.0, 346195.0, 1624151.0, 1099864.0, 837726.0, 772194.0, 1591395.0, 1230951.0, 182376.0, 215146.0, 378990.0, 1067119.0, 542832.0, 313455.0, 936046.0, 477303.0, 575608.0, 542841.0, 84088.0, 772219.0, 379005.0, 477310.0, 215168.0, 18563.0, 1165444.0, 1624198.0, 1198214.0, 149639.0, 182408.0, 1362057.0, 379021.0, 968846.0, 1460371.0, 1427604.0, 1296534.0, 739481.0, 575643.0, 1034399.0, 1198247.0, 444587.0, 608428.0, 608429.0, 1427629.0, 805039.0, 444590.0, 1296562.0, 313523.0, 1657012.0, 837813.0, 379061.0, 1493175.0, 444602.0, 1132733.0, 641214.0, 1296575.0, 1132736.0, 215232.0, 837823.0, 542919.0, 575689.0, 1624265.0, 1657034.0, 706764.0, 477385.0, 1067214.0, 837838.0, 1067219.0, 837844.0, 1329365.0, 1198294.0, 805079.0, 542936.0, 837845.0, 1362135.0, 1657051.0, 379098.0, 411865.0, 248030.0, 444634.0, 903392.0, 1591521.0, 575714.0, 608483.0, 641250.0, 1231075.0, 1296609.0, 248036.0, 575720.0, 1460455.0, 641259.0, 477420.0, 149744.0, 1427697.0, 903410.0, 1558769.0, 411893.0, 903415.0, 1132792.0, 837881.0, 84221.0, 1067262.0, 313599.0, 444670.0, 993674.0, 379139.0, 51461.0, 313606.0, 1657095.0, 1034502.0, 1100041.0, 1493260.0, 575771.0, 870683.0, 18717.0, 346399.0, 444703.0, 903458.0, 543011.0, 608549.0, 182565.0, 805159.0, 1362214.0, 379175.0, 1001768.0, 477483.0, 1198381.0, 117039.0, 18736.0, 1165616.0, 1689905.0, 805170.0, 411958.0, 444727.0, 84280.0, 1034552.0, 313658.0, 1296700.0, 1657150.0, 1460544.0, 117059.0, 215364.0, 1001796.0, 608583.0, 706888.0, 1263944.0, 805192.0, 936264.0, 379212.0, 477514.0, 1689934.0, 149839.0, 182608.0, 1493328.0, 1526093.0, 1558860.0, 903509.0, 1165654.0, 346455.0, 1231192.0, 215387.0, 84317.0, 1132893.0, 641376.0, 1493344.0, 936292.0, 1132903.0, 379241.0, 1460587.0, 18797.0, 1198448.0, 1689972.0, 772468.0, 608631.0, 379260.0, 1558909.0, 379263.0, 51587.0, 1132932.0, 18821.0, 51592.0, 1067401.0, 51593.0, 149897.0, 182669.0, 51598.0, 18833.0, 969107.0, 1427860.0, 1001876.0, 969110.0, 18839.0, 1493400.0, 870810.0, 444827.0, 280988.0, 117151.0, 248224.0, 739745.0, 1460642.0, 969119.0, 1034660.0, 117160.0, 215464.0, 870824.0, 1132971.0, 1427882.0, 444842.0, 1558956.0, 805295.0, 772528.0, 870832.0, 510383.0, 1591735.0, 215480.0, 510391.0, 1231291.0, 182716.0, 1329596.0, 543166.0, 1034686.0, 1558974.0, 772545.0, 84421.0, 379333.0, 903623.0, 1427914.0, 1558986.0, 1198541.0, 281041.0, 1329622.0, 838103.0, 1493462.0, 1264091.0, 870880.0, 903650.0, 1198565.0, 346598.0, 84457.0, 674281.0, 1198571.0, 51692.0, 1100268.0, 1460718.0, 1133039.0, 1231344.0, 1493485.0, 18930.0, 1493491.0, 1001963.0, 1001983.0, 1165825.0, 1362436.0, 248325.0, 477700.0, 1001992.0, 1591818.0, 1329675.0, 641548.0, 739853.0, 182798.0, 1329676.0, 1362445.0, 444939.0, 477711.0, 1427990.0, 1395224.0, 379417.0, 969241.0, 444954.0, 1198620.0, 1460765.0, 707103.0, 1428007.0, 1329704.0, 936491.0, 1329709.0, 1395246.0, 84528.0, 248369.0, 870960.0, 379440.0, 18996.0, 1264181.0, 1296949.0, 1428019.0, 608825.0, 1067579.0, 117307.0, 1165883.0, 805435.0, 150080.0, 1460802.0, 1526340.0, 838218.0, 313931.0, 1198669.0, 1428047.0, 150097.0, 870993.0, 903762.0, 150101.0, 379478.0, 1362526.0, 182879.0, 1100384.0, 772703.0, 412257.0, 510561.0, 313956.0, 903786.0, 477802.0, 1264236.0, 477804.0, 739957.0, 510581.0, 707193.0, 641660.0, 313981.0, 1460861.0, 1002109.0, 313987.0, 674436.0, 510595.0, 1165958.0, 641671.0, 838279.0, 313994.0, 1329805.0, 510607.0, 772752.0, 772754.0, 346770.0, 314005.0, 150171.0, 838300.0, 543391.0, 1002145.0, 182946.0, 871075.0, 608933.0, 936615.0, 1493673.0, 1559211.0, 182957.0, 576174.0, 346799.0, 1493680.0, 871089.0, 51891.0, 707256.0, 248505.0, 1166010.0, 248507.0, 281272.0, 84670.0, 608963.0, 903878.0, 1362631.0, 1559240.0, 740042.0, 1592011.0, 1493711.0, 1231568.0, 84691.0, 150228.0, 1329877.0, 1198810.0, 707291.0, 314075.0, 1526492.0, 51937.0, 19170.0, 1657571.0, 314082.0, 19173.0, 1329894.0, 346852.0, 969447.0, 1329897.0, 215786.0, 477927.0, 805612.0, 510692.0, 1690350.0, 707315.0, 1559283.0, 1362678.0, 215799.0, 84728.0, 1297144.0, 1395450.0, 1395451.0, 740092.0, 1067773.0, 1592061.0, 576255.0, 1690369.0, 641795.0, 805635.0, 871173.0, 1002243.0, 576263.0, 117511.0, 412428.0, 1166097.0, 346898.0, 183059.0, 445202.0, 1592085.0, 609045.0, 1035027.0, 1100573.0, 1035040.0, 183074.0, 1526566.0, 248615.0, 969512.0, 805674.0, 740140.0, 1133358.0, 674612.0, 838454.0, 641848.0, 1362745.0, 969529.0, 1657659.0, 1362747.0, 478014.0, 84799.0, 1657664.0, 1231679.0, 52034.0, 510783.0, 969542.0, 1559367.0, 805708.0, 379726.0, 1264472.0, 314203.0, 1362780.0, 19293.0, 707422.0, 772958.0, 1690465.0, 936805.0, 641901.0, 379758.0, 543599.0, 314225.0, 1395570.0, 445299.0, 1657718.0, 1330041.0, 1100666.0, 1330042.0, 904060.0, 314237.0, 248704.0, 1264513.0, 609154.0, 215938.0, 871297.0, 740229.0, 412549.0, 1690503.0, 1526657.0, 478087.0, 1592202.0, 379786.0, 969610.0, 1559430.0, 281487.0, 248720.0, 510865.0, 1198994.0, 412562.0, 1035154.0, 1559448.0, 1100698.0, 150429.0, 543646.0, 1592226.0, 576419.0, 740259.0, 478114.0, 1592234.0, 1231786.0, 1592236.0, 1625004.0, 1231787.0, 281518.0, 969648.0, 576433.0, 150451.0, 1625012.0, 576437.0, 510899.0, 445368.0, 281529.0, 248763.0, 1461180.0, 150461.0, 19390.0, 740287.0, 1559486.0, 1690567.0, 52168.0, 805831.0, 1100749.0, 1690573.0, 1362895.0, 936912.0, 510927.0, 1100759.0, 1559513.0, 1231839.0, 1461215.0, 1330145.0, 52196.0, 936934.0, 969702.0, 150505.0, 183273.0, 1330155.0, 543724.0, 1625069.0, 642029.0, 1625071.0, 52208.0, 1625073.0, 1297393.0, 281585.0, 1395695.0, 379888.0, 1297398.0, 1461233.0, 1625080.0, 478196.0, 1231866.0, 216058.0, 1002486.0, 1035252.0, 838654.0, 52224.0, 347137.0, 1035266.0, 1133571.0, 674820.0, 838662.0, 85001.0, 1297418.0, 1690638.0, 1494032.0, 1461266.0, 543764.0, 1395732.0, 871449.0, 1690650.0, 1559578.0, 1133600.0, 281633.0, 1264674.0, 150563.0, 216099.0, 904228.0, 216102.0, 1461281.0, 543784.0, 1100840.0, 1657898.0, 1199144.0, 674860.0, 1690670.0, 412718.0, 1657904.0, 1330228.0, 216117.0, 1526841.0, 1363003.0, 1592382.0, 674881.0, 707650.0, 216131.0, 543812.0, 248897.0, 1494081.0, 445508.0, 1133640.0, 1526854.0, 379978.0, 1526861.0, 478286.0, 838738.0, 85076.0, 1526869.0, 379990.0, 1395800.0, 1133657.0, 1231961.0, 1264731.0, 773210.0, 248923.0, 838750.0, 805983.0, 1363040.0, 871515.0, 1428573.0, 1461343.0, 1559649.0, 1068133.0, 216166.0, 1002598.0, 674921.0, 1494123.0, 1395823.0, 576633.0, 707705.0, 380025.0, 380026.0, 347263.0, 347267.0, 969859.0, 1264777.0, 478346.0, 314509.0, 1494158.0, 609425.0, 1690769.0, 707731.0, 216209.0, 1297557.0, 1461394.0, 707735.0, 576667.0, 117915.0, 1559708.0, 216222.0, 1068191.0, 380064.0, 1592481.0, 707746.0, 1068196.0, 1395877.0, 380070.0, 838823.0, 1428648.0, 412839.0, 314541.0, 478383.0, 1166512.0, 1166513.0, 1330360.0, 1002680.0, 609466.0, 347325.0, 1494205.0, 1166527.0, 1428672.0, 1133762.0, 1002691.0, 543943.0, 19655.0, 52427.0, 1101003.0, 117965.0, 806092.0, 1330379.0, 85200.0, 838860.0, 937163.0, 281811.0, 478411.0, 1264853.0, 871643.0, 1494236.0, 445663.0, 1166560.0, 1690849.0, 904416.0, 19684.0, 150757.0, 1232103.0, 85225.0, 19690.0, 1232106.0, 1395947.0, 412907.0, 740593.0, 1297649.0, 707827.0, 838897.0, 19701.0, 19702.0, 871681.0, 904451.0, 478467.0, 314629.0, 478472.0, 609547.0, 969995.0, 544015.0, 1297681.0, 249106.0, 347410.0, 281879.0, 806173.0, 281886.0, 1264929.0, 773411.0, 511267.0, 1363241.0, 347434.0, 1363243.0, 118060.0, 871724.0, 871726.0, 937260.0, 1527085.0, 1199412.0, 1592629.0, 1002804.0, 118071.0, 314679.0, 281920.0, 1690946.0, 1527111.0, 1002831.0, 1527119.0, 544081.0, 1658194.0, 740689.0, 642388.0, 1363284.0, 52569.0, 1002841.0, 1559900.0, 1658207.0, 1461606.0, 1101161.0, 871785.0, 642416.0, 1232241.0, 1592690.0, 216436.0, 85369.0, 1527161.0, 249211.0, 1133950.0, 183682.0, 740739.0, 773508.0, 1166725.0, 642439.0, 380295.0, 1166729.0, 445834.0, 1559946.0, 1068429.0, 1658254.0, 871823.0, 347535.0, 445845.0, 970134.0, 609691.0, 413084.0, 1297823.0, 806303.0, 1494432.0, 1363368.0, 1691049.0, 1232298.0, 871851.0, 1527210.0, 675245.0, 85431.0, 19896.0, 85433.0, 1691064.0, 413116.0, 1134014.0, 1527232.0, 806339.0, 413126.0, 413127.0, 642508.0, 1363408.0, 675281.0, 544210.0, 1527252.0, 1658326.0, 216538.0, 118236.0, 1691100.0, 708060.0, 1461724.0, 675299.0, 85476.0, 806374.0, 773609.0, 413164.0, 1527277.0, 1101295.0, 249327.0, 445938.0, 1461749.0, 1560058.0, 609787.0, 314876.0, 511485.0, 904702.0, 1428998.0, 1560072.0, 839178.0, 740875.0, 1035788.0, 1363469.0, 839183.0, 249360.0, 1429009.0, 445973.0, 970261.0, 970263.0, 871960.0, 806425.0, 118298.0, 511516.0, 1560094.0, 839202.0, 1691177.0, 806442.0, 1592875.0, 1592877.0, 347694.0, 380462.0, 970287.0, 740913.0, 1265202.0, 446001.0, 1265204.0, 1199669.0, 839220.0, 1134135.0, 1461812.0, 1297977.0, 970299.0, 216638.0, 314943.0, 1625666.0, 872003.0, 937540.0, 1297989.0, 85578.0, 577099.0, 1101387.0, 1166925.0, 1330762.0, 282194.0, 609875.0, 1541028.0, 1494613.0, 85591.0, 642649.0, 740955.0, 839260.0, 1134173.0, 675421.0, 577119.0, 1265250.0, 544355.0, 1035876.0, 446054.0, 1363563.0, 904815.0, 1691248.0, 347760.0, 118387.0, 1592951.0, 1068665.0, 1396348.0, 544384.0, 1691265.0, 1101443.0, 1003139.0, 151173.0, 1461896.0, 1560205.0, 1166991.0, 183952.0, 380561.0, 1134226.0, 1298066.0, 544404.0, 1330835.0, 1527447.0, 1232536.0, 741017.0, 151194.0, 1625755.0, 904860.0, 904861.0, 446105.0, 1461919.0, 446109.0, 1560224.0, 446119.0, 446120.0, 544426.0, 347819.0, 1593004.0, 1035946.0, 249518.0, 1527474.0, 839349.0, 609974.0, 1265335.0, 1330872.0, 151225.0, 446133.0, 478904.0, 1003196.0, 1691326.0, 1199811.0, 282307.0, 708295.0, 413385.0, 1461962.0, 184011.0, 1199820.0, 249548.0, 1232590.0, 1330895.0, 511695.0, 610001.0, 1625810.0, 1396435.0, 347863.0, 118490.0, 52955.0, 478940.0, 282333.0, 544478.0, 1330916.0, 675557.0, 380646.0, 741097.0, 904938.0, 544491.0, 1593068.0, 1167088.0, 1429232.0, 1494771.0, 85749.0, 741109.0, 1298167.0, 806647.0, 151289.0, 1298169.0, 1330937.0, 478966.0, 1101565.0, 1101566.0, 478973.0, 1298176.0, 1101569.0, 413442.0, 708355.0, 1298180.0, 1462019.0, 1560318.0, 1003271.0, 347913.0, 937738.0, 478987.0, 610064.0, 1462036.0, 347926.0, 1068831.0, 184099.0, 1560356.0, 151337.0, 380716.0, 1625901.0, 479020.0, 708399.0, 1298224.0, 446255.0, 642866.0, 970545.0, 1003312.0, 1003315.0, 1068854.0, 216887.0, 282424.0, 1527609.0, 1396540.0, 741181.0, 380734.0, 53055.0, 1658691.0, 1593157.0, 839495.0, 1593160.0, 1167178.0, 118604.0, 1560397.0, 1036113.0, 1625938.0, 872275.0, 1625940.0, 479062.0, 1003353.0, 642907.0, 1068892.0, 184161.0, 610146.0, 577380.0, 1462117.0, 839530.0, 1625963.0, 1560428.0, 708462.0, 479086.0, 118640.0, 1560433.0, 1298290.0, 1363830.0, 1527670.0, 1625976.0, 610171.0, 1167227.0, 642944.0, 479107.0, 413572.0, 249736.0, 1625993.0, 446349.0, 1200014.0, 577423.0, 1101716.0, 675732.0, 741269.0, 544666.0, 1101725.0, 806814.0, 446365.0, 1527712.0, 479137.0, 511904.0, 1429413.0, 20390.0, 544680.0, 1331112.0, 1462185.0, 315310.0, 1232816.0, 380849.0, 1036214.0, 1068986.0, 839610.0, 1396671.0, 184258.0, 1494980.0, 1494982.0, 1003462.0, 675785.0, 675787.0, 249807.0, 118738.0, 479188.0, 1036246.0, 1462232.0, 1462234.0, 1527770.0, 1036252.0, 479197.0, 741344.0, 872417.0, 217058.0, 806883.0, 1265636.0, 1396705.0, 1036262.0, 610287.0, 1396721.0, 675826.0, 839666.0, 806901.0, 1691639.0, 1331192.0, 1200122.0, 151547.0, 1003515.0, 512000.0, 937986.0, 151557.0, 1495048.0, 937993.0, 249867.0, 348174.0, 1462289.0, 1658899.0, 774163.0, 675862.0, 20504.0, 970776.0, 1003545.0, 1069083.0, 577568.0, 610336.0, 86050.0, 1658915.0, 774176.0, 1658917.0, 806946.0, 20519.0, 380960.0, 1691689.0, 315434.0, 1069099.0, 577581.0, 1626157.0, 708653.0, 249905.0, 577586.0, 1593395.0, 151602.0, 217139.0, 282675.0, 86071.0, 1396786.0, 577598.0, 1658943.0, 413762.0, 413764.0, 151622.0, 479302.0, 1364041.0, 577613.0, 1134670.0, 413782.0, 86105.0, 249946.0, 20575.0, 446560.0, 774241.0, 1527903.0, 577639.0, 807015.0, 1658985.0, 413806.0, 643183.0, 151664.0, 774255.0, 315506.0, 282739.0, 807028.0, 807029.0, 872567.0, 1036412.0, 1233023.0, 577664.0, 708737.0, 249986.0, 774275.0, 249987.0, 1101957.0, 217221.0, 282752.0, 1691784.0, 1331333.0, 807050.0, 577675.0, 1462411.0, 905359.0, 807058.0, 675988.0, 774292.0, 1265817.0, 643226.0, 446618.0, 1069214.0, 118942.0, 53408.0, 708772.0, 544934.0, 1691815.0, 807081.0, 1036464.0, 1691826.0, 381112.0, 315578.0, 577727.0, 1069250.0, 872643.0, 1429700.0, 1364165.0, 643277.0, 446669.0, 1626319.0, 1003727.0, 1429714.0, 315603.0, 676052.0, 446676.0, 1593559.0, 446679.0, 610523.0, 86236.0, 1331420.0, 1036509.0, 676067.0, 708835.0, 1528036.0, 53478.0, 1560805.0, 1036520.0, 1200361.0, 872683.0, 1626349.0, 545006.0, 1200366.0, 905453.0, 643316.0, 250101.0, 1331445.0, 119031.0, 643320.0, 1429751.0, 938228.0, 1528058.0, 643325.0, 807165.0, 479487.0, 1462530.0, 1134853.0, 86282.0, 1495310.0, 1134863.0, 1200401.0, 1429777.0, 1331476.0, 643351.0, 1003799.0, 1528089.0, 1462554.0, 1495324.0, 839965.0, 1233184.0, 577826.0, 1102116.0, 774437.0, 708903.0, 1200424.0, 1200427.0, 1233195.0, 774446.0, 1593647.0, 1134895.0, 1134897.0, 741681.0, 315696.0, 512312.0, 1134906.0, 217404.0, 840000.0, 1462595.0, 1134919.0, 1397064.0, 545098.0, 610634.0, 708939.0, 217421.0, 381259.0, 1003854.0, 1560906.0, 184657.0, 1266002.0, 1429842.0, 905562.0, 971098.0, 315743.0, 1364320.0, 807266.0, 414053.0, 151913.0, 938346.0, 774507.0, 741742.0, 774510.0, 610672.0, 1167728.0, 1102198.0, 315769.0, 250234.0, 446841.0, 971132.0, 1692030.0, 741759.0, 1331583.0, 840068.0, 250245.0, 1364356.0, 545159.0, 348548.0, 53645.0, 1495437.0, 1102224.0, 1036692.0, 53653.0, 1298837.0, 872855.0, 381335.0, 1036695.0, 1233307.0, 1659292.0, 676252.0, 1331612.0, 1397147.0, 119204.0, 1167781.0, 676263.0, 1593769.0, 348586.0, 1364397.0, 709038.0, 1626543.0, 479664.0, 1200569.0, 1331642.0, 1036730.0, 872893.0, 872895.0, 512448.0, 1659330.0, 905667.0, 676292.0, 1692101.0, 840136.0, 512458.0, 1036748.0, 872910.0, 152018.0, 1429970.0, 1135060.0, 1233365.0, 1003991.0, 1102297.0, 643546.0, 152026.0, 1561051.0, 1626590.0, 20959.0, 1593823.0, 86500.0, 1233380.0, 676326.0, 1331686.0, 872935.0, 1593835.0, 971244.0, 1593837.0, 512500.0, 1364474.0, 1069565.0, 1364477.0, 20991.0, 20995.0, 1102340.0, 938501.0, 1069575.0, 1364489.0, 479754.0, 1102347.0, 1476089.0, 610830.0, 610832.0, 840208.0, 1298963.0, 610836.0, 1331731.0, 905750.0, 1528339.0, 479769.0, 1200668.0, 348701.0, 807454.0, 348704.0, 807467.0, 1036844.0, 905773.0, 1528365.0, 578095.0, 1069616.0, 1528366.0, 152122.0, 217658.0, 512572.0, 807485.0, 1528381.0, 1135167.0, 643649.0, 709188.0, 578117.0, 807495.0, 610888.0, 1299017.0, 610890.0, 184906.0, 741965.0, 1626702.0, 512590.0, 1397328.0, 1004112.0, 1135186.0, 905815.0, 610904.0, 545369.0, 578137.0, 741978.0, 1495640.0, 1167965.0, 1659480.0, 1659488.0, 610914.0, 578151.0, 1331819.0, 1036909.0, 1692273.0, 1102450.0, 479863.0, 1331833.0, 1397371.0, 1004162.0, 1593995.0, 1462926.0, 1069713.0, 610961.0, 1168018.0, 1561233.0, 971413.0, 807574.0, 873110.0, 1594008.0, 610969.0, 807578.0, 217755.0, 1430167.0, 971417.0, 152222.0, 1495708.0, 807584.0, 21154.0, 1069731.0, 1528484.0, 774821.0, 643750.0, 1036967.0, 873133.0, 250542.0, 742063.0, 479918.0, 381619.0, 578233.0, 611002.0, 1626812.0, 1462974.0, 152255.0, 1266370.0, 1036996.0, 1561286.0, 250567.0, 938696.0, 938697.0, 1266378.0, 840395.0, 185036.0, 512716.0, 1200847.0, 21200.0, 1430224.0, 1462995.0, 185048.0, 971482.0, 1417514.0, 1037024.0, 119522.0, 1463010.0, 1528546.0, 1200874.0, 1659627.0, 643820.0, 283370.0, 414446.0, 611056.0, 54001.0, 1266424.0, 938745.0, 1331963.0, 611069.0, 185085.0, 1331967.0, 1004290.0, 1200903.0, 1594122.0, 1692426.0, 774924.0, 283404.0, 119566.0, 1528588.0, 480016.0, 1299222.0, 1430296.0, 1397531.0, 938779.0, 1331999.0, 316192.0, 807720.0, 1364776.0, 250669.0, 709424.0, 480055.0, 1233722.0, 1594172.0, 1626940.0, 1200956.0, 1200959.0, 21312.0, 1463104.0, 1594178.0, 1299266.0, 1495868.0, 840517.0, 1495878.0, 545610.0, 381771.0, 742221.0, 578384.0, 1495888.0, 381783.0, 1561431.0, 1430362.0, 1364830.0, 86879.0, 250721.0, 1332066.0, 643939.0, 873314.0, 807783.0, 1004393.0, 414571.0, 578414.0, 1037166.0, 611184.0, 152432.0, 1692532.0, 1266549.0, 1332089.0, 1561466.0, 1692539.0, 1020259.0, 152445.0, 1463168.0, 512896.0, 1397634.0, 1692547.0, 185220.0, 676742.0, 1627016.0, 1627017.0, 349066.0, 1397645.0, 1495950.0, 480142.0, 545681.0, 349074.0, 611219.0, 643989.0, 250774.0, 1037207.0, 1528729.0, 1692570.0, 218012.0, 185245.0, 775071.0, 381856.0, 1528738.0, 1332131.0, 906154.0, 1627051.0, 1201070.0, 381870.0, 1332144.0, 742321.0, 512946.0, 480180.0, 938933.0, 480181.0, 1463224.0, 250809.0, 1561528.0, 1233854.0, 545727.0, 1037246.0, 1266626.0, 906179.0, 381895.0, 250824.0, 381899.0, 447439.0, 185296.0, 1266641.0, 1397712.0, 1332183.0, 1528791.0, 1102809.0, 578522.0, 1135578.0, 316378.0, 381917.0, 971741.0, 1594335.0, 676831.0, 840677.0, 688123.0, 513000.0, 709609.0, 1004522.0, 1266668.0, 283631.0, 250864.0, 1201137.0, 1463284.0, 87029.0, 414709.0, 1299448.0, 1692665.0, 709625.0, 1397755.0, 480254.0, 349185.0, 54279.0, 1135626.0, 1496076.0, 1397773.0, 1332238.0, 283664.0, 906260.0, 1659925.0, 1528854.0, 1037335.0, 906266.0, 1627167.0, 283681.0, 644130.0, 971811.0, 775205.0, 939053.0, 1266736.0, 1135666.0, 1299513.0, 21568.0, 1496128.0, 1397828.0, 1233989.0, 1659975.0, 119879.0, 611401.0, 1659977.0, 545867.0, 185419.0, 1266765.0, 1004617.0, 87119.0, 513102.0, 1135697.0, 218193.0, 185427.0, 152660.0, 644181.0, 1496146.0, 87127.0, 414807.0, 971864.0, 1528916.0, 1070172.0, 218205.0, 1332316.0, 1168479.0, 1201248.0, 349281.0, 316515.0, 1299558.0, 21607.0, 611433.0, 1627242.0, 709738.0, 1496170.0, 1528937.0, 1594478.0, 1365105.0, 1135731.0, 1627253.0, 218231.0, 644216.0, 1332344.0, 1496183.0, 513149.0, 87166.0, 316549.0, 447621.0, 1070215.0, 676999.0, 480396.0, 1660045.0, 316557.0, 513166.0, 1135761.0, 873622.0, 382107.0, 1070239.0, 840865.0, 709794.0, 1037478.0, 349357.0, 1463470.0, 840880.0, 87217.0, 480433.0, 1037490.0, 775352.0, 939194.0, 611517.0, 447678.0, 513215.0, 1660097.0, 87235.0, 1135812.0, 611527.0, 1496265.0, 54474.0, 218314.0, 775374.0, 414928.0, 808146.0, 414933.0, 709846.0, 840919.0, 971999.0, 1037536.0, 1660129.0, 218338.0, 54499.0, 349412.0, 218341.0, 316645.0, 1430754.0, 1561829.0, 1037542.0, 513256.0, 1561830.0, 644332.0, 840940.0, 480492.0, 1201391.0, 972015.0, 21745.0, 1004780.0, 513259.0, 1037552.0, 87286.0, 840950.0, 840952.0, 447735.0, 1135866.0, 1299707.0, 316668.0, 808189.0, 972022.0, 447740.0, 54528.0, 1234177.0, 185601.0, 414978.0, 1692932.0, 1561859.0, 283913.0, 906508.0, 808211.0, 349461.0, 54550.0, 414997.0, 251163.0, 513307.0, 840989.0, 152863.0, 1660192.0, 251167.0, 1496354.0, 644387.0, 840995.0, 873765.0, 513314.0, 742697.0, 1365289.0, 1398058.0, 873779.0, 316726.0, 742711.0, 1660216.0, 1299768.0, 1463609.0, 1267005.0, 1529149.0, 513343.0, 54595.0, 1660230.0, 1660233.0, 611659.0, 1365325.0, 185679.0, 447823.0, 1168721.0, 1168722.0, 677201.0, 808274.0, 906584.0, 1627483.0, 185692.0, 775519.0, 152928.0, 841058.0, 1693030.0, 1168744.0, 1299816.0, 54634.0, 1037673.0, 54636.0, 513386.0, 1627503.0, 1234287.0, 1037682.0, 1594739.0, 1693043.0, 677239.0, 873848.0, 152953.0, 939390.0, 382335.0, 1693058.0, 775556.0, 251270.0, 87431.0, 251271.0, 808326.0, 1168778.0, 1693071.0, 316816.0, 1103249.0, 906642.0, 873875.0, 1398165.0, 578967.0, 546206.0, 546210.0, 1070499.0, 218532.0, 808357.0, 1463718.0, 1365415.0, 1562024.0, 1201586.0, 1168819.0, 513460.0, 1201591.0, 87490.0, 87491.0, 1365444.0, 906690.0, 579014.0, 382407.0, 1201608.0, 218568.0, 742858.0, 1005002.0, 415180.0, 1430990.0, 1529301.0, 611802.0, 185819.0, 710108.0, 644573.0, 54753.0, 87521.0, 1168865.0, 1594854.0, 1594857.0, 579050.0, 677357.0, 546286.0, 87534.0, 972269.0, 579057.0, 1332722.0, 742906.0, 906750.0, 1660417.0, 1365506.0, 775690.0, 1693200.0, 1234449.0, 1005072.0, 54803.0, 1660435.0, 1529361.0, 874007.0, 218653.0, 153119.0, 808480.0, 841247.0, 546338.0, 1103395.0, 808484.0, 1103397.0, 1398309.0, 382502.0, 939551.0, 1529376.0, 1168939.0, 775724.0, 546349.0, 1398315.0, 382507.0, 1168945.0, 874037.0, 644667.0, 153148.0, 808509.0, 1529405.0, 513601.0, 1594948.0, 251461.0, 546374.0, 1070663.0, 1627718.0, 382535.0, 1562185.0, 185931.0, 1463884.0, 775760.0, 1398352.0, 382545.0, 1070675.0, 972372.0, 1267286.0, 251478.0, 1005142.0, 1037911.0, 775771.0, 448091.0, 546397.0, 1627743.0, 1201759.0, 153190.0, 1660519.0, 1300070.0, 1169001.0, 317034.0, 153201.0, 1627765.0, 1398389.0, 415351.0, 317048.0, 349816.0, 1005173.0, 1267323.0, 480891.0, 546430.0, 841342.0, 382591.0, 1267329.0, 1562242.0, 1595011.0, 153220.0, 1693320.0, 743050.0, 1136267.0, 415370.0, 874125.0, 546446.0, 1463951.0, 186003.0, 513687.0, 120474.0, 1431198.0, 54947.0, 1365669.0, 1562278.0, 1660585.0, 743081.0, 1398441.0, 1693356.0, 775853.0, 251566.0, 546479.0, 1562281.0, 1627825.0, 251569.0, 415411.0, 1562287.0, 1103541.0, 87734.0, 972469.0, 1033450.0, 1496765.0, 1300159.0, 251586.0, 1070787.0, 677572.0, 1300165.0, 382661.0, 1070791.0, 939714.0, 710345.0, 448194.0, 841420.0, 317132.0, 448205.0, 54992.0, 644818.0, 1332946.0, 480980.0, 1529564.0, 120541.0, 1431262.0, 153312.0, 505914.0, 1332967.0, 317161.0, 1070828.0, 1365743.0, 874229.0, 1398519.0, 1267448.0, 1693434.0, 874236.0, 1693437.0, 1201920.0, 153354.0, 1038093.0, 1595150.0, 251668.0, 186133.0, 317207.0, 448281.0, 153370.0, 382746.0, 1464091.0, 481049.0, 644894.0, 427771.0, 251680.0, 1070881.0, 1464098.0, 1005340.0, 1529630.0, 1431337.0, 775978.0, 1300268.0, 710445.0, 1234733.0, 710448.0, 1201970.0, 1234739.0, 1562419.0, 677688.0, 120642.0, 87874.0, 1627973.0, 612165.0, 1660743.0, 1431366.0, 972613.0, 907083.0, 284493.0, 120656.0, 1202002.0, 284499.0, 1234775.0, 251736.0, 874330.0, 907099.0, 1202014.0, 579424.0, 1660769.0, 1496928.0, 1464166.0, 1038185.0, 546668.0, 1136493.0, 677741.0, 972656.0, 153458.0, 972659.0, 448373.0, 1136505.0, 87929.0, 841596.0, 1464188.0, 513918.0, 317311.0, 1365887.0, 1020464.0, 841604.0, 448389.0, 743304.0, 415629.0, 1070992.0, 1365904.0, 841619.0, 939923.0, 1398683.0, 22428.0, 153501.0, 645022.0, 350111.0, 645024.0, 1431456.0, 1693603.0, 1038249.0, 1464234.0, 645035.0, 710571.0, 939949.0, 645038.0, 1497005.0, 317361.0, 1398706.0, 513969.0, 1398708.0, 513976.0, 579515.0, 1464256.0, 1660865.0, 1005504.0, 776131.0, 1529799.0, 514001.0, 1169363.0, 153556.0, 88021.0, 1628119.0, 808919.0, 1169369.0, 1136602.0, 22492.0, 645085.0, 743390.0, 1202143.0, 22499.0, 1103845.0, 120805.0, 1071081.0, 808944.0, 1013973.0, 841716.0, 612344.0, 251898.0, 186364.0, 1529853.0, 1234943.0, 808959.0, 710663.0, 22536.0, 1398792.0, 972807.0, 1038345.0, 874517.0, 1464342.0, 1562648.0, 350233.0, 907289.0, 808987.0, 514076.0, 972829.0, 1005601.0, 1333282.0, 1038375.0, 1234985.0, 743467.0, 88110.0, 1595439.0, 186422.0, 809014.0, 1529916.0, 1660990.0, 120895.0, 514111.0, 645185.0, 1660996.0, 383044.0, 1464389.0, 383049.0, 1529932.0, 1595471.0, 1169489.0, 1366097.0, 22614.0, 120919.0, 153688.0, 776281.0, 1497178.0, 1562715.0, 874590.0, 317536.0, 841827.0, 1661028.0, 415846.0, 1529959.0, 1103976.0, 120939.0, 1464429.0, 1169520.0, 940145.0, 940148.0, 1398904.0, 317561.0, 1431678.0, 678015.0, 809088.0, 1661057.0, 1497216.0, 645251.0, 612484.0, 1235076.0, 186501.0, 1005698.0, 1529992.0, 514181.0, 940170.0, 153739.0, 383118.0, 1693839.0, 1693840.0, 1398929.0, 1431696.0, 1497233.0, 1136788.0, 546972.0, 350365.0, 907420.0, 1693855.0, 579744.0, 317600.0, 448670.0, 972960.0, 1038499.0, 1104038.0, 1038504.0, 546985.0, 809132.0, 874669.0, 1398958.0, 1661104.0, 1398960.0, 841909.0, 186550.0, 612535.0, 1005751.0, 1464508.0, 547005.0, 1235133.0, 1202367.0, 1333437.0, 1398981.0, 645318.0, 481479.0, 1628360.0, 1300680.0, 579794.0, 678099.0, 743636.0, 547030.0, 547031.0, 874713.0, 1595612.0, 415965.0, 1267935.0, 1399008.0, 645347.0, 448739.0, 1464549.0, 1136873.0, 1628394.0, 1104109.0, 1661166.0, 1464560.0, 153841.0, 678130.0, 1567620.0, 678132.0, 1136886.0, 121078.0, 776440.0, 22777.0, 907515.0, 415995.0, 448763.0, 1300736.0, 1136899.0, 612613.0, 350470.0, 1693959.0, 1693960.0, 809223.0, 284935.0, 186635.0, 645394.0, 448788.0, 121112.0, 1693976.0, 219416.0, 1202461.0, 219426.0, 383269.0, 1071398.0, 1268007.0, 514343.0, 252204.0, 1431853.0, 1562924.0, 743727.0, 547124.0, 547125.0, 55605.0, 776504.0, 1300792.0, 1005885.0, 1562944.0, 710982.0, 1300812.0, 1038671.0, 1530192.0, 809298.0, 1104211.0, 88404.0, 1530198.0, 678231.0, 1694040.0, 1399130.0, 1169756.0, 1333597.0, 1562976.0, 1038692.0, 252266.0, 809323.0, 907628.0, 809331.0, 907637.0, 1071478.0, 153978.0, 874876.0, 416126.0, 1137023.0, 973184.0, 743810.0, 612739.0, 1202564.0, 1530245.0, 1137031.0, 1628552.0, 1431946.0, 481674.0, 973196.0, 1497484.0, 1628560.0, 1104274.0, 874898.0, 678293.0, 547224.0, 809370.0, 874908.0, 219551.0, 1137056.0, 1137057.0, 383392.0, 1268132.0, 1235367.0, 383399.0, 612777.0, 1300905.0, 154027.0, 842153.0, 1694126.0, 154031.0, 22969.0, 1333690.0, 154043.0, 842172.0, 416185.0, 1071550.0, 940476.0, 1497534.0, 1137089.0, 1038778.0, 678346.0, 1137101.0, 186829.0, 1628623.0, 252365.0, 448974.0, 940502.0, 88535.0, 154071.0, 514521.0, 1595875.0, 186853.0, 350694.0, 1071591.0, 1137128.0, 1595882.0, 1202668.0, 645613.0, 350700.0, 547311.0, 1268207.0, 317937.0, 612850.0, 1169906.0, 1235443.0, 1563121.0, 1071606.0, 1366518.0, 350712.0, 317945.0, 940536.0, 317947.0, 416248.0, 711165.0, 1399294.0, 154111.0, 416256.0, 186881.0, 1268225.0, 1497601.0, 23044.0, 612868.0, 1006077.0, 809479.0, 121352.0, 219657.0, 1104398.0, 121363.0, 1235477.0, 1038871.0, 973338.0, 350748.0, 875037.0, 580128.0, 1563168.0, 645666.0, 186917.0, 350758.0, 1497638.0, 1038888.0, 1169961.0, 121385.0, 285227.0, 252460.0, 612909.0, 317998.0, 645679.0, 678448.0, 1333807.0, 1333810.0, 449070.0, 383542.0, 514614.0, 1399353.0, 1169978.0, 1595966.0, 186942.0, 121408.0, 350784.0, 907839.0, 940615.0, 973384.0, 809545.0, 121420.0, 449101.0, 776783.0, 416335.0, 285267.0, 612948.0, 121429.0, 776788.0, 1661528.0, 1038936.0, 612954.0, 612955.0, 1301085.0, 1464926.0, 1661536.0, 1071715.0, 186979.0, 318053.0, 678502.0, 481892.0, 809577.0, 318060.0, 1628781.0, 1661549.0, 1399404.0, 55923.0, 1464951.0, 875128.0, 350843.0, 940667.0, 1432191.0, 1104512.0, 940672.0, 1170050.0, 744067.0, 973444.0, 1628806.0, 1661576.0, 416396.0, 1530509.0, 547476.0, 940694.0, 1104539.0, 1071772.0, 1661595.0, 1301148.0, 907931.0, 907934.0, 1170082.0, 55971.0, 744105.0, 1006249.0, 973484.0, 711342.0, 776878.0, 875184.0, 1333937.0, 285362.0, 973489.0, 1268407.0, 1104568.0, 514743.0, 187066.0, 1399483.0, 1170108.0, 55997.0, 1039032.0, 1628863.0, 1039035.0, 776898.0, 1694404.0, 1563333.0, 514758.0, 1497801.0, 187082.0, 1333962.0, 1235663.0, 711377.0, 121556.0, 1006292.0, 1399510.0, 252632.0, 1333981.0, 383709.0, 23263.0, 711392.0, 1333984.0, 875231.0, 1006312.0, 1563369.0, 121580.0, 1694444.0, 219886.0, 1596143.0, 1170159.0, 744176.0, 776946.0, 842480.0, 1432307.0, 514796.0, 1563374.0, 1432312.0, 678649.0, 1628926.0, 416513.0, 416514.0, 1301251.0, 187140.0, 1366791.0, 645897.0, 678671.0, 809743.0, 449295.0, 711442.0, 809746.0, 154388.0, 187156.0, 809748.0, 645914.0, 1694491.0, 1563420.0, 1694497.0, 1694500.0, 56101.0, 1334054.0, 285482.0, 318251.0, 351024.0, 449330.0, 613172.0, 1432372.0, 1628985.0, 1530681.0, 56123.0, 580411.0, 875327.0, 1497920.0, 1170241.0, 416578.0, 1563458.0, 1071940.0, 1137478.0, 875334.0, 1137480.0, 547659.0, 1530705.0, 1694551.0, 809816.0, 1268569.0, 285532.0, 1629021.0, 973660.0, 449376.0, 711521.0, 777058.0, 514915.0, 449382.0, 1432425.0, 1235818.0, 56171.0, 809836.0, 777069.0, 908138.0, 1530732.0, 547700.0, 1203061.0, 449399.0, 1039225.0, 1039230.0, 351104.0, 1629059.0, 1137541.0, 547718.0, 678792.0, 646027.0, 1235853.0, 449422.0, 1006478.0, 1203089.0, 809878.0, 1629079.0, 1170328.0, 646041.0, 187290.0, 220056.0, 1334171.0, 1563546.0, 1334175.0, 1104801.0, 940962.0, 482209.0, 711591.0, 1334183.0, 777131.0, 187308.0, 1301419.0, 1334188.0, 1366955.0, 744368.0, 1170353.0, 318385.0, 1563563.0, 940980.0, 1563570.0, 252857.0, 1465275.0, 121789.0, 220093.0, 154560.0, 1399745.0, 1432512.0, 678851.0, 1334213.0, 1170374.0, 220103.0, 678856.0, 23499.0, 1366989.0, 744398.0, 121809.0, 1268693.0, 383957.0, 1563607.0, 383962.0, 875484.0, 1367005.0, 678879.0, 1072096.0, 1563617.0, 89058.0, 1629155.0, 1661924.0, 842724.0, 842726.0, 809960.0, 1104873.0, 23534.0, 1268720.0, 1596401.0, 1596402.0, 1694708.0, 318458.0, 56315.0, 973819.0, 482298.0, 121854.0, 1596418.0, 678916.0, 449541.0, 23561.0, 941066.0, 580619.0, 416782.0, 285713.0, 1530902.0, 1596442.0, 1334298.0, 908319.0, 318496.0, 351266.0, 646180.0, 1236004.0, 121895.0, 875564.0, 941103.0, 89138.0, 154677.0, 318520.0, 678971.0, 220222.0, 842814.0, 220225.0, 449603.0, 1563715.0, 1072200.0, 646217.0, 1104972.0, 1268812.0, 1203280.0, 1137745.0, 285777.0, 89174.0, 777304.0, 646233.0, 121945.0, 1465433.0, 1170524.0, 679009.0, 1399906.0, 908388.0, 121958.0, 777319.0, 1137768.0, 580713.0, 646251.0, 1105004.0, 121963.0, 1236078.0, 810093.0, 1465458.0, 1170549.0, 1203321.0, 506198.0, 384128.0, 1662084.0, 777352.0, 351369.0, 973962.0, 1662091.0, 679052.0, 1334412.0, 810126.0, 220303.0, 1694864.0, 679056.0, 1629330.0, 777361.0, 1399952.0, 1039502.0, 351383.0, 416920.0, 1465496.0, 1662108.0, 941213.0, 1596575.0, 1137823.0, 1268897.0, 842914.0, 1367202.0, 613541.0, 711845.0, 515238.0, 285865.0, 1465516.0, 744621.0, 1268911.0, 548017.0, 1006770.0, 482484.0, 154806.0, 1236150.0, 1596605.0, 1498301.0, 253120.0, 416961.0, 548034.0, 711874.0, 810180.0, 1531073.0, 548039.0, 908487.0, 613577.0, 515274.0, 1334475.0, 974028.0, 1203406.0, 1465550.0, 974031.0, 1531088.0, 941268.0, 1596629.0, 351450.0, 154844.0, 1039580.0, 220382.0, 1105119.0, 449758.0, 1563868.0, 1334499.0, 1072356.0, 1629413.0, 220388.0, 1236199.0, 1268968.0, 384235.0, 679149.0, 482543.0, 908528.0, 974064.0, 1236212.0, 777463.0, 482558.0, 1400064.0, 777473.0, 777478.0, 1236231.0, 941318.0, 711945.0, 1072394.0, 646410.0, 548108.0, 482569.0, 122128.0, 810256.0, 1072404.0, 318740.0, 1301782.0, 89367.0, 1105176.0, 89370.0, 351514.0, 810268.0, 23838.0, 1334558.0, 1400097.0, 1072418.0, 384290.0, 1432868.0, 1105190.0, 711975.0, 515372.0, 515373.0, 679214.0, 154926.0, 285998.0, 1367349.0, 777526.0, 613687.0, 1006903.0, 744761.0, 1039673.0, 1629503.0, 56641.0, 679237.0, 482629.0, 1563975.0, 384329.0, 1432906.0, 1498441.0, 1269070.0, 580943.0, 1334606.0, 482639.0, 712022.0, 351575.0, 1039704.0, 1367390.0, 580962.0, 1629538.0, 712034.0, 384355.0, 974178.0, 875879.0, 1629545.0, 286058.0, 449900.0, 941423.0, 1039731.0, 1269109.0, 1498487.0, 318844.0, 1695103.0, 1400191.0, 1498498.0, 1564040.0, 1432969.0, 1170829.0, 1236365.0, 548239.0, 581008.0, 122256.0, 1170834.0, 712079.0, 744849.0, 744850.0, 1269140.0, 548247.0, 875919.0, 384401.0, 941463.0, 581019.0, 1629595.0, 417177.0, 974237.0, 1105315.0, 1465763.0, 482729.0, 613808.0, 1170865.0, 744883.0, 220595.0, 417204.0, 1334712.0, 351673.0, 1072570.0, 810430.0, 1695167.0, 318916.0, 974276.0, 712135.0, 1531338.0, 1334731.0, 777676.0, 1105357.0, 843211.0, 1400268.0, 1433040.0, 581073.0, 548306.0, 1433041.0, 1498580.0, 777685.0, 220630.0, 24023.0, 482767.0, 941533.0, 1301985.0, 1465826.0, 646628.0, 1596902.0, 1007083.0, 318956.0, 1138157.0, 843246.0, 744945.0, 1433079.0, 1531385.0, 1596922.0, 1400314.0, 515579.0, 1465853.0, 1236479.0, 1596928.0, 1695233.0, 318977.0, 941571.0, 1498631.0, 744972.0, 1465868.0, 318992.0, 1564176.0, 1564177.0, 24086.0, 1334807.0, 56858.0, 548380.0, 1334814.0, 548383.0, 1596961.0, 679457.0, 220707.0, 1629733.0, 1564201.0, 450093.0, 384559.0, 122417.0, 1695281.0, 1400369.0, 679477.0, 1236533.0, 286263.0, 319029.0, 1564214.0, 319034.0, 155195.0, 384571.0, 1498682.0, 1433150.0, 581183.0, 24128.0, 777792.0, 1629762.0, 1465924.0, 1105477.0, 646734.0, 1138255.0, 777809.0, 613970.0, 1662546.0, 876115.0, 1400405.0, 810583.0, 1367639.0, 1072731.0, 646748.0, 1236573.0, 122463.0, 1564256.0, 286307.0, 941667.0, 417379.0, 1334887.0, 122475.0, 319087.0, 777843.0, 908916.0, 810613.0, 24182.0, 876152.0, 1498744.0, 253562.0, 1465980.0, 1039996.0, 941702.0, 581258.0, 646795.0, 286348.0, 417418.0, 1203855.0, 1564305.0, 286354.0, 155283.0, 908948.0, 1138325.0, 1203862.0, 745110.0, 1367708.0, 1564316.0, 89760.0, 220834.0, 1662628.0, 24229.0, 384677.0, 1531557.0, 188073.0, 1236650.0, 351914.0, 122540.0, 253613.0, 876204.0, 1498799.0, 1040042.0, 220849.0, 1695410.0, 777906.0, 1302195.0, 1498809.0, 1105596.0, 1466044.0, 515777.0, 417474.0, 1367747.0, 1466051.0, 1072837.0, 122565.0, 1564363.0, 1040079.0, 581329.0, 1629906.0, 1138385.0, 712403.0, 1236701.0, 1269471.0, 941791.0, 909027.0, 679653.0, 1072870.0, 1269481.0, 843506.0, 450291.0, 1498868.0, 614133.0, 188150.0, 1466103.0, 1105656.0, 155385.0, 712441.0, 1662716.0, 384764.0, 712446.0, 909054.0, 941824.0, 1236737.0, 253698.0, 1007359.0, 1040134.0, 876297.0, 1400585.0, 384778.0, 1269516.0, 1466121.0, 1564431.0, 1171218.0, 319252.0, 1629974.0, 679703.0, 155416.0, 679707.0, 548638.0, 122654.0, 1564446.0, 712481.0, 1531681.0, 1564447.0, 122660.0, 1007396.0, 876327.0, 1072937.0, 57135.0, 1105712.0, 1105715.0, 1531704.0, 679738.0, 876347.0, 1531710.0, 24385.0, 745281.0, 1007429.0, 1400647.0, 614217.0, 122698.0, 1020860.0, 89939.0, 548695.0, 57176.0, 778076.0, 909150.0, 1433439.0, 679779.0, 1630052.0, 384868.0, 712550.0, 483173.0, 352106.0, 515946.0, 647021.0, 24438.0, 843639.0, 253818.0, 253820.0, 1695620.0, 253829.0, 810886.0, 1269640.0, 1007496.0, 1302410.0, 253835.0, 483210.0, 1105809.0, 1695635.0, 548757.0, 57238.0, 1695637.0, 1236885.0, 1335191.0, 1105818.0, 614298.0, 1400727.0, 581533.0, 384920.0, 253855.0, 122785.0, 1531815.0, 57261.0, 1466287.0, 1302449.0, 778162.0, 745395.0, 516017.0, 1302453.0, 810936.0, 1335225.0, 1630138.0, 1662906.0, 909241.0, 1400768.0, 1531841.0, 712642.0, 1302467.0, 1499075.0, 286663.0, 1695688.0, 581577.0, 1564617.0, 90059.0, 24524.0, 352203.0, 974799.0, 1564628.0, 1269718.0, 876508.0, 1630173.0, 450525.0, 1302495.0, 384991.0, 1236961.0, 1630179.0, 1564643.0, 614374.0, 286695.0, 974826.0, 614384.0, 516082.0, 1400819.0, 483317.0, 810998.0, 1302520.0, 581625.0, 385018.0, 385021.0, 1695742.0, 1171457.0, 1597442.0, 548867.0, 1695749.0, 843782.0, 876549.0, 778248.0, 450565.0, 1073162.0, 909323.0, 253967.0, 90128.0, 1662993.0, 712721.0, 1105939.0, 155668.0, 1400852.0, 843799.0, 974874.0, 1269790.0, 221215.0, 548899.0, 1400870.0, 1597481.0, 1630250.0, 1237035.0, 1695789.0, 1073204.0, 417844.0, 1400886.0, 1400887.0, 1007672.0, 581689.0, 90173.0, 1630271.0, 974912.0, 1204292.0, 1368133.0, 1335366.0, 57415.0, 974916.0, 155721.0, 1499208.0, 1204300.0, 1138766.0, 909391.0, 483408.0, 1204305.0, 811091.0, 1564756.0, 122965.0, 712797.0, 942174.0, 417886.0, 188512.0, 1532000.0, 24676.0, 90212.0, 1269862.0, 1335399.0, 942184.0, 974952.0, 647275.0, 1335410.0, 319609.0, 548988.0, 1007740.0, 942206.0, 1466495.0, 352384.0, 155777.0, 1302659.0, 221317.0, 942213.0, 712842.0, 974986.0, 450700.0, 1368206.0, 417936.0, 516240.0, 581779.0, 1335443.0, 1335445.0, 1400980.0, 417940.0, 1499288.0, 1138843.0, 1368220.0, 549022.0, 843936.0, 811171.0, 1564835.0, 254117.0, 319653.0, 1138857.0, 516268.0, 843953.0, 1237172.0, 1335478.0, 680120.0, 1302714.0, 843963.0, 1597632.0, 57537.0, 1401024.0, 450754.0, 24774.0, 975052.0, 319694.0, 1597647.0, 1204431.0, 450769.0, 1564878.0, 24787.0, 549081.0, 745691.0, 1204444.0, 450780.0, 1597663.0, 1401056.0, 1466592.0, 712935.0, 90344.0, 1007847.0, 319726.0, 975090.0, 680182.0, 745722.0, 1630460.0, 286973.0, 1368319.0, 221441.0, 844034.0, 1138947.0, 1368321.0, 385282.0, 1466627.0, 1007875.0, 1040649.0, 1466638.0, 319759.0, 1138960.0, 1270040.0, 1007899.0, 680220.0, 155932.0, 1040667.0, 155942.0, 1597736.0, 1106217.0, 811305.0, 483624.0, 647468.0, 516397.0, 418096.0, 1597746.0, 1663285.0, 1597750.0, 90423.0, 745781.0, 1204537.0, 1368375.0, 647483.0, 90428.0, 1237309.0, 1270078.0, 418104.0, 319808.0, 1466684.0, 1499450.0, 1597765.0, 1204549.0, 450889.0, 1302858.0, 1696076.0, 90445.0, 647510.0, 1270103.0, 778583.0, 221530.0, 1466716.0, 90462.0, 745822.0, 156002.0, 1532261.0, 1335654.0, 1106283.0, 1663339.0, 1007980.0, 1270128.0, 1106290.0, 254322.0, 713076.0, 1237365.0, 1302898.0, 844146.0, 483702.0, 1040756.0, 1368442.0, 778619.0, 713084.0, 1696125.0, 1368444.0, 975232.0, 909697.0, 745860.0, 1630598.0, 1663366.0, 319883.0, 909710.0, 123280.0, 1597841.0, 254355.0, 1466772.0, 352661.0, 1040794.0, 1302940.0, 1597853.0, 418206.0, 1204640.0, 483745.0, 254373.0, 1532325.0, 876969.0, 582058.0, 352684.0, 418221.0, 1335730.0, 1466803.0, 1434036.0, 1335736.0, 975288.0, 1532346.0, 1139131.0, 647615.0, 221632.0, 1335747.0, 1270212.0, 123334.0, 254408.0, 385484.0, 1499597.0, 1663439.0, 811471.0, 582101.0, 680413.0, 942559.0, 1434083.0, 614884.0, 1237479.0, 680424.0, 1499626.0, 1335789.0, 1335790.0, 680431.0, 188911.0, 1466865.0, 90614.0, 1630711.0, 647670.0, 1499639.0, 1565174.0, 1040888.0, 1532412.0, 483839.0, 418305.0, 1532419.0, 582149.0, 385542.0, 942597.0, 1106442.0, 1499658.0, 1401356.0, 451084.0, 90638.0, 1008141.0, 287252.0, 25112.0, 1303064.0, 647708.0, 320028.0, 1040924.0, 1073695.0, 1401377.0, 713251.0, 352803.0, 352809.0, 1532457.0, 1630764.0, 1335855.0, 1040944.0, 1040946.0, 1368631.0, 1434168.0, 778810.0, 844347.0, 877115.0, 1073725.0, 320061.0, 418365.0, 156226.0, 1696327.0, 1466953.0, 877130.0, 1401418.0, 1663565.0, 1204818.0, 189011.0, 25172.0, 156244.0, 1139286.0, 647767.0, 1237590.0, 1335890.0, 352858.0, 1532503.0, 1008218.0, 1270370.0, 254568.0, 877163.0, 844397.0, 1434223.0, 942705.0, 615026.0, 778867.0, 811639.0, 582264.0, 615033.0, 1467004.0, 156285.0, 1139326.0, 1630847.0, 1270402.0, 844418.0, 287364.0, 1335944.0, 615051.0, 811659.0, 844427.0, 713358.0, 549519.0, 680592.0, 254609.0, 942735.0, 680597.0, 1401493.0, 975515.0, 1663645.0, 1139358.0, 647838.0, 811679.0, 1467037.0, 582306.0, 680611.0, 1204899.0, 287396.0, 582316.0, 909996.0, 516780.0, 746159.0, 1270449.0, 615090.0, 811697.0, 1663668.0, 156340.0, 778933.0, 1139383.0, 1499831.0, 1630906.0, 1499838.0, 1172159.0, 1509503.0, 1336001.0, 1270466.0, 975554.0, 1073860.0, 746181.0, 320197.0, 484033.0, 451273.0, 1237708.0, 1139408.0, 680661.0, 975574.0, 1499866.0, 123611.0, 713435.0, 1565403.0, 1663712.0, 549609.0, 1598186.0, 1565422.0, 25328.0, 1073905.0, 1303281.0, 25336.0, 1532664.0, 549626.0, 1565435.0, 1598204.0, 1368830.0, 549631.0, 1401598.0, 451327.0, 1204994.0, 1106692.0, 90884.0, 1696516.0, 811780.0, 320261.0, 910090.0, 1696524.0, 1434381.0, 1434383.0, 58128.0, 844562.0, 1139476.0, 1270549.0, 1270552.0, 1696539.0, 1499932.0, 221981.0, 1270557.0, 1172256.0, 385824.0, 1368867.0, 58148.0, 353060.0, 1499944.0, 516904.0, 1499946.0, 484138.0, 1532716.0, 1205039.0, 1467185.0, 1598262.0, 1401654.0, 1303354.0, 320315.0, 811836.0, 189245.0, 844610.0, 942915.0, 942916.0, 1598278.0, 123720.0, 1368905.0, 58186.0, 1631050.0, 549709.0, 222031.0, 385871.0, 844632.0, 1106777.0, 1106778.0, 1270617.0, 1631068.0, 1368924.0, 123742.0, 385880.0, 1074016.0, 385889.0, 418652.0, 1008476.0, 648036.0, 582501.0, 516967.0, 549736.0, 1205099.0, 484205.0, 385902.0, 353137.0, 910194.0, 1139571.0, 1467249.0, 549752.0, 680825.0, 1500030.0, 1139585.0, 91010.0, 1172359.0, 1205128.0, 156552.0, 942985.0, 1237899.0, 1598348.0, 1336204.0, 910220.0, 1663887.0, 910222.0, 418704.0, 975761.0, 1598355.0, 156570.0, 58267.0, 1500060.0, 1532828.0, 1663905.0, 1696674.0, 1074084.0, 1696676.0, 648102.0, 58282.0, 123823.0, 943023.0, 1270705.0, 648115.0, 156596.0, 975795.0, 943033.0, 943034.0, 1532861.0, 975806.0, 353216.0, 615363.0, 549828.0, 91078.0, 1663945.0, 1106894.0, 320462.0, 1369038.0, 91096.0, 615386.0, 1631198.0, 1532897.0, 812008.0, 549865.0, 1598442.0, 254958.0, 1303537.0, 877554.0, 1434610.0, 615412.0, 1172469.0, 451573.0, 189432.0, 746488.0, 648186.0, 1663995.0, 779257.0, 91133.0, 1434619.0, 222207.0, 1270785.0, 1434629.0, 1434630.0, 254983.0, 1205258.0, 1172494.0, 812047.0, 1139730.0, 648211.0, 877587.0, 910356.0, 1074198.0, 353303.0, 451603.0, 1369114.0, 943131.0, 844829.0, 255007.0, 844831.0, 844836.0, 1369126.0, 1172519.0, 680999.0, 844842.0, 1500203.0, 418860.0, 1532974.0, 1467439.0, 910384.0, 1008689.0, 58419.0, 418869.0, 1664062.0, 1467458.0, 746565.0, 1303622.0, 1139787.0, 1533004.0, 1369165.0, 1467472.0, 975952.0, 648275.0, 549973.0, 1041495.0, 1500248.0, 1008728.0, 877660.0, 451679.0, 1664096.0, 1401952.0, 519627.0, 1696873.0, 746602.0, 25709.0, 779374.0, 549999.0, 1631343.0, 25713.0, 287857.0, 418930.0, 844916.0, 1467507.0, 1533048.0, 648314.0, 779388.0, 1139837.0, 451708.0, 91264.0, 124032.0, 517249.0, 353411.0, 1664136.0, 1664139.0, 1139854.0, 1238159.0, 451726.0, 1205394.0, 1008786.0, 1074324.0, 648341.0, 1696917.0, 812183.0, 1336472.0, 1631387.0, 156829.0, 451742.0, 877727.0, 124064.0, 1598627.0, 976035.0, 222373.0, 1402021.0, 713902.0, 124079.0, 1238194.0, 255155.0, 1336501.0, 1402038.0, 844984.0, 1664185.0, 713915.0, 1238205.0, 1139902.0, 1467586.0, 1565890.0, 1631431.0, 1139912.0, 287950.0, 1533138.0, 1238227.0, 1238235.0, 746715.0, 877788.0, 189662.0, 910559.0, 582881.0, 1238244.0, 1631461.0, 222436.0, 1336548.0, 1402088.0, 582889.0, 1434858.0, 1336555.0, 1467628.0, 1008879.0, 1402096.0, 1598706.0, 1336562.0, 353524.0, 222453.0, 1139958.0, 1238263.0, 386292.0, 943350.0, 713982.0, 484607.0, 124160.0, 484611.0, 353540.0, 1500420.0, 615686.0, 1434886.0, 648456.0, 812298.0, 1467659.0, 1008911.0, 156945.0, 58643.0, 1008917.0, 255255.0, 1434903.0, 1533207.0, 451866.0, 648476.0, 1205533.0, 714013.0, 1336607.0, 714016.0, 1107233.0, 1434908.0, 1008925.0, 1008931.0, 1205546.0, 779572.0, 189749.0, 812341.0, 1697082.0, 124223.0, 1336640.0, 582977.0, 25922.0, 320833.0, 386367.0, 1041728.0, 1566022.0, 1303887.0, 1402191.0, 222545.0, 1402195.0, 189780.0, 910677.0, 1303894.0, 484693.0, 779609.0, 1566043.0, 1172828.0, 1008998.0, 1566054.0, 1140073.0, 1303914.0, 1140075.0, 25965.0, 1598830.0, 1697133.0, 1598835.0, 353652.0, 714102.0, 1074552.0, 222585.0, 1533305.0, 157053.0, 910721.0, 1631619.0, 1533317.0, 1336711.0, 812427.0, 157072.0, 1697169.0, 615829.0, 1435029.0, 124312.0, 648603.0, 1598876.0, 1467803.0, 124318.0, 1697182.0, 615840.0, 910753.0, 1566113.0, 1271203.0, 419236.0, 1369509.0, 615846.0, 157096.0, 189864.0, 1205675.0, 845232.0, 484785.0, 1631666.0, 1435058.0, 976306.0, 648629.0, 976308.0, 1041851.0, 1500607.0, 1500609.0, 1271234.0, 550340.0, 779719.0, 1467848.0, 1402313.0, 452041.0, 124363.0, 353742.0, 1402319.0, 222672.0, 58840.0, 91610.0, 1172954.0, 320987.0, 1205725.0, 452059.0, 26080.0, 1697250.0, 550371.0, 1140196.0, 222690.0, 1402338.0, 1467875.0, 550378.0, 1533419.0, 452076.0, 1074672.0, 1631729.0, 1074674.0, 1238515.0, 419316.0, 386555.0, 386560.0, 1009154.0, 189957.0, 1074695.0, 222732.0, 550413.0, 419340.0, 1500688.0, 1467922.0, 1697299.0, 779795.0, 878102.0, 1009174.0, 976410.0, 1566238.0, 1369631.0, 386597.0, 452134.0, 1336875.0, 779820.0, 1041963.0, 1402414.0, 157235.0, 1533492.0, 157237.0, 419383.0, 157242.0, 812611.0, 1140293.0, 386629.0, 255559.0, 1238600.0, 1336903.0, 386631.0, 1599051.0, 1304140.0, 1369677.0, 1205838.0, 583247.0, 1435211.0, 124497.0, 190033.0, 321106.0, 910936.0, 386648.0, 1140315.0, 1599069.0, 517728.0, 58977.0, 779874.0, 1631844.0, 1697380.0, 1468007.0, 26216.0, 681577.0, 1631850.0, 1697386.0, 583277.0, 1402483.0, 91765.0, 648822.0, 812664.0, 91769.0, 353914.0, 1697403.0, 1402492.0, 124541.0, 1009280.0, 1140354.0, 91781.0, 386694.0, 812682.0, 1435275.0, 1435274.0, 419469.0, 1042062.0, 910992.0, 681618.0, 91798.0, 91801.0, 288409.0, 1631899.0, 845466.0, 1009305.0, 1468062.0, 419487.0, 583329.0, 1435298.0, 1042084.0, 648870.0, 1664679.0, 845480.0, 1599148.0, 1009332.0, 747190.0, 1238712.0, 1140410.0, 1435324.0, 1074878.0, 288446.0, 1599169.0, 1369794.0, 1402563.0, 1664708.0, 124613.0, 1337029.0, 222921.0, 845515.0, 59087.0, 26320.0, 681679.0, 255697.0, 1173203.0, 845522.0, 1402579.0, 386774.0, 419540.0, 485079.0, 1173209.0, 878300.0, 386785.0, 648930.0, 943845.0, 550631.0, 943848.0, 1140458.0, 1042156.0, 1271533.0, 780013.0, 1435376.0, 26354.0, 943860.0, 485110.0, 1664759.0, 1566455.0, 1107706.0, 1271546.0, 943875.0, 845574.0, 550666.0, 1500939.0, 1140492.0, 1238797.0, 1468175.0, 1435410.0, 1107732.0, 1664790.0, 550685.0, 780063.0, 354080.0, 124705.0, 1468193.0, 1533728.0, 1173284.0, 1009443.0, 1304359.0, 583474.0, 157490.0, 354100.0, 1402681.0, 1238842.0, 714555.0, 681788.0, 812858.0, 1238846.0, 1369918.0, 714560.0, 1632065.0, 1173314.0, 649027.0, 747330.0, 1304388.0, 26438.0, 812868.0, 1075016.0, 223052.0, 1369932.0, 452434.0, 26452.0, 681812.0, 190293.0, 649049.0, 288601.0, 1599323.0, 1402714.0, 1697629.0, 1468251.0, 1402719.0, 747360.0, 616289.0, 1271649.0, 878432.0, 878436.0, 1468258.0, 1566559.0, 190311.0, 223080.0, 878439.0, 943977.0, 747371.0, 714605.0, 1140590.0, 255853.0, 1042287.0, 485234.0, 943989.0, 223095.0, 59256.0, 1468279.0, 1468282.0, 513271.0, 1206141.0, 1238916.0, 288651.0, 1173388.0, 288653.0, 124814.0, 255886.0, 1009550.0, 714641.0, 1337233.0, 878484.0, 1599381.0, 354199.0, 485272.0, 1566615.0, 1435547.0, 1009569.0, 1664936.0, 878506.0, 255915.0, 288684.0, 714669.0, 976810.0, 1271727.0, 1009580.0, 1173425.0, 485293.0, 485298.0, 1206196.0, 1271732.0, 386998.0, 1632184.0, 1238968.0, 1370041.0, 714683.0, 1009594.0, 1238974.0, 157631.0, 1599430.0, 354251.0, 747468.0, 1599439.0, 1173457.0, 714705.0, 321489.0, 1632213.0, 1599446.0, 255958.0, 485334.0, 1337305.0, 485338.0, 321499.0, 452573.0, 1009631.0, 550881.0, 583650.0, 780258.0, 288741.0, 1009638.0, 714732.0, 321518.0, 1271791.0, 944112.0, 813041.0, 1533936.0, 1042418.0, 255988.0, 321526.0, 321527.0, 1337340.0, 124925.0, 1697789.0, 747518.0, 1566717.0, 223233.0, 1402883.0, 616452.0, 550917.0, 1533956.0, 813063.0, 1501191.0, 681998.0, 1140751.0, 1632274.0, 682003.0, 714770.0, 1271827.0, 256022.0, 321557.0, 878614.0, 1271833.0, 1402903.0, 878617.0, 1697820.0, 649245.0, 1107998.0, 1402905.0, 288801.0, 1271842.0, 1435683.0, 1566756.0, 911398.0, 649256.0, 1632299.0, 1173547.0, 747564.0, 649265.0, 124977.0, 1534004.0, 714806.0, 714807.0, 1108024.0, 780342.0, 1009722.0, 1108027.0, 780348.0, 1337403.0, 419903.0, 1501247.0, 354369.0, 1239107.0, 1697860.0, 1108037.0, 157766.0, 1402947.0, 583755.0, 747597.0, 976973.0, 1665103.0, 1075281.0, 1370193.0, 1304662.0, 714844.0, 387166.0, 1206367.0, 1009759.0, 321633.0, 1304675.0, 976999.0, 518248.0, 780393.0, 1173611.0, 1697902.0, 26735.0, 452718.0, 616563.0, 223349.0, 1599606.0, 878711.0, 1304697.0, 878721.0, 321667.0, 1665157.0, 714886.0, 949688.0, 1534087.0, 256137.0, 944267.0, 256142.0, 1271951.0, 321680.0, 583826.0, 1075352.0, 321692.0, 1370272.0, 1108130.0, 256166.0, 911527.0, 1239208.0, 1304745.0, 387240.0, 551084.0, 1206446.0, 1665199.0, 485554.0, 518323.0, 157876.0, 1173686.0, 321719.0, 911544.0, 157881.0, 485564.0, 813246.0, 518334.0, 911556.0, 1009860.0, 1206473.0, 682187.0, 911563.0, 1501389.0, 485582.0, 1566929.0, 1173714.0, 682196.0, 1632470.0, 1468633.0, 977117.0, 518369.0, 1140963.0, 92388.0, 452837.0, 321767.0, 551144.0, 583915.0, 1435883.0, 1042670.0, 59633.0, 190705.0, 354548.0, 1304821.0, 583927.0, 1632504.0, 223481.0, 616700.0, 223484.0, 256254.0, 682240.0, 1108227.0, 125187.0, 846084.0, 878852.0, 1534213.0, 780552.0, 878856.0, 92429.0, 878863.0, 223504.0, 125201.0, 223505.0, 1567000.0, 1435933.0, 256286.0, 1370398.0, 813344.0, 354590.0, 715042.0, 1337635.0, 125220.0, 977186.0, 977190.0, 682279.0, 1534246.0, 1534249.0, 1042727.0, 26923.0, 518443.0, 649519.0, 944434.0, 1173813.0, 780599.0, 1665338.0, 223547.0, 1501500.0, 1304893.0, 1599816.0, 1370441.0, 1567050.0, 551243.0, 1141068.0, 1698128.0, 1632594.0, 26964.0, 387418.0, 780637.0, 1567069.0, 747871.0, 1272160.0, 977247.0, 551269.0, 1567077.0, 1141095.0, 125288.0, 1173866.0, 1698155.0, 158059.0, 452971.0, 1010027.0, 59760.0, 682352.0, 387445.0, 551289.0, 911737.0, 747903.0, 1173889.0, 158089.0, 1403274.0, 1534348.0, 1239438.0, 551312.0, 1599888.0, 59796.0, 682392.0, 1534361.0, 223643.0, 125342.0, 1173919.0, 715168.0, 551329.0, 1272224.0, 1239461.0, 387495.0, 125352.0, 1436072.0, 158122.0, 1141165.0, 420269.0, 1206703.0, 92594.0, 1305012.0, 584117.0, 616887.0, 1108408.0, 223673.0, 977339.0, 846268.0, 1010107.0, 1272254.0, 1010111.0, 551360.0, 1599937.0, 1141184.0, 387529.0, 190924.0, 1403342.0, 1239503.0, 1698261.0, 1599958.0, 584151.0, 551384.0, 879063.0, 1403352.0, 911835.0, 289244.0, 59871.0, 616930.0, 125410.0, 1534434.0, 846310.0, 1141225.0, 616938.0, 649706.0, 1239529.0, 1042923.0, 1272303.0, 1042928.0, 387572.0, 1403381.0, 977403.0, 1468925.0, 485888.0, 977410.0, 1075715.0, 1534466.0, 322054.0, 1108490.0, 1632778.0, 616972.0, 977420.0, 485899.0, 1042954.0, 1108500.0, 616980.0, 1698324.0, 289300.0, 354839.0, 387606.0, 1501723.0, 1665566.0, 1403423.0, 1468958.0, 453153.0, 1305122.0, 420388.0, 354856.0, 911913.0, 1501738.0, 1010218.0, 1698349.0, 1108530.0, 715315.0, 387634.0, 1698357.0, 1010228.0, 944695.0, 223800.0, 846393.0, 354876.0, 1567292.0, 1272383.0, 92736.0, 1108545.0, 158280.0, 420426.0, 1698379.0, 617036.0, 846411.0, 1010252.0, 1534545.0, 1698388.0, 813653.0, 1469014.0, 1108567.0, 1010262.0, 420442.0, 1403483.0, 354908.0, 1174109.0, 420444.0, 354912.0, 191073.0, 322146.0, 1403488.0, 1141348.0, 485985.0, 518757.0, 60007.0, 1075816.0, 584296.0, 584300.0, 223856.0, 1403505.0, 191092.0, 1043064.0, 1141369.0, 1665658.0, 322173.0, 1600131.0, 191107.0, 551557.0, 1698437.0, 748167.0, 453252.0, 354953.0, 453253.0, 977540.0, 912012.0, 125581.0, 1010323.0, 1534615.0, 354968.0, 486044.0, 453280.0, 617125.0, 1469097.0, 223915.0, 715436.0, 191150.0, 1043118.0, 1043119.0, 1206963.0, 1338035.0, 584377.0, 748218.0, 1305273.0, 355003.0, 813757.0, 1436346.0, 944825.0, 1509910.0, 355009.0, 1141442.0, 1043132.0, 715460.0, 1567424.0, 1272520.0, 27344.0, 912082.0, 1239765.0, 715478.0, 748247.0, 846553.0, 27361.0, 92898.0, 191205.0, 1567464.0, 551657.0, 1633002.0, 912105.0, 1047503.0, 1436397.0, 1534702.0, 1534703.0, 256752.0, 191219.0, 92920.0, 1469177.0, 486138.0, 92924.0, 387837.0, 1075966.0, 1047507.0, 551683.0, 944900.0, 1108742.0, 224006.0, 1305358.0, 1207057.0, 617235.0, 551700.0, 1174292.0, 1207059.0, 1239828.0, 387859.0, 1534745.0, 1272602.0, 1305372.0, 551709.0, 486181.0, 1403687.0, 1633067.0, 1698605.0, 453422.0, 1567538.0, 92980.0, 1207096.0, 879417.0, 1534783.0, 224064.0, 92993.0, 1665857.0, 1108803.0, 1207108.0, 1010499.0, 748358.0, 912198.0, 518983.0, 1239882.0, 1239883.0, 617292.0, 846670.0, 1239887.0, 518992.0, 158547.0, 518996.0, 944982.0, 715608.0, 60249.0, 1600346.0, 1698649.0, 125787.0, 519000.0, 1567577.0, 781151.0, 1305439.0, 486245.0, 682857.0, 1633130.0, 158571.0, 912236.0, 322414.0, 879470.0, 158576.0, 912239.0, 1698678.0, 1698679.0, 1141624.0, 1698681.0, 224122.0, 519035.0, 1272703.0, 682880.0, 387969.0, 945024.0, 256899.0, 158596.0, 420738.0, 453503.0, 813959.0, 1371015.0, 519040.0, 1371018.0, 1403787.0, 27532.0, 1534858.0, 1338267.0, 519067.0, 551840.0, 650145.0, 748449.0, 1305507.0, 1665958.0, 682919.0, 1108904.0, 551848.0, 1174441.0, 191403.0, 1043368.0, 388015.0, 814000.0, 322480.0, 1076149.0, 1174453.0, 224183.0, 1239992.0, 945084.0, 1600445.0, 846781.0, 912317.0, 1534913.0, 60355.0, 682948.0, 93125.0, 617414.0, 1665990.0, 977864.0, 977865.0, 1043399.0, 355277.0, 1371088.0, 650195.0, 125907.0, 191445.0, 945109.0, 977876.0, 814041.0, 191451.0, 191454.0, 1666015.0, 1141730.0, 1666020.0, 1502181.0, 1698790.0, 420840.0, 912361.0, 486378.0, 1371115.0, 1108972.0, 1567721.0, 1371119.0, 125936.0, 93172.0, 1174516.0, 1666038.0, 257014.0, 60413.0, 1240061.0, 683007.0, 453633.0, 1076228.0, 1240068.0, 551946.0, 1633291.0, 683019.0, 1338381.0, 879626.0, 814096.0, 683025.0, 1371154.0, 322579.0, 1403922.0, 453649.0, 453650.0, 1338391.0, 27672.0, 1666073.0, 1600538.0, 1469463.0, 1502232.0, 224285.0, 322589.0, 1305631.0, 977946.0, 748577.0, 1371170.0, 814115.0, 1272871.0, 486441.0, 453675.0, 1174572.0, 650288.0, 1436723.0, 584756.0, 650292.0, 388150.0, 420918.0, 1469494.0, 1502263.0, 519222.0, 453692.0, 257085.0, 1174590.0, 977982.0, 1535037.0, 126021.0, 814150.0, 1600589.0, 1633359.0, 1207375.0, 93265.0, 1207378.0, 1403984.0, 388176.0, 486480.0, 1010768.0, 1567826.0, 912473.0, 486489.0, 1633372.0, 584797.0, 93278.0, 224350.0, 1436769.0, 1305698.0, 257124.0, 1666149.0, 1404004.0, 1469541.0, 715880.0, 519272.0, 1600619.0, 355435.0, 584814.0, 1633391.0, 1404015.0, 1436784.0, 945262.0, 1502322.0, 1469557.0, 257143.0, 1338488.0, 1338490.0, 388219.0, 1109116.0, 388221.0, 453755.0, 978048.0, 1666177.0, 1240198.0, 1010822.0, 1633419.0, 388236.0, 1141906.0, 1174677.0, 715928.0, 945304.0, 224410.0, 289947.0, 421020.0, 1371293.0, 814238.0, 1502364.0, 1207456.0, 1502368.0, 617634.0, 1141923.0, 1535139.0, 1043612.0, 945319.0, 1174696.0, 224424.0, 191658.0, 1436840.0, 1174700.0, 945320.0, 1469617.0, 748722.0, 1034568.0, 1600694.0, 683190.0, 1076409.0, 191677.0, 1305790.0, 1633472.0, 93380.0, 453831.0, 453832.0, 1273034.0, 1010893.0, 421070.0, 126160.0, 1076433.0, 1699025.0, 486611.0, 1600724.0, 191701.0, 1535188.0, 93399.0, 1600728.0, 453849.0, 1633498.0, 1273050.0, 552157.0, 1371360.0, 191715.0, 519396.0, 1666277.0, 191718.0, 748776.0, 1338602.0, 1535211.0, 1273071.0, 322800.0, 126193.0, 290034.0, 1010932.0, 748790.0, 1535223.0, 1076473.0, 945402.0, 1633531.0, 27900.0, 1043707.0, 421120.0, 126212.0, 257287.0, 716040.0, 322825.0, 748812.0, 1371405.0, 1633550.0, 486670.0, 650512.0, 355601.0, 1010961.0, 847123.0, 126228.0, 1535247.0, 126239.0, 1666336.0, 1404192.0, 1436960.0, 290083.0, 191780.0, 93480.0, 716072.0, 519464.0, 814381.0, 93488.0, 1240368.0, 716083.0, 1568052.0, 716088.0, 847160.0, 257339.0, 1011005.0, 617791.0, 1633600.0, 1338689.0, 1109314.0, 978241.0, 1535296.0, 486721.0, 1011012.0, 650567.0, 257351.0, 322888.0, 1371467.0, 1600844.0, 224588.0, 322892.0, 1568076.0, 1699153.0, 93524.0, 388436.0, 1174873.0, 355673.0, 912729.0, 1699165.0, 1371485.0, 1600863.0, 126305.0, 617828.0, 28005.0, 945510.0, 519527.0, 1109352.0, 1371497.0, 1502569.0, 1174893.0, 1502575.0, 290160.0, 60785.0, 945520.0, 1535348.0, 322934.0, 60791.0, 1338743.0, 1305977.0, 879991.0, 748925.0, 1174910.0, 1207679.0, 1404287.0, 1207685.0, 1207686.0, 1338759.0, 1469830.0, 585098.0, 1699210.0, 650635.0, 716170.0, 224654.0, 28047.0, 978317.0, 552339.0, 1469845.0, 585110.0, 781719.0, 716184.0, 355739.0, 355741.0, 1142175.0, 1011104.0, 1142179.0, 1174950.0, 1043879.0, 1306026.0, 93612.0, 257452.0, 1666479.0, 552370.0, 28083.0, 1699252.0, 1338803.0, 257462.0, 1371574.0, 945590.0, 978362.0, 978366.0, 1011136.0, 1404357.0, 912840.0, 978378.0, 585163.0, 650699.0, 781773.0, 1306062.0, 552399.0, 1142224.0, 1142225.0, 978385.0, 191955.0, 1371603.0, 1043917.0, 290262.0, 1043920.0, 1371610.0, 1371613.0, 421343.0, 421346.0, 93667.0, 1437160.0, 454120.0, 126448.0, 159217.0, 290290.0, 1207797.0, 1240567.0, 93688.0, 880121.0, 1175034.0, 519673.0, 60924.0, 323068.0, 421373.0, 847361.0, 257540.0, 1011205.0, 126470.0, 1535496.0, 847374.0, 650770.0, 1306131.0, 1371668.0, 585237.0, 355862.0, 912919.0, 486933.0, 716314.0, 716315.0, 749082.0, 388635.0, 421403.0, 355871.0, 1502751.0, 93729.0, 1011234.0, 1043999.0, 519712.0, 880165.0, 28199.0, 1371688.0, 224811.0, 552492.0, 781868.0, 552494.0, 159278.0, 1306156.0, 880175.0, 388655.0, 880180.0, 552501.0, 814645.0, 585271.0, 978484.0, 978486.0, 978489.0, 1338940.0, 1011262.0, 585284.0, 224837.0, 388680.0, 28234.0, 880202.0, 1666637.0, 585300.0, 126549.0, 224861.0, 716382.0, 1633886.0, 126561.0, 1371746.0, 1404513.0, 781924.0, 814692.0, 487009.0, 257639.0, 1011302.0, 880233.0, 716395.0, 1568364.0, 1109613.0, 93806.0, 388718.0, 224884.0, 978549.0, 388728.0, 1339002.0, 257664.0, 945793.0, 1699458.0, 1011331.0, 519808.0, 814726.0, 290438.0, 1601160.0, 224905.0, 1142410.0, 1699474.0, 1470098.0, 945812.0, 1207957.0, 880279.0, 978583.0, 814745.0, 1240730.0, 1699483.0, 1542670.0, 978589.0, 1666718.0, 585376.0, 650912.0, 388769.0, 978594.0, 1470116.0, 487076.0, 421542.0, 519842.0, 28328.0, 1175208.0, 356015.0, 61104.0, 978609.0, 1011379.0, 1175222.0, 1339062.0, 1011383.0, 1666746.0, 1011390.0, 1109698.0, 1208008.0, 1011401.0, 323275.0, 1044171.0, 519884.0, 356046.0, 1502926.0, 1371856.0, 519885.0, 1076946.0, 1044172.0, 126678.0, 552663.0, 224984.0, 1339100.0, 782045.0, 1240798.0, 1371870.0, 650976.0, 192224.0, 1634018.0, 552675.0, 847584.0, 880354.0, 356068.0, 1109735.0, 224999.0, 388832.0, 454371.0, 1535720.0, 913132.0, 749293.0, 1699573.0, 1011445.0, 1470199.0, 782072.0, 1666815.0, 814847.0, 585477.0, 257798.0, 323341.0, 1535762.0, 552724.0, 1240852.0, 1601303.0, 28440.0, 1240855.0, 782106.0, 1371929.0, 1601308.0, 519964.0, 945958.0, 945959.0, 1011496.0, 421673.0, 519974.0, 1011499.0, 1208109.0, 1044269.0, 225072.0, 192308.0, 1077047.0, 716599.0, 651065.0, 1208121.0, 945979.0, 618301.0, 1044288.0, 356163.0, 61253.0, 1699653.0, 1470277.0, 749384.0, 454487.0, 1470296.0, 1273691.0, 878394.0, 1470302.0, 814943.0, 388959.0, 1208165.0, 1273701.0, 1535849.0, 946029.0, 1503085.0, 454511.0, 618354.0, 225138.0, 388982.0, 1568631.0, 880506.0, 1175419.0, 978812.0, 1503104.0, 356225.0, 913281.0, 1601411.0, 454532.0, 1568645.0, 1175430.0, 454535.0, 1699721.0, 257929.0, 716683.0, 28556.0, 749451.0, 782221.0, 487312.0, 257937.0, 782226.0, 1208211.0, 1666967.0, 782231.0, 651161.0, 323484.0, 618398.0, 552863.0, 1208223.0, 126881.0, 1306528.0, 356258.0, 1142693.0, 1339302.0, 716711.0, 126888.0, 421798.0, 1535909.0, 1306539.0, 159660.0, 749487.0, 454577.0, 618418.0, 1273780.0, 257974.0, 978870.0, 61369.0, 1077179.0, 1601470.0, 454593.0, 1175491.0, 28614.0, 1601479.0, 1568710.0, 716746.0, 192458.0, 1011660.0, 716749.0, 192461.0, 585679.0, 978896.0, 651219.0, 1568725.0, 126934.0, 61401.0, 618462.0, 749536.0, 192484.0, 258021.0, 1306602.0, 1273838.0, 1667056.0, 126960.0, 389105.0, 356340.0, 978934.0, 1110007.0, 225271.0, 946170.0, 1273851.0, 1208317.0, 28672.0, 847875.0, 159753.0, 1306634.0, 1142795.0, 1208334.0, 946195.0, 1503251.0, 1110042.0, 1110043.0, 127004.0, 1208348.0, 520220.0, 487456.0, 1110050.0, 290850.0, 1339438.0, 1372208.0, 1110068.0, 1208372.0, 421943.0, 28729.0, 1536057.0, 913467.0, 651325.0, 1601601.0, 618562.0, 159814.0, 1306696.0, 290888.0, 61514.0, 684107.0, 225359.0, 1077328.0, 1699920.0, 684114.0, 290899.0, 815190.0, 1175640.0, 389212.0, 1568864.0, 1142885.0, 1273958.0, 1077355.0, 880747.0, 716909.0, 1372270.0, 1405038.0, 749680.0, 1273977.0, 651387.0, 1372284.0, 1437820.0, 61570.0, 946306.0, 159877.0, 651399.0, 159879.0, 1405067.0, 1667213.0, 159885.0, 1667216.0, 520336.0, 880786.0, 815252.0, 1175701.0, 1175702.0, 1372311.0, 1437846.0, 1241241.0, 290970.0, 94364.0, 1175708.0, 684189.0, 454814.0, 585889.0, 1241250.0, 651427.0, 1077412.0, 618661.0, 1405089.0, 1011873.0, 159914.0, 225451.0, 1306794.0, 487597.0, 946354.0, 1044661.0, 28855.0, 880823.0, 1634489.0, 1241273.0, 1044665.0, 520378.0, 553151.0, 553153.0, 1208513.0, 1372353.0, 880835.0, 225477.0, 913604.0, 520391.0, 1667276.0, 291027.0, 553175.0, 454875.0, 28892.0, 1372380.0, 422110.0, 1601759.0, 1634528.0, 618721.0, 782560.0, 520419.0, 1634533.0, 94437.0, 684263.0, 1143018.0, 1634541.0, 848110.0, 1405175.0, 1044727.0, 1372413.0, 1667326.0, 651519.0, 1569021.0, 1470722.0, 258309.0, 356614.0, 291079.0, 1667337.0, 553226.0, 1241355.0, 454924.0, 651533.0, 913677.0, 1274128.0, 1274133.0, 1437975.0, 1470743.0, 618778.0, 1405210.0, 454941.0, 1536287.0, 487713.0, 553250.0, 717090.0, 356644.0, 1405224.0, 782633.0, 1601837.0, 291121.0, 1700147.0, 258355.0, 1077557.0, 913716.0, 651575.0, 1634618.0, 520507.0, 1077565.0, 1503552.0, 1372481.0, 1503554.0, 782660.0, 782662.0, 258379.0, 749901.0, 127310.0, 1339728.0, 848208.0, 356693.0, 1405272.0, 1241433.0, 1339738.0, 389465.0, 1634652.0, 356700.0, 1470813.0, 455005.0, 553312.0, 717152.0, 979294.0, 455010.0, 520539.0, 1044833.0, 1372518.0, 815463.0, 1503592.0, 1372521.0, 1110378.0, 29037.0, 1012078.0, 1175919.0, 1470831.0, 586098.0, 1012085.0, 1208695.0, 1077624.0, 160119.0, 1470842.0, 979324.0, 618877.0, 815486.0, 1110399.0, 553344.0, 1110402.0, 291205.0, 1601926.0, 1470860.0, 815501.0, 94606.0, 1667470.0, 1339791.0, 1405325.0, 684434.0, 1077651.0, 29076.0, 1241490.0, 225683.0, 94615.0, 1339796.0, 1372565.0, 422297.0, 1503641.0, 979363.0, 1241513.0, 291241.0, 815532.0, 618925.0, 94637.0, 291247.0, 487858.0, 1012146.0, 389556.0, 815541.0, 94646.0, 356793.0, 1438142.0, 750017.0, 782786.0, 389569.0, 225732.0, 1470914.0, 61894.0, 455109.0, 1470922.0, 1176011.0, 815563.0, 1634767.0, 29141.0, 1503701.0, 258519.0, 553432.0, 1602008.0, 815578.0, 848343.0, 1438171.0, 1241567.0, 1307106.0, 1470951.0, 1372652.0, 881132.0, 1503727.0, 651762.0, 750069.0, 193015.0, 1372665.0, 1470971.0, 651772.0, 291325.0, 324094.0, 651775.0, 750080.0, 1077766.0, 717318.0, 356872.0, 487944.0, 782858.0, 1077772.0, 61965.0, 1634835.0, 684566.0, 1110551.0, 29213.0, 29215.0, 1241631.0, 1274403.0, 1110565.0, 1274405.0, 1503783.0, 913960.0, 1634859.0, 1143340.0, 61998.0, 160303.0, 815664.0, 160305.0, 1241649.0, 750129.0, 1700405.0, 225850.0, 1339962.0, 225853.0, 356925.0, 258626.0, 913986.0, 1176132.0, 1274437.0, 1077831.0, 1339975.0, 1471047.0, 1569357.0, 356944.0, 914000.0, 684629.0, 356949.0, 1503835.0, 258652.0, 1340000.0, 1077857.0, 1208932.0, 881252.0, 1438310.0, 1143401.0, 1700458.0, 684650.0, 1634925.0, 520813.0, 586352.0, 127601.0, 1405558.0, 1438328.0, 1340025.0, 389753.0, 914042.0, 1503868.0, 324221.0, 1569401.0, 1110655.0, 127619.0, 193158.0, 1077895.0, 946824.0, 520838.0, 717450.0, 1667724.0, 1405580.0, 1241742.0, 94864.0, 422547.0, 1077911.0, 1143450.0, 619163.0, 1208986.0, 291482.0, 324250.0, 389787.0, 943689.0, 422566.0, 717479.0, 1274543.0, 291504.0, 1372847.0, 1110706.0, 1077939.0, 520879.0, 1176255.0, 717504.0, 1274560.0, 946884.0, 1209033.0, 291532.0, 1438414.0, 1241808.0, 1307345.0, 1209043.0, 1307349.0, 783061.0, 291542.0, 127704.0, 1077980.0, 651996.0, 684766.0, 1503966.0, 946917.0, 488171.0, 586478.0, 1307376.0, 783089.0, 455408.0, 750323.0, 979699.0, 94965.0, 1503990.0, 1307383.0, 1471223.0, 488180.0, 1569527.0, 1078012.0, 94972.0, 127741.0, 750332.0, 193280.0, 62209.0, 815868.0, 1405692.0, 881411.0, 455425.0, 1536769.0, 1536773.0, 1241865.0, 1372940.0, 881420.0, 1012497.0, 258838.0, 1045270.0, 586520.0, 127769.0, 389913.0, 488219.0, 1602332.0, 291613.0, 1405724.0, 553760.0, 586535.0, 1209128.0, 1209130.0, 1241901.0, 1307441.0, 553778.0, 1209138.0, 1209140.0, 258867.0, 1438517.0, 750394.0, 619324.0, 258877.0, 815934.0, 1340223.0, 881472.0, 881477.0, 1176390.0, 553800.0, 95049.0, 258888.0, 1373000.0, 488268.0, 193357.0, 783182.0, 553807.0, 1569615.0, 455505.0, 1569617.0, 881493.0, 95062.0, 1569623.0, 1700699.0, 1536861.0, 881506.0, 95075.0, 193380.0, 979817.0, 357226.0, 553835.0, 619371.0, 750445.0, 324462.0, 291695.0, 947052.0, 947053.0, 291698.0, 455536.0, 1078132.0, 1602421.0, 881526.0, 29560.0, 1569657.0, 1602428.0, 881535.0, 1045376.0, 521089.0, 95111.0, 357262.0, 652178.0, 1700755.0, 619412.0, 226194.0, 783252.0, 357266.0, 717720.0, 553882.0, 1667995.0, 1504157.0, 1143710.0, 1143711.0, 783262.0, 1078177.0, 29601.0, 1602465.0, 291742.0, 1536925.0, 1274790.0, 1110951.0, 1569707.0, 29612.0, 357293.0, 1209262.0, 29615.0, 881582.0, 29621.0, 750518.0, 783285.0, 816059.0, 1242044.0, 1045436.0, 947134.0, 652223.0, 1569726.0, 1143745.0, 1471429.0, 1143751.0, 1700809.0, 521164.0, 1471437.0, 979921.0, 488401.0, 1340371.0, 488403.0, 652245.0, 390102.0, 488408.0, 422875.0, 95196.0, 1307613.0, 226272.0, 881632.0, 95202.0, 422881.0, 521190.0, 357352.0, 1602537.0, 1602540.0, 979950.0, 816114.0, 1504244.0, 1504247.0, 1274872.0, 1045498.0, 324605.0, 1209342.0, 259076.0, 717829.0, 1111047.0, 29704.0, 1635337.0, 1700872.0, 1569802.0, 1569805.0, 685075.0, 62484.0, 390167.0, 1209369.0, 586778.0, 1012762.0, 979997.0, 1700895.0, 390176.0, 1602593.0, 1045539.0, 816165.0, 1537061.0, 554023.0, 357415.0, 1111081.0, 226345.0, 1143851.0, 390191.0, 1602609.0, 226353.0, 1307699.0, 1209397.0, 619578.0, 1340480.0, 816195.0, 1307718.0, 390216.0, 1700937.0, 1242186.0, 128075.0, 1373257.0, 1373260.0, 881740.0, 1700946.0, 717907.0, 1668180.0, 1307731.0, 390227.0, 1668183.0, 652375.0, 390229.0, 128090.0, 1274971.0, 586844.0, 390236.0, 783454.0, 1504350.0, 160864.0, 1078369.0, 1012831.0, 1471587.0, 521308.0, 521314.0, 1569895.0, 652394.0, 1569898.0, 1406060.0, 1504367.0, 1340531.0, 1569909.0, 1504374.0, 62590.0, 1406082.0, 1111171.0, 62596.0, 586884.0, 1700995.0, 1242244.0, 324741.0, 1275017.0, 390274.0, 1438854.0, 226445.0, 1078416.0, 947344.0, 1537168.0, 226452.0, 324756.0, 1406100.0, 914580.0, 1307800.0, 1373343.0, 160928.0, 95393.0, 1307810.0, 1078435.0, 128163.0, 62629.0, 849059.0, 357540.0, 1307816.0, 488619.0, 1176749.0, 1045679.0, 390321.0, 1143987.0, 1012916.0, 1373366.0, 1602746.0, 1078459.0, 1111227.0, 1209533.0, 947386.0, 1542983.0, 488640.0, 1045695.0, 29890.0, 947400.0, 1078475.0, 1034980.0, 980178.0, 128212.0, 914644.0, 488663.0, 1078489.0, 423132.0, 619741.0, 1668317.0, 29919.0, 1668319.0, 816352.0, 357599.0, 947423.0, 488669.0, 1570026.0, 1078509.0, 849135.0, 1668336.0, 1340656.0, 1242354.0, 1275123.0, 1504500.0, 292085.0, 619769.0, 1668345.0, 1504506.0, 1144060.0, 1012986.0, 750846.0, 1045760.0, 1668353.0, 95491.0, 292101.0, 1438983.0, 783624.0, 390410.0, 357643.0, 1275149.0, 62734.0, 1111310.0, 652560.0, 1176853.0, 1045782.0, 1242392.0, 587033.0, 1373466.0, 357656.0, 881956.0, 1439012.0, 521509.0, 357671.0, 947495.0, 881963.0, 1439020.0, 947499.0, 488750.0, 161071.0, 1668400.0, 1340719.0, 1340722.0, 292152.0, 750905.0, 161083.0, 914751.0, 1242434.0, 783684.0, 554311.0, 849224.0, 1406279.0, 619850.0, 914759.0, 423247.0, 1602896.0, 587093.0, 1275221.0, 1144151.0, 619871.0, 587107.0, 718180.0, 1308004.0, 1602918.0, 456036.0, 521572.0, 1471849.0, 226666.0, 128363.0, 1504622.0, 1078643.0, 1275251.0, 324981.0, 357750.0, 324983.0, 1045876.0, 1013113.0, 1275262.0, 390527.0, 1045887.0, 1570177.0, 1078658.0, 1701251.0, 587140.0, 259467.0, 882060.0, 587149.0, 1242509.0, 1504654.0, 95638.0, 95640.0, 1504668.0, 1308062.0, 882079.0, 1144228.0, 587176.0, 1045929.0, 259498.0, 1373610.0, 718254.0, 1504687.0, 619957.0, 1668533.0, 1471926.0, 390584.0, 259513.0, 1439161.0, 30142.0, 1603009.0, 751041.0, 1635780.0, 1603013.0, 161224.0, 325064.0, 1340877.0, 751054.0, 751059.0, 751061.0, 882134.0, 1078743.0, 226777.0, 292313.0, 882138.0, 521690.0, 390624.0, 1406433.0, 816610.0, 1144291.0, 161251.0, 1242595.0, 1177065.0, 914922.0, 1373678.0, 259569.0, 947698.0, 882163.0, 1078773.0, 161270.0, 521720.0, 1471999.0, 620033.0, 1406466.0, 718339.0, 1439235.0, 357895.0, 882185.0, 882187.0, 1603085.0, 1668624.0, 1209874.0, 161299.0, 161300.0, 816658.0, 816661.0, 357906.0, 1472022.0, 1570322.0, 685595.0, 1439260.0, 325149.0, 423453.0, 1472032.0, 226849.0, 1668642.0, 161317.0, 456230.0, 1537573.0, 1242664.0, 685610.0, 1242666.0, 259628.0, 947757.0, 1046059.0, 325167.0, 390703.0, 980527.0, 1570346.0, 521778.0, 1340983.0, 980536.0, 226878.0, 128575.0, 325183.0, 30275.0, 1537604.0, 1701445.0, 1569113.0, 587337.0, 915018.0, 915019.0, 1078860.0, 1209932.0, 816720.0, 1635921.0, 1308242.0, 882256.0, 1013332.0, 226902.0, 1144413.0, 1635934.0, 1242717.0, 816736.0, 325214.0, 325218.0, 30307.0, 1570397.0, 980584.0, 1439337.0, 489066.0, 30317.0, 1406580.0, 1373813.0, 1013367.0, 292472.0, 1439352.0, 128634.0, 456314.0, 226940.0, 1504890.0, 1472127.0, 718467.0, 1242756.0, 1603205.0, 1701509.0, 1406596.0, 1570447.0, 652945.0, 751249.0, 980627.0, 1537686.0, 849559.0, 390809.0, 226970.0, 30367.0, 1537696.0, 620193.0, 1603235.0, 358054.0, 1472167.0, 325289.0, 1636012.0, 784045.0, 1373868.0, 259759.0, 128688.0, 1504941.0, 521906.0, 1439415.0, 456377.0, 1111738.0, 292538.0, 1636028.0, 652988.0, 1341115.0, 1636031.0, 1341122.0, 1210052.0, 1111750.0, 816839.0, 1373895.0, 1308361.0, 620234.0, 718539.0, 259785.0, 325320.0, 1406666.0, 423629.0, 1177297.0, 194258.0, 1701588.0, 30421.0, 816856.0, 1308378.0, 1406682.0, 1570523.0, 1275613.0, 1636063.0, 816864.0, 587489.0, 1013473.0, 947941.0, 1439464.0, 653035.0, 1472237.0, 718575.0, 915185.0, 63218.0, 1111794.0, 1111796.0, 653045.0, 653047.0, 620280.0, 423673.0, 358138.0, 980730.0, 521975.0, 1570551.0, 718594.0, 1177353.0, 63243.0, 63245.0, 1636111.0, 816913.0, 1439509.0, 1210136.0, 1111833.0, 1210138.0, 1701660.0, 1013532.0, 653086.0, 1505054.0, 1505055.0, 653089.0, 227106.0, 1046313.0, 718636.0, 1308460.0, 751408.0, 1177394.0, 1668919.0, 1505081.0, 653114.0, 489275.0, 325437.0, 587582.0, 227134.0, 1308482.0, 653125.0, 1505094.0, 1603401.0, 325450.0, 751435.0, 161612.0, 1505102.0, 1472335.0, 30546.0, 1177426.0, 1701714.0, 1701717.0, 915285.0, 1570642.0, 554841.0, 1374041.0, 554845.0, 1636189.0, 685917.0, 948066.0, 161635.0, 1505123.0, 718693.0, 1537890.0, 980839.0, 391016.0, 1505132.0, 1374061.0, 915314.0, 1242996.0, 358261.0, 1374072.0, 30587.0, 1636222.0, 259969.0, 391041.0, 1013634.0, 1668997.0, 259973.0, 817031.0, 391047.0, 325516.0, 128912.0, 489362.0, 653203.0, 1210260.0, 456600.0, 128922.0, 620443.0, 489377.0, 1701796.0, 1472423.0, 751529.0, 522156.0, 980910.0, 817071.0, 1701810.0, 1210290.0, 1537970.0, 1275830.0, 1210300.0, 63421.0, 1308606.0, 1505216.0, 161729.0, 1308609.0, 1570755.0, 587717.0, 1374149.0, 1505223.0, 128968.0, 1243081.0, 1308617.0, 1505224.0, 1046469.0, 980942.0, 1406930.0, 948178.0, 1669076.0, 1112021.0, 1144792.0, 1046493.0, 1472480.0, 587745.0, 96226.0, 1177571.0, 1439715.0, 391140.0, 1472484.0, 489442.0, 423916.0, 1505265.0, 161779.0, 1505268.0, 1243126.0, 63480.0, 1603579.0, 96251.0, 63486.0, 292863.0, 1374211.0, 194565.0, 1210374.0, 1570823.0, 981000.0, 1308681.0, 194574.0, 30735.0, 358415.0, 653329.0, 882704.0, 194580.0, 391189.0, 1308694.0, 1013784.0, 555033.0, 1538073.0, 1002584.0, 948254.0, 1275935.0, 849956.0, 981029.0, 1407015.0, 1701930.0, 1439792.0, 784433.0, 817203.0, 915509.0, 456759.0, 1341497.0, 1472570.0, 1308731.0, 358459.0, 456762.0, 1538109.0, 1177665.0, 784458.0, 456781.0, 456782.0, 1570898.0, 882771.0, 194646.0, 1374294.0, 850007.0, 1505373.0, 456798.0, 751716.0, 620647.0, 620650.0, 1144939.0, 1570922.0, 1374317.0, 1046636.0, 292977.0, 817266.0, 456817.0, 292981.0, 1439861.0, 194679.0, 1308795.0, 292987.0, 194687.0, 915584.0, 981119.0, 456833.0, 1636483.0, 718981.0, 1472645.0, 1079431.0, 63623.0, 981129.0, 227467.0, 63634.0, 1570964.0, 1112213.0, 784534.0, 63639.0, 817302.0, 522392.0, 817306.0, 1505436.0, 194724.0, 751784.0, 489643.0, 948396.0, 129197.0, 1308845.0, 882864.0, 1308849.0, 1013937.0, 1472691.0, 555188.0, 1308853.0, 489651.0, 522424.0, 1046713.0, 1308859.0, 96444.0, 1505469.0, 161982.0, 653503.0, 1702079.0, 227518.0, 1341632.0, 1439936.0, 1308868.0, 1013958.0, 1603783.0, 948426.0, 1243340.0, 325840.0, 817361.0, 1571025.0, 227539.0, 1112276.0, 1472723.0, 1341654.0, 1407191.0, 719064.0, 1374424.0, 620762.0, 1505491.0, 850140.0, 293085.0, 784606.0, 719071.0, 1046751.0, 1538273.0, 1177826.0, 1243363.0, 1145060.0, 1472744.0, 456938.0, 1079531.0, 1243371.0, 981227.0, 1022164.0, 1177839.0, 227567.0, 30961.0, 915698.0, 1603827.0, 1276148.0, 915699.0, 981235.0, 1603831.0, 522482.0, 1046773.0, 1014011.0, 1341693.0, 293122.0, 850179.0, 1112325.0, 1046789.0, 620807.0, 522502.0, 1308937.0, 817418.0, 1079563.0, 358672.0, 424212.0, 1308950.0, 1538326.0, 358681.0, 129306.0, 1571098.0, 1177884.0, 227613.0, 981280.0, 784675.0, 96548.0, 456997.0, 1571109.0, 1243431.0, 1669416.0, 915752.0, 1341739.0, 358699.0, 817455.0, 293167.0, 1341746.0, 1210675.0, 1145140.0, 162099.0, 1669430.0, 1702198.0, 653623.0, 227639.0, 588090.0, 817465.0, 784700.0, 1603901.0, 588094.0, 1407290.0, 489784.0, 1210692.0, 194884.0, 981316.0, 522566.0, 1014089.0, 817483.0, 948556.0, 1079633.0, 1210707.0, 424275.0, 1276245.0, 1210712.0, 63835.0, 751963.0, 850269.0, 260446.0, 129379.0, 1603940.0, 1636711.0, 1472871.0, 555369.0, 162154.0, 555371.0, 31086.0, 555376.0, 620912.0, 1669489.0, 293232.0, 588148.0, 129396.0, 1079670.0, 522611.0, 489851.0, 1243516.0, 620925.0, 1702269.0, 293246.0, 588162.0, 227714.0, 850311.0, 1407367.0, 1276298.0, 1341834.0, 1243532.0, 1341838.0, 883087.0, 1571216.0, 555409.0, 424338.0, 915860.0, 1112474.0, 391578.0, 1472922.0, 588189.0, 1341854.0, 850333.0, 326046.0, 948641.0, 981409.0, 1276327.0, 391597.0, 522671.0, 522679.0, 96698.0, 489914.0, 1669564.0, 1046977.0, 489925.0, 1014213.0, 195015.0, 31176.0, 1604040.0, 424393.0, 1079764.0, 1145301.0, 162262.0, 1669591.0, 31192.0, 1309145.0, 1210842.0, 653787.0, 1505755.0, 457184.0, 1604067.0, 588260.0, 326116.0, 883173.0, 1276391.0, 1145321.0, 686571.0, 1669614.0, 915952.0, 981488.0, 850418.0, 1276403.0, 1374706.0, 1636853.0, 1374710.0, 31224.0, 1538552.0, 1047033.0, 260605.0, 1669635.0, 1112580.0, 883204.0, 588294.0, 1112583.0, 293385.0, 752141.0, 489997.0, 1440275.0, 1473047.0, 1341977.0, 719388.0, 1571359.0, 1505824.0, 1341987.0, 1243684.0, 1112613.0, 1243689.0, 1473067.0, 1014317.0, 1374767.0, 391728.0, 1538607.0, 1636914.0, 358962.0, 391730.0, 850488.0, 457274.0, 850492.0, 31295.0, 784960.0, 326207.0, 1079876.0, 490058.0, 358987.0, 1505869.0, 1702481.0, 817745.0, 1543267.0, 1243732.0, 588379.0, 129628.0, 1342043.0, 588382.0, 1210975.0, 1276511.0, 817761.0, 1374811.0, 391773.0, 1145444.0, 1473120.0, 1669734.0, 1440358.0, 555626.0, 1309293.0, 1571439.0, 817781.0, 424566.0, 1538680.0, 1112698.0, 1669755.0, 31357.0, 1145469.0, 1145470.0, 1178240.0, 817791.0, 1276556.0, 391825.0, 1374867.0, 195221.0, 555674.0, 981658.0, 1637020.0, 1014428.0, 555678.0, 1571482.0, 1571486.0, 1145507.0, 621220.0, 359078.0, 817833.0, 686763.0, 850605.0, 621231.0, 1145523.0, 555704.0, 1243833.0, 326335.0, 1473215.0, 129729.0, 1342147.0, 1014468.0, 1440453.0, 1309384.0, 1637065.0, 1669834.0, 129739.0, 31436.0, 752329.0, 948936.0, 391887.0, 424648.0, 981709.0, 1505997.0, 1571534.0, 817876.0, 588504.0, 817881.0, 850650.0, 1047259.0, 588508.0, 359132.0, 1440480.0, 1309411.0, 1178350.0, 1047282.0, 621299.0, 1112822.0, 31479.0, 1112826.0, 523002.0, 588541.0, 654077.0, 686845.0, 1374977.0, 817924.0, 588553.0, 981772.0, 1309455.0, 621334.0, 195353.0, 981786.0, 64289.0, 64290.0, 1669927.0, 1145640.0, 490281.0, 817962.0, 1014572.0, 1538860.0, 686894.0, 817966.0, 1276721.0, 817970.0, 686900.0, 195381.0, 162614.0, 752438.0, 64314.0, 1243962.0, 129853.0, 228158.0, 1506109.0, 1178433.0, 1276740.0, 916292.0, 1342278.0, 392005.0, 686920.0, 1538888.0, 392010.0, 162635.0, 359244.0, 752461.0, 293709.0, 949070.0, 1047374.0, 1375057.0, 686931.0, 1276756.0, 1440595.0, 1080150.0, 1112919.0, 818006.0, 162649.0, 31578.0, 1145691.0, 1637212.0, 1375067.0, 981852.0, 293727.0, 1047386.0, 1211233.0, 162659.0, 621412.0, 1309543.0, 162665.0, 850793.0, 785259.0, 1112940.0, 359276.0, 949097.0, 1538923.0, 1538927.0, 162674.0, 785268.0, 1014650.0, 1211259.0, 228220.0, 654209.0, 64388.0, 883591.0, 1211272.0, 228233.0, 1440651.0, 31628.0, 1244044.0, 916365.0, 129936.0, 1440656.0, 883602.0, 621460.0, 1440660.0, 949140.0, 1506199.0, 1604504.0, 588696.0, 162714.0, 1604507.0, 1244060.0, 916379.0, 1375137.0, 1670051.0, 1440675.0, 1506211.0, 228263.0, 1309609.0, 1571753.0, 490412.0, 1113006.0, 949171.0, 1047475.0, 555960.0, 588728.0, 1047481.0, 1113019.0, 457659.0, 621505.0, 949185.0, 195523.0, 424904.0, 883658.0, 1637324.0, 1244108.0, 457676.0, 719823.0, 326607.0, 916433.0, 818130.0, 1473491.0, 1342420.0, 850901.0, 261078.0, 654295.0, 293848.0, 424918.0, 31706.0, 1670106.0, 1309658.0, 1309660.0, 818141.0, 1375197.0, 1407967.0, 916445.0, 326626.0, 1014755.0, 1276900.0, 490469.0, 1670118.0, 1113063.0, 424938.0, 130027.0, 162795.0, 916459.0, 130031.0, 588784.0, 785393.0, 1407986.0, 654324.0, 1637365.0, 883700.0, 424953.0, 1113083.0, 195581.0, 1276925.0, 475238.0, 621571.0, 1244163.0, 752643.0, 359429.0, 1440771.0, 424963.0, 654345.0, 785419.0, 261132.0, 1342475.0, 130062.0, 162831.0, 1080336.0, 752654.0, 1375248.0, 1604627.0, 982034.0, 1604629.0, 326677.0, 326679.0, 523279.0, 1047574.0, 1571864.0, 490523.0, 1276958.0, 130079.0, 1670181.0, 1637414.0, 588839.0, 621606.0, 1506344.0, 1604650.0, 818219.0, 359466.0, 162862.0, 1539119.0, 359473.0, 1211446.0, 1604663.0, 1047608.0, 1276985.0, 719932.0, 1637437.0, 1408063.0, 1342528.0, 621637.0, 1670214.0, 1604681.0, 556106.0, 1113166.0, 1604688.0, 1080401.0, 392277.0, 982102.0, 1637465.0, 719967.0, 195680.0, 621665.0, 654433.0, 1604707.0, 1113188.0, 588901.0, 621670.0, 1211491.0, 64616.0, 752740.0, 851045.0, 851051.0, 1178732.0, 1473640.0, 392302.0, 1506408.0, 1211505.0, 490610.0, 1506419.0, 1637492.0, 949364.0, 949365.0, 752760.0, 1178747.0, 1080446.0, 588927.0, 1571967.0, 1178754.0, 1309826.0, 654468.0, 949378.0, 1145990.0, 392326.0, 982147.0, 1080458.0, 1145994.0, 64658.0, 1244308.0, 1670294.0, 1342615.0, 588953.0, 1277081.0, 556188.0, 785564.0, 1178782.0, 294045.0, 392352.0, 523421.0, 1440930.0, 425122.0, 654504.0, 261288.0, 392360.0, 752811.0, 818348.0, 1047720.0, 1408179.0, 1244340.0, 1178806.0, 490678.0, 195769.0, 425145.0, 1047737.0, 392382.0, 556225.0, 1146049.0, 1113283.0, 883908.0, 1375429.0, 982211.0, 1408200.0, 1178825.0, 195785.0, 1375434.0, 982220.0, 261325.0, 490702.0, 1703121.0, 916690.0, 228564.0, 1539286.0, 1146073.0, 949467.0, 359646.0, 195808.0, 457952.0, 523489.0, 1342691.0, 982247.0, 1113320.0, 261352.0, 228587.0, 1670380.0, 1080558.0, 31983.0, 621808.0, 1703153.0, 818414.0, 64757.0, 851190.0, 523511.0, 982264.0, 556285.0, 425213.0, 1211647.0, 1408255.0, 1080578.0, 1211651.0, 621828.0, 1408259.0, 1375494.0, 916741.0, 228616.0, 326920.0, 916742.0, 425226.0, 982276.0, 982283.0, 752910.0, 228622.0, 1604883.0, 1342740.0, 1441045.0, 1113366.0, 425235.0, 64792.0, 1047830.0, 556316.0, 752924.0, 163104.0, 1473826.0, 458019.0, 1146149.0, 1178919.0, 752937.0, 1703211.0, 884011.0, 916780.0, 294192.0, 425271.0, 687416.0, 982328.0, 130364.0, 621885.0, 1342782.0, 1506622.0, 64832.0, 1211712.0, 720192.0, 1506624.0, 1277252.0, 1441093.0, 982340.0, 1015103.0, 523587.0, 1572163.0, 1572169.0, 884049.0, 1342802.0, 490835.0, 359766.0, 392535.0, 1473880.0, 949594.0, 130397.0, 1506653.0, 195937.0, 64869.0, 1178981.0, 1146215.0, 1703272.0, 1080681.0, 490855.0, 1473899.0, 1637740.0, 1244524.0, 359792.0, 1178995.0, 1604981.0, 916859.0, 1604989.0, 949629.0, 1015166.0, 97665.0, 130434.0, 97667.0, 294277.0, 1473929.0, 130442.0, 1605003.0, 720268.0, 687501.0, 195979.0, 1441162.0, 1473933.0, 261521.0, 327058.0, 1408402.0, 32149.0, 1179030.0, 1703320.0, 982426.0, 1408411.0, 130460.0, 1473947.0, 523680.0, 1572256.0, 1572263.0, 97705.0, 785834.0, 1605038.0, 64942.0, 64944.0, 130482.0, 1277362.0, 294328.0, 1670585.0, 654777.0, 1277371.0, 785849.0, 1146301.0, 818620.0, 851391.0, 818624.0, 818625.0, 327106.0, 1015231.0, 916933.0, 523717.0, 359879.0, 523721.0, 1375700.0, 1703381.0, 1080795.0, 982494.0, 32224.0, 1637856.0, 1277409.0, 622051.0, 851426.0, 1441253.0, 949734.0, 1015270.0, 1539558.0, 1146346.0, 1441259.0, 1572339.0, 1441268.0, 1605110.0, 97786.0, 1244667.0, 196090.0, 1539582.0, 884224.0, 294403.0, 1211908.0, 1506822.0, 720391.0, 1080841.0, 1015312.0, 1080849.0, 261652.0, 1048086.0, 1441304.0, 982552.0, 97818.0, 917021.0, 1310239.0, 1343007.0, 163361.0, 720419.0, 65060.0, 1506853.0, 1113638.0, 1670697.0, 327209.0, 294443.0, 1637933.0, 228910.0, 1670706.0, 294453.0, 1146422.0, 884279.0, 884280.0, 917047.0, 982584.0, 1277499.0, 654915.0, 1113668.0, 196163.0, 1277508.0, 851525.0, 589384.0, 851530.0, 425551.0, 786000.0, 589393.0, 1244754.0, 1670740.0, 1146453.0, 982615.0, 1179225.0, 360027.0, 1080927.0, 425567.0, 1244777.0, 753257.0, 392814.0, 654960.0, 884338.0, 1638003.0, 1408629.0, 32377.0, 589433.0, 818811.0, 1408635.0, 851587.0, 1375875.0, 687751.0, 130696.0, 523913.0, 163466.0, 1539724.0, 1048205.0, 1539728.0, 1670804.0, 1539733.0, 327318.0, 1539741.0, 884383.0, 851617.0, 1244837.0, 163496.0, 1179305.0, 1015466.0, 1605291.0, 1015468.0, 523944.0, 786094.0, 327345.0, 1400206.0, 1015477.0, 458431.0, 1670848.0, 491199.0, 32450.0, 65219.0, 1081028.0, 589507.0, 1048261.0, 32455.0, 163528.0, 196298.0, 1507018.0, 1081036.0, 261838.0, 491216.0, 556755.0, 655062.0, 655063.0, 1310424.0, 458459.0, 1638108.0, 1408734.0, 1474270.0, 523998.0, 32481.0, 1638116.0, 196324.0, 229093.0, 1441510.0, 556776.0, 982759.0, 163563.0, 1015531.0, 917229.0, 687855.0, 1310453.0, 818939.0, 556798.0, 1310462.0, 1474304.0, 720643.0, 524036.0, 851717.0, 1048327.0, 884492.0, 1474316.0, 1277710.0, 786191.0, 1474318.0, 1146641.0, 360212.0, 163606.0, 818966.0, 1179417.0, 1310490.0, 392989.0, 130852.0, 294692.0, 327463.0, 905249.0, 589614.0, 786224.0, 622385.0, 818996.0, 65335.0, 393015.0, 196411.0, 1146685.0, 1212222.0, 163647.0, 1343293.0, 458557.0, 1048386.0, 622403.0, 1146692.0, 98117.0, 1244998.0, 982855.0, 1048387.0, 1408842.0, 1572685.0, 1245012.0, 1048411.0, 589662.0, 753503.0, 196448.0, 753505.0, 819042.0, 425822.0, 819045.0, 819047.0, 786280.0, 458604.0, 1507181.0, 491374.0, 98160.0, 786288.0, 819057.0, 1507189.0, 327542.0, 589690.0, 1671034.0, 1081214.0, 1507199.0, 1113984.0, 1703809.0, 196482.0, 1343364.0, 556933.0, 1343365.0, 294794.0, 65422.0, 1146766.0, 1179534.0, 982929.0, 491409.0, 1179542.0, 1146775.0, 524182.0, 524185.0, 98207.0, 196513.0, 262051.0, 65444.0, 1114021.0, 917414.0, 655272.0, 229291.0, 1114028.0, 753584.0, 1671089.0, 327600.0, 1376178.0, 1441712.0, 1507249.0, 917430.0, 360377.0, 851900.0, 819135.0, 688064.0, 753601.0, 294847.0, 163779.0, 1277892.0, 819140.0, 327615.0, 1441738.0, 524236.0, 1540047.0, 196562.0, 1638355.0, 327640.0, 1474521.0, 655322.0, 720859.0, 819163.0, 1245149.0, 98270.0, 1277921.0, 32738.0, 786403.0, 1277924.0, 262117.0, 1114086.0, 1408997.0, 1441762.0, 688105.0, 917477.0, 458724.0, 327660.0, 1146862.0, 1179631.0, 1703919.0, 262126.0, 655346.0, 1507313.0, 1081335.0, 196602.0, 622587.0, 262140.0}\n"
     ]
    }
   ],
   "source": [
    "missing_passenger_Vids = passenger_set - driver_set\n",
    "\n",
    "if missing_passenger_Vids:\n",
    "#     print(len(missing_passenger_Vids))\n",
    "    print('The following VEHICLE_IDs are unique to unique_passenger_Vids:', missing_passenger_Vids)\n",
    "else:\n",
    "    print('All values in unique_passenger_Vids are present in unique_driver_Vids')"
   ]
  },
  {
   "cell_type": "code",
   "execution_count": 559,
   "id": "e7270b4a",
   "metadata": {},
   "outputs": [
    {
     "data": {
      "text/html": [
       "<div>\n",
       "<style scoped>\n",
       "    .dataframe tbody tr th:only-of-type {\n",
       "        vertical-align: middle;\n",
       "    }\n",
       "\n",
       "    .dataframe tbody tr th {\n",
       "        vertical-align: top;\n",
       "    }\n",
       "\n",
       "    .dataframe thead th {\n",
       "        text-align: right;\n",
       "    }\n",
       "</style>\n",
       "<table border=\"1\" class=\"dataframe\">\n",
       "  <thead>\n",
       "    <tr style=\"text-align: right;\">\n",
       "      <th></th>\n",
       "      <th>PERSON_ID</th>\n",
       "      <th>PERSON_TYPE</th>\n",
       "      <th>CRASH_RECORD_ID</th>\n",
       "      <th>VEHICLE_ID</th>\n",
       "      <th>CRASH_DATE</th>\n",
       "      <th>SEAT_NO</th>\n",
       "      <th>CITY</th>\n",
       "      <th>STATE</th>\n",
       "      <th>ZIPCODE</th>\n",
       "      <th>SEX</th>\n",
       "      <th>AGE</th>\n",
       "      <th>DRIVERS_LICENSE_STATE</th>\n",
       "      <th>DRIVERS_LICENSE_CLASS</th>\n",
       "      <th>SAFETY_EQUIPMENT</th>\n",
       "      <th>AIRBAG_DEPLOYED</th>\n",
       "      <th>EJECTION</th>\n",
       "      <th>INJURY_CLASSIFICATION</th>\n",
       "      <th>HOSPITAL</th>\n",
       "      <th>EMS_AGENCY</th>\n",
       "      <th>EMS_RUN_NO</th>\n",
       "      <th>DRIVER_ACTION</th>\n",
       "      <th>DRIVER_VISION</th>\n",
       "      <th>PHYSICAL_CONDITION</th>\n",
       "      <th>PEDPEDAL_ACTION</th>\n",
       "      <th>PEDPEDAL_VISIBILITY</th>\n",
       "      <th>PEDPEDAL_LOCATION</th>\n",
       "      <th>BAC_RESULT</th>\n",
       "      <th>BAC_RESULT VALUE</th>\n",
       "      <th>CELL_PHONE_USE</th>\n",
       "    </tr>\n",
       "  </thead>\n",
       "  <tbody>\n",
       "  </tbody>\n",
       "</table>\n",
       "</div>"
      ],
      "text/plain": [
       "Empty DataFrame\n",
       "Columns: [PERSON_ID, PERSON_TYPE, CRASH_RECORD_ID, VEHICLE_ID, CRASH_DATE, SEAT_NO, CITY, STATE, ZIPCODE, SEX, AGE, DRIVERS_LICENSE_STATE, DRIVERS_LICENSE_CLASS, SAFETY_EQUIPMENT, AIRBAG_DEPLOYED, EJECTION, INJURY_CLASSIFICATION, HOSPITAL, EMS_AGENCY, EMS_RUN_NO, DRIVER_ACTION, DRIVER_VISION, PHYSICAL_CONDITION, PEDPEDAL_ACTION, PEDPEDAL_VISIBILITY, PEDPEDAL_LOCATION, BAC_RESULT, BAC_RESULT VALUE, CELL_PHONE_USE]\n",
       "Index: []"
      ]
     },
     "execution_count": 559,
     "metadata": {},
     "output_type": "execute_result"
    }
   ],
   "source": [
    "traffic_crashes_people[( traffic_crashes_people['VEHICLE_ID'].isin(missing_passenger_Vids) ) & (traffic_crashes_people['PERSON_TYPE'] == \"DRIVER\")]"
   ]
  },
  {
   "cell_type": "markdown",
   "id": "c1b96dfe",
   "metadata": {},
   "source": [
    "let's check for a random value in missing_passenger_Vids "
   ]
  },
  {
   "cell_type": "code",
   "execution_count": 560,
   "id": "f45c9fa4",
   "metadata": {},
   "outputs": [
    {
     "data": {
      "text/html": [
       "<div>\n",
       "<style scoped>\n",
       "    .dataframe tbody tr th:only-of-type {\n",
       "        vertical-align: middle;\n",
       "    }\n",
       "\n",
       "    .dataframe tbody tr th {\n",
       "        vertical-align: top;\n",
       "    }\n",
       "\n",
       "    .dataframe thead th {\n",
       "        text-align: right;\n",
       "    }\n",
       "</style>\n",
       "<table border=\"1\" class=\"dataframe\">\n",
       "  <thead>\n",
       "    <tr style=\"text-align: right;\">\n",
       "      <th></th>\n",
       "      <th>PERSON_ID</th>\n",
       "      <th>PERSON_TYPE</th>\n",
       "      <th>CRASH_RECORD_ID</th>\n",
       "      <th>VEHICLE_ID</th>\n",
       "      <th>CRASH_DATE</th>\n",
       "      <th>SEAT_NO</th>\n",
       "      <th>CITY</th>\n",
       "      <th>STATE</th>\n",
       "      <th>ZIPCODE</th>\n",
       "      <th>SEX</th>\n",
       "      <th>AGE</th>\n",
       "      <th>DRIVERS_LICENSE_STATE</th>\n",
       "      <th>DRIVERS_LICENSE_CLASS</th>\n",
       "      <th>SAFETY_EQUIPMENT</th>\n",
       "      <th>AIRBAG_DEPLOYED</th>\n",
       "      <th>EJECTION</th>\n",
       "      <th>INJURY_CLASSIFICATION</th>\n",
       "      <th>HOSPITAL</th>\n",
       "      <th>EMS_AGENCY</th>\n",
       "      <th>EMS_RUN_NO</th>\n",
       "      <th>DRIVER_ACTION</th>\n",
       "      <th>DRIVER_VISION</th>\n",
       "      <th>PHYSICAL_CONDITION</th>\n",
       "      <th>PEDPEDAL_ACTION</th>\n",
       "      <th>PEDPEDAL_VISIBILITY</th>\n",
       "      <th>PEDPEDAL_LOCATION</th>\n",
       "      <th>BAC_RESULT</th>\n",
       "      <th>BAC_RESULT VALUE</th>\n",
       "      <th>CELL_PHONE_USE</th>\n",
       "    </tr>\n",
       "  </thead>\n",
       "  <tbody>\n",
       "    <tr>\n",
       "      <th>1271734</th>\n",
       "      <td>P284715</td>\n",
       "      <td>PASSENGER</td>\n",
       "      <td>f2e73538e2b985ccadccbd66f29c4be8993c9c07868ff0...</td>\n",
       "      <td>1212420.0</td>\n",
       "      <td>02/04/2022 02:35:00 PM</td>\n",
       "      <td>1.0</td>\n",
       "      <td>DOWNERS GROVE</td>\n",
       "      <td>IL</td>\n",
       "      <td>60515</td>\n",
       "      <td>F</td>\n",
       "      <td>69.0</td>\n",
       "      <td>NaN</td>\n",
       "      <td>NaN</td>\n",
       "      <td>SAFETY BELT USED</td>\n",
       "      <td>NOT APPLICABLE</td>\n",
       "      <td>NONE</td>\n",
       "      <td>NO INDICATION OF INJURY</td>\n",
       "      <td>NaN</td>\n",
       "      <td>NaN</td>\n",
       "      <td>NaN</td>\n",
       "      <td>NaN</td>\n",
       "      <td>NaN</td>\n",
       "      <td>NaN</td>\n",
       "      <td>NaN</td>\n",
       "      <td>NaN</td>\n",
       "      <td>NaN</td>\n",
       "      <td>NaN</td>\n",
       "      <td>NaN</td>\n",
       "      <td>NaN</td>\n",
       "    </tr>\n",
       "    <tr>\n",
       "      <th>1271735</th>\n",
       "      <td>P284716</td>\n",
       "      <td>PASSENGER</td>\n",
       "      <td>f2e73538e2b985ccadccbd66f29c4be8993c9c07868ff0...</td>\n",
       "      <td>1212420.0</td>\n",
       "      <td>02/04/2022 02:35:00 PM</td>\n",
       "      <td>10.0</td>\n",
       "      <td>DOWNERS GROVE</td>\n",
       "      <td>IL</td>\n",
       "      <td>60515</td>\n",
       "      <td>F</td>\n",
       "      <td>NaN</td>\n",
       "      <td>NaN</td>\n",
       "      <td>NaN</td>\n",
       "      <td>USAGE UNKNOWN</td>\n",
       "      <td>NOT APPLICABLE</td>\n",
       "      <td>NONE</td>\n",
       "      <td>NO INDICATION OF INJURY</td>\n",
       "      <td>NaN</td>\n",
       "      <td>NaN</td>\n",
       "      <td>NaN</td>\n",
       "      <td>NaN</td>\n",
       "      <td>NaN</td>\n",
       "      <td>NaN</td>\n",
       "      <td>NaN</td>\n",
       "      <td>NaN</td>\n",
       "      <td>NaN</td>\n",
       "      <td>NaN</td>\n",
       "      <td>NaN</td>\n",
       "      <td>NaN</td>\n",
       "    </tr>\n",
       "  </tbody>\n",
       "</table>\n",
       "</div>"
      ],
      "text/plain": [
       "        PERSON_ID PERSON_TYPE  \\\n",
       "1271734   P284715   PASSENGER   \n",
       "1271735   P284716   PASSENGER   \n",
       "\n",
       "                                           CRASH_RECORD_ID  VEHICLE_ID  \\\n",
       "1271734  f2e73538e2b985ccadccbd66f29c4be8993c9c07868ff0...   1212420.0   \n",
       "1271735  f2e73538e2b985ccadccbd66f29c4be8993c9c07868ff0...   1212420.0   \n",
       "\n",
       "                     CRASH_DATE  SEAT_NO           CITY STATE ZIPCODE SEX  \\\n",
       "1271734  02/04/2022 02:35:00 PM      1.0  DOWNERS GROVE    IL   60515   F   \n",
       "1271735  02/04/2022 02:35:00 PM     10.0  DOWNERS GROVE    IL   60515   F   \n",
       "\n",
       "          AGE DRIVERS_LICENSE_STATE DRIVERS_LICENSE_CLASS  SAFETY_EQUIPMENT  \\\n",
       "1271734  69.0                   NaN                   NaN  SAFETY BELT USED   \n",
       "1271735   NaN                   NaN                   NaN     USAGE UNKNOWN   \n",
       "\n",
       "        AIRBAG_DEPLOYED EJECTION    INJURY_CLASSIFICATION HOSPITAL EMS_AGENCY  \\\n",
       "1271734  NOT APPLICABLE     NONE  NO INDICATION OF INJURY      NaN        NaN   \n",
       "1271735  NOT APPLICABLE     NONE  NO INDICATION OF INJURY      NaN        NaN   \n",
       "\n",
       "        EMS_RUN_NO DRIVER_ACTION DRIVER_VISION PHYSICAL_CONDITION  \\\n",
       "1271734        NaN           NaN           NaN                NaN   \n",
       "1271735        NaN           NaN           NaN                NaN   \n",
       "\n",
       "        PEDPEDAL_ACTION PEDPEDAL_VISIBILITY PEDPEDAL_LOCATION BAC_RESULT  \\\n",
       "1271734             NaN                 NaN               NaN        NaN   \n",
       "1271735             NaN                 NaN               NaN        NaN   \n",
       "\n",
       "         BAC_RESULT VALUE CELL_PHONE_USE  \n",
       "1271734               NaN            NaN  \n",
       "1271735               NaN            NaN  "
      ]
     },
     "execution_count": 560,
     "metadata": {},
     "output_type": "execute_result"
    }
   ],
   "source": [
    "traffic_crashes_people[traffic_crashes_people['VEHICLE_ID'] == 1212420.0]\n"
   ]
  },
  {
   "cell_type": "markdown",
   "id": "579c1bec",
   "metadata": {},
   "source": [
    "Wait! no DRIVER here "
   ]
  },
  {
   "cell_type": "code",
   "execution_count": 561,
   "id": "24407c75",
   "metadata": {},
   "outputs": [
    {
     "data": {
      "text/plain": [
       "1271734    f2e73538e2b985ccadccbd66f29c4be8993c9c07868ff0...\n",
       "1271735    f2e73538e2b985ccadccbd66f29c4be8993c9c07868ff0...\n",
       "Name: CRASH_RECORD_ID, dtype: object"
      ]
     },
     "execution_count": 561,
     "metadata": {},
     "output_type": "execute_result"
    }
   ],
   "source": [
    "traffic_crashes_people[traffic_crashes_people['VEHICLE_ID'] == 1212420.0]['CRASH_RECORD_ID']\n"
   ]
  },
  {
   "cell_type": "code",
   "execution_count": 562,
   "id": "81ca1f58",
   "metadata": {},
   "outputs": [
    {
     "data": {
      "text/plain": [
       "'f2e73538e2b985ccadccbd66f29c4be8993c9c07868ff0b377763f268a3c3c3cce0ec8e82dc0d33242a168b11fd1bf8fa06582807f5e4b727fb8a1be0be66458'"
      ]
     },
     "execution_count": 562,
     "metadata": {},
     "output_type": "execute_result"
    }
   ],
   "source": [
    "traffic_crashes_people[traffic_crashes_people['VEHICLE_ID'] == 1212420.0]['CRASH_RECORD_ID'][1271734]\n"
   ]
  },
  {
   "cell_type": "code",
   "execution_count": 563,
   "id": "3ba023ef",
   "metadata": {},
   "outputs": [
    {
     "data": {
      "text/html": [
       "<div>\n",
       "<style scoped>\n",
       "    .dataframe tbody tr th:only-of-type {\n",
       "        vertical-align: middle;\n",
       "    }\n",
       "\n",
       "    .dataframe tbody tr th {\n",
       "        vertical-align: top;\n",
       "    }\n",
       "\n",
       "    .dataframe thead th {\n",
       "        text-align: right;\n",
       "    }\n",
       "</style>\n",
       "<table border=\"1\" class=\"dataframe\">\n",
       "  <thead>\n",
       "    <tr style=\"text-align: right;\">\n",
       "      <th></th>\n",
       "      <th>PERSON_ID</th>\n",
       "      <th>PERSON_TYPE</th>\n",
       "      <th>CRASH_RECORD_ID</th>\n",
       "      <th>VEHICLE_ID</th>\n",
       "      <th>CRASH_DATE</th>\n",
       "      <th>SEAT_NO</th>\n",
       "      <th>CITY</th>\n",
       "      <th>STATE</th>\n",
       "      <th>ZIPCODE</th>\n",
       "      <th>SEX</th>\n",
       "      <th>AGE</th>\n",
       "      <th>DRIVERS_LICENSE_STATE</th>\n",
       "      <th>DRIVERS_LICENSE_CLASS</th>\n",
       "      <th>SAFETY_EQUIPMENT</th>\n",
       "      <th>AIRBAG_DEPLOYED</th>\n",
       "      <th>EJECTION</th>\n",
       "      <th>INJURY_CLASSIFICATION</th>\n",
       "      <th>HOSPITAL</th>\n",
       "      <th>EMS_AGENCY</th>\n",
       "      <th>EMS_RUN_NO</th>\n",
       "      <th>DRIVER_ACTION</th>\n",
       "      <th>DRIVER_VISION</th>\n",
       "      <th>PHYSICAL_CONDITION</th>\n",
       "      <th>PEDPEDAL_ACTION</th>\n",
       "      <th>PEDPEDAL_VISIBILITY</th>\n",
       "      <th>PEDPEDAL_LOCATION</th>\n",
       "      <th>BAC_RESULT</th>\n",
       "      <th>BAC_RESULT VALUE</th>\n",
       "      <th>CELL_PHONE_USE</th>\n",
       "    </tr>\n",
       "  </thead>\n",
       "  <tbody>\n",
       "    <tr>\n",
       "      <th>494870</th>\n",
       "      <td>O1277023</td>\n",
       "      <td>DRIVER</td>\n",
       "      <td>f2e73538e2b985ccadccbd66f29c4be8993c9c07868ff0...</td>\n",
       "      <td>1212419.0</td>\n",
       "      <td>02/04/2022 02:35:00 PM</td>\n",
       "      <td>NaN</td>\n",
       "      <td>CHICAGO</td>\n",
       "      <td>IL</td>\n",
       "      <td>60620</td>\n",
       "      <td>F</td>\n",
       "      <td>28.0</td>\n",
       "      <td>NaN</td>\n",
       "      <td>NaN</td>\n",
       "      <td>SAFETY BELT USED</td>\n",
       "      <td>DEPLOYMENT UNKNOWN</td>\n",
       "      <td>NONE</td>\n",
       "      <td>NO INDICATION OF INJURY</td>\n",
       "      <td>NaN</td>\n",
       "      <td>NaN</td>\n",
       "      <td>NaN</td>\n",
       "      <td>OTHER</td>\n",
       "      <td>UNKNOWN</td>\n",
       "      <td>NORMAL</td>\n",
       "      <td>NaN</td>\n",
       "      <td>NaN</td>\n",
       "      <td>NaN</td>\n",
       "      <td>TEST NOT OFFERED</td>\n",
       "      <td>NaN</td>\n",
       "      <td>NaN</td>\n",
       "    </tr>\n",
       "    <tr>\n",
       "      <th>1271734</th>\n",
       "      <td>P284715</td>\n",
       "      <td>PASSENGER</td>\n",
       "      <td>f2e73538e2b985ccadccbd66f29c4be8993c9c07868ff0...</td>\n",
       "      <td>1212420.0</td>\n",
       "      <td>02/04/2022 02:35:00 PM</td>\n",
       "      <td>1.0</td>\n",
       "      <td>DOWNERS GROVE</td>\n",
       "      <td>IL</td>\n",
       "      <td>60515</td>\n",
       "      <td>F</td>\n",
       "      <td>69.0</td>\n",
       "      <td>NaN</td>\n",
       "      <td>NaN</td>\n",
       "      <td>SAFETY BELT USED</td>\n",
       "      <td>NOT APPLICABLE</td>\n",
       "      <td>NONE</td>\n",
       "      <td>NO INDICATION OF INJURY</td>\n",
       "      <td>NaN</td>\n",
       "      <td>NaN</td>\n",
       "      <td>NaN</td>\n",
       "      <td>NaN</td>\n",
       "      <td>NaN</td>\n",
       "      <td>NaN</td>\n",
       "      <td>NaN</td>\n",
       "      <td>NaN</td>\n",
       "      <td>NaN</td>\n",
       "      <td>NaN</td>\n",
       "      <td>NaN</td>\n",
       "      <td>NaN</td>\n",
       "    </tr>\n",
       "    <tr>\n",
       "      <th>1271735</th>\n",
       "      <td>P284716</td>\n",
       "      <td>PASSENGER</td>\n",
       "      <td>f2e73538e2b985ccadccbd66f29c4be8993c9c07868ff0...</td>\n",
       "      <td>1212420.0</td>\n",
       "      <td>02/04/2022 02:35:00 PM</td>\n",
       "      <td>10.0</td>\n",
       "      <td>DOWNERS GROVE</td>\n",
       "      <td>IL</td>\n",
       "      <td>60515</td>\n",
       "      <td>F</td>\n",
       "      <td>NaN</td>\n",
       "      <td>NaN</td>\n",
       "      <td>NaN</td>\n",
       "      <td>USAGE UNKNOWN</td>\n",
       "      <td>NOT APPLICABLE</td>\n",
       "      <td>NONE</td>\n",
       "      <td>NO INDICATION OF INJURY</td>\n",
       "      <td>NaN</td>\n",
       "      <td>NaN</td>\n",
       "      <td>NaN</td>\n",
       "      <td>NaN</td>\n",
       "      <td>NaN</td>\n",
       "      <td>NaN</td>\n",
       "      <td>NaN</td>\n",
       "      <td>NaN</td>\n",
       "      <td>NaN</td>\n",
       "      <td>NaN</td>\n",
       "      <td>NaN</td>\n",
       "      <td>NaN</td>\n",
       "    </tr>\n",
       "  </tbody>\n",
       "</table>\n",
       "</div>"
      ],
      "text/plain": [
       "        PERSON_ID PERSON_TYPE  \\\n",
       "494870   O1277023      DRIVER   \n",
       "1271734   P284715   PASSENGER   \n",
       "1271735   P284716   PASSENGER   \n",
       "\n",
       "                                           CRASH_RECORD_ID  VEHICLE_ID  \\\n",
       "494870   f2e73538e2b985ccadccbd66f29c4be8993c9c07868ff0...   1212419.0   \n",
       "1271734  f2e73538e2b985ccadccbd66f29c4be8993c9c07868ff0...   1212420.0   \n",
       "1271735  f2e73538e2b985ccadccbd66f29c4be8993c9c07868ff0...   1212420.0   \n",
       "\n",
       "                     CRASH_DATE  SEAT_NO           CITY STATE ZIPCODE SEX  \\\n",
       "494870   02/04/2022 02:35:00 PM      NaN        CHICAGO    IL   60620   F   \n",
       "1271734  02/04/2022 02:35:00 PM      1.0  DOWNERS GROVE    IL   60515   F   \n",
       "1271735  02/04/2022 02:35:00 PM     10.0  DOWNERS GROVE    IL   60515   F   \n",
       "\n",
       "          AGE DRIVERS_LICENSE_STATE DRIVERS_LICENSE_CLASS  SAFETY_EQUIPMENT  \\\n",
       "494870   28.0                   NaN                   NaN  SAFETY BELT USED   \n",
       "1271734  69.0                   NaN                   NaN  SAFETY BELT USED   \n",
       "1271735   NaN                   NaN                   NaN     USAGE UNKNOWN   \n",
       "\n",
       "            AIRBAG_DEPLOYED EJECTION    INJURY_CLASSIFICATION HOSPITAL  \\\n",
       "494870   DEPLOYMENT UNKNOWN     NONE  NO INDICATION OF INJURY      NaN   \n",
       "1271734      NOT APPLICABLE     NONE  NO INDICATION OF INJURY      NaN   \n",
       "1271735      NOT APPLICABLE     NONE  NO INDICATION OF INJURY      NaN   \n",
       "\n",
       "        EMS_AGENCY EMS_RUN_NO DRIVER_ACTION DRIVER_VISION PHYSICAL_CONDITION  \\\n",
       "494870         NaN        NaN         OTHER       UNKNOWN             NORMAL   \n",
       "1271734        NaN        NaN           NaN           NaN                NaN   \n",
       "1271735        NaN        NaN           NaN           NaN                NaN   \n",
       "\n",
       "        PEDPEDAL_ACTION PEDPEDAL_VISIBILITY PEDPEDAL_LOCATION  \\\n",
       "494870              NaN                 NaN               NaN   \n",
       "1271734             NaN                 NaN               NaN   \n",
       "1271735             NaN                 NaN               NaN   \n",
       "\n",
       "               BAC_RESULT  BAC_RESULT VALUE CELL_PHONE_USE  \n",
       "494870   TEST NOT OFFERED               NaN            NaN  \n",
       "1271734               NaN               NaN            NaN  \n",
       "1271735               NaN               NaN            NaN  "
      ]
     },
     "execution_count": 563,
     "metadata": {},
     "output_type": "execute_result"
    }
   ],
   "source": [
    "traffic_crashes_people[traffic_crashes_people['CRASH_RECORD_ID'] == 'f2e73538e2b985ccadccbd66f29c4be8993c9c07868ff0b377763f268a3c3c3cce0ec8e82dc0d33242a168b11fd1bf8fa06582807f5e4b727fb8a1be0be66458']"
   ]
  },
  {
   "cell_type": "markdown",
   "id": "3f609dff",
   "metadata": {},
   "source": [
    "We found from above that for the same CRASH_RECORD_ID we may have PASSENGERS which belong to a vehicle and another DRIVER that own another VEHICLE completely, and no DRIVER person for the VEHICLE carries PASSENGERS here . \n",
    "So we conclude from that it's not neccessary to give the missed VEHICLE_ID value for a DRIVER (even if i have one DRIVER in this accident and the PASSGENR's VEHICLE_IDs are known). so there is not a condition to have a DRIVER when i have PASSENGERS in my data. so we can create a rule which assign the missed values of VEHICLE_ID in DRIVERS from PASSENGERs VEHICLE_ID values."
   ]
  },
  {
   "cell_type": "markdown",
   "id": "ac2c8942",
   "metadata": {},
   "source": [
    "We can now assign random unique values for the missed VEHICLE_ID in DRIVERS , and assign the same value for the one exist in df_vehicles for the same CRASH_RECORD_ID, but not when i have multiple DRIVERS except if i need to disribute these values randomly on the DRIVERS in df_vehicles for the matched CRASH_RECORD_ID there .\n",
    "we know that VEHICLE_ID not a feature for any model i will use in future but it is a very sensitive column when it mathces beetween the datasets so changing the reality of the datasets. so let's drop them ."
   ]
  },
  {
   "cell_type": "code",
   "execution_count": 564,
   "id": "e818c57f",
   "metadata": {},
   "outputs": [],
   "source": [
    "traffic_crashes_people = traffic_crashes_people.dropna(subset=['VEHICLE_ID'])"
   ]
  },
  {
   "cell_type": "markdown",
   "id": "c00dc8a4",
   "metadata": {},
   "source": [
    "The next column is SEAT_NO with 80% loss in data. We see that it represents where the person sit in vehicle , So where the missing values ? "
   ]
  },
  {
   "cell_type": "code",
   "execution_count": 565,
   "id": "0f418c41",
   "metadata": {},
   "outputs": [
    {
     "data": {
      "text/plain": [
       "3.0     176720\n",
       "6.0      61481\n",
       "4.0      48684\n",
       "5.0      17200\n",
       "1.0      16292\n",
       "2.0      15337\n",
       "12.0      9592\n",
       "7.0       8427\n",
       "10.0      8175\n",
       "11.0      3222\n",
       "8.0        447\n",
       "Name: SEAT_NO, dtype: int64"
      ]
     },
     "execution_count": 565,
     "metadata": {},
     "output_type": "execute_result"
    }
   ],
   "source": [
    "traffic_crashes_people['SEAT_NO'].value_counts()"
   ]
  },
  {
   "cell_type": "code",
   "execution_count": 566,
   "id": "950c57f9",
   "metadata": {},
   "outputs": [
    {
     "data": {
      "text/plain": [
       "0"
      ]
     },
     "execution_count": 566,
     "metadata": {},
     "output_type": "execute_result"
    }
   ],
   "source": [
    "traffic_crashes_people[traffic_crashes_people['PERSON_TYPE'] == 'PASSENGER']['SEAT_NO'].isnull().sum()"
   ]
  },
  {
   "cell_type": "code",
   "execution_count": 567,
   "id": "80e413f8",
   "metadata": {},
   "outputs": [
    {
     "data": {
      "text/plain": [
       "1406682"
      ]
     },
     "execution_count": 567,
     "metadata": {},
     "output_type": "execute_result"
    }
   ],
   "source": [
    "traffic_crashes_people[traffic_crashes_people['PERSON_TYPE'] == \"DRIVER\"]['SEAT_NO'].isnull().sum()"
   ]
  },
  {
   "cell_type": "code",
   "execution_count": 568,
   "id": "cd2dc7cc",
   "metadata": {},
   "outputs": [
    {
     "data": {
      "text/plain": [
       "1406682"
      ]
     },
     "execution_count": 568,
     "metadata": {},
     "output_type": "execute_result"
    }
   ],
   "source": [
    "traffic_crashes_people[traffic_crashes_people['PERSON_TYPE'] == \"DRIVER\"]['SEAT_NO'].shape[0]"
   ]
  },
  {
   "cell_type": "markdown",
   "id": "a84fb2ab",
   "metadata": {},
   "source": [
    "the huge miss exists in DRIVER type , all the drivers doesn't have value for SEAT_NO .\n",
    "but the driver still sit in the vehicle , so we will fill them with the unique value (0) reflect the zero SEAT_NO (_the first one_)."
   ]
  },
  {
   "cell_type": "code",
   "execution_count": 569,
   "id": "8b123ee5",
   "metadata": {},
   "outputs": [],
   "source": [
    "traffic_crashes_people.loc[traffic_crashes_people['PERSON_TYPE'] == \"DRIVER\", 'SEAT_NO'] = 0.0"
   ]
  },
  {
   "cell_type": "code",
   "execution_count": 570,
   "id": "10c79cf2",
   "metadata": {},
   "outputs": [
    {
     "data": {
      "text/plain": [
       "PEDESTRIAN             21142\n",
       "BICYCLE                12725\n",
       "NON-MOTOR VEHICLE       1474\n",
       "NON-CONTACT VEHICLE      169\n",
       "Name: PERSON_TYPE, dtype: int64"
      ]
     },
     "execution_count": 570,
     "metadata": {},
     "output_type": "execute_result"
    }
   ],
   "source": [
    "traffic_crashes_people[traffic_crashes_people['SEAT_NO'].isnull()]['PERSON_TYPE'].value_counts()"
   ]
  },
  {
   "cell_type": "code",
   "execution_count": 571,
   "id": "cc1e6de4",
   "metadata": {},
   "outputs": [
    {
     "data": {
      "text/plain": [
       "169"
      ]
     },
     "execution_count": 571,
     "metadata": {},
     "output_type": "execute_result"
    }
   ],
   "source": [
    "traffic_crashes_people[traffic_crashes_people['PERSON_TYPE']=='NON-CONTACT VEHICLE'].shape[0]"
   ]
  },
  {
   "cell_type": "markdown",
   "id": "ca99dedb",
   "metadata": {},
   "source": [
    "it's right when we find these nan values when the person is PEDESTRIAN or BICYCLE or NON_MOTOR as they are not real vehicles, but what about the NON-CONTACT?, it seems all the values are nan also so not unique value for this type also .\n",
    "let's fill them all with for example : (-1)"
   ]
  },
  {
   "cell_type": "code",
   "execution_count": 572,
   "id": "8e4608e6",
   "metadata": {},
   "outputs": [],
   "source": [
    "traffic_crashes_people['SEAT_NO'].fillna('-1.0',inplace=True)"
   ]
  },
  {
   "cell_type": "markdown",
   "id": "d4677177",
   "metadata": {},
   "source": [
    "CITY and STATE columns are must be related and we may can conclude missing values from each others. but let's see when they being null."
   ]
  },
  {
   "cell_type": "code",
   "execution_count": 573,
   "id": "3eba773e",
   "metadata": {},
   "outputs": [
    {
     "data": {
      "text/plain": [
       "453302"
      ]
     },
     "execution_count": 573,
     "metadata": {},
     "output_type": "execute_result"
    }
   ],
   "source": [
    "traffic_crashes_people[(traffic_crashes_people['CITY'].isnull()) & (traffic_crashes_people['STATE'].isnull())].shape[0]"
   ]
  },
  {
   "cell_type": "markdown",
   "id": "87f19766",
   "metadata": {},
   "source": [
    "They are both nan in most rows , so can't conclude one from each other except some rows .\n",
    "let's take a deeper look ."
   ]
  },
  {
   "cell_type": "code",
   "execution_count": 574,
   "id": "24980dd5",
   "metadata": {},
   "outputs": [
    {
     "data": {
      "text/plain": [
       "CHICAGO          933079\n",
       "CICERO            12984\n",
       "SKOKIE             8408\n",
       "BERWYN             7299\n",
       "EVANSTON           7228\n",
       "                  ...  \n",
       "NAPOLEONVILLE         1\n",
       "CAMPUS                1\n",
       "ALLENTON              1\n",
       "HANCOK                1\n",
       "BOLINGROOK            1\n",
       "Name: CITY, Length: 13407, dtype: int64"
      ]
     },
     "execution_count": 574,
     "metadata": {},
     "output_type": "execute_result"
    }
   ],
   "source": [
    "traffic_crashes_people['CITY'].value_counts()"
   ]
  },
  {
   "cell_type": "code",
   "execution_count": 575,
   "id": "9f4e003c",
   "metadata": {},
   "outputs": [
    {
     "data": {
      "text/plain": [
       "array(['60655', '60643', '99', 'CHICAG0', '60649', '60615', '60629',\n",
       "       'GA1', 'OTTAWA, ONTARIO K1S1SQ', 'ELMWO0D', '60614', '60428',\n",
       "       '60619', '60641', 'LOMBARDY R1 ONTARIO CANADA K0G1L0',\n",
       "       '9152820310', '606402', '60621', '7430 THUSIS, SWITZERLAND',\n",
       "       '60076', 'CHICAGO9', '03JUN1991', 'CHICAGO1', 'ALSIP0803', '60645',\n",
       "       '1B', '60625', 'THAMESFORD RR4, ON', '2', '60628', '1C', '60623',\n",
       "       'ANNAN RR2', '3CHICAGO', 'CICER0', 'CHI9CAGO', '3', 'CHICAGO0',\n",
       "       'CHICAG0O', '60636', 'CHICAGO2', '60637', '60632',\n",
       "       'TORONTO ONTARIO M4N 2C9', 'SUGAR GROVE, IL 60554', '1353',\n",
       "       'FLOSSMO0R', '1221', 'NORTH YORK ONTARIO CANADA M2J3A5',\n",
       "       'BRAMPTON, ON L6X0V6', '17915', 'PEKIN61554', 'D624', '60638',\n",
       "       '75018 PARIS', 'WILLOWBROOK IL 60527', 'WINNIPEG MB R2M 2N6',\n",
       "       '60647', 'CHICAGO62', 'CHCAG0', '60302', '60529', 'CHI8CAGO',\n",
       "       'SAUK VILLAGE60411', 'WINNEPEG, MANITOBA,CANADA,ZIP R2J0Z1',\n",
       "       '60804', 'CHICAGO  60612', 'SEC-4 DWARKA', 'LINCOLNWO0OD',\n",
       "       'BROADVIEW  60155', 'KENILWORTH, CVB 1ER', 'CHGO1', 'BERWYN1',\n",
       "       'BEECHER /P.O. BOX 29', '60651', '313', '2R', '60630',\n",
       "       'CHICAGO  60641', 'EDMONTON, AB T6T 1MA',\n",
       "       'KINGSTON 5, ST. ANDREW, JAMAICA', '60620', 'CHICAGO  60644',\n",
       "       'CHICAGO1234', 'HOFFMAN E92STATES', '60652', '60609', '202',\n",
       "       'CH9ICAGO', 'OTTAWA, ONTARIO K1S 1G3', 'BRAMPTON, ON L6X0X8',\n",
       "       '60616', 'SOMERVILLE, CANADA NEW BRUNSWICK E7P2T1', '1A',\n",
       "       '7430 THUSIS', 'HOMELESS, PER UNIT 2 (PEDESTRIAN)', '402',\n",
       "       'MISSISSAUGA L4T3L9 ONTARIO CANADA', '60642', '60659', '60639',\n",
       "       '60707', '106', '60613', 'EESSEN PROMENADENWEG 23', 'CHCIAG0',\n",
       "       'JUSTICE1', 'LAS VE89148GAS', '2S', '1109', 'JOLIET  60435',\n",
       "       '0AK PARK', 'TORONTO, ONTARIO, M4N 2X7', '60612', '1425',\n",
       "       '11423 S CARPENTER', '60610', '60617', '606', '60618', '4669262',\n",
       "       'LYNW2OOD', '1F', 'ORLAND PARK1', 'CHICA20', '203', '60611',\n",
       "       '2327', '1', '60564', 'G2', 'CHICAGO  60640', 'EAST CHICAG0',\n",
       "       'ELMHU8RST', 'NORTH YORK- ONTARIO-M2N 5V7', '61ST', '60544',\n",
       "       'CH5CAG6', '60644', '17-APR-1973', 'BELLE RIVER, ONTARIO, N0R 1A0',\n",
       "       '60624', '71ST ST', 'GLENWOOD IL 60425', '8214', 'DELMAS 28',\n",
       "       '1514', '201', '2E', 'CH8ICAGO', 'APT 2', 'PARK RIDG3E',\n",
       "       '7824 S SOUTH SHORE DR APT 2B  CHICAGO  60649', '2815', '60634',\n",
       "       '1ST FL'], dtype=object)"
      ]
     },
     "execution_count": 575,
     "metadata": {},
     "output_type": "execute_result"
    }
   ],
   "source": [
    "# df['CITY'] = df['CITY'].str.extract(r'([-+]?\\d*\\.\\d+|\\d+)').astype(float)\n",
    "# df['CITY'].str.extract(r'([-+]?\\d*\\.\\d+|\\d+)')\n",
    "\n",
    "traffic_crashes_people[traffic_crashes_people['CITY'].notnull() & traffic_crashes_people['CITY'].str.contains('\\\\d',regex=True)]['CITY'].unique()\n"
   ]
  },
  {
   "cell_type": "markdown",
   "id": "a3e4b7ce",
   "metadata": {},
   "source": [
    "??"
   ]
  },
  {
   "cell_type": "code",
   "execution_count": 576,
   "id": "9d80f337",
   "metadata": {},
   "outputs": [
    {
     "data": {
      "text/plain": [
       "array(['CHICAGO', 'CHICAGO RIDGE', 'CHICAGIO', 'EAST CHICAGO',\n",
       "       'SOUTH CHICAGO HEIGHTS', 'CHICAGO HEIGHTS', 'CHICAGO O',\n",
       "       'CHICCAGO', 'WEST CHICAGO', 'CHICAGOIL', 'CHICAGO`', 'CHICAGOI',\n",
       "       'CHICAGO HEIGHT', 'NORTH CHICAGO', 'CHIKCAGO', 'CHICAGFO',\n",
       "       'CHIICAGO', 'CHCICAGO', 'CHICAGOO', 'CHHICAGO', 'CHICAGOL',\n",
       "       'CHICASGO', 'CHICGAGO', 'CHICAGO IL', 'CCHICAGO', 'CHICAGGO',\n",
       "       'CHUICAGO', 'SOUTH CHICAGO', 'CHICAGOQ', 'CHICAGO;', 'CHICAGO N',\n",
       "       'CHICICAGO', 'CHICAGO-HEIGHT', 'CHICAGO HIEGHTS', 'CHICAQGO',\n",
       "       'CHICAGHO', 'CHICAGO`I', 'CHIHCAGO', 'CHICAGO AVE', 'CHIOCAGO',\n",
       "       'CHICAIGO', 'CHICACAGO', 'CHICAGOE', 'SOUTH CHICAGO HEIGHT',\n",
       "       'SOUTH CHICAGO HEIGHT`', 'CHKICAGO', 'CHICAOGO', 'CHICAAGO',\n",
       "       'NORHT CHICAGO', 'CHICAFGO', 'SO CHICAGO HEIGHTS', 'EAST  CHICAGO',\n",
       "       'CHICAGO HIGHTS', 'CHICAGOP', 'CHICVAGO', 'CHICACGO', 'CHICAGO Q',\n",
       "       'CHIACAGO', 'CHIUCAGO', 'CHICAGO I', 'CHICAHGO', 'CHICAGORIDGE',\n",
       "       'CHIC AGO', 'CHICAGOQIL', 'CHICAGO TRANSIT AUTHORITY', '`CHICAGO',\n",
       "       'CHICAGO HEGHTS', 'CHICAGAO', 'CHICAGO RIFGE', 'CHICAGO9',\n",
       "       'CHICAGO POLICE', 'CHICAGO1', 'CHICAG O', 'CHICAGO, IL',\n",
       "       'CHICAG\\\\O', 'CHICAGOHEIGHT', 'CHICAGO``', 'VCHICAGO', 'CHIECAGO',\n",
       "       'CHICAGBO', 'CHICAGTO', 'CHICAGPO', 'CHGICAGO', 'CHIGCAGO',\n",
       "       'CHICIAGO', 'CHICAZGO', 'CHOICAGO', 'CHICAGOF', '3CHICAGO',\n",
       "       'CHI9CAGO', 'XCHICAGO', 'CHICAGO0', 'CHICAGO HGTS', 'CHICAGO HTS',\n",
       "       'EAS CHICAGO', 'SOUTH CHICAGO HTS', 'CHICAG0O', 'CHICAGON',\n",
       "       'CHICAGO2', 'NEW CHICAGO', 'WEST  CHICAGO', 'CHICHAGO', 'CHICADGO',\n",
       "       'CHICAGO `', 'CHICAGLO', 'CHICATGO', 'CHICAGO-RIDGE', 'CHICDAGO',\n",
       "       'CHICSAGO', 'CHIC=AGO', 'CHJICAGO', 'CHAICAGO', 'CHICAGO  HEIGHTS',\n",
       "       'EASTCHICAGO', 'S CHICAGO HEIGHTS', 'CHICAGO HGHTS',\n",
       "       'SO CHICAGO HIGHTS', 'CHICAGO RUDGE', 'CHICAGO HEIHTS', 'CHIC;AGO',\n",
       "       'CHICAGO HTS.', 'WESTCHICAGO', 'CHICQAGO', 'CH;ICAGO', 'ILCHICAGO',\n",
       "       'CHICAGO ILL', 'CHICAGOA', 'CHICAGO  RIDGE', 'SOU CHICAGO HEIGHTS',\n",
       "       'CHICAGO62', 'EASE CHICAGO', 'CHICAGOHEIGHTS', 'CHICXAGO',\n",
       "       'CHICAGO+', 'CHI8CAGO', 'CHICAGOJ', 'CHICAGG\\\\O', 'CHICAGO,',\n",
       "       'CHICAGO  60612', 'CITY OF CHICAGO', 'SO. CHICAGO HEIGHTS',\n",
       "       'CHYICAGO', 'CHICAGAGO', 'CHICAPGO', 'CHICAGO HIEGHT', 'CHICAGOD',\n",
       "       'CHICAGO  60641', 'CHIXCAGO', 'E. CHICAGO', '`CHICAGO RIDGE',\n",
       "       'CHICAGO  60644', 'CHICAGO1234', 'CH9ICAGO', 'SOUTH CHICAGO RIDGE',\n",
       "       'CHICAGO HEIGTS', 'EAST CHICAGO`', 'CHICAGO/', 'ICHICAGO',\n",
       "       'CHICAGO.', 'CHICAGOC', 'CHICAGO IL.', 'CHICAGILO', 'CHICAGOILL',\n",
       "       'CHICAGO HERIGHTS', 'CHICAEGO', 'GARDEN CHICAGO', 'CHICAGI=O',\n",
       "       \"CHICAGO''\", 'CHICAGOOL', 'CHICAGO HEIGHTSQ', 'CHI CAGO',\n",
       "       'EASCHICAGO', 'CHIGICAGO', 'CHICAGO-', 'CHICAGO  IL', 'CHICABGO',\n",
       "       'CHIICAGOO', 'CHICAGO RIGE', 'CHICAGO M', 'CHICAGOI\\\\', 'CHICAJGO',\n",
       "       'CHICAGO RIDGE DR', 'CHICAGOQ\\\\', 'CHICHAGOC', ']CHICAGO',\n",
       "       'CHICXCAGO', 'EAST CHICAHGO', 'SOUTH CHICAGOHEIGHTS', 'CHIVCAGO',\n",
       "       'CHICAGO \\\\', 'CHICAGO  60640', 'SOUTHCHICAGO HEIGHTS', 'CHICA;GO',\n",
       "       'CHIIICAGO', 'CHCHICAGO', 'CHICAGOOOOO', 'CHICAGOGUCA',\n",
       "       'CHU=ICAGO', 'CHICFAGO', 'CHICAGGGGO', 'EAST CHICAGO INDIANA',\n",
       "       '.CHICAGO', 'CHICA GO', 'CH8ICAGO',\n",
       "       '7824 S SOUTH SHORE DR APT 2B  CHICAGO  60649', 'CHICAGOCICERO',\n",
       "       'CHICJAGO'], dtype=object)"
      ]
     },
     "execution_count": 576,
     "metadata": {},
     "output_type": "execute_result"
    }
   ],
   "source": [
    "chicago_mask = traffic_crashes_people['CITY'].str.contains(r'(?i)ch.*i.*c.*a.*g.*o', regex=True)\n",
    "traffic_crashes_people[traffic_crashes_people['CITY'].notnull() & (chicago_mask)]['CITY'].unique()"
   ]
  },
  {
   "cell_type": "code",
   "execution_count": 577,
   "id": "81ba4f28",
   "metadata": {},
   "outputs": [],
   "source": [
    "traffic_crashes_people.loc[traffic_crashes_people['CITY'].notnull() & (chicago_mask) , 'CITY'] = \"CHICAGO\""
   ]
  },
  {
   "cell_type": "code",
   "execution_count": 578,
   "id": "b049f881",
   "metadata": {},
   "outputs": [],
   "source": [
    "# chicago_mask = traffic_crashes_people['CITY'].str.contains(r'(?i)\\bch(?:i|a|e|y|)[a-z]*g(?:o|a|e|y|)[a-z]*\\b', regex=True)\n",
    "# traffic_crashes_people[traffic_crashes_people['CITY'].notnull() & (chicago_mask)]['CITY'].unique()"
   ]
  },
  {
   "cell_type": "code",
   "execution_count": 579,
   "id": "82a1cc09",
   "metadata": {},
   "outputs": [
    {
     "data": {
      "text/plain": [
       "array(['CHICAGO', 'CHIACGO', 'CHICGO', 'CHCIAGO', 'CHICGAO', 'CHCAGO',\n",
       "       'CHOCAGO', 'CHCAIGO', 'CHUCAGO', 'CHCIAGO RIDGE', 'CHCIAGO IL',\n",
       "       'CHICGO HEIGHTS', 'CHICSGO', 'CHICQGO', 'CHJCAGO', 'CHICIGO',\n",
       "       'CHICCGAO', 'CHCCAGO', 'CHCAAGO', 'CHCIACGO', 'CHCIAGOP',\n",
       "       'CHICGAO RIDGE', 'CHCAGOQ', 'CHCIAGO HEIGHTS', 'CHICKAMAUGA',\n",
       "       'CHLCAGO', 'CHICAGA', 'CHKCAGO', 'CHCGAGO', 'CHCIAQGO', 'CHCAHGO',\n",
       "       'CHIACGO RIDGE', 'NORTH CHCAGO', 'CHCACGO', 'CHICAGE', 'CHHCAGO',\n",
       "       'CHCAGOI', 'CHACIGO', 'CHCAGO HEIGHTS', 'CHCAOGO', 'CHAICGO',\n",
       "       'CHACAGO', 'EAST CHCIAGO', 'CHICOGO', 'WEST CHICGO', 'EAST CHCAGO',\n",
       "       'CHCIAGOL', 'CHCIACOGO', 'CHCVAGO', 'CHICHGO'], dtype=object)"
      ]
     },
     "execution_count": 579,
     "metadata": {},
     "output_type": "execute_result"
    }
   ],
   "source": [
    "chicago_mask = traffic_crashes_people['CITY'].str.contains(r'(?i)\\bch(?:i|a|)[a-z]*c(?:a|e|y|)[a-z]*g(?:o|a|e|y)[a-z]*\\b', regex=True)\n",
    "traffic_crashes_people[traffic_crashes_people['CITY'].notnull() & (chicago_mask)]['CITY'].unique()"
   ]
  },
  {
   "cell_type": "code",
   "execution_count": 580,
   "id": "149604c4",
   "metadata": {},
   "outputs": [],
   "source": [
    "traffic_crashes_people.loc[traffic_crashes_people['CITY'].notnull() & (chicago_mask) , 'CITY'] = \"CHICAGO\""
   ]
  },
  {
   "cell_type": "code",
   "execution_count": 581,
   "id": "d1512f2f",
   "metadata": {},
   "outputs": [],
   "source": [
    "# traffic_crashes_people[traffic_crashes_people['CITY'].notnull() & traffic_crashes_people['CITY'].str.startswith('CH')]['CITY'].unique()"
   ]
  },
  {
   "cell_type": "code",
   "execution_count": 582,
   "id": "0dbb13ab",
   "metadata": {},
   "outputs": [],
   "source": [
    "import re"
   ]
  },
  {
   "cell_type": "code",
   "execution_count": 583,
   "id": "e0bb8ec7",
   "metadata": {},
   "outputs": [
    {
     "data": {
      "text/plain": [
       "array(['CHICAGO', 'CIHICAGO', 'C HICAGO', 'CVHICAGO', 'CJHICAGO',\n",
       "       'CDHICAGO', 'CKHICAGO', 'CBHICAGO', 'CG=HICAGO', 'CGHICAGO',\n",
       "       'CXHICAGO', 'CAHICAGO', 'C;HICAGO', 'CFHICAGO'], dtype=object)"
      ]
     },
     "execution_count": 583,
     "metadata": {},
     "output_type": "execute_result"
    }
   ],
   "source": [
    "chicago_pattern = re.compile(r'C.*H.*I.*C.*A.*G.*O')\n",
    "def is_chicago(city):\n",
    "    return bool(chicago_pattern.search(city))\n",
    "df = traffic_crashes_people[traffic_crashes_people['CITY'].notnull()]\n",
    "chicago_mask = df['CITY'].str.upper().apply(is_chicago)\n",
    "df[chicago_mask]['CITY'].unique()"
   ]
  },
  {
   "cell_type": "code",
   "execution_count": 584,
   "id": "cb5cff69",
   "metadata": {},
   "outputs": [],
   "source": [
    "traffic_crashes_people.loc[traffic_crashes_people['CITY'].notnull() & (chicago_mask) , 'CITY'] = \"CHICAGO\""
   ]
  },
  {
   "cell_type": "code",
   "execution_count": 585,
   "id": "414298e8",
   "metadata": {},
   "outputs": [
    {
     "data": {
      "text/plain": [
       "array(['CHICAGO', 'CHGO', 'CICAGO', 'CHIAGO', 'CHIAGO IL', 'CHGO.',\n",
       "       'CHICAG0', 'CIHCAGO', 'CGICAGO HEIGHTS', 'HICAGO', 'CGICAGO',\n",
       "       'CJICAGO', 'VHICAGO', 'CHIAGO HEIGHTS', 'CHIAAGO', 'CHGO RIDGE',\n",
       "       'NORTH CHIAGO', 'HHICAGO', 'SO. CHGO. HEIGHTS', 'CHGO IL',\n",
       "       'XHICAGO', 'GHICAGO', 'CAGO', 'SO CHGO HEIGHTS', 'WEST CHGO',\n",
       "       'CHCAG0', 'NORTH CHGO', 'CHGO HTS', 'HCIAGO', 'HCICAGO', 'CHIGO',\n",
       "       'CHGO1', 'PASCAGOULA', 'CUICAGO', 'SHICAGO', 'CICAGOH', 'CCICAGO',\n",
       "       'CBICAGO', 'CHCIAG0', 'CKICAGO', 'CHIAGOQ', 'CICAGO.', 'CHAGO',\n",
       "       'CAHIAGO', 'EAST CHICAG0', 'EAST CGICAGO', 'CJOCAGO', 'CGO'],\n",
       "      dtype=object)"
      ]
     },
     "execution_count": 585,
     "metadata": {},
     "output_type": "execute_result"
    }
   ],
   "source": [
    "chicago_pattern = re.compile(r'[^\\w]*C[HICA]*G[^\\w]*[O0]', re.IGNORECASE)\n",
    "\n",
    "def is_chicago(city):\n",
    "    return bool(chicago_pattern.search(city))\n",
    "df = traffic_crashes_people[traffic_crashes_people['CITY'].notnull()]\n",
    "chicago_mask = df['CITY'].str.upper().apply(is_chicago)\n",
    "df[chicago_mask]['CITY'].unique()"
   ]
  },
  {
   "cell_type": "code",
   "execution_count": 586,
   "id": "ba4a5372",
   "metadata": {},
   "outputs": [],
   "source": [
    "traffic_crashes_people.loc[traffic_crashes_people['CITY'].notnull() & (chicago_mask) , 'CITY'] = \"CHICAGO\""
   ]
  },
  {
   "cell_type": "code",
   "execution_count": 587,
   "id": "bbad9c38",
   "metadata": {},
   "outputs": [
    {
     "data": {
      "text/plain": [
       "array(['BEECHER /P.O. BOX 29', 'CHICA20', 'CH5CAG6'], dtype=object)"
      ]
     },
     "execution_count": 587,
     "metadata": {},
     "output_type": "execute_result"
    }
   ],
   "source": [
    "mask = (traffic_crashes_people['CITY'].str.contains('CH',regex=True)\n",
    "       ) & (traffic_crashes_people['CITY'].str.contains('\\\\d',regex=True) )\n",
    "        \n",
    "traffic_crashes_people[traffic_crashes_people['CITY'].notnull() & (mask) ]['CITY'].unique()\n"
   ]
  },
  {
   "cell_type": "code",
   "execution_count": 588,
   "id": "64f72b62",
   "metadata": {},
   "outputs": [],
   "source": [
    "traffic_crashes_people.loc[traffic_crashes_people['CITY'] ==  'CH5CAG6' , 'CITY'] = \"CHICAGO\"\n",
    "traffic_crashes_people.loc[traffic_crashes_people['CITY'] ==  'CHICA20' , 'CITY'] = \"CHICAGO\""
   ]
  },
  {
   "cell_type": "code",
   "execution_count": 589,
   "id": "54fc7554",
   "metadata": {},
   "outputs": [
    {
     "data": {
      "text/plain": [
       "array(['CHICAGO', 'MICHIGAN CITY', 'CHICAO', 'CHICAHO', 'CHICAGP',\n",
       "       'SCHILLER PARK', 'CHICAGI', 'CHICAG', 'CHICADO', 'CHI', 'CHICAFO',\n",
       "       'CHI. RIDGE', 'CHIGACO', 'SCHILLER PK', 'WICHITA', 'MICHIGAN',\n",
       "       'CHICAOG', 'CHIVAGO', 'CHICAGL', 'CHICACO', 'WICHITA FALLS',\n",
       "       'CHICAGIL', 'SCHILLIER PARK', 'CHIC', 'NORTH CHICAGI', 'CHICAGG',\n",
       "       'NORTH CHICAO', 'CHIACHO', 'SCHILLER TER', 'CHICA', 'CHICAOO',\n",
       "       'CHIGAO HEIGHTS', 'CHIXAGO', 'CHILLICOTHE', 'HUTCHINSON',\n",
       "       'WAXAHACHIE', 'CHICAHO HEIGHTS', 'SCHILLERPARK', 'CHILLER PARK',\n",
       "       'CHICO', 'SCHILLER', 'CHICAG HEIGHTS', 'SCHILLER APRK',\n",
       "       'AICHI-JAPAN', 'WEST CHICAGP', 'CHIGAGO', 'CHICAQO', 'PELAHATCHIE',\n",
       "       'PRAIRIE DU CHIEN', 'SCHILER PARK', 'CHIPPEWA FALLS', 'CHICAHP',\n",
       "       'SCHILLEER PARK', 'CHICKEN', 'MICHIAGN CITY', 'SCHILLAR PARK',\n",
       "       'EAST CHICAO', 'KEATCHIE', 'ATCHISON', 'MICHIANA SHORE', 'CHICOAG',\n",
       "       'MICHIGAN SHORES', 'CHIC GAO', 'WITCHITA', 'SCHILLER PRK',\n",
       "       'MICHIANA SHORES', 'CHINO HILLS', 'CHILLCOTHE', 'FLUCHING',\n",
       "       'XCHIXGO', 'CHINA', 'SCHILLER PARL', 'CHICAGU', 'SCHILLER  PARK',\n",
       "       'HUTCHINS', 'MICHICAN CITY', 'MICHIE', 'SHAOXING CITY, CHINA',\n",
       "       'CHICAG RIDGE', 'CHIBA', 'MICHICGAN CITY', 'SCHILLE PARK',\n",
       "       'MICHIAGAN CITY', 'CHINO', 'CHICAGI HEIGHTS', 'MICHIFGAN CITY',\n",
       "       'CHIGAO', 'CHIPLEY', 'EAST CHIGAGO', 'CHIAGAO', 'SCHILLER ARK',\n",
       "       'WHICHITA', 'SCHILOLER PARK', 'CHILDRESS', 'CHICATO', 'CHICAOI',\n",
       "       'SHANGHAI, CHINA', 'EAST CHINA', 'CHIICAO', 'CHIAVGO', 'CHI.',\n",
       "       'RICHIBOUCT VL NB', 'YAMACHICHE', 'SCHILLER PAKR', 'CHIPPWA FALLS',\n",
       "       'CHIFAGO', 'CHILTON', 'SCHILLER PK.', 'RICHITON PARK',\n",
       "       'PRARIE DU CHIEN', 'CHILLICLOTHE', 'CHIACO', 'CHIPPEWA LAKE',\n",
       "       'MICHICAGN CITY', 'CHICICAG', 'FAIRCHILD', 'SCHILLER PARK RD',\n",
       "       'APALACHIN', 'CHIXAFO', \"PEOPLE'S OF REPUBLIC/CHINA\", 'CHIVAHO',\n",
       "       'CHIPPENHAM', 'CHIAPAS', 'MICHITA', 'CHILMARK', 'SCHINLAR PARK',\n",
       "       'MICHIANA', 'CHICKASHA', 'CHIRA BAZAR', 'CHITTENANGO', 'CHICG',\n",
       "       'CHILICOTHE', 'SCHILLER PAR', 'DONGYING CHINA', 'ROTHSCHILD',\n",
       "       'CHICCAG', 'CHIDAGO', 'SCHILLER PAARK', 'HUIZHOU CHINA', 'CHIA'],\n",
       "      dtype=object)"
      ]
     },
     "execution_count": 589,
     "metadata": {},
     "output_type": "execute_result"
    }
   ],
   "source": [
    "traffic_crashes_people[traffic_crashes_people['CITY'].notnull() & traffic_crashes_people['CITY'].str.contains('CHI',regex=True)]['CITY'].unique()\n"
   ]
  },
  {
   "cell_type": "code",
   "execution_count": 590,
   "id": "2271d2d4",
   "metadata": {},
   "outputs": [],
   "source": [
    "traffic_crashes_people.loc[traffic_crashes_people['CITY'] ==  'CHICAGI' , 'CITY'] = \"CHICAGO\"\n",
    "traffic_crashes_people.loc[traffic_crashes_people['CITY'] ==  'CHICAGP' , 'CITY'] = \"CHICAGO\"\n",
    "traffic_crashes_people.loc[traffic_crashes_people['CITY'] ==  'CHICAHO' , 'CITY'] = \"CHICAGO\"\n",
    "traffic_crashes_people.loc[traffic_crashes_people['CITY'] ==  'CHICAO' , 'CITY'] = \"CHICAGO\"\n",
    "traffic_crashes_people.loc[traffic_crashes_people['CITY'] ==  'CHIDAGO' , 'CITY'] = \"CHICAGO\"\n",
    "traffic_crashes_people.loc[traffic_crashes_people['CITY'] ==  'CHIACO' , 'CITY'] = \"CHICAGO\"\n",
    "traffic_crashes_people.loc[traffic_crashes_people['CITY'] ==  'CHICG' , 'CITY'] = \"CHICAGO\"\n",
    "traffic_crashes_people.loc[traffic_crashes_people['CITY'] ==  'CHICCAG' , 'CITY'] = \"CHICAGO\"\n",
    "traffic_crashes_people.loc[traffic_crashes_people['CITY'] ==  'CHICAOG' , 'CITY'] = \"CHICAGO\"\n",
    "traffic_crashes_people.loc[traffic_crashes_people['CITY'] ==  'CHIAVGO' , 'CITY'] = \"CHICAGO\"\n",
    "traffic_crashes_people.loc[traffic_crashes_people['CITY'] ==  'CHIACHO' , 'CITY'] = \"CHICAGO\"\n",
    "traffic_crashes_people.loc[traffic_crashes_people['CITY'] ==  'CHICOAG' , 'CITY'] = \"CHICAGO\"\n",
    "traffic_crashes_people.loc[traffic_crashes_people['CITY'] ==  'NORTH CHICAGI' , 'CITY'] = \"CHICAGO\"\n",
    "traffic_crashes_people.loc[traffic_crashes_people['CITY'] ==  'CHICICAG' , 'CITY'] = \"CHICAGO\"\n",
    "traffic_crashes_people.loc[traffic_crashes_people['CITY'] ==  'EAST CHIGAGO' , 'CITY'] = \"CHICAGO\"\n",
    "traffic_crashes_people.loc[traffic_crashes_people['CITY'] ==  'CHIGAGO' , 'CITY'] = \"CHICAGO\"\n",
    "traffic_crashes_people.loc[traffic_crashes_people['CITY'] ==  'CHICAQO' , 'CITY'] = \"CHICAGO\""
   ]
  },
  {
   "cell_type": "markdown",
   "id": "7b62e788",
   "metadata": {},
   "source": [
    "after all the regular expressions i tried to type, still have alot of misstyped CHICAGO in CITY column.\n",
    "so i had to replace some of them manually as above, but still i time consuming and bad treatment, so let's see what we will do with this column at all."
   ]
  },
  {
   "cell_type": "code",
   "execution_count": 591,
   "id": "5290b992",
   "metadata": {},
   "outputs": [
    {
     "data": {
      "text/plain": [
       "CHICAGO        952028\n",
       "CICERO          12984\n",
       "SKOKIE           8408\n",
       "BERWYN           7299\n",
       "EVANSTON         7228\n",
       "                ...  \n",
       "CAMPUS              1\n",
       "HANCOK              1\n",
       "WINFIELD DR         1\n",
       "PHILADLPHIA         1\n",
       "OTHELLO             1\n",
       "Name: CITY, Length: 13073, dtype: int64"
      ]
     },
     "execution_count": 591,
     "metadata": {},
     "output_type": "execute_result"
    }
   ],
   "source": [
    "traffic_crashes_people['CITY'].value_counts()\n"
   ]
  },
  {
   "cell_type": "code",
   "execution_count": 592,
   "id": "895998ae",
   "metadata": {},
   "outputs": [
    {
     "data": {
      "text/html": [
       "<div>\n",
       "<style scoped>\n",
       "    .dataframe tbody tr th:only-of-type {\n",
       "        vertical-align: middle;\n",
       "    }\n",
       "\n",
       "    .dataframe tbody tr th {\n",
       "        vertical-align: top;\n",
       "    }\n",
       "\n",
       "    .dataframe thead th {\n",
       "        text-align: right;\n",
       "    }\n",
       "</style>\n",
       "<table border=\"1\" class=\"dataframe\">\n",
       "  <thead>\n",
       "    <tr style=\"text-align: right;\">\n",
       "      <th></th>\n",
       "      <th>PERSON_ID</th>\n",
       "    </tr>\n",
       "    <tr>\n",
       "      <th>CITY</th>\n",
       "      <th></th>\n",
       "    </tr>\n",
       "  </thead>\n",
       "  <tbody>\n",
       "    <tr>\n",
       "      <th>,HARWOOD HEIGHTS</th>\n",
       "      <td>1</td>\n",
       "    </tr>\n",
       "    <tr>\n",
       "      <th>.BRIDGEVIEW</th>\n",
       "      <td>1</td>\n",
       "    </tr>\n",
       "    <tr>\n",
       "      <th>03JUN1991</th>\n",
       "      <td>1</td>\n",
       "    </tr>\n",
       "    <tr>\n",
       "      <th>0AK PARK</th>\n",
       "      <td>1</td>\n",
       "    </tr>\n",
       "    <tr>\n",
       "      <th>1</th>\n",
       "      <td>2</td>\n",
       "    </tr>\n",
       "    <tr>\n",
       "      <th>...</th>\n",
       "      <td>...</td>\n",
       "    </tr>\n",
       "    <tr>\n",
       "      <th>\\MOUNT PROSPECT</th>\n",
       "      <td>1</td>\n",
       "    </tr>\n",
       "    <tr>\n",
       "      <th>\\WESTCHESTER</th>\n",
       "      <td>1</td>\n",
       "    </tr>\n",
       "    <tr>\n",
       "      <th>`EVERGREEN PARK</th>\n",
       "      <td>1</td>\n",
       "    </tr>\n",
       "    <tr>\n",
       "      <th>`FLOSSMOOR</th>\n",
       "      <td>1</td>\n",
       "    </tr>\n",
       "    <tr>\n",
       "      <th>`RIVERDALE</th>\n",
       "      <td>1</td>\n",
       "    </tr>\n",
       "  </tbody>\n",
       "</table>\n",
       "<p>13073 rows × 1 columns</p>\n",
       "</div>"
      ],
      "text/plain": [
       "                  PERSON_ID\n",
       "CITY                       \n",
       ",HARWOOD HEIGHTS          1\n",
       ".BRIDGEVIEW               1\n",
       "03JUN1991                 1\n",
       "0AK PARK                  1\n",
       "1                         2\n",
       "...                     ...\n",
       "\\MOUNT PROSPECT           1\n",
       "\\WESTCHESTER              1\n",
       "`EVERGREEN PARK           1\n",
       "`FLOSSMOOR                1\n",
       "`RIVERDALE                1\n",
       "\n",
       "[13073 rows x 1 columns]"
      ]
     },
     "execution_count": 592,
     "metadata": {},
     "output_type": "execute_result"
    }
   ],
   "source": [
    "traffic_crashes_people.groupby('CITY').agg({'PERSON_ID' : 'count'})"
   ]
  },
  {
   "cell_type": "code",
   "execution_count": 593,
   "id": "e9d10c0e",
   "metadata": {},
   "outputs": [
    {
     "data": {
      "text/html": [
       "<div>\n",
       "<style scoped>\n",
       "    .dataframe tbody tr th:only-of-type {\n",
       "        vertical-align: middle;\n",
       "    }\n",
       "\n",
       "    .dataframe tbody tr th {\n",
       "        vertical-align: top;\n",
       "    }\n",
       "\n",
       "    .dataframe thead th {\n",
       "        text-align: right;\n",
       "    }\n",
       "</style>\n",
       "<table border=\"1\" class=\"dataframe\">\n",
       "  <thead>\n",
       "    <tr style=\"text-align: right;\">\n",
       "      <th></th>\n",
       "      <th>PERSON_ID</th>\n",
       "      <th>PERSON_TYPE</th>\n",
       "      <th>CRASH_RECORD_ID</th>\n",
       "      <th>VEHICLE_ID</th>\n",
       "      <th>CRASH_DATE</th>\n",
       "      <th>SEAT_NO</th>\n",
       "      <th>CITY</th>\n",
       "      <th>STATE</th>\n",
       "      <th>ZIPCODE</th>\n",
       "      <th>SEX</th>\n",
       "      <th>AGE</th>\n",
       "      <th>DRIVERS_LICENSE_STATE</th>\n",
       "      <th>DRIVERS_LICENSE_CLASS</th>\n",
       "      <th>SAFETY_EQUIPMENT</th>\n",
       "      <th>AIRBAG_DEPLOYED</th>\n",
       "      <th>EJECTION</th>\n",
       "      <th>INJURY_CLASSIFICATION</th>\n",
       "      <th>HOSPITAL</th>\n",
       "      <th>EMS_AGENCY</th>\n",
       "      <th>EMS_RUN_NO</th>\n",
       "      <th>DRIVER_ACTION</th>\n",
       "      <th>DRIVER_VISION</th>\n",
       "      <th>PHYSICAL_CONDITION</th>\n",
       "      <th>PEDPEDAL_ACTION</th>\n",
       "      <th>PEDPEDAL_VISIBILITY</th>\n",
       "      <th>PEDPEDAL_LOCATION</th>\n",
       "      <th>BAC_RESULT</th>\n",
       "      <th>BAC_RESULT VALUE</th>\n",
       "      <th>CELL_PHONE_USE</th>\n",
       "    </tr>\n",
       "  </thead>\n",
       "  <tbody>\n",
       "    <tr>\n",
       "      <th>708551</th>\n",
       "      <td>O29889</td>\n",
       "      <td>DRIVER</td>\n",
       "      <td>8b80e7852289b7520ef5239e0e74158a5809b304629688...</td>\n",
       "      <td>28861.0</td>\n",
       "      <td>02/20/2016 02:00:00 PM</td>\n",
       "      <td>0.0</td>\n",
       "      <td>.BRIDGEVIEW</td>\n",
       "      <td>IL</td>\n",
       "      <td>60455</td>\n",
       "      <td>M</td>\n",
       "      <td>47.0</td>\n",
       "      <td>IL</td>\n",
       "      <td>A</td>\n",
       "      <td>USAGE UNKNOWN</td>\n",
       "      <td>DEPLOYMENT UNKNOWN</td>\n",
       "      <td>NONE</td>\n",
       "      <td>NO INDICATION OF INJURY</td>\n",
       "      <td>NaN</td>\n",
       "      <td>NaN</td>\n",
       "      <td>NaN</td>\n",
       "      <td>UNKNOWN</td>\n",
       "      <td>NOT OBSCURED</td>\n",
       "      <td>NORMAL</td>\n",
       "      <td>NaN</td>\n",
       "      <td>NaN</td>\n",
       "      <td>NaN</td>\n",
       "      <td>TEST NOT OFFERED</td>\n",
       "      <td>NaN</td>\n",
       "      <td>NaN</td>\n",
       "    </tr>\n",
       "  </tbody>\n",
       "</table>\n",
       "</div>"
      ],
      "text/plain": [
       "       PERSON_ID PERSON_TYPE  \\\n",
       "708551    O29889      DRIVER   \n",
       "\n",
       "                                          CRASH_RECORD_ID  VEHICLE_ID  \\\n",
       "708551  8b80e7852289b7520ef5239e0e74158a5809b304629688...     28861.0   \n",
       "\n",
       "                    CRASH_DATE SEAT_NO         CITY STATE ZIPCODE SEX   AGE  \\\n",
       "708551  02/20/2016 02:00:00 PM     0.0  .BRIDGEVIEW    IL   60455   M  47.0   \n",
       "\n",
       "       DRIVERS_LICENSE_STATE DRIVERS_LICENSE_CLASS SAFETY_EQUIPMENT  \\\n",
       "708551                    IL                     A    USAGE UNKNOWN   \n",
       "\n",
       "           AIRBAG_DEPLOYED EJECTION    INJURY_CLASSIFICATION HOSPITAL  \\\n",
       "708551  DEPLOYMENT UNKNOWN     NONE  NO INDICATION OF INJURY      NaN   \n",
       "\n",
       "       EMS_AGENCY EMS_RUN_NO DRIVER_ACTION DRIVER_VISION PHYSICAL_CONDITION  \\\n",
       "708551        NaN        NaN       UNKNOWN  NOT OBSCURED             NORMAL   \n",
       "\n",
       "       PEDPEDAL_ACTION PEDPEDAL_VISIBILITY PEDPEDAL_LOCATION  \\\n",
       "708551             NaN                 NaN               NaN   \n",
       "\n",
       "              BAC_RESULT  BAC_RESULT VALUE CELL_PHONE_USE  \n",
       "708551  TEST NOT OFFERED               NaN            NaN  "
      ]
     },
     "execution_count": 593,
     "metadata": {},
     "output_type": "execute_result"
    }
   ],
   "source": [
    "traffic_crashes_people[traffic_crashes_people['CITY'] == '.BRIDGEVIEW']"
   ]
  },
  {
   "cell_type": "markdown",
   "id": "20e93c94",
   "metadata": {},
   "source": [
    "let's expect the real format of the .BRIDGEVIEW : "
   ]
  },
  {
   "cell_type": "code",
   "execution_count": 594,
   "id": "39f1a128",
   "metadata": {},
   "outputs": [
    {
     "data": {
      "text/plain": [
       "1807"
      ]
     },
     "execution_count": 594,
     "metadata": {},
     "output_type": "execute_result"
    }
   ],
   "source": [
    "traffic_crashes_people[traffic_crashes_people['CITY'] == 'BRIDGEVIEW'].shape[0]"
   ]
  },
  {
   "cell_type": "markdown",
   "id": "ac408503",
   "metadata": {},
   "source": [
    "Exactlyy.. i now have alot of noise and for each city i have in my CITY column maybe , so i have to try to find a global regualr expression to clean the names of cities. "
   ]
  },
  {
   "cell_type": "code",
   "execution_count": 595,
   "id": "f841971d",
   "metadata": {},
   "outputs": [],
   "source": [
    "def clean_city_name(city):\n",
    "       # Remove leading and trailing special characters, spaces, and digits\n",
    "       city = re.sub(r'^[^a-zA-Z]+|[^a-zA-Z]+$', '', city)\n",
    "       \n",
    "       # Convert to lowercase and remove extra spaces\n",
    "       city = ' '.join(city.split())\n",
    "       \n",
    "       return city\n",
    "\n",
    "\n",
    "    \n",
    "# df = traffic_crashes_people[traffic_crashes_people['CITY'].notnull()][['CITY','PERSON_ID']].copy()   \n",
    "    \n",
    "traffic_crashes_people['CITY'] = traffic_crashes_people[traffic_crashes_people['CITY'].notnull()]['CITY'].apply(clean_city_name)"
   ]
  },
  {
   "cell_type": "code",
   "execution_count": 596,
   "id": "313aff04",
   "metadata": {},
   "outputs": [
    {
     "data": {
      "text/html": [
       "<div>\n",
       "<style scoped>\n",
       "    .dataframe tbody tr th:only-of-type {\n",
       "        vertical-align: middle;\n",
       "    }\n",
       "\n",
       "    .dataframe tbody tr th {\n",
       "        vertical-align: top;\n",
       "    }\n",
       "\n",
       "    .dataframe thead th {\n",
       "        text-align: right;\n",
       "    }\n",
       "</style>\n",
       "<table border=\"1\" class=\"dataframe\">\n",
       "  <thead>\n",
       "    <tr style=\"text-align: right;\">\n",
       "      <th></th>\n",
       "      <th>PERSON_ID</th>\n",
       "      <th>PERSON_TYPE</th>\n",
       "      <th>CRASH_RECORD_ID</th>\n",
       "      <th>VEHICLE_ID</th>\n",
       "      <th>CRASH_DATE</th>\n",
       "      <th>SEAT_NO</th>\n",
       "      <th>CITY</th>\n",
       "      <th>STATE</th>\n",
       "      <th>ZIPCODE</th>\n",
       "      <th>SEX</th>\n",
       "      <th>AGE</th>\n",
       "      <th>DRIVERS_LICENSE_STATE</th>\n",
       "      <th>DRIVERS_LICENSE_CLASS</th>\n",
       "      <th>SAFETY_EQUIPMENT</th>\n",
       "      <th>AIRBAG_DEPLOYED</th>\n",
       "      <th>EJECTION</th>\n",
       "      <th>INJURY_CLASSIFICATION</th>\n",
       "      <th>HOSPITAL</th>\n",
       "      <th>EMS_AGENCY</th>\n",
       "      <th>EMS_RUN_NO</th>\n",
       "      <th>DRIVER_ACTION</th>\n",
       "      <th>DRIVER_VISION</th>\n",
       "      <th>PHYSICAL_CONDITION</th>\n",
       "      <th>PEDPEDAL_ACTION</th>\n",
       "      <th>PEDPEDAL_VISIBILITY</th>\n",
       "      <th>PEDPEDAL_LOCATION</th>\n",
       "      <th>BAC_RESULT</th>\n",
       "      <th>BAC_RESULT VALUE</th>\n",
       "      <th>CELL_PHONE_USE</th>\n",
       "    </tr>\n",
       "  </thead>\n",
       "  <tbody>\n",
       "  </tbody>\n",
       "</table>\n",
       "</div>"
      ],
      "text/plain": [
       "Empty DataFrame\n",
       "Columns: [PERSON_ID, PERSON_TYPE, CRASH_RECORD_ID, VEHICLE_ID, CRASH_DATE, SEAT_NO, CITY, STATE, ZIPCODE, SEX, AGE, DRIVERS_LICENSE_STATE, DRIVERS_LICENSE_CLASS, SAFETY_EQUIPMENT, AIRBAG_DEPLOYED, EJECTION, INJURY_CLASSIFICATION, HOSPITAL, EMS_AGENCY, EMS_RUN_NO, DRIVER_ACTION, DRIVER_VISION, PHYSICAL_CONDITION, PEDPEDAL_ACTION, PEDPEDAL_VISIBILITY, PEDPEDAL_LOCATION, BAC_RESULT, BAC_RESULT VALUE, CELL_PHONE_USE]\n",
       "Index: []"
      ]
     },
     "execution_count": 596,
     "metadata": {},
     "output_type": "execute_result"
    }
   ],
   "source": [
    "traffic_crashes_people[traffic_crashes_people['CITY'] == \".BRIDGEVIEW\"]"
   ]
  },
  {
   "cell_type": "code",
   "execution_count": 597,
   "id": "8d1fd6d4",
   "metadata": {},
   "outputs": [
    {
     "data": {
      "text/plain": [
       "1809"
      ]
     },
     "execution_count": 597,
     "metadata": {},
     "output_type": "execute_result"
    }
   ],
   "source": [
    "traffic_crashes_people[traffic_crashes_people['CITY'] == \"BRIDGEVIEW\"].shape[0]"
   ]
  },
  {
   "cell_type": "markdown",
   "id": "dc7e9e8a",
   "metadata": {},
   "source": [
    "We see that we have more two values of BRIDGEVIEW city in the column instead of noisy ones. so not bad."
   ]
  },
  {
   "cell_type": "code",
   "execution_count": 598,
   "id": "8149ba12",
   "metadata": {},
   "outputs": [
    {
     "data": {
      "text/html": [
       "<div>\n",
       "<style scoped>\n",
       "    .dataframe tbody tr th:only-of-type {\n",
       "        vertical-align: middle;\n",
       "    }\n",
       "\n",
       "    .dataframe tbody tr th {\n",
       "        vertical-align: top;\n",
       "    }\n",
       "\n",
       "    .dataframe thead th {\n",
       "        text-align: right;\n",
       "    }\n",
       "</style>\n",
       "<table border=\"1\" class=\"dataframe\">\n",
       "  <thead>\n",
       "    <tr style=\"text-align: right;\">\n",
       "      <th></th>\n",
       "      <th>PERSON_ID</th>\n",
       "    </tr>\n",
       "    <tr>\n",
       "      <th>CITY</th>\n",
       "      <th></th>\n",
       "    </tr>\n",
       "  </thead>\n",
       "  <tbody>\n",
       "    <tr>\n",
       "      <th></th>\n",
       "      <td>451</td>\n",
       "    </tr>\n",
       "    <tr>\n",
       "      <th>A</th>\n",
       "      <td>2</td>\n",
       "    </tr>\n",
       "    <tr>\n",
       "      <th>A GRANGE</th>\n",
       "      <td>1</td>\n",
       "    </tr>\n",
       "    <tr>\n",
       "      <th>A;BIA</th>\n",
       "      <td>1</td>\n",
       "    </tr>\n",
       "    <tr>\n",
       "      <th>AACWORTH</th>\n",
       "      <td>1</td>\n",
       "    </tr>\n",
       "    <tr>\n",
       "      <th>...</th>\n",
       "      <td>...</td>\n",
       "    </tr>\n",
       "    <tr>\n",
       "      <th>ZIONZVILLE</th>\n",
       "      <td>1</td>\n",
       "    </tr>\n",
       "    <tr>\n",
       "      <th>ZITACUARO</th>\n",
       "      <td>1</td>\n",
       "    </tr>\n",
       "    <tr>\n",
       "      <th>ZUBBACK</th>\n",
       "      <td>1</td>\n",
       "    </tr>\n",
       "    <tr>\n",
       "      <th>ZURICH</th>\n",
       "      <td>2</td>\n",
       "    </tr>\n",
       "    <tr>\n",
       "      <th>ZURORA</th>\n",
       "      <td>1</td>\n",
       "    </tr>\n",
       "  </tbody>\n",
       "</table>\n",
       "<p>12822 rows × 1 columns</p>\n",
       "</div>"
      ],
      "text/plain": [
       "            PERSON_ID\n",
       "CITY                 \n",
       "                  451\n",
       "A                   2\n",
       "A GRANGE            1\n",
       "A;BIA               1\n",
       "AACWORTH            1\n",
       "...               ...\n",
       "ZIONZVILLE          1\n",
       "ZITACUARO           1\n",
       "ZUBBACK             1\n",
       "ZURICH              2\n",
       "ZURORA              1\n",
       "\n",
       "[12822 rows x 1 columns]"
      ]
     },
     "execution_count": 598,
     "metadata": {},
     "output_type": "execute_result"
    }
   ],
   "source": [
    "traffic_crashes_people.groupby('CITY').agg({'PERSON_ID' : 'count'})"
   ]
  },
  {
   "cell_type": "code",
   "execution_count": 599,
   "id": "a77bc733",
   "metadata": {},
   "outputs": [
    {
     "data": {
      "text/plain": [
       "array(['IL', nan, 'LA', 'IN', 'XX', 'WI', 'KY', 'CT', 'NY', 'WA', 'CA',\n",
       "       'MI', 'AL', 'GA', 'NV', 'PA', 'AR', 'SC', 'IA', 'OH', 'TX', 'MO',\n",
       "       'NC', 'FL', 'CO', 'NJ', 'MN', 'NB', 'OK', 'TN', 'AZ', 'VA', 'MT',\n",
       "       'NM', 'DC', 'DE', 'WV', 'MD', 'SD', 'KS', 'ID', 'MA', 'UT', 'MS',\n",
       "       'ME', 'WY', 'HI', 'NH', 'OR', 'ND', 'RI', 'VT', 'AK'], dtype=object)"
      ]
     },
     "execution_count": 599,
     "metadata": {},
     "output_type": "execute_result"
    }
   ],
   "source": [
    "traffic_crashes_people['STATE'].unique()"
   ]
  },
  {
   "cell_type": "code",
   "execution_count": 600,
   "id": "5c295054",
   "metadata": {},
   "outputs": [
    {
     "data": {
      "text/plain": [
       "IL    940184\n",
       "IN      1322\n",
       "ID       424\n",
       "LA        22\n",
       "HI        11\n",
       "XX         6\n",
       "IA         6\n",
       "OH         4\n",
       "WI         4\n",
       "KS         4\n",
       "CA         3\n",
       "FL         3\n",
       "MS         2\n",
       "MI         2\n",
       "GA         2\n",
       "AL         2\n",
       "ME         2\n",
       "PA         1\n",
       "AK         1\n",
       "TX         1\n",
       "MO         1\n",
       "NB         1\n",
       "MN         1\n",
       "Name: STATE, dtype: int64"
      ]
     },
     "execution_count": 600,
     "metadata": {},
     "output_type": "execute_result"
    }
   ],
   "source": [
    "traffic_crashes_people[traffic_crashes_people['CITY'] == \"CHICAGO\"]['STATE'].value_counts()"
   ]
  },
  {
   "cell_type": "code",
   "execution_count": 601,
   "id": "6dee610d",
   "metadata": {},
   "outputs": [
    {
     "data": {
      "text/plain": [
       "CHICAGO          952028\n",
       "CICERO            12986\n",
       "SKOKIE             8410\n",
       "BERWYN             7301\n",
       "EVANSTON           7228\n",
       "                  ...  \n",
       "WINNEKA               1\n",
       "WESTERFIELD           1\n",
       "GAITHERSBURGH         1\n",
       "OAKAWN                1\n",
       "BLUE ISAND            1\n",
       "Name: CITY, Length: 12822, dtype: int64"
      ]
     },
     "execution_count": 601,
     "metadata": {},
     "output_type": "execute_result"
    }
   ],
   "source": [
    "traffic_crashes_people['CITY'].value_counts()"
   ]
  },
  {
   "cell_type": "markdown",
   "id": "d17c381f",
   "metadata": {},
   "source": [
    "After all tries and attempts , still alot and alot of noise in city names and chaosity, still the same CITY belongs to many different states and the vice-versa. \n",
    "Let's assign the most frequent value in CITY ('CHICAGO') and STATE('IL') to the nan and missed values in these columns."
   ]
  },
  {
   "cell_type": "code",
   "execution_count": 602,
   "id": "f6362d2c",
   "metadata": {},
   "outputs": [],
   "source": [
    "traffic_crashes_people.loc[traffic_crashes_people['CITY'] == '', 'CITY'] = 'CHICAGO'"
   ]
  },
  {
   "cell_type": "code",
   "execution_count": 603,
   "id": "5cf93dd9",
   "metadata": {},
   "outputs": [],
   "source": [
    "traffic_crashes_people.loc[traffic_crashes_people['CITY'].isnull() , 'CITY'] = 'CHICAGO'"
   ]
  },
  {
   "cell_type": "code",
   "execution_count": 604,
   "id": "08fdc0b3",
   "metadata": {},
   "outputs": [],
   "source": [
    "traffic_crashes_people.loc[traffic_crashes_people['STATE'].isnull() , 'STATE'] = 'IL'"
   ]
  },
  {
   "cell_type": "markdown",
   "id": "a0631afb",
   "metadata": {},
   "source": [
    "#### what about ZIPCODE :"
   ]
  },
  {
   "cell_type": "code",
   "execution_count": 605,
   "id": "1cba62a1",
   "metadata": {},
   "outputs": [
    {
     "data": {
      "text/plain": [
       "14401"
      ]
     },
     "execution_count": 605,
     "metadata": {},
     "output_type": "execute_result"
    }
   ],
   "source": [
    "traffic_crashes_people['ZIPCODE'].nunique()"
   ]
  },
  {
   "cell_type": "code",
   "execution_count": 606,
   "id": "e5a1a913",
   "metadata": {},
   "outputs": [
    {
     "data": {
      "text/plain": [
       "array(['60651', '60620', nan, ..., '66289', '53218', '60336'],\n",
       "      dtype=object)"
      ]
     },
     "execution_count": 606,
     "metadata": {},
     "output_type": "execute_result"
    }
   ],
   "source": [
    "traffic_crashes_people[traffic_crashes_people['CITY'] == 'CHICAGO']['ZIPCODE'].unique()"
   ]
  },
  {
   "cell_type": "code",
   "execution_count": 607,
   "id": "988f916d",
   "metadata": {},
   "outputs": [
    {
     "data": {
      "text/plain": [
       "array(['60804', nan, '60604', '60644', '60650', '60864', '90804', '60622',\n",
       "       '`60804', '60806', '60004', '60608', '60904', '60684', '60648',\n",
       "       '60402', '60504', '60808', '60408', '60184', '60801', '60084',\n",
       "       '60302', '60639', '60809', '60304', '06084', '60802', '60641',\n",
       "       '60454', '60623', '60814', '60834', '60647', '80804', '60884',\n",
       "       '60618', '60613', '60480', '60204', '60612', '60064', '60805',\n",
       "       '60804-1144', '60632', '60707', '60803', '62804', '60824', '13039',\n",
       "       '60415', '60955', '60844', '60680', '60506', '6004', '60609',\n",
       "       '60638', '600804', '60104', '60651', '69804', '60850', '60840',\n",
       "       '50804', '60130', '60201', 'UNKNWON', 'UNKNOWN', '66804', '60646'],\n",
       "      dtype=object)"
      ]
     },
     "execution_count": 607,
     "metadata": {},
     "output_type": "execute_result"
    }
   ],
   "source": [
    "traffic_crashes_people[traffic_crashes_people['CITY'] == 'CICERO']['ZIPCODE'].unique()"
   ]
  },
  {
   "cell_type": "code",
   "execution_count": 608,
   "id": "592bb551",
   "metadata": {},
   "outputs": [
    {
     "data": {
      "text/plain": [
       "array(['60651', '60620', nan, ..., '66289', '55106', '60336'],\n",
       "      dtype=object)"
      ]
     },
     "execution_count": 608,
     "metadata": {},
     "output_type": "execute_result"
    }
   ],
   "source": [
    "traffic_crashes_people[traffic_crashes_people['STATE'] == 'IL']['ZIPCODE'].unique()"
   ]
  },
  {
   "cell_type": "markdown",
   "id": "356796bf",
   "metadata": {},
   "source": [
    "We see there is no realtion between the ZIPCODE and the CITY or the STATE , there is even a clear range. \n",
    "simply let's drop the whole column ."
   ]
  },
  {
   "cell_type": "code",
   "execution_count": 609,
   "id": "566a1174",
   "metadata": {},
   "outputs": [],
   "source": [
    "traffic_crashes_people = traffic_crashes_people.drop('ZIPCODE', axis=1)"
   ]
  },
  {
   "cell_type": "markdown",
   "id": "ef2e6bac",
   "metadata": {},
   "source": [
    "#### again a large miss in SEX column ."
   ]
  },
  {
   "cell_type": "code",
   "execution_count": 610,
   "id": "ec5c18ca",
   "metadata": {},
   "outputs": [
    {
     "data": {
      "text/plain": [
       "29939"
      ]
     },
     "execution_count": 610,
     "metadata": {},
     "output_type": "execute_result"
    }
   ],
   "source": [
    "traffic_crashes_people['SEX'].isnull().sum()"
   ]
  },
  {
   "cell_type": "code",
   "execution_count": 611,
   "id": "4bad3c9f",
   "metadata": {},
   "outputs": [
    {
     "data": {
      "text/plain": [
       "M    934343\n",
       "F    679200\n",
       "X    164287\n",
       "Name: SEX, dtype: int64"
      ]
     },
     "execution_count": 611,
     "metadata": {},
     "output_type": "execute_result"
    }
   ],
   "source": [
    "traffic_crashes_people['SEX'].value_counts()"
   ]
  },
  {
   "cell_type": "markdown",
   "id": "44267d4b",
   "metadata": {},
   "source": [
    "may the X represent that is unknown?! but how ? let's replace them also as we fill nan values . "
   ]
  },
  {
   "cell_type": "code",
   "execution_count": 612,
   "id": "57ae9593",
   "metadata": {},
   "outputs": [
    {
     "name": "stdout",
     "output_type": "stream",
     "text": [
      "0.579062968882763\n",
      "0.420937031117237\n"
     ]
    }
   ],
   "source": [
    "male_count = traffic_crashes_people['SEX'].eq('M').sum()\n",
    "female_count = traffic_crashes_people['SEX'].eq('F').sum()\n",
    "total_count = male_count + female_count\n",
    "male_ratio = male_count / total_count\n",
    "female_ratio = female_count / total_count\n",
    "print(male_ratio)\n",
    "print(female_ratio)"
   ]
  },
  {
   "cell_type": "code",
   "execution_count": 613,
   "id": "c606d856",
   "metadata": {},
   "outputs": [],
   "source": [
    "missing_indices = traffic_crashes_people[traffic_crashes_people['SEX'] == 'X'].index\n",
    "fill_values = np.random.choice(['M', 'F'], size=len(missing_indices), p=[male_ratio, female_ratio])\n",
    "traffic_crashes_people.loc[missing_indices, 'SEX'] = fill_values"
   ]
  },
  {
   "cell_type": "code",
   "execution_count": 614,
   "id": "2f55b10d",
   "metadata": {},
   "outputs": [
    {
     "data": {
      "text/plain": [
       "M    1029193\n",
       "F     748637\n",
       "Name: SEX, dtype: int64"
      ]
     },
     "execution_count": 614,
     "metadata": {},
     "output_type": "execute_result"
    }
   ],
   "source": [
    "traffic_crashes_people['SEX'].value_counts()"
   ]
  },
  {
   "cell_type": "markdown",
   "id": "2faf908f",
   "metadata": {},
   "source": [
    "We replaced the X rows with M or F with respect to its proportion existing through the dataset. \n",
    "and we will do the same to fill NaNs."
   ]
  },
  {
   "cell_type": "code",
   "execution_count": 615,
   "id": "f28ef76b",
   "metadata": {},
   "outputs": [],
   "source": [
    "missing_indices = traffic_crashes_people[traffic_crashes_people['SEX'].isnull()].index\n",
    "fill_values = np.random.choice(['M', 'F'], size=len(missing_indices), p=[male_ratio, female_ratio])\n",
    "traffic_crashes_people.loc[missing_indices, 'SEX'] = fill_values"
   ]
  },
  {
   "cell_type": "code",
   "execution_count": 616,
   "id": "10a1f3cb",
   "metadata": {},
   "outputs": [
    {
     "data": {
      "text/plain": [
       "0"
      ]
     },
     "execution_count": 616,
     "metadata": {},
     "output_type": "execute_result"
    }
   ],
   "source": [
    "traffic_crashes_people['SEX'].isnull().sum()"
   ]
  },
  {
   "cell_type": "code",
   "execution_count": 617,
   "id": "746b2779",
   "metadata": {},
   "outputs": [
    {
     "data": {
      "text/plain": [
       "array([ 25.,  37.,  nan,  34.,  53.,  65.,  26.,  64.,  33.,  22.,  70.,\n",
       "        51.,  61.,  28.,  27.,  29.,  58.,  32.,  18.,  48.,  30.,  43.,\n",
       "        24.,  57.,  23.,  52.,  36.,  47.,   0.,  31.,  42.,  39.,  60.,\n",
       "        35.,  44.,  54.,  63.,  49.,  40.,  45.,  62.,  50.,  71.,  21.,\n",
       "        46.,  59.,  67.,  68.,  74.,  56.,  38.,  83.,  19.,  16.,  75.,\n",
       "        55.,  13.,  80.,  69.,  86.,  78.,  20.,  41.,  72.,  66.,  17.,\n",
       "        73.,  81.,  15.,  82.,  14.,  92.,  76.,   3.,  79.,   5.,   1.,\n",
       "        10.,  77.,   6.,   2.,   9.,   7.,  11.,   8.,  12.,  97.,   4.,\n",
       "        84.,  90.,  89.,  85.,  87.,  88.,  91.,  99., 104.,  98.,  94.,\n",
       "        93., 100.,  -1., -47.,  95., 102., 109., 107., 103.,  96., 101.,\n",
       "       110., 108., -49., 105., -40., 106., -59.])"
      ]
     },
     "execution_count": 617,
     "metadata": {},
     "output_type": "execute_result"
    }
   ],
   "source": [
    "traffic_crashes_people['AGE'].unique()"
   ]
  },
  {
   "cell_type": "markdown",
   "id": "f8fff819",
   "metadata": {},
   "source": [
    "##### wait we have negative ages ?! \n",
    "and what about the underage drivers ?!"
   ]
  },
  {
   "cell_type": "code",
   "execution_count": 618,
   "id": "6524aa51",
   "metadata": {},
   "outputs": [
    {
     "data": {
      "text/plain": [
       "(10, 28)"
      ]
     },
     "execution_count": 618,
     "metadata": {},
     "output_type": "execute_result"
    }
   ],
   "source": [
    "traffic_crashes_people[traffic_crashes_people['AGE'] < 0].shape"
   ]
  },
  {
   "cell_type": "code",
   "execution_count": 619,
   "id": "efd3ecab",
   "metadata": {},
   "outputs": [],
   "source": [
    "traffic_crashes_people = traffic_crashes_people[(traffic_crashes_people['AGE'] >= 0) | (traffic_crashes_people['AGE'].isnull())]\n"
   ]
  },
  {
   "cell_type": "code",
   "execution_count": 620,
   "id": "9391769a",
   "metadata": {},
   "outputs": [
    {
     "data": {
      "text/plain": [
       "(0, 28)"
      ]
     },
     "execution_count": 620,
     "metadata": {},
     "output_type": "execute_result"
    }
   ],
   "source": [
    "traffic_crashes_people[traffic_crashes_people['AGE'] < 0].shape"
   ]
  },
  {
   "cell_type": "code",
   "execution_count": 621,
   "id": "ce45a7b5",
   "metadata": {},
   "outputs": [
    {
     "data": {
      "text/plain": [
       "9771"
      ]
     },
     "execution_count": 621,
     "metadata": {},
     "output_type": "execute_result"
    }
   ],
   "source": [
    "traffic_crashes_people[(traffic_crashes_people['PERSON_TYPE'] == \"DRIVER\" ) & (traffic_crashes_people['AGE'] < 10)].shape[0]"
   ]
  },
  {
   "cell_type": "markdown",
   "id": "08cac625",
   "metadata": {},
   "source": [
    "it's not allowed for the person under 10 to drive yes, but he/she able to. \n",
    "people in age 10 and more may able to drive so everything is possible, so we put 10 yrs old our threshold and all drivers with age underthat we replace them with the whole mean of ages."
   ]
  },
  {
   "cell_type": "code",
   "execution_count": 622,
   "id": "fafd31c2",
   "metadata": {},
   "outputs": [
    {
     "data": {
      "text/plain": [
       "37.90324803095788"
      ]
     },
     "execution_count": 622,
     "metadata": {},
     "output_type": "execute_result"
    }
   ],
   "source": [
    "traffic_crashes_people['AGE'].mean()"
   ]
  },
  {
   "cell_type": "code",
   "execution_count": 623,
   "id": "cc3840a9",
   "metadata": {},
   "outputs": [],
   "source": [
    "traffic_crashes_people.loc[(traffic_crashes_people['PERSON_TYPE'] == \"DRIVER\" ) & (traffic_crashes_people['AGE'] < 10),'AGE'] = traffic_crashes_people['AGE'].mean()\n"
   ]
  },
  {
   "cell_type": "code",
   "execution_count": 624,
   "id": "d21ca23e",
   "metadata": {},
   "outputs": [
    {
     "data": {
      "text/plain": [
       "527568"
      ]
     },
     "execution_count": 624,
     "metadata": {},
     "output_type": "execute_result"
    }
   ],
   "source": [
    "traffic_crashes_people['AGE'].isnull().sum()"
   ]
  },
  {
   "cell_type": "code",
   "execution_count": 625,
   "id": "a26205dd",
   "metadata": {},
   "outputs": [
    {
     "data": {
      "text/html": [
       "<div>\n",
       "<style scoped>\n",
       "    .dataframe tbody tr th:only-of-type {\n",
       "        vertical-align: middle;\n",
       "    }\n",
       "\n",
       "    .dataframe tbody tr th {\n",
       "        vertical-align: top;\n",
       "    }\n",
       "\n",
       "    .dataframe thead th {\n",
       "        text-align: right;\n",
       "    }\n",
       "</style>\n",
       "<table border=\"1\" class=\"dataframe\">\n",
       "  <thead>\n",
       "    <tr style=\"text-align: right;\">\n",
       "      <th></th>\n",
       "      <th>AGE</th>\n",
       "    </tr>\n",
       "    <tr>\n",
       "      <th>SEX</th>\n",
       "      <th></th>\n",
       "    </tr>\n",
       "  </thead>\n",
       "  <tbody>\n",
       "    <tr>\n",
       "      <th>F</th>\n",
       "      <td>37.047884</td>\n",
       "    </tr>\n",
       "    <tr>\n",
       "      <th>M</th>\n",
       "      <td>39.039594</td>\n",
       "    </tr>\n",
       "  </tbody>\n",
       "</table>\n",
       "</div>"
      ],
      "text/plain": [
       "           AGE\n",
       "SEX           \n",
       "F    37.047884\n",
       "M    39.039594"
      ]
     },
     "execution_count": 625,
     "metadata": {},
     "output_type": "execute_result"
    }
   ],
   "source": [
    "stat = traffic_crashes_people[['SEX','AGE']].groupby('SEX').agg({'AGE':'mean'})\n",
    "stat"
   ]
  },
  {
   "cell_type": "markdown",
   "id": "c80c205c",
   "metadata": {},
   "source": [
    "that the mean of age of each gender , we see they are so close to each other.\n",
    "let's see the mean of age of people involved in accidents between 12am and 6am."
   ]
  },
  {
   "cell_type": "code",
   "execution_count": 626,
   "id": "bf5e1c4a",
   "metadata": {},
   "outputs": [
    {
     "data": {
      "text/plain": [
       "34.39443984380709"
      ]
     },
     "execution_count": 626,
     "metadata": {},
     "output_type": "execute_result"
    }
   ],
   "source": [
    "traffic_crashes_people[(pd.to_datetime(traffic_crashes_people['CRASH_DATE']).dt.hour >= 0 ) &\n",
    "          ( pd.to_datetime(traffic_crashes_people['CRASH_DATE']).dt.hour < 6 ) \n",
    "         ]['AGE'].mean()"
   ]
  },
  {
   "cell_type": "code",
   "execution_count": 627,
   "id": "dbb5c453",
   "metadata": {},
   "outputs": [
    {
     "data": {
      "text/plain": [
       "37.047883808524276"
      ]
     },
     "execution_count": 627,
     "metadata": {},
     "output_type": "execute_result"
    }
   ],
   "source": [
    "stat['AGE'][0] ##the females mean age "
   ]
  },
  {
   "cell_type": "markdown",
   "id": "f71accfe",
   "metadata": {},
   "source": [
    "again still a close value to others means. \n",
    "so let's fill the nan ages with mean value for each gender. "
   ]
  },
  {
   "cell_type": "code",
   "execution_count": 628,
   "id": "45543d2b",
   "metadata": {},
   "outputs": [],
   "source": [
    "traffic_crashes_people.loc[\n",
    "    (traffic_crashes_people['SEX'] == 'M') & traffic_crashes_people['AGE'].isnull(),\n",
    "    'AGE'] = stat['AGE'][1]\n",
    "traffic_crashes_people.loc[\n",
    "    (traffic_crashes_people['SEX'] == 'F') & traffic_crashes_people['AGE'].isnull(),\n",
    "    'AGE'] = stat['AGE'][0]"
   ]
  },
  {
   "cell_type": "code",
   "execution_count": 629,
   "id": "89c83fa7",
   "metadata": {},
   "outputs": [
    {
     "data": {
      "text/plain": [
       "0"
      ]
     },
     "execution_count": 629,
     "metadata": {},
     "output_type": "execute_result"
    }
   ],
   "source": [
    "traffic_crashes_people['AGE'].isnull().sum()"
   ]
  },
  {
   "cell_type": "markdown",
   "id": "1e09f1c0",
   "metadata": {},
   "source": [
    "### DRIVER_LISENCE_ class and state "
   ]
  },
  {
   "cell_type": "code",
   "execution_count": 630,
   "id": "c3b41458",
   "metadata": {},
   "outputs": [
    {
     "data": {
      "text/plain": [
       "IL    970216\n",
       "XX     23704\n",
       "IN     17990\n",
       "WI      5903\n",
       "MI      4521\n",
       "       ...  \n",
       "DH         1\n",
       "CI         1\n",
       "GM         1\n",
       "GP         1\n",
       "LU         1\n",
       "Name: DRIVERS_LICENSE_STATE, Length: 210, dtype: int64"
      ]
     },
     "execution_count": 630,
     "metadata": {},
     "output_type": "execute_result"
    }
   ],
   "source": [
    "traffic_crashes_people['DRIVERS_LICENSE_STATE'].value_counts()"
   ]
  },
  {
   "cell_type": "code",
   "execution_count": 631,
   "id": "64a002b3",
   "metadata": {},
   "outputs": [],
   "source": [
    "traffic_crashes_people.loc[traffic_crashes_people['DRIVERS_LICENSE_STATE'].isnull() , 'DRIVERS_LICENSE_STATE'] = 'IL'"
   ]
  },
  {
   "cell_type": "code",
   "execution_count": 632,
   "id": "ea49ea32",
   "metadata": {},
   "outputs": [
    {
     "data": {
      "text/plain": [
       "D     770951\n",
       "A      31578\n",
       "C      24195\n",
       "B      24101\n",
       "DM     13268\n",
       "       ...  \n",
       "GV         1\n",
       "TA         1\n",
       "F1         1\n",
       "BV         1\n",
       "LT         1\n",
       "Name: DRIVERS_LICENSE_CLASS, Length: 281, dtype: int64"
      ]
     },
     "execution_count": 632,
     "metadata": {},
     "output_type": "execute_result"
    }
   ],
   "source": [
    "traffic_crashes_people['DRIVERS_LICENSE_CLASS'].value_counts()"
   ]
  },
  {
   "cell_type": "code",
   "execution_count": 633,
   "id": "97e33bad",
   "metadata": {},
   "outputs": [],
   "source": [
    "traffic_crashes_people.loc[traffic_crashes_people['DRIVERS_LICENSE_CLASS'].isnull() , 'DRIVERS_LICENSE_CLASS'] = 'D'"
   ]
  },
  {
   "cell_type": "markdown",
   "id": "48df62ea",
   "metadata": {},
   "source": [
    "### Another new column"
   ]
  },
  {
   "cell_type": "code",
   "execution_count": 634,
   "id": "4422cd82",
   "metadata": {},
   "outputs": [
    {
     "data": {
      "text/plain": [
       "SAFETY BELT USED                              851445\n",
       "USAGE UNKNOWN                                 847531\n",
       "NONE PRESENT                                   60064\n",
       "SAFETY BELT NOT USED                            9903\n",
       "HELMET NOT USED                                 8411\n",
       "CHILD RESTRAINT USED                            7822\n",
       "CHILD RESTRAINT - FORWARD FACING                4425\n",
       "BICYCLE HELMET (PEDACYCLIST INVOLVED ONLY)      3256\n",
       "CHILD RESTRAINT - TYPE UNKNOWN                  2329\n",
       "CHILD RESTRAINT - REAR FACING                   2045\n",
       "HELMET USED                                     1358\n",
       "DOT COMPLIANT MOTORCYCLE HELMET                 1295\n",
       "BOOSTER SEAT                                    1166\n",
       "CHILD RESTRAINT NOT USED                         808\n",
       "SHOULD/LAP BELT USED IMPROPERLY                  239\n",
       "NOT DOT COMPLIANT MOTORCYCLE HELMET              236\n",
       "WHEELCHAIR                                       213\n",
       "CHILD RESTRAINT USED IMPROPERLY                  146\n",
       "STRETCHER                                         40\n",
       "Name: SAFETY_EQUIPMENT, dtype: int64"
      ]
     },
     "execution_count": 634,
     "metadata": {},
     "output_type": "execute_result"
    }
   ],
   "source": [
    "traffic_crashes_people['SAFETY_EQUIPMENT'].value_counts()"
   ]
  },
  {
   "cell_type": "code",
   "execution_count": 635,
   "id": "1ab27a45",
   "metadata": {},
   "outputs": [
    {
     "data": {
      "text/plain": [
       "5027"
      ]
     },
     "execution_count": 635,
     "metadata": {},
     "output_type": "execute_result"
    }
   ],
   "source": [
    "traffic_crashes_people['SAFETY_EQUIPMENT'].isnull().sum()"
   ]
  },
  {
   "cell_type": "code",
   "execution_count": 636,
   "id": "5c952010",
   "metadata": {},
   "outputs": [
    {
     "data": {
      "text/plain": [
       "22419"
      ]
     },
     "execution_count": 636,
     "metadata": {},
     "output_type": "execute_result"
    }
   ],
   "source": [
    "traffic_crashes_people['EJECTION'].isnull().sum()"
   ]
  },
  {
   "cell_type": "code",
   "execution_count": 637,
   "id": "b6a2e923",
   "metadata": {},
   "outputs": [
    {
     "data": {
      "text/html": [
       "<div>\n",
       "<style scoped>\n",
       "    .dataframe tbody tr th:only-of-type {\n",
       "        vertical-align: middle;\n",
       "    }\n",
       "\n",
       "    .dataframe tbody tr th {\n",
       "        vertical-align: top;\n",
       "    }\n",
       "\n",
       "    .dataframe thead th {\n",
       "        text-align: right;\n",
       "    }\n",
       "</style>\n",
       "<table border=\"1\" class=\"dataframe\">\n",
       "  <thead>\n",
       "    <tr style=\"text-align: right;\">\n",
       "      <th></th>\n",
       "      <th>EJECTION</th>\n",
       "      <th>SAFETY_EQUIPMENT</th>\n",
       "    </tr>\n",
       "  </thead>\n",
       "  <tbody>\n",
       "    <tr>\n",
       "      <th>0</th>\n",
       "      <td>NONE</td>\n",
       "      <td>SAFETY BELT USED</td>\n",
       "    </tr>\n",
       "    <tr>\n",
       "      <th>1</th>\n",
       "      <td>PARTIALLY EJECTED</td>\n",
       "      <td>SAFETY BELT USED</td>\n",
       "    </tr>\n",
       "    <tr>\n",
       "      <th>2</th>\n",
       "      <td>TOTALLY EJECTED</td>\n",
       "      <td>HELMET NOT USED</td>\n",
       "    </tr>\n",
       "    <tr>\n",
       "      <th>3</th>\n",
       "      <td>TRAPPED/EXTRICATED</td>\n",
       "      <td>USAGE UNKNOWN</td>\n",
       "    </tr>\n",
       "    <tr>\n",
       "      <th>4</th>\n",
       "      <td>UNKNOWN</td>\n",
       "      <td>USAGE UNKNOWN</td>\n",
       "    </tr>\n",
       "  </tbody>\n",
       "</table>\n",
       "</div>"
      ],
      "text/plain": [
       "             EJECTION  SAFETY_EQUIPMENT\n",
       "0                NONE  SAFETY BELT USED\n",
       "1   PARTIALLY EJECTED  SAFETY BELT USED\n",
       "2     TOTALLY EJECTED   HELMET NOT USED\n",
       "3  TRAPPED/EXTRICATED     USAGE UNKNOWN\n",
       "4             UNKNOWN     USAGE UNKNOWN"
      ]
     },
     "execution_count": 637,
     "metadata": {},
     "output_type": "execute_result"
    }
   ],
   "source": [
    "def get_mode(series):\n",
    "    return series.mode().iloc[0] if not series.empty else None\n",
    "\n",
    "result = traffic_crashes_people.groupby('EJECTION')['SAFETY_EQUIPMENT'].agg(get_mode).reset_index()\n",
    "result"
   ]
  },
  {
   "cell_type": "code",
   "execution_count": 638,
   "id": "f76dff23",
   "metadata": {},
   "outputs": [
    {
     "data": {
      "text/html": [
       "<div>\n",
       "<style scoped>\n",
       "    .dataframe tbody tr th:only-of-type {\n",
       "        vertical-align: middle;\n",
       "    }\n",
       "\n",
       "    .dataframe tbody tr th {\n",
       "        vertical-align: top;\n",
       "    }\n",
       "\n",
       "    .dataframe thead th {\n",
       "        text-align: right;\n",
       "    }\n",
       "</style>\n",
       "<table border=\"1\" class=\"dataframe\">\n",
       "  <thead>\n",
       "    <tr style=\"text-align: right;\">\n",
       "      <th></th>\n",
       "      <th>SAFETY_EQUIPMENT</th>\n",
       "      <th>EJECTION</th>\n",
       "    </tr>\n",
       "  </thead>\n",
       "  <tbody>\n",
       "    <tr>\n",
       "      <th>0</th>\n",
       "      <td>BICYCLE HELMET (PEDACYCLIST INVOLVED ONLY)</td>\n",
       "      <td>NONE</td>\n",
       "    </tr>\n",
       "    <tr>\n",
       "      <th>1</th>\n",
       "      <td>BOOSTER SEAT</td>\n",
       "      <td>NONE</td>\n",
       "    </tr>\n",
       "    <tr>\n",
       "      <th>2</th>\n",
       "      <td>CHILD RESTRAINT - FORWARD FACING</td>\n",
       "      <td>NONE</td>\n",
       "    </tr>\n",
       "    <tr>\n",
       "      <th>3</th>\n",
       "      <td>CHILD RESTRAINT - REAR FACING</td>\n",
       "      <td>NONE</td>\n",
       "    </tr>\n",
       "    <tr>\n",
       "      <th>4</th>\n",
       "      <td>CHILD RESTRAINT - TYPE UNKNOWN</td>\n",
       "      <td>NONE</td>\n",
       "    </tr>\n",
       "    <tr>\n",
       "      <th>5</th>\n",
       "      <td>CHILD RESTRAINT NOT USED</td>\n",
       "      <td>NONE</td>\n",
       "    </tr>\n",
       "    <tr>\n",
       "      <th>6</th>\n",
       "      <td>CHILD RESTRAINT USED</td>\n",
       "      <td>NONE</td>\n",
       "    </tr>\n",
       "    <tr>\n",
       "      <th>7</th>\n",
       "      <td>CHILD RESTRAINT USED IMPROPERLY</td>\n",
       "      <td>NONE</td>\n",
       "    </tr>\n",
       "    <tr>\n",
       "      <th>8</th>\n",
       "      <td>DOT COMPLIANT MOTORCYCLE HELMET</td>\n",
       "      <td>NONE</td>\n",
       "    </tr>\n",
       "    <tr>\n",
       "      <th>9</th>\n",
       "      <td>HELMET NOT USED</td>\n",
       "      <td>NONE</td>\n",
       "    </tr>\n",
       "    <tr>\n",
       "      <th>10</th>\n",
       "      <td>HELMET USED</td>\n",
       "      <td>NONE</td>\n",
       "    </tr>\n",
       "    <tr>\n",
       "      <th>11</th>\n",
       "      <td>NONE PRESENT</td>\n",
       "      <td>NONE</td>\n",
       "    </tr>\n",
       "    <tr>\n",
       "      <th>12</th>\n",
       "      <td>NOT DOT COMPLIANT MOTORCYCLE HELMET</td>\n",
       "      <td>NONE</td>\n",
       "    </tr>\n",
       "    <tr>\n",
       "      <th>13</th>\n",
       "      <td>SAFETY BELT NOT USED</td>\n",
       "      <td>NONE</td>\n",
       "    </tr>\n",
       "    <tr>\n",
       "      <th>14</th>\n",
       "      <td>SAFETY BELT USED</td>\n",
       "      <td>NONE</td>\n",
       "    </tr>\n",
       "    <tr>\n",
       "      <th>15</th>\n",
       "      <td>SHOULD/LAP BELT USED IMPROPERLY</td>\n",
       "      <td>NONE</td>\n",
       "    </tr>\n",
       "    <tr>\n",
       "      <th>16</th>\n",
       "      <td>STRETCHER</td>\n",
       "      <td>NONE</td>\n",
       "    </tr>\n",
       "    <tr>\n",
       "      <th>17</th>\n",
       "      <td>USAGE UNKNOWN</td>\n",
       "      <td>NONE</td>\n",
       "    </tr>\n",
       "    <tr>\n",
       "      <th>18</th>\n",
       "      <td>WHEELCHAIR</td>\n",
       "      <td>NONE</td>\n",
       "    </tr>\n",
       "  </tbody>\n",
       "</table>\n",
       "</div>"
      ],
      "text/plain": [
       "                              SAFETY_EQUIPMENT EJECTION\n",
       "0   BICYCLE HELMET (PEDACYCLIST INVOLVED ONLY)     NONE\n",
       "1                                 BOOSTER SEAT     NONE\n",
       "2             CHILD RESTRAINT - FORWARD FACING     NONE\n",
       "3                CHILD RESTRAINT - REAR FACING     NONE\n",
       "4               CHILD RESTRAINT - TYPE UNKNOWN     NONE\n",
       "5                     CHILD RESTRAINT NOT USED     NONE\n",
       "6                         CHILD RESTRAINT USED     NONE\n",
       "7              CHILD RESTRAINT USED IMPROPERLY     NONE\n",
       "8              DOT COMPLIANT MOTORCYCLE HELMET     NONE\n",
       "9                              HELMET NOT USED     NONE\n",
       "10                                 HELMET USED     NONE\n",
       "11                                NONE PRESENT     NONE\n",
       "12         NOT DOT COMPLIANT MOTORCYCLE HELMET     NONE\n",
       "13                        SAFETY BELT NOT USED     NONE\n",
       "14                            SAFETY BELT USED     NONE\n",
       "15             SHOULD/LAP BELT USED IMPROPERLY     NONE\n",
       "16                                   STRETCHER     NONE\n",
       "17                               USAGE UNKNOWN     NONE\n",
       "18                                  WHEELCHAIR     NONE"
      ]
     },
     "execution_count": 638,
     "metadata": {},
     "output_type": "execute_result"
    }
   ],
   "source": [
    "result = traffic_crashes_people.groupby('SAFETY_EQUIPMENT')['EJECTION'].agg(get_mode).reset_index()\n",
    "result"
   ]
  },
  {
   "cell_type": "code",
   "execution_count": 639,
   "id": "817f11cc",
   "metadata": {},
   "outputs": [
    {
     "data": {
      "text/plain": [
       "NONE                  844826\n",
       "UNKNOWN                 4533\n",
       "TOTALLY EJECTED         1204\n",
       "PARTIALLY EJECTED        374\n",
       "TRAPPED/EXTRICATED       313\n",
       "Name: EJECTION, dtype: int64"
      ]
     },
     "execution_count": 639,
     "metadata": {},
     "output_type": "execute_result"
    }
   ],
   "source": [
    "traffic_crashes_people[traffic_crashes_people['SAFETY_EQUIPMENT'] == 'SAFETY BELT USED']['EJECTION'].value_counts()"
   ]
  },
  {
   "cell_type": "code",
   "execution_count": 640,
   "id": "6cbf7b79",
   "metadata": {},
   "outputs": [
    {
     "data": {
      "text/html": [
       "<div>\n",
       "<style scoped>\n",
       "    .dataframe tbody tr th:only-of-type {\n",
       "        vertical-align: middle;\n",
       "    }\n",
       "\n",
       "    .dataframe tbody tr th {\n",
       "        vertical-align: top;\n",
       "    }\n",
       "\n",
       "    .dataframe thead th {\n",
       "        text-align: right;\n",
       "    }\n",
       "</style>\n",
       "<table border=\"1\" class=\"dataframe\">\n",
       "  <thead>\n",
       "    <tr style=\"text-align: right;\">\n",
       "      <th></th>\n",
       "      <th>INJURY_CLASSIFICATION</th>\n",
       "      <th>SAFETY_EQUIPMENT</th>\n",
       "    </tr>\n",
       "  </thead>\n",
       "  <tbody>\n",
       "    <tr>\n",
       "      <th>0</th>\n",
       "      <td>FATAL</td>\n",
       "      <td>USAGE UNKNOWN</td>\n",
       "    </tr>\n",
       "    <tr>\n",
       "      <th>1</th>\n",
       "      <td>INCAPACITATING INJURY</td>\n",
       "      <td>USAGE UNKNOWN</td>\n",
       "    </tr>\n",
       "    <tr>\n",
       "      <th>2</th>\n",
       "      <td>NO INDICATION OF INJURY</td>\n",
       "      <td>USAGE UNKNOWN</td>\n",
       "    </tr>\n",
       "    <tr>\n",
       "      <th>3</th>\n",
       "      <td>NONINCAPACITATING INJURY</td>\n",
       "      <td>SAFETY BELT USED</td>\n",
       "    </tr>\n",
       "    <tr>\n",
       "      <th>4</th>\n",
       "      <td>REPORTED, NOT EVIDENT</td>\n",
       "      <td>SAFETY BELT USED</td>\n",
       "    </tr>\n",
       "  </tbody>\n",
       "</table>\n",
       "</div>"
      ],
      "text/plain": [
       "      INJURY_CLASSIFICATION  SAFETY_EQUIPMENT\n",
       "0                     FATAL     USAGE UNKNOWN\n",
       "1     INCAPACITATING INJURY     USAGE UNKNOWN\n",
       "2   NO INDICATION OF INJURY     USAGE UNKNOWN\n",
       "3  NONINCAPACITATING INJURY  SAFETY BELT USED\n",
       "4     REPORTED, NOT EVIDENT  SAFETY BELT USED"
      ]
     },
     "execution_count": 640,
     "metadata": {},
     "output_type": "execute_result"
    }
   ],
   "source": [
    "result = traffic_crashes_people.groupby('INJURY_CLASSIFICATION')['SAFETY_EQUIPMENT'].agg(get_mode).reset_index()\n",
    "result"
   ]
  },
  {
   "cell_type": "code",
   "execution_count": 641,
   "id": "ed1842dc",
   "metadata": {},
   "outputs": [
    {
     "data": {
      "text/html": [
       "<div>\n",
       "<style scoped>\n",
       "    .dataframe tbody tr th:only-of-type {\n",
       "        vertical-align: middle;\n",
       "    }\n",
       "\n",
       "    .dataframe tbody tr th {\n",
       "        vertical-align: top;\n",
       "    }\n",
       "\n",
       "    .dataframe thead th {\n",
       "        text-align: right;\n",
       "    }\n",
       "</style>\n",
       "<table border=\"1\" class=\"dataframe\">\n",
       "  <thead>\n",
       "    <tr style=\"text-align: right;\">\n",
       "      <th></th>\n",
       "      <th>EJECTION</th>\n",
       "      <th>INJURY_CLASSIFICATION</th>\n",
       "    </tr>\n",
       "  </thead>\n",
       "  <tbody>\n",
       "    <tr>\n",
       "      <th>0</th>\n",
       "      <td>NONE</td>\n",
       "      <td>NO INDICATION OF INJURY</td>\n",
       "    </tr>\n",
       "    <tr>\n",
       "      <th>1</th>\n",
       "      <td>PARTIALLY EJECTED</td>\n",
       "      <td>NO INDICATION OF INJURY</td>\n",
       "    </tr>\n",
       "    <tr>\n",
       "      <th>2</th>\n",
       "      <td>TOTALLY EJECTED</td>\n",
       "      <td>NO INDICATION OF INJURY</td>\n",
       "    </tr>\n",
       "    <tr>\n",
       "      <th>3</th>\n",
       "      <td>TRAPPED/EXTRICATED</td>\n",
       "      <td>NO INDICATION OF INJURY</td>\n",
       "    </tr>\n",
       "    <tr>\n",
       "      <th>4</th>\n",
       "      <td>UNKNOWN</td>\n",
       "      <td>NO INDICATION OF INJURY</td>\n",
       "    </tr>\n",
       "  </tbody>\n",
       "</table>\n",
       "</div>"
      ],
      "text/plain": [
       "             EJECTION    INJURY_CLASSIFICATION\n",
       "0                NONE  NO INDICATION OF INJURY\n",
       "1   PARTIALLY EJECTED  NO INDICATION OF INJURY\n",
       "2     TOTALLY EJECTED  NO INDICATION OF INJURY\n",
       "3  TRAPPED/EXTRICATED  NO INDICATION OF INJURY\n",
       "4             UNKNOWN  NO INDICATION OF INJURY"
      ]
     },
     "execution_count": 641,
     "metadata": {},
     "output_type": "execute_result"
    }
   ],
   "source": [
    "result = traffic_crashes_people.groupby('EJECTION')['INJURY_CLASSIFICATION'].agg(get_mode).reset_index()\n",
    "result"
   ]
  },
  {
   "cell_type": "markdown",
   "id": "a16d1edc",
   "metadata": {},
   "source": [
    "###### We can use each column of these three columns (EJECTION , INJURY_CLASSIFICATION , SAFETY_EQUIPMENT) to guess the most-frequent value in the other columns for each value.  \n",
    "- the most-frequent for 'NONE' in EJECTION is SAFETY BELT USED and the vice-versa.\n",
    "\n",
    "- but we see that for every value in SAFETY_EQUIPMENT the most frequent in corresponding value in EJECTION column is NONE.\n",
    "\n",
    "- when 'SAFETY BELT USED' it has a 845135 values with NONE in 'EJECTION' column and it is very far value from the others.   but that's not happen when we talk about other values in 'SAFETY_EQUIPMENT' it is varries closely between 'EJECTION' values. so it is logical to assign nan values in both columns with SAFETY BELT USED and NONE when they met so many times , but not logical to give the value NONE for the EJECTION through all different values in 'SAFETY_EQUIPMENT' when the values of appearing is nearlly equal. "
   ]
  },
  {
   "cell_type": "code",
   "execution_count": 642,
   "id": "ca7edf67",
   "metadata": {},
   "outputs": [],
   "source": [
    "traffic_crashes_people.loc[\n",
    "    (traffic_crashes_people['EJECTION'] == 'NONE') & (traffic_crashes_people['SAFETY_EQUIPMENT'].isnull()),\n",
    "    'SAFETY_EQUIPMENT'] = 'SAFETY BELT USED'\n",
    "\n",
    "traffic_crashes_people.loc[\n",
    "    (traffic_crashes_people['SAFETY_EQUIPMENT'] == 'SAFETY BELT USED') & (traffic_crashes_people['EJECTION'].isnull()),\n",
    "    'EJECTION'] = 'NONE'"
   ]
  },
  {
   "cell_type": "code",
   "execution_count": 643,
   "id": "2f2bde64",
   "metadata": {},
   "outputs": [
    {
     "data": {
      "text/plain": [
       "4837"
      ]
     },
     "execution_count": 643,
     "metadata": {},
     "output_type": "execute_result"
    }
   ],
   "source": [
    "traffic_crashes_people['SAFETY_EQUIPMENT'].isnull().sum()"
   ]
  },
  {
   "cell_type": "code",
   "execution_count": 644,
   "id": "db9c3649",
   "metadata": {},
   "outputs": [
    {
     "data": {
      "text/plain": [
       "22224"
      ]
     },
     "execution_count": 644,
     "metadata": {},
     "output_type": "execute_result"
    }
   ],
   "source": [
    "traffic_crashes_people['EJECTION'].isnull().sum()"
   ]
  },
  {
   "cell_type": "code",
   "execution_count": 645,
   "id": "53c1cad7",
   "metadata": {},
   "outputs": [
    {
     "data": {
      "text/plain": [
       "NONE                  8178\n",
       "TOTALLY EJECTED       2073\n",
       "UNKNOWN               1541\n",
       "PARTIALLY EJECTED      488\n",
       "TRAPPED/EXTRICATED      21\n",
       "Name: EJECTION, dtype: int64"
      ]
     },
     "execution_count": 645,
     "metadata": {},
     "output_type": "execute_result"
    }
   ],
   "source": [
    "traffic_crashes_people[traffic_crashes_people['PERSON_TYPE'] == 'BICYCLE']['EJECTION'].value_counts()"
   ]
  },
  {
   "cell_type": "code",
   "execution_count": 646,
   "id": "6bef462a",
   "metadata": {},
   "outputs": [
    {
     "data": {
      "text/plain": [
       "NONE                  447\n",
       "TOTALLY EJECTED       114\n",
       "UNKNOWN                89\n",
       "TRAPPED/EXTRICATED     63\n",
       "PARTIALLY EJECTED      10\n",
       "Name: EJECTION, dtype: int64"
      ]
     },
     "execution_count": 646,
     "metadata": {},
     "output_type": "execute_result"
    }
   ],
   "source": [
    "traffic_crashes_people[traffic_crashes_people['INJURY_CLASSIFICATION'] == 'FATAL']['EJECTION'].value_counts()"
   ]
  },
  {
   "cell_type": "code",
   "execution_count": 647,
   "id": "4e15425d",
   "metadata": {},
   "outputs": [
    {
     "data": {
      "text/plain": [
       "NONE                  10775\n",
       "UNKNOWN                1020\n",
       "TOTALLY EJECTED         819\n",
       "TRAPPED/EXTRICATED      188\n",
       "PARTIALLY EJECTED        87\n",
       "Name: EJECTION, dtype: int64"
      ]
     },
     "execution_count": 647,
     "metadata": {},
     "output_type": "execute_result"
    }
   ],
   "source": [
    "traffic_crashes_people[traffic_crashes_people['INJURY_CLASSIFICATION'] == 'INCAPACITATING INJURY']['EJECTION'].value_counts()"
   ]
  },
  {
   "cell_type": "markdown",
   "id": "3ba7f97a",
   "metadata": {},
   "source": [
    "the EJECTION couldn't be filled with more special values , as we see it is not a condition to be the person ejected when the INJURY_CLASSIFICATION is FATAL or INCAPACITATING INJURY , not even for when PERSON_TYPE is BICYCLE or not , most of bicyclists are not ejected , so let's fill the rest nan values with UNKOWN , which it already a categgory in this column ."
   ]
  },
  {
   "cell_type": "code",
   "execution_count": 648,
   "id": "d3300917",
   "metadata": {},
   "outputs": [],
   "source": [
    "traffic_crashes_people = traffic_crashes_people.fillna({'EJECTION' : 'UNKNOWN'})"
   ]
  },
  {
   "cell_type": "code",
   "execution_count": 649,
   "id": "e0c99d12",
   "metadata": {},
   "outputs": [
    {
     "data": {
      "text/plain": [
       "NO INDICATION OF INJURY     1649971\n",
       "NONINCAPACITATING INJURY      88532\n",
       "REPORTED, NOT EVIDENT         51117\n",
       "INCAPACITATING INJURY         16456\n",
       "FATAL                           994\n",
       "Name: INJURY_CLASSIFICATION, dtype: int64"
      ]
     },
     "execution_count": 649,
     "metadata": {},
     "output_type": "execute_result"
    }
   ],
   "source": [
    "traffic_crashes_people['INJURY_CLASSIFICATION'].value_counts()"
   ]
  },
  {
   "cell_type": "code",
   "execution_count": 650,
   "id": "f8a3faf1",
   "metadata": {},
   "outputs": [
    {
     "data": {
      "text/plain": [
       "689"
      ]
     },
     "execution_count": 650,
     "metadata": {},
     "output_type": "execute_result"
    }
   ],
   "source": [
    "traffic_crashes_people['INJURY_CLASSIFICATION'].isnull().sum()"
   ]
  },
  {
   "cell_type": "code",
   "execution_count": 651,
   "id": "3cf3a867",
   "metadata": {},
   "outputs": [
    {
     "data": {
      "text/plain": [
       "array(['UNKNOWN', 'NONE'], dtype=object)"
      ]
     },
     "execution_count": 651,
     "metadata": {},
     "output_type": "execute_result"
    }
   ],
   "source": [
    "traffic_crashes_people[traffic_crashes_people['INJURY_CLASSIFICATION'].isnull()]['EJECTION'].unique()"
   ]
  },
  {
   "cell_type": "markdown",
   "id": "0bc0ea92",
   "metadata": {},
   "source": [
    "when i have a nan value in INJURY_CLASSIFICATION all EJECTION values are in NONE or UNKNOWN , don't have real guide of the person is ejected or not . "
   ]
  },
  {
   "cell_type": "code",
   "execution_count": 652,
   "id": "51a85e1b",
   "metadata": {},
   "outputs": [
    {
     "data": {
      "text/html": [
       "<div>\n",
       "<style scoped>\n",
       "    .dataframe tbody tr th:only-of-type {\n",
       "        vertical-align: middle;\n",
       "    }\n",
       "\n",
       "    .dataframe tbody tr th {\n",
       "        vertical-align: top;\n",
       "    }\n",
       "\n",
       "    .dataframe thead th {\n",
       "        text-align: right;\n",
       "    }\n",
       "</style>\n",
       "<table border=\"1\" class=\"dataframe\">\n",
       "  <thead>\n",
       "    <tr style=\"text-align: right;\">\n",
       "      <th></th>\n",
       "      <th>SAFETY_EQUIPMENT</th>\n",
       "      <th>INJURY_CLASSIFICATION</th>\n",
       "    </tr>\n",
       "  </thead>\n",
       "  <tbody>\n",
       "    <tr>\n",
       "      <th>0</th>\n",
       "      <td>BICYCLE HELMET (PEDACYCLIST INVOLVED ONLY)</td>\n",
       "      <td>NONINCAPACITATING INJURY</td>\n",
       "    </tr>\n",
       "    <tr>\n",
       "      <th>1</th>\n",
       "      <td>BOOSTER SEAT</td>\n",
       "      <td>NO INDICATION OF INJURY</td>\n",
       "    </tr>\n",
       "    <tr>\n",
       "      <th>2</th>\n",
       "      <td>CHILD RESTRAINT - FORWARD FACING</td>\n",
       "      <td>NO INDICATION OF INJURY</td>\n",
       "    </tr>\n",
       "    <tr>\n",
       "      <th>3</th>\n",
       "      <td>CHILD RESTRAINT - REAR FACING</td>\n",
       "      <td>NO INDICATION OF INJURY</td>\n",
       "    </tr>\n",
       "    <tr>\n",
       "      <th>4</th>\n",
       "      <td>CHILD RESTRAINT - TYPE UNKNOWN</td>\n",
       "      <td>NO INDICATION OF INJURY</td>\n",
       "    </tr>\n",
       "    <tr>\n",
       "      <th>5</th>\n",
       "      <td>CHILD RESTRAINT NOT USED</td>\n",
       "      <td>NO INDICATION OF INJURY</td>\n",
       "    </tr>\n",
       "    <tr>\n",
       "      <th>6</th>\n",
       "      <td>CHILD RESTRAINT USED</td>\n",
       "      <td>NO INDICATION OF INJURY</td>\n",
       "    </tr>\n",
       "    <tr>\n",
       "      <th>7</th>\n",
       "      <td>CHILD RESTRAINT USED IMPROPERLY</td>\n",
       "      <td>NO INDICATION OF INJURY</td>\n",
       "    </tr>\n",
       "    <tr>\n",
       "      <th>8</th>\n",
       "      <td>DOT COMPLIANT MOTORCYCLE HELMET</td>\n",
       "      <td>NO INDICATION OF INJURY</td>\n",
       "    </tr>\n",
       "    <tr>\n",
       "      <th>9</th>\n",
       "      <td>HELMET NOT USED</td>\n",
       "      <td>NONINCAPACITATING INJURY</td>\n",
       "    </tr>\n",
       "    <tr>\n",
       "      <th>10</th>\n",
       "      <td>HELMET USED</td>\n",
       "      <td>NONINCAPACITATING INJURY</td>\n",
       "    </tr>\n",
       "    <tr>\n",
       "      <th>11</th>\n",
       "      <td>NONE PRESENT</td>\n",
       "      <td>NO INDICATION OF INJURY</td>\n",
       "    </tr>\n",
       "    <tr>\n",
       "      <th>12</th>\n",
       "      <td>NOT DOT COMPLIANT MOTORCYCLE HELMET</td>\n",
       "      <td>NO INDICATION OF INJURY</td>\n",
       "    </tr>\n",
       "    <tr>\n",
       "      <th>13</th>\n",
       "      <td>SAFETY BELT NOT USED</td>\n",
       "      <td>NO INDICATION OF INJURY</td>\n",
       "    </tr>\n",
       "    <tr>\n",
       "      <th>14</th>\n",
       "      <td>SAFETY BELT USED</td>\n",
       "      <td>NO INDICATION OF INJURY</td>\n",
       "    </tr>\n",
       "    <tr>\n",
       "      <th>15</th>\n",
       "      <td>SHOULD/LAP BELT USED IMPROPERLY</td>\n",
       "      <td>NO INDICATION OF INJURY</td>\n",
       "    </tr>\n",
       "    <tr>\n",
       "      <th>16</th>\n",
       "      <td>STRETCHER</td>\n",
       "      <td>NO INDICATION OF INJURY</td>\n",
       "    </tr>\n",
       "    <tr>\n",
       "      <th>17</th>\n",
       "      <td>USAGE UNKNOWN</td>\n",
       "      <td>NO INDICATION OF INJURY</td>\n",
       "    </tr>\n",
       "    <tr>\n",
       "      <th>18</th>\n",
       "      <td>WHEELCHAIR</td>\n",
       "      <td>NO INDICATION OF INJURY</td>\n",
       "    </tr>\n",
       "  </tbody>\n",
       "</table>\n",
       "</div>"
      ],
      "text/plain": [
       "                              SAFETY_EQUIPMENT     INJURY_CLASSIFICATION\n",
       "0   BICYCLE HELMET (PEDACYCLIST INVOLVED ONLY)  NONINCAPACITATING INJURY\n",
       "1                                 BOOSTER SEAT   NO INDICATION OF INJURY\n",
       "2             CHILD RESTRAINT - FORWARD FACING   NO INDICATION OF INJURY\n",
       "3                CHILD RESTRAINT - REAR FACING   NO INDICATION OF INJURY\n",
       "4               CHILD RESTRAINT - TYPE UNKNOWN   NO INDICATION OF INJURY\n",
       "5                     CHILD RESTRAINT NOT USED   NO INDICATION OF INJURY\n",
       "6                         CHILD RESTRAINT USED   NO INDICATION OF INJURY\n",
       "7              CHILD RESTRAINT USED IMPROPERLY   NO INDICATION OF INJURY\n",
       "8              DOT COMPLIANT MOTORCYCLE HELMET   NO INDICATION OF INJURY\n",
       "9                              HELMET NOT USED  NONINCAPACITATING INJURY\n",
       "10                                 HELMET USED  NONINCAPACITATING INJURY\n",
       "11                                NONE PRESENT   NO INDICATION OF INJURY\n",
       "12         NOT DOT COMPLIANT MOTORCYCLE HELMET   NO INDICATION OF INJURY\n",
       "13                        SAFETY BELT NOT USED   NO INDICATION OF INJURY\n",
       "14                            SAFETY BELT USED   NO INDICATION OF INJURY\n",
       "15             SHOULD/LAP BELT USED IMPROPERLY   NO INDICATION OF INJURY\n",
       "16                                   STRETCHER   NO INDICATION OF INJURY\n",
       "17                               USAGE UNKNOWN   NO INDICATION OF INJURY\n",
       "18                                  WHEELCHAIR   NO INDICATION OF INJURY"
      ]
     },
     "execution_count": 652,
     "metadata": {},
     "output_type": "execute_result"
    }
   ],
   "source": [
    "result = traffic_crashes_people.groupby('SAFETY_EQUIPMENT')['INJURY_CLASSIFICATION'].agg(get_mode).reset_index()\n",
    "result"
   ]
  },
  {
   "cell_type": "code",
   "execution_count": 653,
   "id": "1d6b2ff6",
   "metadata": {},
   "outputs": [
    {
     "data": {
      "text/plain": [
       "array([nan, 'USAGE UNKNOWN', 'SAFETY BELT USED', 'NONE PRESENT',\n",
       "       'NOT DOT COMPLIANT MOTORCYCLE HELMET'], dtype=object)"
      ]
     },
     "execution_count": 653,
     "metadata": {},
     "output_type": "execute_result"
    }
   ],
   "source": [
    "traffic_crashes_people[traffic_crashes_people['INJURY_CLASSIFICATION'].isnull()]['SAFETY_EQUIPMENT'].unique()"
   ]
  },
  {
   "cell_type": "code",
   "execution_count": 654,
   "id": "3e86915f",
   "metadata": {},
   "outputs": [
    {
     "data": {
      "text/plain": [
       "USAGE UNKNOWN                                 469\n",
       "NONE PRESENT                                  198\n",
       "SAFETY BELT USED                               86\n",
       "SAFETY BELT NOT USED                           67\n",
       "HELMET NOT USED                                60\n",
       "DOT COMPLIANT MOTORCYCLE HELMET                22\n",
       "HELMET USED                                     9\n",
       "BICYCLE HELMET (PEDACYCLIST INVOLVED ONLY)      4\n",
       "CHILD RESTRAINT NOT USED                        3\n",
       "NOT DOT COMPLIANT MOTORCYCLE HELMET             3\n",
       "CHILD RESTRAINT USED                            1\n",
       "CHILD RESTRAINT - TYPE UNKNOWN                  1\n",
       "WHEELCHAIR                                      1\n",
       "Name: SAFETY_EQUIPMENT, dtype: int64"
      ]
     },
     "execution_count": 654,
     "metadata": {},
     "output_type": "execute_result"
    }
   ],
   "source": [
    "traffic_crashes_people[traffic_crashes_people['INJURY_CLASSIFICATION'] == 'FATAL']['SAFETY_EQUIPMENT'].value_counts()"
   ]
  },
  {
   "cell_type": "markdown",
   "id": "8c927cd7",
   "metadata": {},
   "source": [
    "the most-frequent of different SAFETY_EQUIPMENT values is always NO INDICATION OF INJURY , and as we see the values always distribute randomly. so we can't conclude any specific values for INJURY. we fill them with UKNOWN."
   ]
  },
  {
   "cell_type": "code",
   "execution_count": 655,
   "id": "cb67cf55",
   "metadata": {},
   "outputs": [],
   "source": [
    "traffic_crashes_people['INJURY_CLASSIFICATION'].fillna('UNKNOWN',inplace=True)"
   ]
  },
  {
   "cell_type": "code",
   "execution_count": 656,
   "id": "5afd514a",
   "metadata": {},
   "outputs": [
    {
     "data": {
      "text/html": [
       "<div>\n",
       "<style scoped>\n",
       "    .dataframe tbody tr th:only-of-type {\n",
       "        vertical-align: middle;\n",
       "    }\n",
       "\n",
       "    .dataframe tbody tr th {\n",
       "        vertical-align: top;\n",
       "    }\n",
       "\n",
       "    .dataframe thead th {\n",
       "        text-align: right;\n",
       "    }\n",
       "</style>\n",
       "<table border=\"1\" class=\"dataframe\">\n",
       "  <thead>\n",
       "    <tr style=\"text-align: right;\">\n",
       "      <th></th>\n",
       "      <th>EJECTION</th>\n",
       "      <th>SAFETY_EQUIPMENT</th>\n",
       "    </tr>\n",
       "  </thead>\n",
       "  <tbody>\n",
       "    <tr>\n",
       "      <th>0</th>\n",
       "      <td>NONE</td>\n",
       "      <td>SAFETY BELT USED</td>\n",
       "    </tr>\n",
       "    <tr>\n",
       "      <th>1</th>\n",
       "      <td>PARTIALLY EJECTED</td>\n",
       "      <td>SAFETY BELT USED</td>\n",
       "    </tr>\n",
       "    <tr>\n",
       "      <th>2</th>\n",
       "      <td>TOTALLY EJECTED</td>\n",
       "      <td>HELMET NOT USED</td>\n",
       "    </tr>\n",
       "    <tr>\n",
       "      <th>3</th>\n",
       "      <td>TRAPPED/EXTRICATED</td>\n",
       "      <td>USAGE UNKNOWN</td>\n",
       "    </tr>\n",
       "    <tr>\n",
       "      <th>4</th>\n",
       "      <td>UNKNOWN</td>\n",
       "      <td>USAGE UNKNOWN</td>\n",
       "    </tr>\n",
       "  </tbody>\n",
       "</table>\n",
       "</div>"
      ],
      "text/plain": [
       "             EJECTION  SAFETY_EQUIPMENT\n",
       "0                NONE  SAFETY BELT USED\n",
       "1   PARTIALLY EJECTED  SAFETY BELT USED\n",
       "2     TOTALLY EJECTED   HELMET NOT USED\n",
       "3  TRAPPED/EXTRICATED     USAGE UNKNOWN\n",
       "4             UNKNOWN     USAGE UNKNOWN"
      ]
     },
     "execution_count": 656,
     "metadata": {},
     "output_type": "execute_result"
    }
   ],
   "source": [
    "result = traffic_crashes_people.groupby('EJECTION')['SAFETY_EQUIPMENT'].agg(get_mode).reset_index()\n",
    "result"
   ]
  },
  {
   "cell_type": "code",
   "execution_count": 657,
   "id": "549dad64",
   "metadata": {},
   "outputs": [
    {
     "data": {
      "text/html": [
       "<div>\n",
       "<style scoped>\n",
       "    .dataframe tbody tr th:only-of-type {\n",
       "        vertical-align: middle;\n",
       "    }\n",
       "\n",
       "    .dataframe tbody tr th {\n",
       "        vertical-align: top;\n",
       "    }\n",
       "\n",
       "    .dataframe thead th {\n",
       "        text-align: right;\n",
       "    }\n",
       "</style>\n",
       "<table border=\"1\" class=\"dataframe\">\n",
       "  <thead>\n",
       "    <tr style=\"text-align: right;\">\n",
       "      <th></th>\n",
       "      <th>INJURY_CLASSIFICATION</th>\n",
       "      <th>SAFETY_EQUIPMENT</th>\n",
       "    </tr>\n",
       "  </thead>\n",
       "  <tbody>\n",
       "    <tr>\n",
       "      <th>0</th>\n",
       "      <td>FATAL</td>\n",
       "      <td>USAGE UNKNOWN</td>\n",
       "    </tr>\n",
       "    <tr>\n",
       "      <th>1</th>\n",
       "      <td>INCAPACITATING INJURY</td>\n",
       "      <td>USAGE UNKNOWN</td>\n",
       "    </tr>\n",
       "    <tr>\n",
       "      <th>2</th>\n",
       "      <td>NO INDICATION OF INJURY</td>\n",
       "      <td>USAGE UNKNOWN</td>\n",
       "    </tr>\n",
       "    <tr>\n",
       "      <th>3</th>\n",
       "      <td>NONINCAPACITATING INJURY</td>\n",
       "      <td>SAFETY BELT USED</td>\n",
       "    </tr>\n",
       "    <tr>\n",
       "      <th>4</th>\n",
       "      <td>REPORTED, NOT EVIDENT</td>\n",
       "      <td>SAFETY BELT USED</td>\n",
       "    </tr>\n",
       "    <tr>\n",
       "      <th>5</th>\n",
       "      <td>UNKNOWN</td>\n",
       "      <td>USAGE UNKNOWN</td>\n",
       "    </tr>\n",
       "  </tbody>\n",
       "</table>\n",
       "</div>"
      ],
      "text/plain": [
       "      INJURY_CLASSIFICATION  SAFETY_EQUIPMENT\n",
       "0                     FATAL     USAGE UNKNOWN\n",
       "1     INCAPACITATING INJURY     USAGE UNKNOWN\n",
       "2   NO INDICATION OF INJURY     USAGE UNKNOWN\n",
       "3  NONINCAPACITATING INJURY  SAFETY BELT USED\n",
       "4     REPORTED, NOT EVIDENT  SAFETY BELT USED\n",
       "5                   UNKNOWN     USAGE UNKNOWN"
      ]
     },
     "execution_count": 657,
     "metadata": {},
     "output_type": "execute_result"
    }
   ],
   "source": [
    "result = traffic_crashes_people.groupby('INJURY_CLASSIFICATION')['SAFETY_EQUIPMENT'].agg(get_mode).reset_index()\n",
    "result"
   ]
  },
  {
   "cell_type": "code",
   "execution_count": 658,
   "id": "d2e3828f",
   "metadata": {},
   "outputs": [],
   "source": [
    "traffic_crashes_people.loc[\n",
    "    (traffic_crashes_people['INJURY_CLASSIFICATION'] == 'NONINCAPACITATING INJURY') & (traffic_crashes_people['SAFETY_EQUIPMENT'].isnull()),\n",
    "    'SAFETY_EQUIPMENT'] = 'SAFETY BELT USED'"
   ]
  },
  {
   "cell_type": "code",
   "execution_count": 659,
   "id": "61f85d11",
   "metadata": {},
   "outputs": [],
   "source": [
    "traffic_crashes_people.loc[\n",
    "    (traffic_crashes_people['INJURY_CLASSIFICATION'] == 'REPORTED, NOT EVIDENT') & (traffic_crashes_people['SAFETY_EQUIPMENT'].isnull()),\n",
    "    'SAFETY_EQUIPMENT'] = 'SAFETY BELT USED'"
   ]
  },
  {
   "cell_type": "code",
   "execution_count": 660,
   "id": "5f299a10",
   "metadata": {},
   "outputs": [
    {
     "data": {
      "text/plain": [
       "2131"
      ]
     },
     "execution_count": 660,
     "metadata": {},
     "output_type": "execute_result"
    }
   ],
   "source": [
    "traffic_crashes_people['SAFETY_EQUIPMENT'].isnull().sum()"
   ]
  },
  {
   "cell_type": "code",
   "execution_count": 661,
   "id": "b73e46fe",
   "metadata": {},
   "outputs": [],
   "source": [
    "traffic_crashes_people['SAFETY_EQUIPMENT'].fillna('USAGE UNKNOWN',inplace=True)"
   ]
  },
  {
   "cell_type": "markdown",
   "id": "e06e6a04",
   "metadata": {},
   "source": [
    "## Let's see where we reach in data cleaning"
   ]
  },
  {
   "cell_type": "code",
   "execution_count": 662,
   "id": "ce601e8f",
   "metadata": {},
   "outputs": [
    {
     "data": {
      "text/html": [
       "<div>\n",
       "<style scoped>\n",
       "    .dataframe tbody tr th:only-of-type {\n",
       "        vertical-align: middle;\n",
       "    }\n",
       "\n",
       "    .dataframe tbody tr th {\n",
       "        vertical-align: top;\n",
       "    }\n",
       "\n",
       "    .dataframe thead th {\n",
       "        text-align: right;\n",
       "    }\n",
       "</style>\n",
       "<table border=\"1\" class=\"dataframe\">\n",
       "  <thead>\n",
       "    <tr style=\"text-align: right;\">\n",
       "      <th></th>\n",
       "      <th>missing_val</th>\n",
       "      <th>missing_val_ratio</th>\n",
       "    </tr>\n",
       "  </thead>\n",
       "  <tbody>\n",
       "    <tr>\n",
       "      <th>PERSON_ID</th>\n",
       "      <td>0</td>\n",
       "      <td>0</td>\n",
       "    </tr>\n",
       "    <tr>\n",
       "      <th>PERSON_TYPE</th>\n",
       "      <td>0</td>\n",
       "      <td>0</td>\n",
       "    </tr>\n",
       "    <tr>\n",
       "      <th>CRASH_RECORD_ID</th>\n",
       "      <td>0</td>\n",
       "      <td>0</td>\n",
       "    </tr>\n",
       "    <tr>\n",
       "      <th>VEHICLE_ID</th>\n",
       "      <td>0</td>\n",
       "      <td>0</td>\n",
       "    </tr>\n",
       "    <tr>\n",
       "      <th>CRASH_DATE</th>\n",
       "      <td>0</td>\n",
       "      <td>0</td>\n",
       "    </tr>\n",
       "    <tr>\n",
       "      <th>SEAT_NO</th>\n",
       "      <td>0</td>\n",
       "      <td>0</td>\n",
       "    </tr>\n",
       "    <tr>\n",
       "      <th>CITY</th>\n",
       "      <td>0</td>\n",
       "      <td>0</td>\n",
       "    </tr>\n",
       "    <tr>\n",
       "      <th>STATE</th>\n",
       "      <td>0</td>\n",
       "      <td>0</td>\n",
       "    </tr>\n",
       "    <tr>\n",
       "      <th>SEX</th>\n",
       "      <td>0</td>\n",
       "      <td>0</td>\n",
       "    </tr>\n",
       "    <tr>\n",
       "      <th>AGE</th>\n",
       "      <td>0</td>\n",
       "      <td>0</td>\n",
       "    </tr>\n",
       "    <tr>\n",
       "      <th>DRIVERS_LICENSE_STATE</th>\n",
       "      <td>0</td>\n",
       "      <td>0</td>\n",
       "    </tr>\n",
       "    <tr>\n",
       "      <th>DRIVERS_LICENSE_CLASS</th>\n",
       "      <td>0</td>\n",
       "      <td>0</td>\n",
       "    </tr>\n",
       "    <tr>\n",
       "      <th>SAFETY_EQUIPMENT</th>\n",
       "      <td>0</td>\n",
       "      <td>0</td>\n",
       "    </tr>\n",
       "    <tr>\n",
       "      <th>AIRBAG_DEPLOYED</th>\n",
       "      <td>34761</td>\n",
       "      <td>2</td>\n",
       "    </tr>\n",
       "    <tr>\n",
       "      <th>EJECTION</th>\n",
       "      <td>0</td>\n",
       "      <td>0</td>\n",
       "    </tr>\n",
       "    <tr>\n",
       "      <th>INJURY_CLASSIFICATION</th>\n",
       "      <td>0</td>\n",
       "      <td>0</td>\n",
       "    </tr>\n",
       "    <tr>\n",
       "      <th>HOSPITAL</th>\n",
       "      <td>1508729</td>\n",
       "      <td>83</td>\n",
       "    </tr>\n",
       "    <tr>\n",
       "      <th>EMS_AGENCY</th>\n",
       "      <td>1622752</td>\n",
       "      <td>90</td>\n",
       "    </tr>\n",
       "    <tr>\n",
       "      <th>EMS_RUN_NO</th>\n",
       "      <td>1777039</td>\n",
       "      <td>98</td>\n",
       "    </tr>\n",
       "    <tr>\n",
       "      <th>DRIVER_ACTION</th>\n",
       "      <td>368780</td>\n",
       "      <td>20</td>\n",
       "    </tr>\n",
       "    <tr>\n",
       "      <th>DRIVER_VISION</th>\n",
       "      <td>369324</td>\n",
       "      <td>20</td>\n",
       "    </tr>\n",
       "    <tr>\n",
       "      <th>PHYSICAL_CONDITION</th>\n",
       "      <td>367795</td>\n",
       "      <td>20</td>\n",
       "    </tr>\n",
       "    <tr>\n",
       "      <th>PEDPEDAL_ACTION</th>\n",
       "      <td>1773341</td>\n",
       "      <td>98</td>\n",
       "    </tr>\n",
       "    <tr>\n",
       "      <th>PEDPEDAL_VISIBILITY</th>\n",
       "      <td>1773404</td>\n",
       "      <td>98</td>\n",
       "    </tr>\n",
       "    <tr>\n",
       "      <th>PEDPEDAL_LOCATION</th>\n",
       "      <td>1773347</td>\n",
       "      <td>98</td>\n",
       "    </tr>\n",
       "    <tr>\n",
       "      <th>BAC_RESULT</th>\n",
       "      <td>367809</td>\n",
       "      <td>20</td>\n",
       "    </tr>\n",
       "    <tr>\n",
       "      <th>BAC_RESULT VALUE</th>\n",
       "      <td>1805739</td>\n",
       "      <td>100</td>\n",
       "    </tr>\n",
       "    <tr>\n",
       "      <th>CELL_PHONE_USE</th>\n",
       "      <td>1806600</td>\n",
       "      <td>100</td>\n",
       "    </tr>\n",
       "  </tbody>\n",
       "</table>\n",
       "</div>"
      ],
      "text/plain": [
       "                       missing_val  missing_val_ratio\n",
       "PERSON_ID                        0                  0\n",
       "PERSON_TYPE                      0                  0\n",
       "CRASH_RECORD_ID                  0                  0\n",
       "VEHICLE_ID                       0                  0\n",
       "CRASH_DATE                       0                  0\n",
       "SEAT_NO                          0                  0\n",
       "CITY                             0                  0\n",
       "STATE                            0                  0\n",
       "SEX                              0                  0\n",
       "AGE                              0                  0\n",
       "DRIVERS_LICENSE_STATE            0                  0\n",
       "DRIVERS_LICENSE_CLASS            0                  0\n",
       "SAFETY_EQUIPMENT                 0                  0\n",
       "AIRBAG_DEPLOYED              34761                  2\n",
       "EJECTION                         0                  0\n",
       "INJURY_CLASSIFICATION            0                  0\n",
       "HOSPITAL                   1508729                 83\n",
       "EMS_AGENCY                 1622752                 90\n",
       "EMS_RUN_NO                 1777039                 98\n",
       "DRIVER_ACTION               368780                 20\n",
       "DRIVER_VISION               369324                 20\n",
       "PHYSICAL_CONDITION          367795                 20\n",
       "PEDPEDAL_ACTION            1773341                 98\n",
       "PEDPEDAL_VISIBILITY        1773404                 98\n",
       "PEDPEDAL_LOCATION          1773347                 98\n",
       "BAC_RESULT                  367809                 20\n",
       "BAC_RESULT VALUE           1805739                100\n",
       "CELL_PHONE_USE             1806600                100"
      ]
     },
     "execution_count": 662,
     "metadata": {},
     "output_type": "execute_result"
    }
   ],
   "source": [
    "info_df = pd.DataFrame()\n",
    "info_df['missing_val'] = traffic_crashes_peoplerashes_people.isnull().sum()\n",
    "info_df['missing_val_ratio'] = (info_df['missing_val'] / traffic_crashes_people.shape[0] * 100).round().astype(int)\n",
    "info_df"
   ]
  },
  {
   "cell_type": "code",
   "execution_count": 663,
   "id": "cbede91a",
   "metadata": {},
   "outputs": [
    {
     "data": {
      "text/html": [
       "<div>\n",
       "<style scoped>\n",
       "    .dataframe tbody tr th:only-of-type {\n",
       "        vertical-align: middle;\n",
       "    }\n",
       "\n",
       "    .dataframe tbody tr th {\n",
       "        vertical-align: top;\n",
       "    }\n",
       "\n",
       "    .dataframe thead th {\n",
       "        text-align: right;\n",
       "    }\n",
       "</style>\n",
       "<table border=\"1\" class=\"dataframe\">\n",
       "  <thead>\n",
       "    <tr style=\"text-align: right;\">\n",
       "      <th></th>\n",
       "      <th>INJURY_CLASSIFICATION</th>\n",
       "      <th>AIRBAG_DEPLOYED</th>\n",
       "    </tr>\n",
       "  </thead>\n",
       "  <tbody>\n",
       "    <tr>\n",
       "      <th>0</th>\n",
       "      <td>FATAL</td>\n",
       "      <td>DEPLOYED, COMBINATION</td>\n",
       "    </tr>\n",
       "    <tr>\n",
       "      <th>1</th>\n",
       "      <td>INCAPACITATING INJURY</td>\n",
       "      <td>DID NOT DEPLOY</td>\n",
       "    </tr>\n",
       "    <tr>\n",
       "      <th>2</th>\n",
       "      <td>NO INDICATION OF INJURY</td>\n",
       "      <td>DID NOT DEPLOY</td>\n",
       "    </tr>\n",
       "    <tr>\n",
       "      <th>3</th>\n",
       "      <td>NONINCAPACITATING INJURY</td>\n",
       "      <td>DID NOT DEPLOY</td>\n",
       "    </tr>\n",
       "    <tr>\n",
       "      <th>4</th>\n",
       "      <td>REPORTED, NOT EVIDENT</td>\n",
       "      <td>DID NOT DEPLOY</td>\n",
       "    </tr>\n",
       "    <tr>\n",
       "      <th>5</th>\n",
       "      <td>UNKNOWN</td>\n",
       "      <td>DEPLOYMENT UNKNOWN</td>\n",
       "    </tr>\n",
       "  </tbody>\n",
       "</table>\n",
       "</div>"
      ],
      "text/plain": [
       "      INJURY_CLASSIFICATION        AIRBAG_DEPLOYED\n",
       "0                     FATAL  DEPLOYED, COMBINATION\n",
       "1     INCAPACITATING INJURY         DID NOT DEPLOY\n",
       "2   NO INDICATION OF INJURY         DID NOT DEPLOY\n",
       "3  NONINCAPACITATING INJURY         DID NOT DEPLOY\n",
       "4     REPORTED, NOT EVIDENT         DID NOT DEPLOY\n",
       "5                   UNKNOWN     DEPLOYMENT UNKNOWN"
      ]
     },
     "execution_count": 663,
     "metadata": {},
     "output_type": "execute_result"
    }
   ],
   "source": [
    "result = traffic_crashes_people.groupby('INJURY_CLASSIFICATION')['AIRBAG_DEPLOYED'].agg(get_mode).reset_index()\n",
    "result"
   ]
  },
  {
   "cell_type": "code",
   "execution_count": 664,
   "id": "1d6d3c6f",
   "metadata": {},
   "outputs": [
    {
     "data": {
      "text/plain": [
       "DEPLOYED, COMBINATION                     207\n",
       "DEPLOYED, FRONT                           138\n",
       "NOT APPLICABLE                            123\n",
       "DID NOT DEPLOY                            109\n",
       "DEPLOYMENT UNKNOWN                         95\n",
       "DEPLOYED, SIDE                             18\n",
       "DEPLOYED OTHER (KNEE, AIR, BELT, ETC.)      2\n",
       "Name: AIRBAG_DEPLOYED, dtype: int64"
      ]
     },
     "execution_count": 664,
     "metadata": {},
     "output_type": "execute_result"
    }
   ],
   "source": [
    "traffic_crashes_people[traffic_crashes_people['INJURY_CLASSIFICATION'] == 'FATAL']['AIRBAG_DEPLOYED'].value_counts()"
   ]
  },
  {
   "cell_type": "code",
   "execution_count": 665,
   "id": "fd8c960f",
   "metadata": {},
   "outputs": [
    {
     "data": {
      "text/html": [
       "<div>\n",
       "<style scoped>\n",
       "    .dataframe tbody tr th:only-of-type {\n",
       "        vertical-align: middle;\n",
       "    }\n",
       "\n",
       "    .dataframe tbody tr th {\n",
       "        vertical-align: top;\n",
       "    }\n",
       "\n",
       "    .dataframe thead th {\n",
       "        text-align: right;\n",
       "    }\n",
       "</style>\n",
       "<table border=\"1\" class=\"dataframe\">\n",
       "  <thead>\n",
       "    <tr style=\"text-align: right;\">\n",
       "      <th></th>\n",
       "      <th>EJECTION</th>\n",
       "      <th>AIRBAG_DEPLOYED</th>\n",
       "    </tr>\n",
       "  </thead>\n",
       "  <tbody>\n",
       "    <tr>\n",
       "      <th>0</th>\n",
       "      <td>NONE</td>\n",
       "      <td>DID NOT DEPLOY</td>\n",
       "    </tr>\n",
       "    <tr>\n",
       "      <th>1</th>\n",
       "      <td>PARTIALLY EJECTED</td>\n",
       "      <td>DID NOT DEPLOY</td>\n",
       "    </tr>\n",
       "    <tr>\n",
       "      <th>2</th>\n",
       "      <td>TOTALLY EJECTED</td>\n",
       "      <td>DID NOT DEPLOY</td>\n",
       "    </tr>\n",
       "    <tr>\n",
       "      <th>3</th>\n",
       "      <td>TRAPPED/EXTRICATED</td>\n",
       "      <td>DEPLOYMENT UNKNOWN</td>\n",
       "    </tr>\n",
       "    <tr>\n",
       "      <th>4</th>\n",
       "      <td>UNKNOWN</td>\n",
       "      <td>DEPLOYMENT UNKNOWN</td>\n",
       "    </tr>\n",
       "  </tbody>\n",
       "</table>\n",
       "</div>"
      ],
      "text/plain": [
       "             EJECTION     AIRBAG_DEPLOYED\n",
       "0                NONE      DID NOT DEPLOY\n",
       "1   PARTIALLY EJECTED      DID NOT DEPLOY\n",
       "2     TOTALLY EJECTED      DID NOT DEPLOY\n",
       "3  TRAPPED/EXTRICATED  DEPLOYMENT UNKNOWN\n",
       "4             UNKNOWN  DEPLOYMENT UNKNOWN"
      ]
     },
     "execution_count": 665,
     "metadata": {},
     "output_type": "execute_result"
    }
   ],
   "source": [
    "result = traffic_crashes_people.groupby('EJECTION')['AIRBAG_DEPLOYED'].agg(get_mode).reset_index()\n",
    "result"
   ]
  },
  {
   "cell_type": "markdown",
   "id": "a80e7e7b",
   "metadata": {},
   "source": [
    "it's randomly distribution between calsses in three columns , no real strong meaningful realtion."
   ]
  },
  {
   "cell_type": "code",
   "execution_count": 666,
   "id": "4f190273",
   "metadata": {},
   "outputs": [],
   "source": [
    "# traffic_crashes_people = traffic_crashes_people.fillna({'AIRBAG_DEPLOYED' : 'DEPLOYMENT UNKNOWN'})\n",
    "traffic_crashes_people['AIRBAG_DEPLOYED'].fillna('DEPLOYMENT UNKNOWN',inplace=True)"
   ]
  },
  {
   "cell_type": "markdown",
   "id": "ba89a1a8",
   "metadata": {},
   "source": [
    "drop the not necessary columns with very loss in the data. "
   ]
  },
  {
   "cell_type": "code",
   "execution_count": 667,
   "id": "396fe736",
   "metadata": {},
   "outputs": [],
   "source": [
    "traffic_crashes_people = traffic_crashes_people.drop('HOSPITAL', axis=1)\n",
    "traffic_crashes_people = traffic_crashes_peoplerashes_people.drop('EMS_AGENCY', axis=1)\n",
    "traffic_crashes_people = traffic_crashes_people.drop('EMS_RUN_NO', axis=1)"
   ]
  },
  {
   "cell_type": "code",
   "execution_count": 668,
   "id": "2e4926d1",
   "metadata": {},
   "outputs": [
    {
     "data": {
      "text/plain": [
       "NONE                                 514326\n",
       "UNKNOWN                              362648\n",
       "FAILED TO YIELD                      131120\n",
       "OTHER                                128768\n",
       "FOLLOWED TOO CLOSELY                  85256\n",
       "IMPROPER BACKING                      42737\n",
       "IMPROPER TURN                         37738\n",
       "IMPROPER LANE CHANGE                  36940\n",
       "IMPROPER PASSING                      32137\n",
       "DISREGARDED CONTROL DEVICES           25392\n",
       "TOO FAST FOR CONDITIONS               21632\n",
       "WRONG WAY/SIDE                         5764\n",
       "IMPROPER PARKING                       5307\n",
       "OVERCORRECTED                          2682\n",
       "EVADING POLICE VEHICLE                 2296\n",
       "CELL PHONE USE OTHER THAN TEXTING      2118\n",
       "EMERGENCY VEHICLE ON CALL              1319\n",
       "TEXTING                                 567\n",
       "STOPPED SCHOOL BUS                      172\n",
       "LICENSE RESTRICTIONS                     60\n",
       "Name: DRIVER_ACTION, dtype: int64"
      ]
     },
     "execution_count": 668,
     "metadata": {},
     "output_type": "execute_result"
    }
   ],
   "source": [
    "traffic_crashes_peoplerashes_people['DRIVER_ACTION'].value_counts()"
   ]
  },
  {
   "cell_type": "code",
   "execution_count": 669,
   "id": "68c0b5fa",
   "metadata": {},
   "outputs": [
    {
     "data": {
      "text/plain": [
       "368780"
      ]
     },
     "execution_count": 669,
     "metadata": {},
     "output_type": "execute_result"
    }
   ],
   "source": [
    "traffic_crashes_people['DRIVER_ACTION'].isnull().sum()"
   ]
  },
  {
   "cell_type": "markdown",
   "id": "98aae360",
   "metadata": {},
   "source": [
    "As we serach in an atrribute that belongs only to drivers. so let's add a new value for DRIVER_ACTION as NOT RELEVANT when the person is pedetrian or passenger or bicyclist."
   ]
  },
  {
   "cell_type": "code",
   "execution_count": 670,
   "id": "37419ea5",
   "metadata": {},
   "outputs": [
    {
     "data": {
      "text/plain": [
       "368206"
      ]
     },
     "execution_count": 670,
     "metadata": {},
     "output_type": "execute_result"
    }
   ],
   "source": [
    "traffic_crashes_people[(traffic_crashes_peoplerashes_people['PERSON_TYPE'].isin(['PASSENGER','PEDESTRIAN','BICYCLE'])) & (traffic_crashes_people['DRIVER_ACTION'].isnull())].shape[0]"
   ]
  },
  {
   "cell_type": "code",
   "execution_count": 671,
   "id": "ff02d65c",
   "metadata": {},
   "outputs": [
    {
     "data": {
      "text/plain": [
       "0"
      ]
     },
     "execution_count": 671,
     "metadata": {},
     "output_type": "execute_result"
    }
   ],
   "source": [
    "traffic_crashes_people[(traffic_crashes_people['PERSON_TYPE'] == 'NON_MOTOR VEHICLE') & (traffic_crashes_people['DRIVER_ACTION'].isnull())].shape[0]"
   ]
  },
  {
   "cell_type": "code",
   "execution_count": 672,
   "id": "add9e5ad",
   "metadata": {},
   "outputs": [],
   "source": [
    "traffic_crashes_people.loc[\n",
    "    (traffic_crashes_people['PERSON_TYPE'].isin(['PASSENGER','PEDESTRIAN','BICYCLE'])) & (traffic_crashes_people['DRIVER_ACTION'].isnull()),\n",
    "    'DRIVER_ACTION'] = 'NOT RELEVANT'"
   ]
  },
  {
   "cell_type": "code",
   "execution_count": 673,
   "id": "5c7c0021",
   "metadata": {},
   "outputs": [
    {
     "data": {
      "text/plain": [
       "574"
      ]
     },
     "execution_count": 673,
     "metadata": {},
     "output_type": "execute_result"
    }
   ],
   "source": [
    "traffic_crashes_people['DRIVER_ACTION'].isnull().sum()"
   ]
  },
  {
   "cell_type": "code",
   "execution_count": 674,
   "id": "50dfaead",
   "metadata": {},
   "outputs": [
    {
     "data": {
      "text/plain": [
       "array(['UNKNOWN', 'NONE', 'IMPROPER BACKING', 'IMPROPER TURN',\n",
       "       'DISREGARDED CONTROL DEVICES', 'TOO FAST FOR CONDITIONS', 'OTHER',\n",
       "       'FOLLOWED TOO CLOSELY', 'IMPROPER LANE CHANGE', 'IMPROPER PASSING',\n",
       "       'FAILED TO YIELD', 'NOT RELEVANT', 'EVADING POLICE VEHICLE',\n",
       "       'OVERCORRECTED', 'WRONG WAY/SIDE', 'TEXTING', 'IMPROPER PARKING',\n",
       "       'EMERGENCY VEHICLE ON CALL', 'CELL PHONE USE OTHER THAN TEXTING',\n",
       "       nan, 'STOPPED SCHOOL BUS', 'LICENSE RESTRICTIONS'], dtype=object)"
      ]
     },
     "execution_count": 674,
     "metadata": {},
     "output_type": "execute_result"
    }
   ],
   "source": [
    "traffic_crashes_people['DRIVER_ACTION'].unique()"
   ]
  },
  {
   "cell_type": "code",
   "execution_count": 675,
   "id": "0691e01b",
   "metadata": {},
   "outputs": [
    {
     "data": {
      "text/plain": [
       "47"
      ]
     },
     "execution_count": 675,
     "metadata": {},
     "output_type": "execute_result"
    }
   ],
   "source": [
    "traffic_crashes_people[(traffic_crashes_peoplerashes_people['DRIVER_ACTION'] == 'UNKNOWN') & (traffic_crashes_people['CELL_PHONE_USE'] == 'Y')].shape[0]"
   ]
  },
  {
   "cell_type": "code",
   "execution_count": 676,
   "id": "436a67bd",
   "metadata": {},
   "outputs": [
    {
     "data": {
      "text/plain": [
       "55"
      ]
     },
     "execution_count": 676,
     "metadata": {},
     "output_type": "execute_result"
    }
   ],
   "source": [
    "traffic_crashes_people[(traffic_crashes_people['DRIVER_ACTION'] == 'NONE') & (traffic_crashes_peoplerashes_people['CELL_PHONE_USE'] == 'Y')].shape[0]"
   ]
  },
  {
   "cell_type": "code",
   "execution_count": 677,
   "id": "c018e6c2",
   "metadata": {},
   "outputs": [
    {
     "data": {
      "text/plain": [
       "0"
      ]
     },
     "execution_count": 677,
     "metadata": {},
     "output_type": "execute_result"
    }
   ],
   "source": [
    "traffic_crashes_people[(traffic_crashes_peoplerashes_people['DRIVER_ACTION'].isnull()) & (traffic_crashes_peoplerashes_people['CELL_PHONE_USE'] == 'Y')].shape[0]"
   ]
  },
  {
   "cell_type": "markdown",
   "id": "657009e4",
   "metadata": {},
   "source": [
    "we could find some rows that in CELL_PHONE_USE is yes , so we can change when DRIVER_ACTION is NONE or UNKOWN to CELL PHONE USE as it is very important cause of accidents , but we couldn't find any nan values in DRIVER_ACTION matches the value (yes) in CELL_PHONE_USE column. "
   ]
  },
  {
   "cell_type": "code",
   "execution_count": 678,
   "id": "243107ff",
   "metadata": {},
   "outputs": [],
   "source": [
    "traffic_crashes_people.loc[\n",
    "    (traffic_crashes_people['CELL_PHONE_USE'] == 'Y') & (traffic_crashes_people['DRIVER_ACTION'] == 'UNKNOWN'),\n",
    "    'DRIVER_ACTION'] = 'CELL PHONE USE OTHER THAN TEXTING'\n",
    "\n",
    "traffic_crashes_people.loc[\n",
    "    (traffic_crashes_people['CELL_PHONE_USE'] == 'Y') & (traffic_crashes_people['DRIVER_ACTION'] == 'NONE'),\n",
    "    'DRIVER_ACTION'] = 'CELL PHONE USE OTHER THAN TEXTING'"
   ]
  },
  {
   "cell_type": "code",
   "execution_count": 679,
   "id": "2cfcf93a",
   "metadata": {},
   "outputs": [
    {
     "data": {
      "text/plain": [
       "574"
      ]
     },
     "execution_count": 679,
     "metadata": {},
     "output_type": "execute_result"
    }
   ],
   "source": [
    "traffic_crashes_people['DRIVER_ACTION'].isnull().sum()"
   ]
  },
  {
   "cell_type": "code",
   "execution_count": 680,
   "id": "b3e5a6f5",
   "metadata": {},
   "outputs": [],
   "source": [
    "traffic_crashes_people['DRIVER_ACTION'].fillna('UNKNOWN',inplace=True)"
   ]
  },
  {
   "cell_type": "code",
   "execution_count": 681,
   "id": "e52be575",
   "metadata": {},
   "outputs": [
    {
     "data": {
      "text/plain": [
       "NOT OBSCURED              727187\n",
       "UNKNOWN                   676534\n",
       "OTHER                      14308\n",
       "MOVING VEHICLES             8157\n",
       "PARKED VEHICLES             5019\n",
       "WINDSHIELD (WATER/ICE)      3966\n",
       "BLINDED - SUNLIGHT          1704\n",
       "TREES, PLANTS                576\n",
       "BUILDINGS                    515\n",
       "BLINDED - HEADLIGHTS         154\n",
       "BLOWING MATERIALS            102\n",
       "HILLCREST                     95\n",
       "EMBANKMENT                    83\n",
       "SIGNBOARD                     35\n",
       "Name: DRIVER_VISION, dtype: int64"
      ]
     },
     "execution_count": 681,
     "metadata": {},
     "output_type": "execute_result"
    }
   ],
   "source": [
    "traffic_crashes_people['DRIVER_VISION'].value_counts()"
   ]
  },
  {
   "cell_type": "code",
   "execution_count": 682,
   "id": "d6323634",
   "metadata": {},
   "outputs": [],
   "source": [
    "traffic_crashes_people.loc[\n",
    "    (traffic_crashes_people['PERSON_TYPE'].isin(['PASSENGER','PEDESTRIAN','BICYCLE'])) & (traffic_crashes_people['DRIVER_VISION'].isnull()),\n",
    "    'DRIVER_VISION'] = 'NOT RELEVANT'"
   ]
  },
  {
   "cell_type": "code",
   "execution_count": 683,
   "id": "65e39159",
   "metadata": {},
   "outputs": [
    {
     "data": {
      "text/plain": [
       "641"
      ]
     },
     "execution_count": 683,
     "metadata": {},
     "output_type": "execute_result"
    }
   ],
   "source": [
    "traffic_crashes_people['DRIVER_VISION'].isnull().sum()"
   ]
  },
  {
   "cell_type": "code",
   "execution_count": 684,
   "id": "9c7be2ab",
   "metadata": {},
   "outputs": [],
   "source": [
    "traffic_crashes_people['DRIVER_VISION'].fillna('UNKNOWN',inplace=True)"
   ]
  },
  {
   "cell_type": "code",
   "execution_count": 685,
   "id": "ff6526e3",
   "metadata": {},
   "outputs": [
    {
     "data": {
      "text/plain": [
       "367795"
      ]
     },
     "execution_count": 685,
     "metadata": {},
     "output_type": "execute_result"
    }
   ],
   "source": [
    "traffic_crashes_people['PHYSICAL_CONDITION'].isnull().sum()"
   ]
  },
  {
   "cell_type": "code",
   "execution_count": 686,
   "id": "98a2b876",
   "metadata": {},
   "outputs": [
    {
     "data": {
      "text/plain": [
       "NORMAL                          937000\n",
       "UNKNOWN                         476369\n",
       "IMPAIRED - ALCOHOL                6181\n",
       "REMOVED BY EMS                    5280\n",
       "OTHER                             4186\n",
       "FATIGUED/ASLEEP                   3781\n",
       "EMOTIONAL                         3547\n",
       "ILLNESS/FAINTED                   1313\n",
       "HAD BEEN DRINKING                 1050\n",
       "IMPAIRED - DRUGS                   695\n",
       "IMPAIRED - ALCOHOL AND DRUGS       384\n",
       "MEDICATED                          178\n",
       "Name: PHYSICAL_CONDITION, dtype: int64"
      ]
     },
     "execution_count": 686,
     "metadata": {},
     "output_type": "execute_result"
    }
   ],
   "source": [
    "traffic_crashes_people['PHYSICAL_CONDITION'].value_counts()"
   ]
  },
  {
   "cell_type": "markdown",
   "id": "a14e0507",
   "metadata": {},
   "source": [
    "###### We noticed that i have some conditions represnting if the person what alcoholic and drunk , and as we have another column with name BAC_RESULT VALUE we can extract some drunk people from their test value which says the person is drunk with value higher rthan 0.05."
   ]
  },
  {
   "cell_type": "code",
   "execution_count": 687,
   "id": "14ccb709",
   "metadata": {},
   "outputs": [],
   "source": [
    "traffic_crashes_people.loc[(traffic_crashes_people['PHYSICAL_CONDITION'] == \"UNKNOWN\") & (traffic_crashes_people['BAC_RESULT VALUE'] >= 0.05),'PHYSICAL_CONDITION'] = 'IMPAIRED - ALCOHOL'"
   ]
  },
  {
   "cell_type": "code",
   "execution_count": 688,
   "id": "9e4965c0",
   "metadata": {},
   "outputs": [],
   "source": [
    "traffic_crashes_people.loc[(traffic_crashes_people['PHYSICAL_CONDITION'] == \"NORMAL\") & (traffic_crashes_people['BAC_RESULT VALUE'] >= 0.05),'PHYSICAL_CONDITION'] = 'IMPAIRED - ALCOHOL'"
   ]
  },
  {
   "cell_type": "code",
   "execution_count": 689,
   "id": "644cc209",
   "metadata": {},
   "outputs": [],
   "source": [
    "traffic_crashes_people.loc[(traffic_crashes_people['PHYSICAL_CONDITION'].isnull()) & (traffic_crashes_people['BAC_RESULT VALUE'] >= 0.05),'PHYSICAL_CONDITION'] = 'IMPAIRED - ALCOHOL'"
   ]
  },
  {
   "cell_type": "code",
   "execution_count": 690,
   "id": "d236372f",
   "metadata": {},
   "outputs": [
    {
     "data": {
      "text/plain": [
       "367795"
      ]
     },
     "execution_count": 690,
     "metadata": {},
     "output_type": "execute_result"
    }
   ],
   "source": [
    "traffic_crashes_people['PHYSICAL_CONDITION'].isnull().sum()"
   ]
  },
  {
   "cell_type": "code",
   "execution_count": 691,
   "id": "bca6628a",
   "metadata": {},
   "outputs": [],
   "source": [
    "traffic_crashes_people['PHYSICAL_CONDITION'].fillna('UNKNOWN',inplace=True)"
   ]
  },
  {
   "cell_type": "code",
   "execution_count": 692,
   "id": "b9288978",
   "metadata": {},
   "outputs": [
    {
     "data": {
      "text/plain": [
       "1773341"
      ]
     },
     "execution_count": 692,
     "metadata": {},
     "output_type": "execute_result"
    }
   ],
   "source": [
    "traffic_crashes_people['PEDPEDAL_ACTION'].isnull().sum()"
   ]
  },
  {
   "cell_type": "code",
   "execution_count": 693,
   "id": "5fd76914",
   "metadata": {},
   "outputs": [
    {
     "data": {
      "text/plain": [
       "CROSSING - WITH SIGNAL                               7025\n",
       "WITH TRAFFIC                                         5238\n",
       "UNKNOWN/NA                                           4375\n",
       "OTHER ACTION                                         4002\n",
       "CROSSING - NO CONTROLS (NOT AT INTERSECTION)         2260\n",
       "CROSSING - NO CONTROLS (AT INTERSECTION)             1900\n",
       "NO ACTION                                            1875\n",
       "CROSSING - AGAINST SIGNAL                            1643\n",
       "CROSSING - CONTROLS PRESENT (NOT AT INTERSECTION)    1112\n",
       "NOT AT INTERSECTION                                  1092\n",
       "AGAINST TRAFFIC                                      1021\n",
       "STANDING IN ROADWAY                                   800\n",
       "TURNING LEFT                                          498\n",
       "PARKED VEHICLE                                        406\n",
       "ENTER FROM DRIVE/ALLEY                                330\n",
       "WORKING IN ROADWAY                                    232\n",
       "TURNING RIGHT                                         220\n",
       "INTOXICATED PED/PEDAL                                 190\n",
       "PLAYING IN ROADWAY                                    124\n",
       "PLAYING/WORKING ON VEHICLE                             23\n",
       "TO/FROM DISABLED VEHICLE                               23\n",
       "SCHOOL BUS (WITHIN 50 FT.)                             19\n",
       "WAITING FOR SCHOOL BUS                                 10\n",
       "Name: PEDPEDAL_ACTION, dtype: int64"
      ]
     },
     "execution_count": 693,
     "metadata": {},
     "output_type": "execute_result"
    }
   ],
   "source": [
    "traffic_crashes_people['PEDPEDAL_ACTION'].value_counts()"
   ]
  },
  {
   "cell_type": "code",
   "execution_count": 694,
   "id": "2e88ec1d",
   "metadata": {},
   "outputs": [
    {
     "data": {
      "text/plain": [
       "1406814"
      ]
     },
     "execution_count": 694,
     "metadata": {},
     "output_type": "execute_result"
    }
   ],
   "source": [
    "traffic_crashes_people[(traffic_crashes_people['PERSON_TYPE'].isin(['DRIVER','NON-CONTACT VEHICLE'])) & (traffic_crashes_people['PEDPEDAL_ACTION'].isnull())].shape[0]"
   ]
  },
  {
   "cell_type": "markdown",
   "id": "dbccc7de",
   "metadata": {},
   "source": [
    "These columns PEDPEDAL_ACTION and the column PEDPEDAL_VISIBILITY and PEDPEDAL_LOCATION are special attribute when the person is pedestrian and bicyclist so let's add a new unique value for the drivers and passengers as they NOT RELEVANT for these columns."
   ]
  },
  {
   "cell_type": "code",
   "execution_count": 695,
   "id": "61b2d562",
   "metadata": {},
   "outputs": [],
   "source": [
    "traffic_crashes_people.loc[\n",
    "    (traffic_crashes_people['PERSON_TYPE'].isin(['PASSENGER','DRIVER','NON-CONTACT VEHICLE'])) & (traffic_crashes_people['PEDPEDAL_ACTION'].isnull()),\n",
    "    'PEDPEDAL_ACTION'] = 'NOT RELEVANT'"
   ]
  },
  {
   "cell_type": "code",
   "execution_count": 696,
   "id": "0487927f",
   "metadata": {},
   "outputs": [],
   "source": [
    "traffic_crashes_people['PEDPEDAL_ACTION'].fillna('UNKNOWN/NA',inplace=True)"
   ]
  },
  {
   "cell_type": "code",
   "execution_count": 697,
   "id": "46d335c4",
   "metadata": {},
   "outputs": [
    {
     "data": {
      "text/plain": [
       "1773404"
      ]
     },
     "execution_count": 697,
     "metadata": {},
     "output_type": "execute_result"
    }
   ],
   "source": [
    "traffic_crashes_people['PEDPEDAL_VISIBILITY'].isnull().sum()"
   ]
  },
  {
   "cell_type": "code",
   "execution_count": 698,
   "id": "e3d2f99b",
   "metadata": {},
   "outputs": [
    {
     "data": {
      "text/plain": [
       "NO CONTRASTING CLOTHING    27031\n",
       "CONTRASTING CLOTHING        4471\n",
       "OTHER LIGHT SOURCE USED     1977\n",
       "REFLECTIVE MATERIAL          876\n",
       "Name: PEDPEDAL_VISIBILITY, dtype: int64"
      ]
     },
     "execution_count": 698,
     "metadata": {},
     "output_type": "execute_result"
    }
   ],
   "source": [
    "traffic_crashes_people['PEDPEDAL_VISIBILITY'].value_counts()"
   ]
  },
  {
   "cell_type": "code",
   "execution_count": 699,
   "id": "f397dca1",
   "metadata": {},
   "outputs": [
    {
     "data": {
      "text/plain": [
       "1772389"
      ]
     },
     "execution_count": 699,
     "metadata": {},
     "output_type": "execute_result"
    }
   ],
   "source": [
    "traffic_crashes_people[(traffic_crashes_people['PERSON_TYPE'].isin(['DRIVER','NON-CONTACT VEHICLE','PASSENGER'])) & (traffic_crashes_people['PEDPEDAL_VISIBILITY'].isnull())].shape[0]"
   ]
  },
  {
   "cell_type": "code",
   "execution_count": 700,
   "id": "251ea8b6",
   "metadata": {},
   "outputs": [
    {
     "data": {
      "text/plain": [
       "1015"
      ]
     },
     "execution_count": 700,
     "metadata": {},
     "output_type": "execute_result"
    }
   ],
   "source": [
    "traffic_crashes_people[(traffic_crashes_people['PERSON_TYPE'].isin(['PEDESTRIAN','NON-MOTOR VEHICLE','BICYCLE'])) & (traffic_crashes_people['PEDPEDAL_VISIBILITY'].isnull())].shape[0]"
   ]
  },
  {
   "cell_type": "code",
   "execution_count": 701,
   "id": "619c3e63",
   "metadata": {},
   "outputs": [],
   "source": [
    "traffic_crashes_people.loc[\n",
    "    (traffic_crashes_people['PERSON_TYPE'].isin(['PASSENGER','DRIVER','NON-CONTACT VEHICLE'])) & (traffic_crashes_people['PEDPEDAL_VISIBILITY'].isnull()),\n",
    "    'PEDPEDAL_VISIBILITY'] = 'NOT RELEVANT'"
   ]
  },
  {
   "cell_type": "code",
   "execution_count": 702,
   "id": "152d50e4",
   "metadata": {},
   "outputs": [],
   "source": [
    "traffic_crashes_people['PEDPEDAL_VISIBILITY'].fillna('UNKNOWN/NA',inplace=True)"
   ]
  },
  {
   "cell_type": "code",
   "execution_count": 703,
   "id": "feb1edbf",
   "metadata": {},
   "outputs": [
    {
     "data": {
      "text/plain": [
       "IN ROADWAY         15131\n",
       "IN CROSSWALK       11571\n",
       "UNKNOWN/NA          2873\n",
       "NOT IN ROADWAY      1527\n",
       "BIKEWAY             1468\n",
       "BIKE LANE           1153\n",
       "DRIVEWAY ACCESS      490\n",
       "SHOULDER             199\n",
       "Name: PEDPEDAL_LOCATION, dtype: int64"
      ]
     },
     "execution_count": 703,
     "metadata": {},
     "output_type": "execute_result"
    }
   ],
   "source": [
    "traffic_crashes_people['PEDPEDAL_LOCATION'].value_counts()"
   ]
  },
  {
   "cell_type": "code",
   "execution_count": 704,
   "id": "fa991def",
   "metadata": {},
   "outputs": [
    {
     "data": {
      "text/plain": [
       "1772383"
      ]
     },
     "execution_count": 704,
     "metadata": {},
     "output_type": "execute_result"
    }
   ],
   "source": [
    "traffic_crashes_people[(traffic_crashes_people['PERSON_TYPE'].isin(['DRIVER','NON-CONTACT VEHICLE','PASSENGER'])) & (traffic_crashes_people['PEDPEDAL_LOCATION'].isnull())].shape[0]"
   ]
  },
  {
   "cell_type": "code",
   "execution_count": 705,
   "id": "872a5c39",
   "metadata": {},
   "outputs": [],
   "source": [
    "traffic_crashes_people.loc[\n",
    "    (traffic_crashes_people['PERSON_TYPE'].isin(['PASSENGER','DRIVER','NON-CONTACT VEHICLE'])) & (traffic_crashes_people['PEDPEDAL_LOCATION'].isnull()),\n",
    "    'PEDPEDAL_LOCATION'] = 'NOT RELEVANT'"
   ]
  },
  {
   "cell_type": "code",
   "execution_count": 706,
   "id": "5e96692a",
   "metadata": {},
   "outputs": [
    {
     "data": {
      "text/plain": [
       "964"
      ]
     },
     "execution_count": 706,
     "metadata": {},
     "output_type": "execute_result"
    }
   ],
   "source": [
    "traffic_crashes_people['PEDPEDAL_LOCATION'].isnull().sum()"
   ]
  },
  {
   "cell_type": "code",
   "execution_count": 707,
   "id": "34fdd2f7",
   "metadata": {},
   "outputs": [],
   "source": [
    "traffic_crashes_people['PEDPEDAL_LOCATION'].fillna('UNKNOWN/NA',inplace=True)"
   ]
  },
  {
   "cell_type": "code",
   "execution_count": 708,
   "id": "b3f2a388",
   "metadata": {},
   "outputs": [
    {
     "data": {
      "text/plain": [
       "TEST NOT OFFERED                   1418900\n",
       "TEST REFUSED                         15005\n",
       "TEST PERFORMED, RESULTS UNKNOWN       3481\n",
       "TEST TAKEN                            2564\n",
       "Name: BAC_RESULT, dtype: int64"
      ]
     },
     "execution_count": 708,
     "metadata": {},
     "output_type": "execute_result"
    }
   ],
   "source": [
    "traffic_crashes_people['BAC_RESULT'].value_counts()"
   ]
  },
  {
   "cell_type": "code",
   "execution_count": 709,
   "id": "51b22270",
   "metadata": {},
   "outputs": [
    {
     "data": {
      "text/plain": [
       "367809"
      ]
     },
     "execution_count": 709,
     "metadata": {},
     "output_type": "execute_result"
    }
   ],
   "source": [
    "traffic_crashes_people['BAC_RESULT'].isnull().sum()"
   ]
  },
  {
   "cell_type": "code",
   "execution_count": 710,
   "id": "b24ebea2",
   "metadata": {},
   "outputs": [
    {
     "data": {
      "text/plain": [
       "1805739"
      ]
     },
     "execution_count": 710,
     "metadata": {},
     "output_type": "execute_result"
    }
   ],
   "source": [
    "traffic_crashes_people['BAC_RESULT VALUE'].isnull().sum()"
   ]
  },
  {
   "cell_type": "code",
   "execution_count": 711,
   "id": "58e869c9",
   "metadata": {},
   "outputs": [
    {
     "data": {
      "text/plain": [
       "array([ nan, 0.21, 0.14, 0.2 , 0.12, 0.18, 0.19, 0.17, 0.24, 0.13, 0.58,\n",
       "       0.1 , 0.  , 0.23, 0.03, 0.22, 0.08, 0.32, 0.15, 0.09, 0.25, 0.04,\n",
       "       0.34, 0.11, 0.16, 0.38, 0.44, 0.3 , 0.33, 0.28, 0.27, 0.31, 0.05,\n",
       "       0.06, 1.  , 0.26, 0.07, 0.41, 0.29, 0.02, 0.67, 0.36, 0.79, 0.35,\n",
       "       0.88, 0.85, 0.37, 0.39, 0.01, 0.8 , 0.95, 0.6 , 0.45, 0.99, 0.47,\n",
       "       0.4 , 0.98])"
      ]
     },
     "execution_count": 711,
     "metadata": {},
     "output_type": "execute_result"
    }
   ],
   "source": [
    "traffic_crashes_people['BAC_RESULT VALUE'].unique()"
   ]
  },
  {
   "cell_type": "code",
   "execution_count": 712,
   "id": "dbffaff5",
   "metadata": {},
   "outputs": [
    {
     "data": {
      "text/html": [
       "<div>\n",
       "<style scoped>\n",
       "    .dataframe tbody tr th:only-of-type {\n",
       "        vertical-align: middle;\n",
       "    }\n",
       "\n",
       "    .dataframe tbody tr th {\n",
       "        vertical-align: top;\n",
       "    }\n",
       "\n",
       "    .dataframe thead th {\n",
       "        text-align: right;\n",
       "    }\n",
       "</style>\n",
       "<table border=\"1\" class=\"dataframe\">\n",
       "  <thead>\n",
       "    <tr style=\"text-align: right;\">\n",
       "      <th></th>\n",
       "      <th>PERSON_ID</th>\n",
       "      <th>PERSON_TYPE</th>\n",
       "      <th>CRASH_RECORD_ID</th>\n",
       "      <th>VEHICLE_ID</th>\n",
       "      <th>CRASH_DATE</th>\n",
       "      <th>SEAT_NO</th>\n",
       "      <th>CITY</th>\n",
       "      <th>STATE</th>\n",
       "      <th>SEX</th>\n",
       "      <th>AGE</th>\n",
       "      <th>DRIVERS_LICENSE_STATE</th>\n",
       "      <th>DRIVERS_LICENSE_CLASS</th>\n",
       "      <th>SAFETY_EQUIPMENT</th>\n",
       "      <th>AIRBAG_DEPLOYED</th>\n",
       "      <th>EJECTION</th>\n",
       "      <th>INJURY_CLASSIFICATION</th>\n",
       "      <th>DRIVER_ACTION</th>\n",
       "      <th>DRIVER_VISION</th>\n",
       "      <th>PHYSICAL_CONDITION</th>\n",
       "      <th>PEDPEDAL_ACTION</th>\n",
       "      <th>PEDPEDAL_VISIBILITY</th>\n",
       "      <th>PEDPEDAL_LOCATION</th>\n",
       "      <th>BAC_RESULT</th>\n",
       "      <th>BAC_RESULT VALUE</th>\n",
       "      <th>CELL_PHONE_USE</th>\n",
       "    </tr>\n",
       "  </thead>\n",
       "  <tbody>\n",
       "  </tbody>\n",
       "</table>\n",
       "</div>"
      ],
      "text/plain": [
       "Empty DataFrame\n",
       "Columns: [PERSON_ID, PERSON_TYPE, CRASH_RECORD_ID, VEHICLE_ID, CRASH_DATE, SEAT_NO, CITY, STATE, SEX, AGE, DRIVERS_LICENSE_STATE, DRIVERS_LICENSE_CLASS, SAFETY_EQUIPMENT, AIRBAG_DEPLOYED, EJECTION, INJURY_CLASSIFICATION, DRIVER_ACTION, DRIVER_VISION, PHYSICAL_CONDITION, PEDPEDAL_ACTION, PEDPEDAL_VISIBILITY, PEDPEDAL_LOCATION, BAC_RESULT, BAC_RESULT VALUE, CELL_PHONE_USE]\n",
       "Index: []"
      ]
     },
     "execution_count": 712,
     "metadata": {},
     "output_type": "execute_result"
    }
   ],
   "source": [
    "traffic_crashes_people[(traffic_crashes_people['BAC_RESULT'].isnull()) & (traffic_crashes_people['BAC_RESULT VALUE'].notnull())]"
   ]
  },
  {
   "cell_type": "markdown",
   "id": "853d49b2",
   "metadata": {},
   "source": [
    "No existing value for 'BAC_RESULT VALUE' when  the 'BAC_RESULT' is null. "
   ]
  },
  {
   "cell_type": "code",
   "execution_count": 713,
   "id": "6c225b78",
   "metadata": {},
   "outputs": [
    {
     "data": {
      "text/plain": [
       "array(['UNKNOWN', 'NORMAL', 'IMPAIRED - DRUGS', 'REMOVED BY EMS',\n",
       "       'IMPAIRED - ALCOHOL', 'FATIGUED/ASLEEP', 'EMOTIONAL', 'OTHER',\n",
       "       'HAD BEEN DRINKING', 'IMPAIRED - ALCOHOL AND DRUGS',\n",
       "       'ILLNESS/FAINTED', 'MEDICATED'], dtype=object)"
      ]
     },
     "execution_count": 713,
     "metadata": {},
     "output_type": "execute_result"
    }
   ],
   "source": [
    "traffic_crashes_people['PHYSICAL_CONDITION'].unique()"
   ]
  },
  {
   "cell_type": "code",
   "execution_count": 714,
   "id": "f01ee5ad",
   "metadata": {},
   "outputs": [
    {
     "data": {
      "text/plain": [
       "5858"
      ]
     },
     "execution_count": 714,
     "metadata": {},
     "output_type": "execute_result"
    }
   ],
   "source": [
    "traffic_crashes_people[traffic_crashes_people['PHYSICAL_CONDITION'].isin(['IMPAIRED - ALCOHOL','HAD BEEN DRINKING','IMPAIRED - ALCOHOL AND DRUGS'])]['BAC_RESULT VALUE'].isnull().sum()"
   ]
  },
  {
   "cell_type": "markdown",
   "id": "8ac5798c",
   "metadata": {},
   "source": [
    "OK, we can seta velue for exmaple like previous 0.05 when PHYSICAL_CONDITION is in (IMPAIRED - ALCOHOL,HAD BEEN DRINKING,IMPAIRED - ALCOHOL AND DRUGS) for the person which means he was drunk, but still about 5000 values so there are alot and alot of missing values yet, so we can drop this column. "
   ]
  },
  {
   "cell_type": "code",
   "execution_count": 715,
   "id": "d0de9b25",
   "metadata": {},
   "outputs": [],
   "source": [
    "traffic_crashes_people = traffic_crashes_people.drop('BAC_RESULT VALUE', axis=1)"
   ]
  },
  {
   "cell_type": "code",
   "execution_count": 716,
   "id": "a37a03e4",
   "metadata": {},
   "outputs": [],
   "source": [
    "traffic_crashes_people['BAC_RESULT'].fillna('TEST NOT OFFERED',inplace=True)"
   ]
  },
  {
   "cell_type": "markdown",
   "id": "083c82cf",
   "metadata": {},
   "source": [
    "We  extract what we can from the column CELL_PHONE_USE to assign some values to DRIVER_ACTION column , but no evidence to fill this column from any other columns except DRIVER_ACTION which it will just give me about 100 values not more. so we must drop this column also "
   ]
  },
  {
   "cell_type": "code",
   "execution_count": 717,
   "id": "19fa8a9a",
   "metadata": {},
   "outputs": [],
   "source": [
    "traffic_crashes_people = traffic_crashes_people.drop('CELL_PHONE_USE', axis=1)"
   ]
  },
  {
   "cell_type": "code",
   "execution_count": 718,
   "id": "5cabeac7",
   "metadata": {},
   "outputs": [
    {
     "data": {
      "text/html": [
       "<div>\n",
       "<style scoped>\n",
       "    .dataframe tbody tr th:only-of-type {\n",
       "        vertical-align: middle;\n",
       "    }\n",
       "\n",
       "    .dataframe tbody tr th {\n",
       "        vertical-align: top;\n",
       "    }\n",
       "\n",
       "    .dataframe thead th {\n",
       "        text-align: right;\n",
       "    }\n",
       "</style>\n",
       "<table border=\"1\" class=\"dataframe\">\n",
       "  <thead>\n",
       "    <tr style=\"text-align: right;\">\n",
       "      <th></th>\n",
       "      <th>missing_val</th>\n",
       "      <th>missing_val_ratio</th>\n",
       "    </tr>\n",
       "  </thead>\n",
       "  <tbody>\n",
       "    <tr>\n",
       "      <th>PERSON_ID</th>\n",
       "      <td>0</td>\n",
       "      <td>0</td>\n",
       "    </tr>\n",
       "    <tr>\n",
       "      <th>PERSON_TYPE</th>\n",
       "      <td>0</td>\n",
       "      <td>0</td>\n",
       "    </tr>\n",
       "    <tr>\n",
       "      <th>CRASH_RECORD_ID</th>\n",
       "      <td>0</td>\n",
       "      <td>0</td>\n",
       "    </tr>\n",
       "    <tr>\n",
       "      <th>VEHICLE_ID</th>\n",
       "      <td>0</td>\n",
       "      <td>0</td>\n",
       "    </tr>\n",
       "    <tr>\n",
       "      <th>CRASH_DATE</th>\n",
       "      <td>0</td>\n",
       "      <td>0</td>\n",
       "    </tr>\n",
       "    <tr>\n",
       "      <th>SEAT_NO</th>\n",
       "      <td>0</td>\n",
       "      <td>0</td>\n",
       "    </tr>\n",
       "    <tr>\n",
       "      <th>CITY</th>\n",
       "      <td>0</td>\n",
       "      <td>0</td>\n",
       "    </tr>\n",
       "    <tr>\n",
       "      <th>STATE</th>\n",
       "      <td>0</td>\n",
       "      <td>0</td>\n",
       "    </tr>\n",
       "    <tr>\n",
       "      <th>SEX</th>\n",
       "      <td>0</td>\n",
       "      <td>0</td>\n",
       "    </tr>\n",
       "    <tr>\n",
       "      <th>AGE</th>\n",
       "      <td>0</td>\n",
       "      <td>0</td>\n",
       "    </tr>\n",
       "    <tr>\n",
       "      <th>DRIVERS_LICENSE_STATE</th>\n",
       "      <td>0</td>\n",
       "      <td>0</td>\n",
       "    </tr>\n",
       "    <tr>\n",
       "      <th>DRIVERS_LICENSE_CLASS</th>\n",
       "      <td>0</td>\n",
       "      <td>0</td>\n",
       "    </tr>\n",
       "    <tr>\n",
       "      <th>SAFETY_EQUIPMENT</th>\n",
       "      <td>0</td>\n",
       "      <td>0</td>\n",
       "    </tr>\n",
       "    <tr>\n",
       "      <th>AIRBAG_DEPLOYED</th>\n",
       "      <td>0</td>\n",
       "      <td>0</td>\n",
       "    </tr>\n",
       "    <tr>\n",
       "      <th>EJECTION</th>\n",
       "      <td>0</td>\n",
       "      <td>0</td>\n",
       "    </tr>\n",
       "    <tr>\n",
       "      <th>INJURY_CLASSIFICATION</th>\n",
       "      <td>0</td>\n",
       "      <td>0</td>\n",
       "    </tr>\n",
       "    <tr>\n",
       "      <th>DRIVER_ACTION</th>\n",
       "      <td>0</td>\n",
       "      <td>0</td>\n",
       "    </tr>\n",
       "    <tr>\n",
       "      <th>DRIVER_VISION</th>\n",
       "      <td>0</td>\n",
       "      <td>0</td>\n",
       "    </tr>\n",
       "    <tr>\n",
       "      <th>PHYSICAL_CONDITION</th>\n",
       "      <td>0</td>\n",
       "      <td>0</td>\n",
       "    </tr>\n",
       "    <tr>\n",
       "      <th>PEDPEDAL_ACTION</th>\n",
       "      <td>0</td>\n",
       "      <td>0</td>\n",
       "    </tr>\n",
       "    <tr>\n",
       "      <th>PEDPEDAL_VISIBILITY</th>\n",
       "      <td>0</td>\n",
       "      <td>0</td>\n",
       "    </tr>\n",
       "    <tr>\n",
       "      <th>PEDPEDAL_LOCATION</th>\n",
       "      <td>0</td>\n",
       "      <td>0</td>\n",
       "    </tr>\n",
       "    <tr>\n",
       "      <th>BAC_RESULT</th>\n",
       "      <td>0</td>\n",
       "      <td>0</td>\n",
       "    </tr>\n",
       "  </tbody>\n",
       "</table>\n",
       "</div>"
      ],
      "text/plain": [
       "                       missing_val  missing_val_ratio\n",
       "PERSON_ID                        0                  0\n",
       "PERSON_TYPE                      0                  0\n",
       "CRASH_RECORD_ID                  0                  0\n",
       "VEHICLE_ID                       0                  0\n",
       "CRASH_DATE                       0                  0\n",
       "SEAT_NO                          0                  0\n",
       "CITY                             0                  0\n",
       "STATE                            0                  0\n",
       "SEX                              0                  0\n",
       "AGE                              0                  0\n",
       "DRIVERS_LICENSE_STATE            0                  0\n",
       "DRIVERS_LICENSE_CLASS            0                  0\n",
       "SAFETY_EQUIPMENT                 0                  0\n",
       "AIRBAG_DEPLOYED                  0                  0\n",
       "EJECTION                         0                  0\n",
       "INJURY_CLASSIFICATION            0                  0\n",
       "DRIVER_ACTION                    0                  0\n",
       "DRIVER_VISION                    0                  0\n",
       "PHYSICAL_CONDITION               0                  0\n",
       "PEDPEDAL_ACTION                  0                  0\n",
       "PEDPEDAL_VISIBILITY              0                  0\n",
       "PEDPEDAL_LOCATION                0                  0\n",
       "BAC_RESULT                       0                  0"
      ]
     },
     "execution_count": 718,
     "metadata": {},
     "output_type": "execute_result"
    }
   ],
   "source": [
    "info_df = pd.DataFrame()\n",
    "info_df['missing_val'] = traffic_crashes_people.isnull().sum()\n",
    "info_df['missing_val_ratio'] = (info_df['missing_val'] / traffic_crashes_people.shape[0] * 100).round().astype(int)\n",
    "info_df"
   ]
  },
  {
   "cell_type": "markdown",
   "id": "882fb8a1",
   "metadata": {},
   "source": [
    "### Now we have our data with no missing values .."
   ]
  },
  {
   "cell_type": "code",
   "execution_count": null,
   "id": "f558d2e6",
   "metadata": {},
   "outputs": [],
   "source": []
  }
 ],
 "metadata": {
  "kernelspec": {
   "display_name": "Python 3",
   "language": "python",
   "name": "python3"
  },
  "language_info": {
   "codemirror_mode": {
    "name": "ipython",
    "version": 3
   },
   "file_extension": ".py",
   "mimetype": "text/x-python",
   "name": "python",
   "nbconvert_exporter": "python",
   "pygments_lexer": "ipython3",
   "version": "3.8.8"
  }
 },
 "nbformat": 4,
 "nbformat_minor": 5
}
